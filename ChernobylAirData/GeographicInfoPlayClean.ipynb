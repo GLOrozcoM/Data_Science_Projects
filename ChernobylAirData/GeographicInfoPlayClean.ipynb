{
 "cells": [
  {
   "cell_type": "code",
   "execution_count": 1,
   "metadata": {
    "collapsed": true
   },
   "outputs": [],
   "source": [
    "import pandas as pd\n",
    "import numpy as np\n",
    "\n",
    "import matplotlib.pyplot as plt\n",
    "%matplotlib inline\n",
    "\n",
    "import descartes as des\n",
    "from shapely.geometry import Point, Polygon\n",
    "import geopandas as gpd\n",
    "\n",
    "import missingno as msn\n"
   ]
  },
  {
   "cell_type": "code",
   "execution_count": 2,
   "metadata": {},
   "outputs": [
    {
     "data": {
      "text/html": [
       "<div>\n",
       "<style scoped>\n",
       "    .dataframe tbody tr th:only-of-type {\n",
       "        vertical-align: middle;\n",
       "    }\n",
       "\n",
       "    .dataframe tbody tr th {\n",
       "        vertical-align: top;\n",
       "    }\n",
       "\n",
       "    .dataframe thead th {\n",
       "        text-align: right;\n",
       "    }\n",
       "</style>\n",
       "<table border=\"1\" class=\"dataframe\">\n",
       "  <thead>\n",
       "    <tr style=\"text-align: right;\">\n",
       "      <th></th>\n",
       "      <th>country</th>\n",
       "      <th>country_code</th>\n",
       "      <th>geometry</th>\n",
       "    </tr>\n",
       "  </thead>\n",
       "  <tbody>\n",
       "    <tr>\n",
       "      <th>0</th>\n",
       "      <td>Zimbabwe</td>\n",
       "      <td>ZW</td>\n",
       "      <td>POLYGON ((31.28789 -22.40205, 31.19727 -22.344...</td>\n",
       "    </tr>\n",
       "    <tr>\n",
       "      <th>1</th>\n",
       "      <td>Zambia</td>\n",
       "      <td>ZM</td>\n",
       "      <td>POLYGON ((30.39609 -15.64307, 30.25068 -15.643...</td>\n",
       "    </tr>\n",
       "    <tr>\n",
       "      <th>2</th>\n",
       "      <td>Yemen</td>\n",
       "      <td>YE</td>\n",
       "      <td>MULTIPOLYGON (((53.08564 16.64839, 52.58145 16...</td>\n",
       "    </tr>\n",
       "    <tr>\n",
       "      <th>3</th>\n",
       "      <td>Vietnam</td>\n",
       "      <td>VN</td>\n",
       "      <td>MULTIPOLYGON (((104.06396 10.39082, 104.08301 ...</td>\n",
       "    </tr>\n",
       "    <tr>\n",
       "      <th>4</th>\n",
       "      <td>Venezuela</td>\n",
       "      <td>VE</td>\n",
       "      <td>MULTIPOLYGON (((-60.82119 9.13838, -60.94141 9...</td>\n",
       "    </tr>\n",
       "  </tbody>\n",
       "</table>\n",
       "</div>"
      ],
      "text/plain": [
       "     country country_code                                           geometry\n",
       "0   Zimbabwe           ZW  POLYGON ((31.28789 -22.40205, 31.19727 -22.344...\n",
       "1     Zambia           ZM  POLYGON ((30.39609 -15.64307, 30.25068 -15.643...\n",
       "2      Yemen           YE  MULTIPOLYGON (((53.08564 16.64839, 52.58145 16...\n",
       "3    Vietnam           VN  MULTIPOLYGON (((104.06396 10.39082, 104.08301 ...\n",
       "4  Venezuela           VE  MULTIPOLYGON (((-60.82119 9.13838, -60.94141 9..."
      ]
     },
     "execution_count": 2,
     "metadata": {},
     "output_type": "execute_result"
    }
   ],
   "source": [
    "# Read in map\n",
    "shapefile = 'ne_50m_admin_0_countries.shp'\n",
    "gdf = gpd.read_file(shapefile)[['ADMIN', 'ISO_A2', 'geometry']]\n",
    "gdf.columns = ['country', 'country_code', 'geometry']\n",
    "gdf.head()"
   ]
  },
  {
   "cell_type": "markdown",
   "metadata": {},
   "source": [
    "We want the countries from the chernair dataset. "
   ]
  },
  {
   "cell_type": "code",
   "execution_count": 3,
   "metadata": {
    "collapsed": true
   },
   "outputs": [],
   "source": [
    "air = pd.read_csv('processed_chernair.csv')"
   ]
  },
  {
   "cell_type": "code",
   "execution_count": 4,
   "metadata": {},
   "outputs": [
    {
     "data": {
      "text/html": [
       "<div>\n",
       "<style scoped>\n",
       "    .dataframe tbody tr th:only-of-type {\n",
       "        vertical-align: middle;\n",
       "    }\n",
       "\n",
       "    .dataframe tbody tr th {\n",
       "        vertical-align: top;\n",
       "    }\n",
       "\n",
       "    .dataframe thead th {\n",
       "        text-align: right;\n",
       "    }\n",
       "</style>\n",
       "<table border=\"1\" class=\"dataframe\">\n",
       "  <thead>\n",
       "    <tr style=\"text-align: right;\">\n",
       "      <th></th>\n",
       "      <th>Unnamed: 0</th>\n",
       "      <th>country</th>\n",
       "      <th>Code</th>\n",
       "      <th>city</th>\n",
       "      <th>longitude</th>\n",
       "      <th>latitude</th>\n",
       "      <th>Date</th>\n",
       "      <th>endsampling</th>\n",
       "      <th>duration</th>\n",
       "      <th>i131</th>\n",
       "      <th>cs134</th>\n",
       "      <th>cs137</th>\n",
       "    </tr>\n",
       "  </thead>\n",
       "  <tbody>\n",
       "    <tr>\n",
       "      <th>0</th>\n",
       "      <td>0</td>\n",
       "      <td>SE</td>\n",
       "      <td>1</td>\n",
       "      <td>RISOE</td>\n",
       "      <td>12.07</td>\n",
       "      <td>55.7</td>\n",
       "      <td>1986-04-27</td>\n",
       "      <td>0</td>\n",
       "      <td>24.0</td>\n",
       "      <td>1.00000</td>\n",
       "      <td>0.00000</td>\n",
       "      <td>0.24000</td>\n",
       "    </tr>\n",
       "    <tr>\n",
       "      <th>1</th>\n",
       "      <td>1</td>\n",
       "      <td>SE</td>\n",
       "      <td>1</td>\n",
       "      <td>RISOE</td>\n",
       "      <td>12.07</td>\n",
       "      <td>55.7</td>\n",
       "      <td>1986-04-28</td>\n",
       "      <td>0</td>\n",
       "      <td>24.0</td>\n",
       "      <td>0.00460</td>\n",
       "      <td>0.00054</td>\n",
       "      <td>0.00098</td>\n",
       "    </tr>\n",
       "    <tr>\n",
       "      <th>2</th>\n",
       "      <td>2</td>\n",
       "      <td>SE</td>\n",
       "      <td>1</td>\n",
       "      <td>RISOE</td>\n",
       "      <td>12.07</td>\n",
       "      <td>55.7</td>\n",
       "      <td>1986-04-29</td>\n",
       "      <td>12</td>\n",
       "      <td>12.0</td>\n",
       "      <td>0.01470</td>\n",
       "      <td>0.00430</td>\n",
       "      <td>0.00740</td>\n",
       "    </tr>\n",
       "    <tr>\n",
       "      <th>3</th>\n",
       "      <td>3</td>\n",
       "      <td>SE</td>\n",
       "      <td>1</td>\n",
       "      <td>RISOE</td>\n",
       "      <td>12.07</td>\n",
       "      <td>55.7</td>\n",
       "      <td>1986-04-29</td>\n",
       "      <td>0</td>\n",
       "      <td>12.0</td>\n",
       "      <td>0.00061</td>\n",
       "      <td>0.00000</td>\n",
       "      <td>0.00009</td>\n",
       "    </tr>\n",
       "    <tr>\n",
       "      <th>4</th>\n",
       "      <td>4</td>\n",
       "      <td>SE</td>\n",
       "      <td>1</td>\n",
       "      <td>RISOE</td>\n",
       "      <td>12.07</td>\n",
       "      <td>55.7</td>\n",
       "      <td>1986-04-30</td>\n",
       "      <td>0</td>\n",
       "      <td>24.0</td>\n",
       "      <td>0.00075</td>\n",
       "      <td>0.00010</td>\n",
       "      <td>0.00028</td>\n",
       "    </tr>\n",
       "  </tbody>\n",
       "</table>\n",
       "</div>"
      ],
      "text/plain": [
       "   Unnamed: 0 country  Code   city  longitude  latitude        Date  \\\n",
       "0           0      SE     1  RISOE      12.07      55.7  1986-04-27   \n",
       "1           1      SE     1  RISOE      12.07      55.7  1986-04-28   \n",
       "2           2      SE     1  RISOE      12.07      55.7  1986-04-29   \n",
       "3           3      SE     1  RISOE      12.07      55.7  1986-04-29   \n",
       "4           4      SE     1  RISOE      12.07      55.7  1986-04-30   \n",
       "\n",
       "   endsampling  duration     i131    cs134    cs137  \n",
       "0            0      24.0  1.00000  0.00000  0.24000  \n",
       "1            0      24.0  0.00460  0.00054  0.00098  \n",
       "2           12      12.0  0.01470  0.00430  0.00740  \n",
       "3            0      12.0  0.00061  0.00000  0.00009  \n",
       "4            0      24.0  0.00075  0.00010  0.00028  "
      ]
     },
     "execution_count": 4,
     "metadata": {},
     "output_type": "execute_result"
    }
   ],
   "source": [
    "air.head()"
   ]
  },
  {
   "cell_type": "code",
   "execution_count": 5,
   "metadata": {},
   "outputs": [
    {
     "data": {
      "text/html": [
       "<div>\n",
       "<style scoped>\n",
       "    .dataframe tbody tr th:only-of-type {\n",
       "        vertical-align: middle;\n",
       "    }\n",
       "\n",
       "    .dataframe tbody tr th {\n",
       "        vertical-align: top;\n",
       "    }\n",
       "\n",
       "    .dataframe thead th {\n",
       "        text-align: right;\n",
       "    }\n",
       "</style>\n",
       "<table border=\"1\" class=\"dataframe\">\n",
       "  <thead>\n",
       "    <tr style=\"text-align: right;\">\n",
       "      <th></th>\n",
       "      <th>country</th>\n",
       "      <th>country_code</th>\n",
       "      <th>geometry</th>\n",
       "    </tr>\n",
       "  </thead>\n",
       "  <tbody>\n",
       "    <tr>\n",
       "      <th>0</th>\n",
       "      <td>Zimbabwe</td>\n",
       "      <td>ZW</td>\n",
       "      <td>POLYGON ((31.28789 -22.40205, 31.19727 -22.344...</td>\n",
       "    </tr>\n",
       "    <tr>\n",
       "      <th>1</th>\n",
       "      <td>Zambia</td>\n",
       "      <td>ZM</td>\n",
       "      <td>POLYGON ((30.39609 -15.64307, 30.25068 -15.643...</td>\n",
       "    </tr>\n",
       "    <tr>\n",
       "      <th>2</th>\n",
       "      <td>Yemen</td>\n",
       "      <td>YE</td>\n",
       "      <td>MULTIPOLYGON (((53.08564 16.64839, 52.58145 16...</td>\n",
       "    </tr>\n",
       "    <tr>\n",
       "      <th>3</th>\n",
       "      <td>Vietnam</td>\n",
       "      <td>VN</td>\n",
       "      <td>MULTIPOLYGON (((104.06396 10.39082, 104.08301 ...</td>\n",
       "    </tr>\n",
       "    <tr>\n",
       "      <th>4</th>\n",
       "      <td>Venezuela</td>\n",
       "      <td>VE</td>\n",
       "      <td>MULTIPOLYGON (((-60.82119 9.13838, -60.94141 9...</td>\n",
       "    </tr>\n",
       "  </tbody>\n",
       "</table>\n",
       "</div>"
      ],
      "text/plain": [
       "     country country_code                                           geometry\n",
       "0   Zimbabwe           ZW  POLYGON ((31.28789 -22.40205, 31.19727 -22.344...\n",
       "1     Zambia           ZM  POLYGON ((30.39609 -15.64307, 30.25068 -15.643...\n",
       "2      Yemen           YE  MULTIPOLYGON (((53.08564 16.64839, 52.58145 16...\n",
       "3    Vietnam           VN  MULTIPOLYGON (((104.06396 10.39082, 104.08301 ...\n",
       "4  Venezuela           VE  MULTIPOLYGON (((-60.82119 9.13838, -60.94141 9..."
      ]
     },
     "execution_count": 5,
     "metadata": {},
     "output_type": "execute_result"
    }
   ],
   "source": [
    "gdf.head()"
   ]
  },
  {
   "cell_type": "code",
   "execution_count": 6,
   "metadata": {},
   "outputs": [
    {
     "data": {
      "text/plain": [
       "<matplotlib.axes._subplots.AxesSubplot at 0x125780400>"
      ]
     },
     "execution_count": 6,
     "metadata": {},
     "output_type": "execute_result"
    },
    {
     "data": {
      "image/png": "[encoded data removed]",
      "text/plain": [
       "<Figure size 432x288 with 1 Axes>"
      ]
     },
     "metadata": {},
     "output_type": "display_data"
    }
   ],
   "source": [
    "gdf.plot()"
   ]
  },
  {
   "cell_type": "code",
   "execution_count": 7,
   "metadata": {
    "collapsed": true
   },
   "outputs": [],
   "source": [
    "air_countries = set(air.country)\n",
    "map_countries = set(gdf.country_code)"
   ]
  },
  {
   "cell_type": "code",
   "execution_count": 8,
   "metadata": {},
   "outputs": [
    {
     "data": {
      "text/plain": [
       "{'F', 'NO', 'UK'}"
      ]
     },
     "execution_count": 8,
     "metadata": {},
     "output_type": "execute_result"
    }
   ],
   "source": [
    "# F -> france, No -> Norway, and of course, UK -> the United Kingdom\n",
    "air_countries - air_countries.intersection(map_countries)"
   ]
  },
  {
   "cell_type": "code",
   "execution_count": 9,
   "metadata": {
    "collapsed": true
   },
   "outputs": [],
   "source": [
    "# Search for the string resembling it in the map data set\n",
    "# Set the air country variables to match those variables \n",
    "# Perform the subsetting "
   ]
  },
  {
   "cell_type": "code",
   "execution_count": 10,
   "metadata": {},
   "outputs": [
    {
     "data": {
      "text/html": [
       "<div>\n",
       "<style scoped>\n",
       "    .dataframe tbody tr th:only-of-type {\n",
       "        vertical-align: middle;\n",
       "    }\n",
       "\n",
       "    .dataframe tbody tr th {\n",
       "        vertical-align: top;\n",
       "    }\n",
       "\n",
       "    .dataframe thead th {\n",
       "        text-align: right;\n",
       "    }\n",
       "</style>\n",
       "<table border=\"1\" class=\"dataframe\">\n",
       "  <thead>\n",
       "    <tr style=\"text-align: right;\">\n",
       "      <th></th>\n",
       "      <th>country</th>\n",
       "      <th>country_code</th>\n",
       "      <th>geometry</th>\n",
       "    </tr>\n",
       "  </thead>\n",
       "  <tbody>\n",
       "    <tr>\n",
       "      <th>9</th>\n",
       "      <td>Federated States of Micronesia</td>\n",
       "      <td>FM</td>\n",
       "      <td>MULTIPOLYGON (((162.98320 5.32573, 162.99346 5...</td>\n",
       "    </tr>\n",
       "    <tr>\n",
       "      <th>22</th>\n",
       "      <td>Falkland Islands</td>\n",
       "      <td>FK</td>\n",
       "      <td>MULTIPOLYGON (((-58.85020 -51.26992, -58.69751...</td>\n",
       "    </tr>\n",
       "    <tr>\n",
       "      <th>160</th>\n",
       "      <td>France</td>\n",
       "      <td>-99</td>\n",
       "      <td>MULTIPOLYGON (((9.48037 42.80542, 9.45420 42.6...</td>\n",
       "    </tr>\n",
       "    <tr>\n",
       "      <th>165</th>\n",
       "      <td>French Polynesia</td>\n",
       "      <td>PF</td>\n",
       "      <td>MULTIPOLYGON (((-151.46660 -16.65752, -151.484...</td>\n",
       "    </tr>\n",
       "    <tr>\n",
       "      <th>167</th>\n",
       "      <td>French Southern and Antarctic Lands</td>\n",
       "      <td>TF</td>\n",
       "      <td>MULTIPOLYGON (((69.18486 -49.10957, 69.26514 -...</td>\n",
       "    </tr>\n",
       "    <tr>\n",
       "      <th>169</th>\n",
       "      <td>Finland</td>\n",
       "      <td>FI</td>\n",
       "      <td>MULTIPOLYGON (((24.15547 65.80527, 24.04902 65...</td>\n",
       "    </tr>\n",
       "    <tr>\n",
       "      <th>170</th>\n",
       "      <td>Fiji</td>\n",
       "      <td>FJ</td>\n",
       "      <td>MULTIPOLYGON (((179.99922 -16.16855, 179.84824...</td>\n",
       "    </tr>\n",
       "    <tr>\n",
       "      <th>182</th>\n",
       "      <td>Faroe Islands</td>\n",
       "      <td>FO</td>\n",
       "      <td>MULTIPOLYGON (((-6.62319 61.80596, -6.64277 61...</td>\n",
       "    </tr>\n",
       "  </tbody>\n",
       "</table>\n",
       "</div>"
      ],
      "text/plain": [
       "                                 country country_code  \\\n",
       "9         Federated States of Micronesia           FM   \n",
       "22                      Falkland Islands           FK   \n",
       "160                               France          -99   \n",
       "165                     French Polynesia           PF   \n",
       "167  French Southern and Antarctic Lands           TF   \n",
       "169                              Finland           FI   \n",
       "170                                 Fiji           FJ   \n",
       "182                        Faroe Islands           FO   \n",
       "\n",
       "                                              geometry  \n",
       "9    MULTIPOLYGON (((162.98320 5.32573, 162.99346 5...  \n",
       "22   MULTIPOLYGON (((-58.85020 -51.26992, -58.69751...  \n",
       "160  MULTIPOLYGON (((9.48037 42.80542, 9.45420 42.6...  \n",
       "165  MULTIPOLYGON (((-151.46660 -16.65752, -151.484...  \n",
       "167  MULTIPOLYGON (((69.18486 -49.10957, 69.26514 -...  \n",
       "169  MULTIPOLYGON (((24.15547 65.80527, 24.04902 65...  \n",
       "170  MULTIPOLYGON (((179.99922 -16.16855, 179.84824...  \n",
       "182  MULTIPOLYGON (((-6.62319 61.80596, -6.64277 61...  "
      ]
     },
     "execution_count": 10,
     "metadata": {},
     "output_type": "execute_result"
    }
   ],
   "source": [
    "gdf[gdf['country'].str.match('^F.*') == True] ## One does wonder why they would set up -99 here."
   ]
  },
  {
   "cell_type": "code",
   "execution_count": 11,
   "metadata": {
    "collapsed": true
   },
   "outputs": [],
   "source": [
    "gdf.loc[gdf['country'] == 'France', 'country_code'] = 'FR'"
   ]
  },
  {
   "cell_type": "code",
   "execution_count": 12,
   "metadata": {},
   "outputs": [
    {
     "data": {
      "text/html": [
       "<div>\n",
       "<style scoped>\n",
       "    .dataframe tbody tr th:only-of-type {\n",
       "        vertical-align: middle;\n",
       "    }\n",
       "\n",
       "    .dataframe tbody tr th {\n",
       "        vertical-align: top;\n",
       "    }\n",
       "\n",
       "    .dataframe thead th {\n",
       "        text-align: right;\n",
       "    }\n",
       "</style>\n",
       "<table border=\"1\" class=\"dataframe\">\n",
       "  <thead>\n",
       "    <tr style=\"text-align: right;\">\n",
       "      <th></th>\n",
       "      <th>country</th>\n",
       "      <th>country_code</th>\n",
       "      <th>geometry</th>\n",
       "    </tr>\n",
       "  </thead>\n",
       "  <tbody>\n",
       "    <tr>\n",
       "      <th>9</th>\n",
       "      <td>Federated States of Micronesia</td>\n",
       "      <td>FM</td>\n",
       "      <td>MULTIPOLYGON (((162.98320 5.32573, 162.99346 5...</td>\n",
       "    </tr>\n",
       "    <tr>\n",
       "      <th>22</th>\n",
       "      <td>Falkland Islands</td>\n",
       "      <td>FK</td>\n",
       "      <td>MULTIPOLYGON (((-58.85020 -51.26992, -58.69751...</td>\n",
       "    </tr>\n",
       "    <tr>\n",
       "      <th>160</th>\n",
       "      <td>France</td>\n",
       "      <td>FR</td>\n",
       "      <td>MULTIPOLYGON (((9.48037 42.80542, 9.45420 42.6...</td>\n",
       "    </tr>\n",
       "    <tr>\n",
       "      <th>165</th>\n",
       "      <td>French Polynesia</td>\n",
       "      <td>PF</td>\n",
       "      <td>MULTIPOLYGON (((-151.46660 -16.65752, -151.484...</td>\n",
       "    </tr>\n",
       "    <tr>\n",
       "      <th>167</th>\n",
       "      <td>French Southern and Antarctic Lands</td>\n",
       "      <td>TF</td>\n",
       "      <td>MULTIPOLYGON (((69.18486 -49.10957, 69.26514 -...</td>\n",
       "    </tr>\n",
       "    <tr>\n",
       "      <th>169</th>\n",
       "      <td>Finland</td>\n",
       "      <td>FI</td>\n",
       "      <td>MULTIPOLYGON (((24.15547 65.80527, 24.04902 65...</td>\n",
       "    </tr>\n",
       "    <tr>\n",
       "      <th>170</th>\n",
       "      <td>Fiji</td>\n",
       "      <td>FJ</td>\n",
       "      <td>MULTIPOLYGON (((179.99922 -16.16855, 179.84824...</td>\n",
       "    </tr>\n",
       "    <tr>\n",
       "      <th>182</th>\n",
       "      <td>Faroe Islands</td>\n",
       "      <td>FO</td>\n",
       "      <td>MULTIPOLYGON (((-6.62319 61.80596, -6.64277 61...</td>\n",
       "    </tr>\n",
       "  </tbody>\n",
       "</table>\n",
       "</div>"
      ],
      "text/plain": [
       "                                 country country_code  \\\n",
       "9         Federated States of Micronesia           FM   \n",
       "22                      Falkland Islands           FK   \n",
       "160                               France           FR   \n",
       "165                     French Polynesia           PF   \n",
       "167  French Southern and Antarctic Lands           TF   \n",
       "169                              Finland           FI   \n",
       "170                                 Fiji           FJ   \n",
       "182                        Faroe Islands           FO   \n",
       "\n",
       "                                              geometry  \n",
       "9    MULTIPOLYGON (((162.98320 5.32573, 162.99346 5...  \n",
       "22   MULTIPOLYGON (((-58.85020 -51.26992, -58.69751...  \n",
       "160  MULTIPOLYGON (((9.48037 42.80542, 9.45420 42.6...  \n",
       "165  MULTIPOLYGON (((-151.46660 -16.65752, -151.484...  \n",
       "167  MULTIPOLYGON (((69.18486 -49.10957, 69.26514 -...  \n",
       "169  MULTIPOLYGON (((24.15547 65.80527, 24.04902 65...  \n",
       "170  MULTIPOLYGON (((179.99922 -16.16855, 179.84824...  \n",
       "182  MULTIPOLYGON (((-6.62319 61.80596, -6.64277 61...  "
      ]
     },
     "execution_count": 12,
     "metadata": {},
     "output_type": "execute_result"
    }
   ],
   "source": [
    "gdf[gdf['country'].str.match('^F.*') == True]"
   ]
  },
  {
   "cell_type": "code",
   "execution_count": 13,
   "metadata": {},
   "outputs": [
    {
     "data": {
      "text/html": [
       "<div>\n",
       "<style scoped>\n",
       "    .dataframe tbody tr th:only-of-type {\n",
       "        vertical-align: middle;\n",
       "    }\n",
       "\n",
       "    .dataframe tbody tr th {\n",
       "        vertical-align: top;\n",
       "    }\n",
       "\n",
       "    .dataframe thead th {\n",
       "        text-align: right;\n",
       "    }\n",
       "</style>\n",
       "<table border=\"1\" class=\"dataframe\">\n",
       "  <thead>\n",
       "    <tr style=\"text-align: right;\">\n",
       "      <th></th>\n",
       "      <th>country</th>\n",
       "      <th>country_code</th>\n",
       "      <th>geometry</th>\n",
       "    </tr>\n",
       "  </thead>\n",
       "  <tbody>\n",
       "    <tr>\n",
       "      <th>11</th>\n",
       "      <td>Northern Mariana Islands</td>\n",
       "      <td>MP</td>\n",
       "      <td>MULTIPOLYGON (((145.70840 18.76250, 145.67813 ...</td>\n",
       "    </tr>\n",
       "    <tr>\n",
       "      <th>88</th>\n",
       "      <td>Norway</td>\n",
       "      <td>-99</td>\n",
       "      <td>MULTIPOLYGON (((20.62217 69.03687, 20.49199 69...</td>\n",
       "    </tr>\n",
       "    <tr>\n",
       "      <th>89</th>\n",
       "      <td>North Korea</td>\n",
       "      <td>KP</td>\n",
       "      <td>MULTIPOLYGON (((128.37461 38.62344, 128.33945 ...</td>\n",
       "    </tr>\n",
       "    <tr>\n",
       "      <th>90</th>\n",
       "      <td>Nigeria</td>\n",
       "      <td>NG</td>\n",
       "      <td>MULTIPOLYGON (((7.30078 4.41816, 7.20391 4.387...</td>\n",
       "    </tr>\n",
       "    <tr>\n",
       "      <th>91</th>\n",
       "      <td>Niger</td>\n",
       "      <td>NE</td>\n",
       "      <td>POLYGON ((13.60635 13.70459, 13.42695 13.70176...</td>\n",
       "    </tr>\n",
       "    <tr>\n",
       "      <th>92</th>\n",
       "      <td>Nicaragua</td>\n",
       "      <td>NI</td>\n",
       "      <td>POLYGON ((-83.15752 14.99307, -83.18535 14.956...</td>\n",
       "    </tr>\n",
       "    <tr>\n",
       "      <th>93</th>\n",
       "      <td>New Zealand</td>\n",
       "      <td>NZ</td>\n",
       "      <td>MULTIPOLYGON (((173.11533 -41.27930, 173.23086...</td>\n",
       "    </tr>\n",
       "    <tr>\n",
       "      <th>94</th>\n",
       "      <td>Niue</td>\n",
       "      <td>NU</td>\n",
       "      <td>POLYGON ((-169.80342 -19.08301, -169.90381 -19...</td>\n",
       "    </tr>\n",
       "    <tr>\n",
       "      <th>96</th>\n",
       "      <td>Netherlands</td>\n",
       "      <td>NL</td>\n",
       "      <td>MULTIPOLYGON (((5.99395 50.75044, 5.89246 50.7...</td>\n",
       "    </tr>\n",
       "    <tr>\n",
       "      <th>99</th>\n",
       "      <td>Nepal</td>\n",
       "      <td>NP</td>\n",
       "      <td>POLYGON ((88.10977 27.87061, 88.15029 27.84331...</td>\n",
       "    </tr>\n",
       "    <tr>\n",
       "      <th>100</th>\n",
       "      <td>Nauru</td>\n",
       "      <td>NR</td>\n",
       "      <td>POLYGON ((166.95840 -0.51660, 166.93896 -0.550...</td>\n",
       "    </tr>\n",
       "    <tr>\n",
       "      <th>101</th>\n",
       "      <td>Namibia</td>\n",
       "      <td>NA</td>\n",
       "      <td>POLYGON ((23.38066 -17.64062, 23.59492 -17.599...</td>\n",
       "    </tr>\n",
       "    <tr>\n",
       "      <th>166</th>\n",
       "      <td>New Caledonia</td>\n",
       "      <td>NC</td>\n",
       "      <td>MULTIPOLYGON (((164.20234 -20.24609, 164.31514...</td>\n",
       "    </tr>\n",
       "    <tr>\n",
       "      <th>185</th>\n",
       "      <td>Northern Cyprus</td>\n",
       "      <td>-99</td>\n",
       "      <td>POLYGON ((34.00449 35.06523, 33.96572 35.05679...</td>\n",
       "    </tr>\n",
       "    <tr>\n",
       "      <th>228</th>\n",
       "      <td>Norfolk Island</td>\n",
       "      <td>NF</td>\n",
       "      <td>POLYGON ((167.93945 -29.01768, 167.95977 -29.0...</td>\n",
       "    </tr>\n",
       "  </tbody>\n",
       "</table>\n",
       "</div>"
      ],
      "text/plain": [
       "                      country country_code  \\\n",
       "11   Northern Mariana Islands           MP   \n",
       "88                     Norway          -99   \n",
       "89                North Korea           KP   \n",
       "90                    Nigeria           NG   \n",
       "91                      Niger           NE   \n",
       "92                  Nicaragua           NI   \n",
       "93                New Zealand           NZ   \n",
       "94                       Niue           NU   \n",
       "96                Netherlands           NL   \n",
       "99                      Nepal           NP   \n",
       "100                     Nauru           NR   \n",
       "101                   Namibia           NA   \n",
       "166             New Caledonia           NC   \n",
       "185           Northern Cyprus          -99   \n",
       "228            Norfolk Island           NF   \n",
       "\n",
       "                                              geometry  \n",
       "11   MULTIPOLYGON (((145.70840 18.76250, 145.67813 ...  \n",
       "88   MULTIPOLYGON (((20.62217 69.03687, 20.49199 69...  \n",
       "89   MULTIPOLYGON (((128.37461 38.62344, 128.33945 ...  \n",
       "90   MULTIPOLYGON (((7.30078 4.41816, 7.20391 4.387...  \n",
       "91   POLYGON ((13.60635 13.70459, 13.42695 13.70176...  \n",
       "92   POLYGON ((-83.15752 14.99307, -83.18535 14.956...  \n",
       "93   MULTIPOLYGON (((173.11533 -41.27930, 173.23086...  \n",
       "94   POLYGON ((-169.80342 -19.08301, -169.90381 -19...  \n",
       "96   MULTIPOLYGON (((5.99395 50.75044, 5.89246 50.7...  \n",
       "99   POLYGON ((88.10977 27.87061, 88.15029 27.84331...  \n",
       "100  POLYGON ((166.95840 -0.51660, 166.93896 -0.550...  \n",
       "101  POLYGON ((23.38066 -17.64062, 23.59492 -17.599...  \n",
       "166  MULTIPOLYGON (((164.20234 -20.24609, 164.31514...  \n",
       "185  POLYGON ((34.00449 35.06523, 33.96572 35.05679...  \n",
       "228  POLYGON ((167.93945 -29.01768, 167.95977 -29.0...  "
      ]
     },
     "execution_count": 13,
     "metadata": {},
     "output_type": "execute_result"
    }
   ],
   "source": [
    "gdf[gdf['country'].str.match('^N.*') == True]"
   ]
  },
  {
   "cell_type": "code",
   "execution_count": 14,
   "metadata": {
    "collapsed": true
   },
   "outputs": [],
   "source": [
    "gdf.loc[gdf['country'] == 'Norway', 'country_code'] = 'NO'"
   ]
  },
  {
   "cell_type": "code",
   "execution_count": 15,
   "metadata": {},
   "outputs": [
    {
     "data": {
      "text/html": [
       "<div>\n",
       "<style scoped>\n",
       "    .dataframe tbody tr th:only-of-type {\n",
       "        vertical-align: middle;\n",
       "    }\n",
       "\n",
       "    .dataframe tbody tr th {\n",
       "        vertical-align: top;\n",
       "    }\n",
       "\n",
       "    .dataframe thead th {\n",
       "        text-align: right;\n",
       "    }\n",
       "</style>\n",
       "<table border=\"1\" class=\"dataframe\">\n",
       "  <thead>\n",
       "    <tr style=\"text-align: right;\">\n",
       "      <th></th>\n",
       "      <th>country</th>\n",
       "      <th>country_code</th>\n",
       "      <th>geometry</th>\n",
       "    </tr>\n",
       "  </thead>\n",
       "  <tbody>\n",
       "    <tr>\n",
       "      <th>11</th>\n",
       "      <td>Northern Mariana Islands</td>\n",
       "      <td>MP</td>\n",
       "      <td>MULTIPOLYGON (((145.70840 18.76250, 145.67813 ...</td>\n",
       "    </tr>\n",
       "    <tr>\n",
       "      <th>88</th>\n",
       "      <td>Norway</td>\n",
       "      <td>NO</td>\n",
       "      <td>MULTIPOLYGON (((20.62217 69.03687, 20.49199 69...</td>\n",
       "    </tr>\n",
       "    <tr>\n",
       "      <th>89</th>\n",
       "      <td>North Korea</td>\n",
       "      <td>KP</td>\n",
       "      <td>MULTIPOLYGON (((128.37461 38.62344, 128.33945 ...</td>\n",
       "    </tr>\n",
       "    <tr>\n",
       "      <th>90</th>\n",
       "      <td>Nigeria</td>\n",
       "      <td>NG</td>\n",
       "      <td>MULTIPOLYGON (((7.30078 4.41816, 7.20391 4.387...</td>\n",
       "    </tr>\n",
       "    <tr>\n",
       "      <th>91</th>\n",
       "      <td>Niger</td>\n",
       "      <td>NE</td>\n",
       "      <td>POLYGON ((13.60635 13.70459, 13.42695 13.70176...</td>\n",
       "    </tr>\n",
       "    <tr>\n",
       "      <th>92</th>\n",
       "      <td>Nicaragua</td>\n",
       "      <td>NI</td>\n",
       "      <td>POLYGON ((-83.15752 14.99307, -83.18535 14.956...</td>\n",
       "    </tr>\n",
       "    <tr>\n",
       "      <th>93</th>\n",
       "      <td>New Zealand</td>\n",
       "      <td>NZ</td>\n",
       "      <td>MULTIPOLYGON (((173.11533 -41.27930, 173.23086...</td>\n",
       "    </tr>\n",
       "    <tr>\n",
       "      <th>94</th>\n",
       "      <td>Niue</td>\n",
       "      <td>NU</td>\n",
       "      <td>POLYGON ((-169.80342 -19.08301, -169.90381 -19...</td>\n",
       "    </tr>\n",
       "    <tr>\n",
       "      <th>96</th>\n",
       "      <td>Netherlands</td>\n",
       "      <td>NL</td>\n",
       "      <td>MULTIPOLYGON (((5.99395 50.75044, 5.89246 50.7...</td>\n",
       "    </tr>\n",
       "    <tr>\n",
       "      <th>99</th>\n",
       "      <td>Nepal</td>\n",
       "      <td>NP</td>\n",
       "      <td>POLYGON ((88.10977 27.87061, 88.15029 27.84331...</td>\n",
       "    </tr>\n",
       "    <tr>\n",
       "      <th>100</th>\n",
       "      <td>Nauru</td>\n",
       "      <td>NR</td>\n",
       "      <td>POLYGON ((166.95840 -0.51660, 166.93896 -0.550...</td>\n",
       "    </tr>\n",
       "    <tr>\n",
       "      <th>101</th>\n",
       "      <td>Namibia</td>\n",
       "      <td>NA</td>\n",
       "      <td>POLYGON ((23.38066 -17.64062, 23.59492 -17.599...</td>\n",
       "    </tr>\n",
       "    <tr>\n",
       "      <th>166</th>\n",
       "      <td>New Caledonia</td>\n",
       "      <td>NC</td>\n",
       "      <td>MULTIPOLYGON (((164.20234 -20.24609, 164.31514...</td>\n",
       "    </tr>\n",
       "    <tr>\n",
       "      <th>185</th>\n",
       "      <td>Northern Cyprus</td>\n",
       "      <td>-99</td>\n",
       "      <td>POLYGON ((34.00449 35.06523, 33.96572 35.05679...</td>\n",
       "    </tr>\n",
       "    <tr>\n",
       "      <th>228</th>\n",
       "      <td>Norfolk Island</td>\n",
       "      <td>NF</td>\n",
       "      <td>POLYGON ((167.93945 -29.01768, 167.95977 -29.0...</td>\n",
       "    </tr>\n",
       "  </tbody>\n",
       "</table>\n",
       "</div>"
      ],
      "text/plain": [
       "                      country country_code  \\\n",
       "11   Northern Mariana Islands           MP   \n",
       "88                     Norway           NO   \n",
       "89                North Korea           KP   \n",
       "90                    Nigeria           NG   \n",
       "91                      Niger           NE   \n",
       "92                  Nicaragua           NI   \n",
       "93                New Zealand           NZ   \n",
       "94                       Niue           NU   \n",
       "96                Netherlands           NL   \n",
       "99                      Nepal           NP   \n",
       "100                     Nauru           NR   \n",
       "101                   Namibia           NA   \n",
       "166             New Caledonia           NC   \n",
       "185           Northern Cyprus          -99   \n",
       "228            Norfolk Island           NF   \n",
       "\n",
       "                                              geometry  \n",
       "11   MULTIPOLYGON (((145.70840 18.76250, 145.67813 ...  \n",
       "88   MULTIPOLYGON (((20.62217 69.03687, 20.49199 69...  \n",
       "89   MULTIPOLYGON (((128.37461 38.62344, 128.33945 ...  \n",
       "90   MULTIPOLYGON (((7.30078 4.41816, 7.20391 4.387...  \n",
       "91   POLYGON ((13.60635 13.70459, 13.42695 13.70176...  \n",
       "92   POLYGON ((-83.15752 14.99307, -83.18535 14.956...  \n",
       "93   MULTIPOLYGON (((173.11533 -41.27930, 173.23086...  \n",
       "94   POLYGON ((-169.80342 -19.08301, -169.90381 -19...  \n",
       "96   MULTIPOLYGON (((5.99395 50.75044, 5.89246 50.7...  \n",
       "99   POLYGON ((88.10977 27.87061, 88.15029 27.84331...  \n",
       "100  POLYGON ((166.95840 -0.51660, 166.93896 -0.550...  \n",
       "101  POLYGON ((23.38066 -17.64062, 23.59492 -17.599...  \n",
       "166  MULTIPOLYGON (((164.20234 -20.24609, 164.31514...  \n",
       "185  POLYGON ((34.00449 35.06523, 33.96572 35.05679...  \n",
       "228  POLYGON ((167.93945 -29.01768, 167.95977 -29.0...  "
      ]
     },
     "execution_count": 15,
     "metadata": {},
     "output_type": "execute_result"
    }
   ],
   "source": [
    "gdf[gdf['country'].str.match('^N.*') == True]"
   ]
  },
  {
   "cell_type": "code",
   "execution_count": 16,
   "metadata": {},
   "outputs": [
    {
     "data": {
      "text/html": [
       "<div>\n",
       "<style scoped>\n",
       "    .dataframe tbody tr th:only-of-type {\n",
       "        vertical-align: middle;\n",
       "    }\n",
       "\n",
       "    .dataframe tbody tr th {\n",
       "        vertical-align: top;\n",
       "    }\n",
       "\n",
       "    .dataframe thead th {\n",
       "        text-align: right;\n",
       "    }\n",
       "</style>\n",
       "<table border=\"1\" class=\"dataframe\">\n",
       "  <thead>\n",
       "    <tr style=\"text-align: right;\">\n",
       "      <th></th>\n",
       "      <th>country</th>\n",
       "      <th>country_code</th>\n",
       "      <th>geometry</th>\n",
       "    </tr>\n",
       "  </thead>\n",
       "  <tbody>\n",
       "    <tr>\n",
       "      <th>7</th>\n",
       "      <td>Uzbekistan</td>\n",
       "      <td>UZ</td>\n",
       "      <td>MULTIPOLYGON (((70.94678 42.24868, 70.97900 42...</td>\n",
       "    </tr>\n",
       "    <tr>\n",
       "      <th>8</th>\n",
       "      <td>Uruguay</td>\n",
       "      <td>UY</td>\n",
       "      <td>POLYGON ((-53.37061 -33.74219, -53.41958 -33.7...</td>\n",
       "    </tr>\n",
       "    <tr>\n",
       "      <th>12</th>\n",
       "      <td>United States Virgin Islands</td>\n",
       "      <td>VI</td>\n",
       "      <td>MULTIPOLYGON (((-64.84502 18.33008, -64.91997 ...</td>\n",
       "    </tr>\n",
       "    <tr>\n",
       "      <th>16</th>\n",
       "      <td>United States of America</td>\n",
       "      <td>US</td>\n",
       "      <td>MULTIPOLYGON (((-132.74687 56.52568, -132.7576...</td>\n",
       "    </tr>\n",
       "    <tr>\n",
       "      <th>31</th>\n",
       "      <td>United Kingdom</td>\n",
       "      <td>GB</td>\n",
       "      <td>MULTIPOLYGON (((-2.66768 51.62300, -2.74214 51...</td>\n",
       "    </tr>\n",
       "    <tr>\n",
       "      <th>32</th>\n",
       "      <td>United Arab Emirates</td>\n",
       "      <td>AE</td>\n",
       "      <td>MULTIPOLYGON (((56.29785 25.65068, 56.36348 25...</td>\n",
       "    </tr>\n",
       "    <tr>\n",
       "      <th>33</th>\n",
       "      <td>Ukraine</td>\n",
       "      <td>UA</td>\n",
       "      <td>MULTIPOLYGON (((38.21436 47.09146, 38.17832 47...</td>\n",
       "    </tr>\n",
       "    <tr>\n",
       "      <th>34</th>\n",
       "      <td>Uganda</td>\n",
       "      <td>UG</td>\n",
       "      <td>POLYGON ((33.90322 -1.00205, 33.79404 -1.00205...</td>\n",
       "    </tr>\n",
       "    <tr>\n",
       "      <th>43</th>\n",
       "      <td>United Republic of Tanzania</td>\n",
       "      <td>TZ</td>\n",
       "      <td>MULTIPOLYGON (((39.49648 -6.17461, 39.57305 -6...</td>\n",
       "    </tr>\n",
       "  </tbody>\n",
       "</table>\n",
       "</div>"
      ],
      "text/plain": [
       "                         country country_code  \\\n",
       "7                     Uzbekistan           UZ   \n",
       "8                        Uruguay           UY   \n",
       "12  United States Virgin Islands           VI   \n",
       "16      United States of America           US   \n",
       "31                United Kingdom           GB   \n",
       "32          United Arab Emirates           AE   \n",
       "33                       Ukraine           UA   \n",
       "34                        Uganda           UG   \n",
       "43   United Republic of Tanzania           TZ   \n",
       "\n",
       "                                             geometry  \n",
       "7   MULTIPOLYGON (((70.94678 42.24868, 70.97900 42...  \n",
       "8   POLYGON ((-53.37061 -33.74219, -53.41958 -33.7...  \n",
       "12  MULTIPOLYGON (((-64.84502 18.33008, -64.91997 ...  \n",
       "16  MULTIPOLYGON (((-132.74687 56.52568, -132.7576...  \n",
       "31  MULTIPOLYGON (((-2.66768 51.62300, -2.74214 51...  \n",
       "32  MULTIPOLYGON (((56.29785 25.65068, 56.36348 25...  \n",
       "33  MULTIPOLYGON (((38.21436 47.09146, 38.17832 47...  \n",
       "34  POLYGON ((33.90322 -1.00205, 33.79404 -1.00205...  \n",
       "43  MULTIPOLYGON (((39.49648 -6.17461, 39.57305 -6...  "
      ]
     },
     "execution_count": 16,
     "metadata": {},
     "output_type": "execute_result"
    }
   ],
   "source": [
    "gdf[gdf['country'].str.match('^U.*') == True]"
   ]
  },
  {
   "cell_type": "code",
   "execution_count": 17,
   "metadata": {},
   "outputs": [
    {
     "data": {
      "text/plain": [
       "{'AU',\n",
       " 'BE',\n",
       " 'CH',\n",
       " 'CZ',\n",
       " 'DE',\n",
       " 'ES',\n",
       " 'F',\n",
       " 'FI',\n",
       " 'GR',\n",
       " 'HU',\n",
       " 'IR',\n",
       " 'IT',\n",
       " 'NL',\n",
       " 'NO',\n",
       " 'SE',\n",
       " 'UK'}"
      ]
     },
     "execution_count": 17,
     "metadata": {},
     "output_type": "execute_result"
    }
   ],
   "source": [
    "air_countries"
   ]
  },
  {
   "cell_type": "markdown",
   "metadata": {},
   "source": [
    "Change the chernobyl data to match the country codes from the map. "
   ]
  },
  {
   "cell_type": "code",
   "execution_count": 18,
   "metadata": {},
   "outputs": [
    {
     "data": {
      "text/html": [
       "<div>\n",
       "<style scoped>\n",
       "    .dataframe tbody tr th:only-of-type {\n",
       "        vertical-align: middle;\n",
       "    }\n",
       "\n",
       "    .dataframe tbody tr th {\n",
       "        vertical-align: top;\n",
       "    }\n",
       "\n",
       "    .dataframe thead th {\n",
       "        text-align: right;\n",
       "    }\n",
       "</style>\n",
       "<table border=\"1\" class=\"dataframe\">\n",
       "  <thead>\n",
       "    <tr style=\"text-align: right;\">\n",
       "      <th></th>\n",
       "      <th>Unnamed: 0</th>\n",
       "      <th>country</th>\n",
       "      <th>Code</th>\n",
       "      <th>city</th>\n",
       "      <th>longitude</th>\n",
       "      <th>latitude</th>\n",
       "      <th>Date</th>\n",
       "      <th>endsampling</th>\n",
       "      <th>duration</th>\n",
       "      <th>i131</th>\n",
       "      <th>cs134</th>\n",
       "      <th>cs137</th>\n",
       "    </tr>\n",
       "  </thead>\n",
       "  <tbody>\n",
       "    <tr>\n",
       "      <th>277</th>\n",
       "      <td>277</td>\n",
       "      <td>FR</td>\n",
       "      <td>3</td>\n",
       "      <td>CADARACHE</td>\n",
       "      <td>5.75</td>\n",
       "      <td>43.71</td>\n",
       "      <td>1986-05-01</td>\n",
       "      <td>9</td>\n",
       "      <td>24.0</td>\n",
       "      <td>0.300000</td>\n",
       "      <td>0.0008</td>\n",
       "      <td>0.020000</td>\n",
       "    </tr>\n",
       "    <tr>\n",
       "      <th>278</th>\n",
       "      <td>278</td>\n",
       "      <td>FR</td>\n",
       "      <td>3</td>\n",
       "      <td>CADARACHE</td>\n",
       "      <td>5.75</td>\n",
       "      <td>43.71</td>\n",
       "      <td>1986-05-02</td>\n",
       "      <td>9</td>\n",
       "      <td>24.0</td>\n",
       "      <td>6.299999</td>\n",
       "      <td>0.1800</td>\n",
       "      <td>0.410000</td>\n",
       "    </tr>\n",
       "    <tr>\n",
       "      <th>279</th>\n",
       "      <td>279</td>\n",
       "      <td>FR</td>\n",
       "      <td>3</td>\n",
       "      <td>CADARACHE</td>\n",
       "      <td>5.75</td>\n",
       "      <td>43.71</td>\n",
       "      <td>1986-05-03</td>\n",
       "      <td>9</td>\n",
       "      <td>24.0</td>\n",
       "      <td>5.900000</td>\n",
       "      <td>0.4000</td>\n",
       "      <td>0.940000</td>\n",
       "    </tr>\n",
       "    <tr>\n",
       "      <th>280</th>\n",
       "      <td>280</td>\n",
       "      <td>FR</td>\n",
       "      <td>3</td>\n",
       "      <td>CADARACHE</td>\n",
       "      <td>5.75</td>\n",
       "      <td>43.71</td>\n",
       "      <td>1986-05-04</td>\n",
       "      <td>9</td>\n",
       "      <td>24.0</td>\n",
       "      <td>6.599999</td>\n",
       "      <td>0.5000</td>\n",
       "      <td>1.099999</td>\n",
       "    </tr>\n",
       "    <tr>\n",
       "      <th>281</th>\n",
       "      <td>281</td>\n",
       "      <td>FR</td>\n",
       "      <td>3</td>\n",
       "      <td>CADARACHE</td>\n",
       "      <td>5.75</td>\n",
       "      <td>43.71</td>\n",
       "      <td>1986-05-05</td>\n",
       "      <td>9</td>\n",
       "      <td>24.0</td>\n",
       "      <td>1.400000</td>\n",
       "      <td>0.1000</td>\n",
       "      <td>0.310000</td>\n",
       "    </tr>\n",
       "    <tr>\n",
       "      <th>...</th>\n",
       "      <td>...</td>\n",
       "      <td>...</td>\n",
       "      <td>...</td>\n",
       "      <td>...</td>\n",
       "      <td>...</td>\n",
       "      <td>...</td>\n",
       "      <td>...</td>\n",
       "      <td>...</td>\n",
       "      <td>...</td>\n",
       "      <td>...</td>\n",
       "      <td>...</td>\n",
       "      <td>...</td>\n",
       "    </tr>\n",
       "    <tr>\n",
       "      <th>532</th>\n",
       "      <td>532</td>\n",
       "      <td>FR</td>\n",
       "      <td>3</td>\n",
       "      <td>VERDUN</td>\n",
       "      <td>5.38</td>\n",
       "      <td>49.15</td>\n",
       "      <td>1986-05-06</td>\n",
       "      <td>9</td>\n",
       "      <td>24.0</td>\n",
       "      <td>0.110000</td>\n",
       "      <td>0.0630</td>\n",
       "      <td>0.120000</td>\n",
       "    </tr>\n",
       "    <tr>\n",
       "      <th>533</th>\n",
       "      <td>533</td>\n",
       "      <td>FR</td>\n",
       "      <td>3</td>\n",
       "      <td>VERDUN</td>\n",
       "      <td>5.38</td>\n",
       "      <td>49.15</td>\n",
       "      <td>1986-05-07</td>\n",
       "      <td>9</td>\n",
       "      <td>24.0</td>\n",
       "      <td>0.039000</td>\n",
       "      <td>0.0140</td>\n",
       "      <td>0.028000</td>\n",
       "    </tr>\n",
       "    <tr>\n",
       "      <th>534</th>\n",
       "      <td>534</td>\n",
       "      <td>FR</td>\n",
       "      <td>3</td>\n",
       "      <td>VERDUN</td>\n",
       "      <td>5.38</td>\n",
       "      <td>49.15</td>\n",
       "      <td>1986-05-08</td>\n",
       "      <td>9</td>\n",
       "      <td>24.0</td>\n",
       "      <td>0.008700</td>\n",
       "      <td>0.0012</td>\n",
       "      <td>0.002000</td>\n",
       "    </tr>\n",
       "    <tr>\n",
       "      <th>535</th>\n",
       "      <td>535</td>\n",
       "      <td>FR</td>\n",
       "      <td>3</td>\n",
       "      <td>VERDUN</td>\n",
       "      <td>5.38</td>\n",
       "      <td>49.15</td>\n",
       "      <td>1986-05-09</td>\n",
       "      <td>9</td>\n",
       "      <td>24.0</td>\n",
       "      <td>0.009100</td>\n",
       "      <td>0.0012</td>\n",
       "      <td>0.002100</td>\n",
       "    </tr>\n",
       "    <tr>\n",
       "      <th>536</th>\n",
       "      <td>536</td>\n",
       "      <td>FR</td>\n",
       "      <td>3</td>\n",
       "      <td>VERDUN</td>\n",
       "      <td>5.38</td>\n",
       "      <td>49.15</td>\n",
       "      <td>1986-05-10</td>\n",
       "      <td>9</td>\n",
       "      <td>24.0</td>\n",
       "      <td>0.007600</td>\n",
       "      <td>0.0011</td>\n",
       "      <td>0.002060</td>\n",
       "    </tr>\n",
       "  </tbody>\n",
       "</table>\n",
       "<p>260 rows × 12 columns</p>\n",
       "</div>"
      ],
      "text/plain": [
       "     Unnamed: 0 country  Code       city  longitude  latitude        Date  \\\n",
       "277         277      FR     3  CADARACHE       5.75     43.71  1986-05-01   \n",
       "278         278      FR     3  CADARACHE       5.75     43.71  1986-05-02   \n",
       "279         279      FR     3  CADARACHE       5.75     43.71  1986-05-03   \n",
       "280         280      FR     3  CADARACHE       5.75     43.71  1986-05-04   \n",
       "281         281      FR     3  CADARACHE       5.75     43.71  1986-05-05   \n",
       "..          ...     ...   ...        ...        ...       ...         ...   \n",
       "532         532      FR     3     VERDUN       5.38     49.15  1986-05-06   \n",
       "533         533      FR     3     VERDUN       5.38     49.15  1986-05-07   \n",
       "534         534      FR     3     VERDUN       5.38     49.15  1986-05-08   \n",
       "535         535      FR     3     VERDUN       5.38     49.15  1986-05-09   \n",
       "536         536      FR     3     VERDUN       5.38     49.15  1986-05-10   \n",
       "\n",
       "     endsampling  duration      i131   cs134     cs137  \n",
       "277            9      24.0  0.300000  0.0008  0.020000  \n",
       "278            9      24.0  6.299999  0.1800  0.410000  \n",
       "279            9      24.0  5.900000  0.4000  0.940000  \n",
       "280            9      24.0  6.599999  0.5000  1.099999  \n",
       "281            9      24.0  1.400000  0.1000  0.310000  \n",
       "..           ...       ...       ...     ...       ...  \n",
       "532            9      24.0  0.110000  0.0630  0.120000  \n",
       "533            9      24.0  0.039000  0.0140  0.028000  \n",
       "534            9      24.0  0.008700  0.0012  0.002000  \n",
       "535            9      24.0  0.009100  0.0012  0.002100  \n",
       "536            9      24.0  0.007600  0.0011  0.002060  \n",
       "\n",
       "[260 rows x 12 columns]"
      ]
     },
     "execution_count": 18,
     "metadata": {},
     "output_type": "execute_result"
    }
   ],
   "source": [
    "air.loc[air['country'] == 'F', 'country'] = 'FR'\n",
    "air.loc[air['country'] == 'FR']"
   ]
  },
  {
   "cell_type": "code",
   "execution_count": 19,
   "metadata": {},
   "outputs": [
    {
     "data": {
      "text/html": [
       "<div>\n",
       "<style scoped>\n",
       "    .dataframe tbody tr th:only-of-type {\n",
       "        vertical-align: middle;\n",
       "    }\n",
       "\n",
       "    .dataframe tbody tr th {\n",
       "        vertical-align: top;\n",
       "    }\n",
       "\n",
       "    .dataframe thead th {\n",
       "        text-align: right;\n",
       "    }\n",
       "</style>\n",
       "<table border=\"1\" class=\"dataframe\">\n",
       "  <thead>\n",
       "    <tr style=\"text-align: right;\">\n",
       "      <th></th>\n",
       "      <th>Unnamed: 0</th>\n",
       "      <th>country</th>\n",
       "      <th>Code</th>\n",
       "      <th>city</th>\n",
       "      <th>longitude</th>\n",
       "      <th>latitude</th>\n",
       "      <th>Date</th>\n",
       "      <th>endsampling</th>\n",
       "      <th>duration</th>\n",
       "      <th>i131</th>\n",
       "      <th>cs134</th>\n",
       "      <th>cs137</th>\n",
       "    </tr>\n",
       "  </thead>\n",
       "  <tbody>\n",
       "    <tr>\n",
       "      <th>1044</th>\n",
       "      <td>1044</td>\n",
       "      <td>GB</td>\n",
       "      <td>9</td>\n",
       "      <td>BERKELEY</td>\n",
       "      <td>-2.45</td>\n",
       "      <td>51.69</td>\n",
       "      <td>1986-04-30</td>\n",
       "      <td>10</td>\n",
       "      <td>29.45</td>\n",
       "      <td>0.00010</td>\n",
       "      <td>0.0000</td>\n",
       "      <td>0.00</td>\n",
       "    </tr>\n",
       "    <tr>\n",
       "      <th>1045</th>\n",
       "      <td>1045</td>\n",
       "      <td>GB</td>\n",
       "      <td>9</td>\n",
       "      <td>BERKELEY</td>\n",
       "      <td>-2.45</td>\n",
       "      <td>51.69</td>\n",
       "      <td>1986-05-01</td>\n",
       "      <td>8</td>\n",
       "      <td>21.50</td>\n",
       "      <td>NaN</td>\n",
       "      <td>0.0004</td>\n",
       "      <td>0.00</td>\n",
       "    </tr>\n",
       "    <tr>\n",
       "      <th>1046</th>\n",
       "      <td>1046</td>\n",
       "      <td>GB</td>\n",
       "      <td>9</td>\n",
       "      <td>BERKELEY</td>\n",
       "      <td>-2.45</td>\n",
       "      <td>51.69</td>\n",
       "      <td>1986-05-02</td>\n",
       "      <td>15</td>\n",
       "      <td>31.05</td>\n",
       "      <td>0.07000</td>\n",
       "      <td>0.0160</td>\n",
       "      <td>0.03</td>\n",
       "    </tr>\n",
       "    <tr>\n",
       "      <th>1047</th>\n",
       "      <td>1047</td>\n",
       "      <td>GB</td>\n",
       "      <td>9</td>\n",
       "      <td>BERKELEY</td>\n",
       "      <td>-2.45</td>\n",
       "      <td>51.69</td>\n",
       "      <td>1986-05-02</td>\n",
       "      <td>20</td>\n",
       "      <td>4.20</td>\n",
       "      <td>1.10000</td>\n",
       "      <td>0.2600</td>\n",
       "      <td>0.48</td>\n",
       "    </tr>\n",
       "    <tr>\n",
       "      <th>1048</th>\n",
       "      <td>1048</td>\n",
       "      <td>GB</td>\n",
       "      <td>9</td>\n",
       "      <td>BERKELEY</td>\n",
       "      <td>-2.45</td>\n",
       "      <td>51.69</td>\n",
       "      <td>1986-05-02</td>\n",
       "      <td>21</td>\n",
       "      <td>1.20</td>\n",
       "      <td>2.10000</td>\n",
       "      <td>0.3600</td>\n",
       "      <td>0.66</td>\n",
       "    </tr>\n",
       "    <tr>\n",
       "      <th>...</th>\n",
       "      <td>...</td>\n",
       "      <td>...</td>\n",
       "      <td>...</td>\n",
       "      <td>...</td>\n",
       "      <td>...</td>\n",
       "      <td>...</td>\n",
       "      <td>...</td>\n",
       "      <td>...</td>\n",
       "      <td>...</td>\n",
       "      <td>...</td>\n",
       "      <td>...</td>\n",
       "      <td>...</td>\n",
       "    </tr>\n",
       "    <tr>\n",
       "      <th>1158</th>\n",
       "      <td>1158</td>\n",
       "      <td>GB</td>\n",
       "      <td>9</td>\n",
       "      <td>HARWELL</td>\n",
       "      <td>-1.30</td>\n",
       "      <td>51.62</td>\n",
       "      <td>1986-05-08</td>\n",
       "      <td>9</td>\n",
       "      <td>12.13</td>\n",
       "      <td>0.00540</td>\n",
       "      <td>0.0007</td>\n",
       "      <td>NaN</td>\n",
       "    </tr>\n",
       "    <tr>\n",
       "      <th>1159</th>\n",
       "      <td>1159</td>\n",
       "      <td>GB</td>\n",
       "      <td>9</td>\n",
       "      <td>HARWELL</td>\n",
       "      <td>-1.30</td>\n",
       "      <td>51.62</td>\n",
       "      <td>1986-05-08</td>\n",
       "      <td>11</td>\n",
       "      <td>1.44</td>\n",
       "      <td>0.00640</td>\n",
       "      <td>0.0000</td>\n",
       "      <td>NaN</td>\n",
       "    </tr>\n",
       "    <tr>\n",
       "      <th>1160</th>\n",
       "      <td>1160</td>\n",
       "      <td>GB</td>\n",
       "      <td>9</td>\n",
       "      <td>HARWELL</td>\n",
       "      <td>-1.30</td>\n",
       "      <td>51.62</td>\n",
       "      <td>1986-05-08</td>\n",
       "      <td>14</td>\n",
       "      <td>2.53</td>\n",
       "      <td>0.00500</td>\n",
       "      <td>0.0000</td>\n",
       "      <td>NaN</td>\n",
       "    </tr>\n",
       "    <tr>\n",
       "      <th>1161</th>\n",
       "      <td>1161</td>\n",
       "      <td>GB</td>\n",
       "      <td>9</td>\n",
       "      <td>HARWELL</td>\n",
       "      <td>-1.30</td>\n",
       "      <td>51.62</td>\n",
       "      <td>1986-05-09</td>\n",
       "      <td>9</td>\n",
       "      <td>19.03</td>\n",
       "      <td>0.00570</td>\n",
       "      <td>0.0010</td>\n",
       "      <td>NaN</td>\n",
       "    </tr>\n",
       "    <tr>\n",
       "      <th>1162</th>\n",
       "      <td>1162</td>\n",
       "      <td>GB</td>\n",
       "      <td>9</td>\n",
       "      <td>HARWELL</td>\n",
       "      <td>-1.30</td>\n",
       "      <td>51.62</td>\n",
       "      <td>1986-05-10</td>\n",
       "      <td>9</td>\n",
       "      <td>24.32</td>\n",
       "      <td>0.00033</td>\n",
       "      <td>0.0000</td>\n",
       "      <td>NaN</td>\n",
       "    </tr>\n",
       "  </tbody>\n",
       "</table>\n",
       "<p>119 rows × 12 columns</p>\n",
       "</div>"
      ],
      "text/plain": [
       "      Unnamed: 0 country  Code      city  longitude  latitude        Date  \\\n",
       "1044        1044      GB     9  BERKELEY      -2.45     51.69  1986-04-30   \n",
       "1045        1045      GB     9  BERKELEY      -2.45     51.69  1986-05-01   \n",
       "1046        1046      GB     9  BERKELEY      -2.45     51.69  1986-05-02   \n",
       "1047        1047      GB     9  BERKELEY      -2.45     51.69  1986-05-02   \n",
       "1048        1048      GB     9  BERKELEY      -2.45     51.69  1986-05-02   \n",
       "...          ...     ...   ...       ...        ...       ...         ...   \n",
       "1158        1158      GB     9   HARWELL      -1.30     51.62  1986-05-08   \n",
       "1159        1159      GB     9   HARWELL      -1.30     51.62  1986-05-08   \n",
       "1160        1160      GB     9   HARWELL      -1.30     51.62  1986-05-08   \n",
       "1161        1161      GB     9   HARWELL      -1.30     51.62  1986-05-09   \n",
       "1162        1162      GB     9   HARWELL      -1.30     51.62  1986-05-10   \n",
       "\n",
       "      endsampling  duration     i131   cs134  cs137  \n",
       "1044           10     29.45  0.00010  0.0000   0.00  \n",
       "1045            8     21.50      NaN  0.0004   0.00  \n",
       "1046           15     31.05  0.07000  0.0160   0.03  \n",
       "1047           20      4.20  1.10000  0.2600   0.48  \n",
       "1048           21      1.20  2.10000  0.3600   0.66  \n",
       "...           ...       ...      ...     ...    ...  \n",
       "1158            9     12.13  0.00540  0.0007    NaN  \n",
       "1159           11      1.44  0.00640  0.0000    NaN  \n",
       "1160           14      2.53  0.00500  0.0000    NaN  \n",
       "1161            9     19.03  0.00570  0.0010    NaN  \n",
       "1162            9     24.32  0.00033  0.0000    NaN  \n",
       "\n",
       "[119 rows x 12 columns]"
      ]
     },
     "execution_count": 19,
     "metadata": {},
     "output_type": "execute_result"
    }
   ],
   "source": [
    "air.loc[air['country'] == 'UK', 'country'] = 'GB'\n",
    "air.loc[air['country'] == 'GB']"
   ]
  },
  {
   "cell_type": "markdown",
   "metadata": {},
   "source": [
    "If we redo the subsetting, we should get a complete match. Yeah. "
   ]
  },
  {
   "cell_type": "code",
   "execution_count": 20,
   "metadata": {
    "collapsed": true
   },
   "outputs": [],
   "source": [
    "air_countries = set(air.country)\n",
    "map_countries = set(gdf.country_code)"
   ]
  },
  {
   "cell_type": "code",
   "execution_count": 21,
   "metadata": {},
   "outputs": [
    {
     "data": {
      "text/plain": [
       "set()"
      ]
     },
     "execution_count": 21,
     "metadata": {},
     "output_type": "execute_result"
    }
   ],
   "source": [
    "air_countries.difference(map_countries)"
   ]
  },
  {
   "cell_type": "code",
   "execution_count": null,
   "metadata": {
    "collapsed": true
   },
   "outputs": [],
   "source": []
  },
  {
   "cell_type": "code",
   "execution_count": 22,
   "metadata": {},
   "outputs": [
    {
     "data": {
      "text/html": [
       "<div>\n",
       "<style scoped>\n",
       "    .dataframe tbody tr th:only-of-type {\n",
       "        vertical-align: middle;\n",
       "    }\n",
       "\n",
       "    .dataframe tbody tr th {\n",
       "        vertical-align: top;\n",
       "    }\n",
       "\n",
       "    .dataframe thead th {\n",
       "        text-align: right;\n",
       "    }\n",
       "</style>\n",
       "<table border=\"1\" class=\"dataframe\">\n",
       "  <thead>\n",
       "    <tr style=\"text-align: right;\">\n",
       "      <th></th>\n",
       "      <th>country</th>\n",
       "      <th>country_code</th>\n",
       "      <th>geometry</th>\n",
       "    </tr>\n",
       "  </thead>\n",
       "  <tbody>\n",
       "    <tr>\n",
       "      <th>160</th>\n",
       "      <td>France</td>\n",
       "      <td>FR</td>\n",
       "      <td>MULTIPOLYGON (((9.48037 42.80542, 9.45420 42.6...</td>\n",
       "    </tr>\n",
       "  </tbody>\n",
       "</table>\n",
       "</div>"
      ],
      "text/plain": [
       "    country country_code                                           geometry\n",
       "160  France           FR  MULTIPOLYGON (((9.48037 42.80542, 9.45420 42.6..."
      ]
     },
     "execution_count": 22,
     "metadata": {},
     "output_type": "execute_result"
    }
   ],
   "source": [
    "gdf.loc[gdf['country_code'] == 'FR']"
   ]
  },
  {
   "cell_type": "code",
   "execution_count": 23,
   "metadata": {
    "collapsed": true
   },
   "outputs": [],
   "source": [
    "indices_europe = []\n",
    "for index in range(len(gdf)):\n",
    "    if gdf.country_code.values[index] in air_countries:\n",
    "        indices_europe.append(index)"
   ]
  },
  {
   "cell_type": "code",
   "execution_count": 24,
   "metadata": {},
   "outputs": [
    {
     "data": {
      "text/plain": [
       "[31, 47, 48, 54, 88, 96, 137, 142, 146, 154, 156, 160, 169, 184, 217, 225]"
      ]
     },
     "execution_count": 24,
     "metadata": {},
     "output_type": "execute_result"
    }
   ],
   "source": [
    "indices_europe"
   ]
  },
  {
   "cell_type": "code",
   "execution_count": 25,
   "metadata": {
    "collapsed": true
   },
   "outputs": [],
   "source": [
    "gdf_europe = gdf.iloc[indices_europe]"
   ]
  },
  {
   "cell_type": "code",
   "execution_count": 26,
   "metadata": {
    "collapsed": true
   },
   "outputs": [],
   "source": [
    "map_codes = set(gdf_europe.country_code)\n",
    "air_codes = set(air.country)"
   ]
  },
  {
   "cell_type": "code",
   "execution_count": 27,
   "metadata": {},
   "outputs": [
    {
     "data": {
      "text/plain": [
       "set()"
      ]
     },
     "execution_count": 27,
     "metadata": {},
     "output_type": "execute_result"
    }
   ],
   "source": [
    "air_codes.difference(map_codes)"
   ]
  },
  {
   "cell_type": "code",
   "execution_count": 28,
   "metadata": {},
   "outputs": [
    {
     "data": {
      "text/plain": [
       "0"
      ]
     },
     "execution_count": 28,
     "metadata": {},
     "output_type": "execute_result"
    }
   ],
   "source": [
    "len(air_codes) - len(map_codes)"
   ]
  },
  {
   "cell_type": "code",
   "execution_count": 29,
   "metadata": {},
   "outputs": [
    {
     "data": {
      "text/plain": [
       "<matplotlib.axes._subplots.AxesSubplot at 0x1257bc630>"
      ]
     },
     "execution_count": 29,
     "metadata": {},
     "output_type": "execute_result"
    },
    {
     "data": {
      "image/png": "[encoded data removed]",
      "text/plain": [
       "<Figure size 432x288 with 1 Axes>"
      ]
     },
     "metadata": {},
     "output_type": "display_data"
    }
   ],
   "source": [
    "gdf_europe.plot()"
   ]
  },
  {
   "cell_type": "code",
   "execution_count": 30,
   "metadata": {},
   "outputs": [
    {
     "data": {
      "text/plain": [
       "{'AU',\n",
       " 'BE',\n",
       " 'CH',\n",
       " 'CZ',\n",
       " 'DE',\n",
       " 'ES',\n",
       " 'FI',\n",
       " 'FR',\n",
       " 'GB',\n",
       " 'GR',\n",
       " 'HU',\n",
       " 'IR',\n",
       " 'IT',\n",
       " 'NL',\n",
       " 'NO',\n",
       " 'SE'}"
      ]
     },
     "execution_count": 30,
     "metadata": {},
     "output_type": "execute_result"
    }
   ],
   "source": [
    "air_codes"
   ]
  },
  {
   "cell_type": "code",
   "execution_count": 31,
   "metadata": {},
   "outputs": [
    {
     "data": {
      "text/html": [
       "<div>\n",
       "<style scoped>\n",
       "    .dataframe tbody tr th:only-of-type {\n",
       "        vertical-align: middle;\n",
       "    }\n",
       "\n",
       "    .dataframe tbody tr th {\n",
       "        vertical-align: top;\n",
       "    }\n",
       "\n",
       "    .dataframe thead th {\n",
       "        text-align: right;\n",
       "    }\n",
       "</style>\n",
       "<table border=\"1\" class=\"dataframe\">\n",
       "  <thead>\n",
       "    <tr style=\"text-align: right;\">\n",
       "      <th></th>\n",
       "      <th>Unnamed: 0</th>\n",
       "      <th>country</th>\n",
       "      <th>Code</th>\n",
       "      <th>city</th>\n",
       "      <th>longitude</th>\n",
       "      <th>latitude</th>\n",
       "      <th>Date</th>\n",
       "      <th>endsampling</th>\n",
       "      <th>duration</th>\n",
       "      <th>i131</th>\n",
       "      <th>cs134</th>\n",
       "      <th>cs137</th>\n",
       "    </tr>\n",
       "  </thead>\n",
       "  <tbody>\n",
       "    <tr>\n",
       "      <th>0</th>\n",
       "      <td>0</td>\n",
       "      <td>SE</td>\n",
       "      <td>1</td>\n",
       "      <td>RISOE</td>\n",
       "      <td>12.07</td>\n",
       "      <td>55.7</td>\n",
       "      <td>1986-04-27</td>\n",
       "      <td>0</td>\n",
       "      <td>24.0</td>\n",
       "      <td>1.00000</td>\n",
       "      <td>0.00000</td>\n",
       "      <td>0.24000</td>\n",
       "    </tr>\n",
       "    <tr>\n",
       "      <th>1</th>\n",
       "      <td>1</td>\n",
       "      <td>SE</td>\n",
       "      <td>1</td>\n",
       "      <td>RISOE</td>\n",
       "      <td>12.07</td>\n",
       "      <td>55.7</td>\n",
       "      <td>1986-04-28</td>\n",
       "      <td>0</td>\n",
       "      <td>24.0</td>\n",
       "      <td>0.00460</td>\n",
       "      <td>0.00054</td>\n",
       "      <td>0.00098</td>\n",
       "    </tr>\n",
       "    <tr>\n",
       "      <th>2</th>\n",
       "      <td>2</td>\n",
       "      <td>SE</td>\n",
       "      <td>1</td>\n",
       "      <td>RISOE</td>\n",
       "      <td>12.07</td>\n",
       "      <td>55.7</td>\n",
       "      <td>1986-04-29</td>\n",
       "      <td>12</td>\n",
       "      <td>12.0</td>\n",
       "      <td>0.01470</td>\n",
       "      <td>0.00430</td>\n",
       "      <td>0.00740</td>\n",
       "    </tr>\n",
       "    <tr>\n",
       "      <th>3</th>\n",
       "      <td>3</td>\n",
       "      <td>SE</td>\n",
       "      <td>1</td>\n",
       "      <td>RISOE</td>\n",
       "      <td>12.07</td>\n",
       "      <td>55.7</td>\n",
       "      <td>1986-04-29</td>\n",
       "      <td>0</td>\n",
       "      <td>12.0</td>\n",
       "      <td>0.00061</td>\n",
       "      <td>0.00000</td>\n",
       "      <td>0.00009</td>\n",
       "    </tr>\n",
       "    <tr>\n",
       "      <th>4</th>\n",
       "      <td>4</td>\n",
       "      <td>SE</td>\n",
       "      <td>1</td>\n",
       "      <td>RISOE</td>\n",
       "      <td>12.07</td>\n",
       "      <td>55.7</td>\n",
       "      <td>1986-04-30</td>\n",
       "      <td>0</td>\n",
       "      <td>24.0</td>\n",
       "      <td>0.00075</td>\n",
       "      <td>0.00010</td>\n",
       "      <td>0.00028</td>\n",
       "    </tr>\n",
       "  </tbody>\n",
       "</table>\n",
       "</div>"
      ],
      "text/plain": [
       "   Unnamed: 0 country  Code   city  longitude  latitude        Date  \\\n",
       "0           0      SE     1  RISOE      12.07      55.7  1986-04-27   \n",
       "1           1      SE     1  RISOE      12.07      55.7  1986-04-28   \n",
       "2           2      SE     1  RISOE      12.07      55.7  1986-04-29   \n",
       "3           3      SE     1  RISOE      12.07      55.7  1986-04-29   \n",
       "4           4      SE     1  RISOE      12.07      55.7  1986-04-30   \n",
       "\n",
       "   endsampling  duration     i131    cs134    cs137  \n",
       "0            0      24.0  1.00000  0.00000  0.24000  \n",
       "1            0      24.0  0.00460  0.00054  0.00098  \n",
       "2           12      12.0  0.01470  0.00430  0.00740  \n",
       "3            0      12.0  0.00061  0.00000  0.00009  \n",
       "4            0      24.0  0.00075  0.00010  0.00028  "
      ]
     },
     "execution_count": 31,
     "metadata": {},
     "output_type": "execute_result"
    }
   ],
   "source": [
    "air.head()"
   ]
  },
  {
   "cell_type": "code",
   "execution_count": 32,
   "metadata": {
    "collapsed": true
   },
   "outputs": [],
   "source": [
    "geo_air = gpd.GeoDataFrame(air)"
   ]
  },
  {
   "cell_type": "code",
   "execution_count": 33,
   "metadata": {
    "collapsed": true
   },
   "outputs": [],
   "source": [
    "crs =  'epsg:4326'\n",
    "geometry = [Point(xy) for xy in zip( air[\"longitude\"], air[\"latitude\"]  )] "
   ]
  },
  {
   "cell_type": "code",
   "execution_count": 37,
   "metadata": {
    "collapsed": true
   },
   "outputs": [],
   "source": [
    "geo_air = gpd.GeoDataFrame(air, crs = crs, geometry = geometry)"
   ]
  },
  {
   "cell_type": "code",
   "execution_count": 38,
   "metadata": {},
   "outputs": [
    {
     "data": {
      "text/html": [
       "<div>\n",
       "<style scoped>\n",
       "    .dataframe tbody tr th:only-of-type {\n",
       "        vertical-align: middle;\n",
       "    }\n",
       "\n",
       "    .dataframe tbody tr th {\n",
       "        vertical-align: top;\n",
       "    }\n",
       "\n",
       "    .dataframe thead th {\n",
       "        text-align: right;\n",
       "    }\n",
       "</style>\n",
       "<table border=\"1\" class=\"dataframe\">\n",
       "  <thead>\n",
       "    <tr style=\"text-align: right;\">\n",
       "      <th></th>\n",
       "      <th>Unnamed: 0</th>\n",
       "      <th>country</th>\n",
       "      <th>Code</th>\n",
       "      <th>city</th>\n",
       "      <th>longitude</th>\n",
       "      <th>latitude</th>\n",
       "      <th>Date</th>\n",
       "      <th>endsampling</th>\n",
       "      <th>duration</th>\n",
       "      <th>i131</th>\n",
       "      <th>cs134</th>\n",
       "      <th>cs137</th>\n",
       "      <th>geometry</th>\n",
       "    </tr>\n",
       "  </thead>\n",
       "  <tbody>\n",
       "    <tr>\n",
       "      <th>0</th>\n",
       "      <td>0</td>\n",
       "      <td>SE</td>\n",
       "      <td>1</td>\n",
       "      <td>RISOE</td>\n",
       "      <td>12.07</td>\n",
       "      <td>55.7</td>\n",
       "      <td>1986-04-27</td>\n",
       "      <td>0</td>\n",
       "      <td>24.0</td>\n",
       "      <td>1.00000</td>\n",
       "      <td>0.00000</td>\n",
       "      <td>0.24000</td>\n",
       "      <td>POINT (12.07000 55.70000)</td>\n",
       "    </tr>\n",
       "    <tr>\n",
       "      <th>1</th>\n",
       "      <td>1</td>\n",
       "      <td>SE</td>\n",
       "      <td>1</td>\n",
       "      <td>RISOE</td>\n",
       "      <td>12.07</td>\n",
       "      <td>55.7</td>\n",
       "      <td>1986-04-28</td>\n",
       "      <td>0</td>\n",
       "      <td>24.0</td>\n",
       "      <td>0.00460</td>\n",
       "      <td>0.00054</td>\n",
       "      <td>0.00098</td>\n",
       "      <td>POINT (12.07000 55.70000)</td>\n",
       "    </tr>\n",
       "    <tr>\n",
       "      <th>2</th>\n",
       "      <td>2</td>\n",
       "      <td>SE</td>\n",
       "      <td>1</td>\n",
       "      <td>RISOE</td>\n",
       "      <td>12.07</td>\n",
       "      <td>55.7</td>\n",
       "      <td>1986-04-29</td>\n",
       "      <td>12</td>\n",
       "      <td>12.0</td>\n",
       "      <td>0.01470</td>\n",
       "      <td>0.00430</td>\n",
       "      <td>0.00740</td>\n",
       "      <td>POINT (12.07000 55.70000)</td>\n",
       "    </tr>\n",
       "    <tr>\n",
       "      <th>3</th>\n",
       "      <td>3</td>\n",
       "      <td>SE</td>\n",
       "      <td>1</td>\n",
       "      <td>RISOE</td>\n",
       "      <td>12.07</td>\n",
       "      <td>55.7</td>\n",
       "      <td>1986-04-29</td>\n",
       "      <td>0</td>\n",
       "      <td>12.0</td>\n",
       "      <td>0.00061</td>\n",
       "      <td>0.00000</td>\n",
       "      <td>0.00009</td>\n",
       "      <td>POINT (12.07000 55.70000)</td>\n",
       "    </tr>\n",
       "    <tr>\n",
       "      <th>4</th>\n",
       "      <td>4</td>\n",
       "      <td>SE</td>\n",
       "      <td>1</td>\n",
       "      <td>RISOE</td>\n",
       "      <td>12.07</td>\n",
       "      <td>55.7</td>\n",
       "      <td>1986-04-30</td>\n",
       "      <td>0</td>\n",
       "      <td>24.0</td>\n",
       "      <td>0.00075</td>\n",
       "      <td>0.00010</td>\n",
       "      <td>0.00028</td>\n",
       "      <td>POINT (12.07000 55.70000)</td>\n",
       "    </tr>\n",
       "  </tbody>\n",
       "</table>\n",
       "</div>"
      ],
      "text/plain": [
       "   Unnamed: 0 country  Code   city  longitude  latitude        Date  \\\n",
       "0           0      SE     1  RISOE      12.07      55.7  1986-04-27   \n",
       "1           1      SE     1  RISOE      12.07      55.7  1986-04-28   \n",
       "2           2      SE     1  RISOE      12.07      55.7  1986-04-29   \n",
       "3           3      SE     1  RISOE      12.07      55.7  1986-04-29   \n",
       "4           4      SE     1  RISOE      12.07      55.7  1986-04-30   \n",
       "\n",
       "   endsampling  duration     i131    cs134    cs137                   geometry  \n",
       "0            0      24.0  1.00000  0.00000  0.24000  POINT (12.07000 55.70000)  \n",
       "1            0      24.0  0.00460  0.00054  0.00098  POINT (12.07000 55.70000)  \n",
       "2           12      12.0  0.01470  0.00430  0.00740  POINT (12.07000 55.70000)  \n",
       "3            0      12.0  0.00061  0.00000  0.00009  POINT (12.07000 55.70000)  \n",
       "4            0      24.0  0.00075  0.00010  0.00028  POINT (12.07000 55.70000)  "
      ]
     },
     "execution_count": 38,
     "metadata": {},
     "output_type": "execute_result"
    }
   ],
   "source": [
    "geo_air.head()"
   ]
  },
  {
   "cell_type": "code",
   "execution_count": null,
   "metadata": {
    "collapsed": true
   },
   "outputs": [],
   "source": []
  },
  {
   "cell_type": "code",
   "execution_count": null,
   "metadata": {
    "collapsed": true
   },
   "outputs": [],
   "source": []
  },
  {
   "cell_type": "code",
   "execution_count": 39,
   "metadata": {},
   "outputs": [
    {
     "data": {
      "text/plain": [
       "<matplotlib.axes._subplots.AxesSubplot at 0x1258b44a8>"
      ]
     },
     "execution_count": 39,
     "metadata": {},
     "output_type": "execute_result"
    },
    {
     "data": {
      "image/png": "[encoded data removed]",
      "text/plain": [
       "<Figure size 432x288 with 1 Axes>"
      ]
     },
     "metadata": {},
     "output_type": "display_data"
    },
    {
     "data": {
      "image/png": "[encoded data removed]",
      "text/plain": [
       "<Figure size 432x288 with 1 Axes>"
      ]
     },
     "metadata": {},
     "output_type": "display_data"
    }
   ],
   "source": [
    "gdf_europe.plot()\n",
    "geo_air.plot(color = 'r')"
   ]
  },
  {
   "cell_type": "code",
   "execution_count": 40,
   "metadata": {},
   "outputs": [
    {
     "data": {
      "text/plain": [
       "<matplotlib.axes._subplots.AxesSubplot at 0x1258b2cc0>"
      ]
     },
     "execution_count": 40,
     "metadata": {},
     "output_type": "execute_result"
    },
    {
     "data": {
      "image/png": "[encoded data removed]",
      "text/plain": [
       "<Figure size 864x576 with 1 Axes>"
      ]
     },
     "metadata": {},
     "output_type": "display_data"
    }
   ],
   "source": [
    "fig, ax = plt.subplots(figsize=(12, 8))\n",
    "gdf_europe.plot(ax = ax, color = 'gray')\n",
    "geo_air.plot(ax = ax, markersize = 5, color = 'r', alpha = 0.5)\n",
    "## And what are those markers out there? "
   ]
  },
  {
   "cell_type": "code",
   "execution_count": null,
   "metadata": {
    "collapsed": true
   },
   "outputs": [],
   "source": []
  },
  {
   "cell_type": "code",
   "execution_count": 41,
   "metadata": {},
   "outputs": [
    {
     "data": {
      "text/plain": [
       "0"
      ]
     },
     "execution_count": 41,
     "metadata": {},
     "output_type": "execute_result"
    }
   ],
   "source": [
    "geo_air.country.isnull().sum()"
   ]
  },
  {
   "cell_type": "code",
   "execution_count": 42,
   "metadata": {
    "collapsed": true
   },
   "outputs": [],
   "source": [
    "# I have a theory those ocean plots are australia.\n",
    "# But going just to the nift of it -> Look for all coordinates whose latitude value is below 20. "
   ]
  },
  {
   "cell_type": "code",
   "execution_count": 43,
   "metadata": {
    "collapsed": true
   },
   "outputs": [],
   "source": [
    "se_point = geo_air.geometry.values[0]"
   ]
  },
  {
   "cell_type": "code",
   "execution_count": 44,
   "metadata": {},
   "outputs": [
    {
     "data": {
      "text/plain": [
       "55.7"
      ]
     },
     "execution_count": 44,
     "metadata": {},
     "output_type": "execute_result"
    }
   ],
   "source": [
    "se_point.xy[1][0]"
   ]
  },
  {
   "cell_type": "markdown",
   "metadata": {},
   "source": [
    "## Section on outlier points from the plot"
   ]
  },
  {
   "cell_type": "code",
   "execution_count": 45,
   "metadata": {
    "collapsed": true
   },
   "outputs": [],
   "source": [
    "# iterate through all points \n",
    "index_counter = 0\n",
    "index_list = []\n",
    "for point in geo_air.geometry.values:\n",
    "    # Less than a 20 latitude \n",
    "    if point.xy[1][0] < 22:\n",
    "        index_list.append(index_counter)\n",
    "    index_counter += 1\n",
    "    \n",
    "        \n"
   ]
  },
  {
   "cell_type": "code",
   "execution_count": 46,
   "metadata": {},
   "outputs": [
    {
     "data": {
      "text/plain": [
       "1253      POINT (0.00000 0.00000)\n",
       "1254      POINT (0.00000 0.00000)\n",
       "1255      POINT (0.00000 0.00000)\n",
       "1256      POINT (0.00000 0.00000)\n",
       "1257      POINT (0.00000 0.00000)\n",
       "                  ...            \n",
       "2033    POINT (50.68000 14.00000)\n",
       "2034    POINT (50.68000 14.00000)\n",
       "2035    POINT (50.68000 14.00000)\n",
       "2036    POINT (50.68000 14.00000)\n",
       "2037    POINT (50.68000 14.00000)\n",
       "Name: geometry, Length: 141, dtype: geometry"
      ]
     },
     "execution_count": 46,
     "metadata": {},
     "output_type": "execute_result"
    }
   ],
   "source": [
    "geo_air.iloc[index_list].geometry"
   ]
  },
  {
   "cell_type": "code",
   "execution_count": 47,
   "metadata": {
    "collapsed": true
   },
   "outputs": [],
   "source": [
    "weird_points = geo_air.iloc[index_list]"
   ]
  },
  {
   "cell_type": "code",
   "execution_count": 48,
   "metadata": {},
   "outputs": [
    {
     "data": {
      "text/plain": [
       "array(['VALENCIA', 'VAERNES', 'BANSKA', 'BRATISLAVA', 'CESKE', 'HRADEC',\n",
       "       'JASLOVSKE', 'MORAVSKY', 'PRAHA', 'USTI'], dtype=object)"
      ]
     },
     "execution_count": 48,
     "metadata": {},
     "output_type": "execute_result"
    }
   ],
   "source": [
    "weird_points.city.unique()"
   ]
  },
  {
   "cell_type": "code",
   "execution_count": 49,
   "metadata": {},
   "outputs": [
    {
     "data": {
      "text/plain": [
       "<matplotlib.axes._subplots.AxesSubplot at 0x1258c15f8>"
      ]
     },
     "execution_count": 49,
     "metadata": {},
     "output_type": "execute_result"
    },
    {
     "data": {
      "image/png": "[encoded data removed]",
      "text/plain": [
       "<Figure size 864x576 with 1 Axes>"
      ]
     },
     "metadata": {},
     "output_type": "display_data"
    }
   ],
   "source": [
    "fig, ax = plt.subplots(figsize=(12, 8))\n",
    "gdf_europe.plot(ax = ax, color = 'gray')\n",
    "weird_points.plot(ax = ax, markersize = 5, color = 'r', alpha = 0.5)\n",
    "## And what are those markers out there? "
   ]
  },
  {
   "cell_type": "markdown",
   "metadata": {},
   "source": [
    "### Reset lats and longs for these observations"
   ]
  },
  {
   "cell_type": "code",
   "execution_count": 50,
   "metadata": {
    "collapsed": true
   },
   "outputs": [],
   "source": [
    "world_cities = 'SimpleMapsWorldCities/worldcities.csv'"
   ]
  },
  {
   "cell_type": "code",
   "execution_count": 51,
   "metadata": {
    "collapsed": true
   },
   "outputs": [],
   "source": [
    "world_cities = pd.read_csv(world_cities)"
   ]
  },
  {
   "cell_type": "code",
   "execution_count": 52,
   "metadata": {},
   "outputs": [
    {
     "data": {
      "text/html": [
       "<div>\n",
       "<style scoped>\n",
       "    .dataframe tbody tr th:only-of-type {\n",
       "        vertical-align: middle;\n",
       "    }\n",
       "\n",
       "    .dataframe tbody tr th {\n",
       "        vertical-align: top;\n",
       "    }\n",
       "\n",
       "    .dataframe thead th {\n",
       "        text-align: right;\n",
       "    }\n",
       "</style>\n",
       "<table border=\"1\" class=\"dataframe\">\n",
       "  <thead>\n",
       "    <tr style=\"text-align: right;\">\n",
       "      <th></th>\n",
       "      <th>city</th>\n",
       "      <th>city_ascii</th>\n",
       "      <th>lat</th>\n",
       "      <th>lng</th>\n",
       "      <th>country</th>\n",
       "      <th>iso2</th>\n",
       "      <th>iso3</th>\n",
       "      <th>admin_name</th>\n",
       "      <th>capital</th>\n",
       "      <th>population</th>\n",
       "      <th>id</th>\n",
       "    </tr>\n",
       "  </thead>\n",
       "  <tbody>\n",
       "    <tr>\n",
       "      <th>0</th>\n",
       "      <td>Tokyo</td>\n",
       "      <td>Tokyo</td>\n",
       "      <td>35.6850</td>\n",
       "      <td>139.7514</td>\n",
       "      <td>Japan</td>\n",
       "      <td>JP</td>\n",
       "      <td>JPN</td>\n",
       "      <td>Tōkyō</td>\n",
       "      <td>primary</td>\n",
       "      <td>35676000.0</td>\n",
       "      <td>1392685764</td>\n",
       "    </tr>\n",
       "    <tr>\n",
       "      <th>1</th>\n",
       "      <td>New York</td>\n",
       "      <td>New York</td>\n",
       "      <td>40.6943</td>\n",
       "      <td>-73.9249</td>\n",
       "      <td>United States</td>\n",
       "      <td>US</td>\n",
       "      <td>USA</td>\n",
       "      <td>New York</td>\n",
       "      <td>NaN</td>\n",
       "      <td>19354922.0</td>\n",
       "      <td>1840034016</td>\n",
       "    </tr>\n",
       "    <tr>\n",
       "      <th>2</th>\n",
       "      <td>Mexico City</td>\n",
       "      <td>Mexico City</td>\n",
       "      <td>19.4424</td>\n",
       "      <td>-99.1310</td>\n",
       "      <td>Mexico</td>\n",
       "      <td>MX</td>\n",
       "      <td>MEX</td>\n",
       "      <td>Ciudad de México</td>\n",
       "      <td>primary</td>\n",
       "      <td>19028000.0</td>\n",
       "      <td>1484247881</td>\n",
       "    </tr>\n",
       "    <tr>\n",
       "      <th>3</th>\n",
       "      <td>Mumbai</td>\n",
       "      <td>Mumbai</td>\n",
       "      <td>19.0170</td>\n",
       "      <td>72.8570</td>\n",
       "      <td>India</td>\n",
       "      <td>IN</td>\n",
       "      <td>IND</td>\n",
       "      <td>Mahārāshtra</td>\n",
       "      <td>admin</td>\n",
       "      <td>18978000.0</td>\n",
       "      <td>1356226629</td>\n",
       "    </tr>\n",
       "    <tr>\n",
       "      <th>4</th>\n",
       "      <td>São Paulo</td>\n",
       "      <td>Sao Paulo</td>\n",
       "      <td>-23.5587</td>\n",
       "      <td>-46.6250</td>\n",
       "      <td>Brazil</td>\n",
       "      <td>BR</td>\n",
       "      <td>BRA</td>\n",
       "      <td>São Paulo</td>\n",
       "      <td>admin</td>\n",
       "      <td>18845000.0</td>\n",
       "      <td>1076532519</td>\n",
       "    </tr>\n",
       "  </tbody>\n",
       "</table>\n",
       "</div>"
      ],
      "text/plain": [
       "          city   city_ascii      lat       lng        country iso2 iso3  \\\n",
       "0        Tokyo        Tokyo  35.6850  139.7514          Japan   JP  JPN   \n",
       "1     New York     New York  40.6943  -73.9249  United States   US  USA   \n",
       "2  Mexico City  Mexico City  19.4424  -99.1310         Mexico   MX  MEX   \n",
       "3       Mumbai       Mumbai  19.0170   72.8570          India   IN  IND   \n",
       "4    São Paulo    Sao Paulo -23.5587  -46.6250         Brazil   BR  BRA   \n",
       "\n",
       "         admin_name  capital  population          id  \n",
       "0             Tōkyō  primary  35676000.0  1392685764  \n",
       "1          New York      NaN  19354922.0  1840034016  \n",
       "2  Ciudad de México  primary  19028000.0  1484247881  \n",
       "3       Mahārāshtra    admin  18978000.0  1356226629  \n",
       "4         São Paulo    admin  18845000.0  1076532519  "
      ]
     },
     "execution_count": 52,
     "metadata": {},
     "output_type": "execute_result"
    }
   ],
   "source": [
    "world_cities.head()"
   ]
  },
  {
   "cell_type": "code",
   "execution_count": 53,
   "metadata": {
    "collapsed": true
   },
   "outputs": [],
   "source": [
    "cities_reset = weird_points.city.unique()"
   ]
  },
  {
   "cell_type": "code",
   "execution_count": 54,
   "metadata": {
    "collapsed": true
   },
   "outputs": [],
   "source": [
    "indices_cities = []\n",
    "for index in range(len(world_cities)):\n",
    "    if world_cities.city.values[index].upper() in cities_reset:\n",
    "        indices_cities.append(index)"
   ]
  },
  {
   "cell_type": "code",
   "execution_count": 55,
   "metadata": {},
   "outputs": [
    {
     "data": {
      "text/html": [
       "<div>\n",
       "<style scoped>\n",
       "    .dataframe tbody tr th:only-of-type {\n",
       "        vertical-align: middle;\n",
       "    }\n",
       "\n",
       "    .dataframe tbody tr th {\n",
       "        vertical-align: top;\n",
       "    }\n",
       "\n",
       "    .dataframe thead th {\n",
       "        text-align: right;\n",
       "    }\n",
       "</style>\n",
       "<table border=\"1\" class=\"dataframe\">\n",
       "  <thead>\n",
       "    <tr style=\"text-align: right;\">\n",
       "      <th></th>\n",
       "      <th>city</th>\n",
       "      <th>city_ascii</th>\n",
       "      <th>lat</th>\n",
       "      <th>lng</th>\n",
       "      <th>country</th>\n",
       "      <th>iso2</th>\n",
       "      <th>iso3</th>\n",
       "      <th>admin_name</th>\n",
       "      <th>capital</th>\n",
       "      <th>population</th>\n",
       "      <th>id</th>\n",
       "    </tr>\n",
       "  </thead>\n",
       "  <tbody>\n",
       "    <tr>\n",
       "      <th>238</th>\n",
       "      <td>Valencia</td>\n",
       "      <td>Valencia</td>\n",
       "      <td>10.230</td>\n",
       "      <td>-67.980</td>\n",
       "      <td>Venezuela</td>\n",
       "      <td>VE</td>\n",
       "      <td>VEN</td>\n",
       "      <td>Carabobo</td>\n",
       "      <td>admin</td>\n",
       "      <td>1770000.0</td>\n",
       "      <td>1862309871</td>\n",
       "    </tr>\n",
       "    <tr>\n",
       "      <th>532</th>\n",
       "      <td>Bratislava</td>\n",
       "      <td>Bratislava</td>\n",
       "      <td>48.150</td>\n",
       "      <td>17.117</td>\n",
       "      <td>Slovakia</td>\n",
       "      <td>SK</td>\n",
       "      <td>SVK</td>\n",
       "      <td>Bratislavský</td>\n",
       "      <td>primary</td>\n",
       "      <td>423737.0</td>\n",
       "      <td>1703195001</td>\n",
       "    </tr>\n",
       "    <tr>\n",
       "      <th>750</th>\n",
       "      <td>Valencia</td>\n",
       "      <td>Valencia</td>\n",
       "      <td>39.485</td>\n",
       "      <td>-0.400</td>\n",
       "      <td>Spain</td>\n",
       "      <td>ES</td>\n",
       "      <td>ESP</td>\n",
       "      <td>Valencia</td>\n",
       "      <td>admin</td>\n",
       "      <td>808000.0</td>\n",
       "      <td>1724981666</td>\n",
       "    </tr>\n",
       "  </tbody>\n",
       "</table>\n",
       "</div>"
      ],
      "text/plain": [
       "           city  city_ascii     lat     lng    country iso2 iso3  \\\n",
       "238    Valencia    Valencia  10.230 -67.980  Venezuela   VE  VEN   \n",
       "532  Bratislava  Bratislava  48.150  17.117   Slovakia   SK  SVK   \n",
       "750    Valencia    Valencia  39.485  -0.400      Spain   ES  ESP   \n",
       "\n",
       "       admin_name  capital  population          id  \n",
       "238      Carabobo    admin   1770000.0  1862309871  \n",
       "532  Bratislavský  primary    423737.0  1703195001  \n",
       "750      Valencia    admin    808000.0  1724981666  "
      ]
     },
     "execution_count": 55,
     "metadata": {},
     "output_type": "execute_result"
    }
   ],
   "source": [
    "world_cities.iloc[indices_cities]"
   ]
  },
  {
   "cell_type": "code",
   "execution_count": 56,
   "metadata": {},
   "outputs": [
    {
     "data": {
      "text/plain": [
       "'TOKYO'"
      ]
     },
     "execution_count": 56,
     "metadata": {},
     "output_type": "execute_result"
    }
   ],
   "source": [
    "world_cities.city.values[0].upper()"
   ]
  },
  {
   "cell_type": "code",
   "execution_count": 57,
   "metadata": {},
   "outputs": [
    {
     "data": {
      "text/plain": [
       "array(['VALENCIA', 'VAERNES', 'BANSKA', 'BRATISLAVA', 'CESKE', 'HRADEC',\n",
       "       'JASLOVSKE', 'MORAVSKY', 'PRAHA', 'USTI'], dtype=object)"
      ]
     },
     "execution_count": 57,
     "metadata": {},
     "output_type": "execute_result"
    }
   ],
   "source": [
    "cities_reset"
   ]
  },
  {
   "cell_type": "code",
   "execution_count": 58,
   "metadata": {},
   "outputs": [
    {
     "data": {
      "text/plain": [
       "'VALENCIA'"
      ]
     },
     "execution_count": 58,
     "metadata": {},
     "output_type": "execute_result"
    }
   ],
   "source": [
    "str('valencia').upper()"
   ]
  },
  {
   "cell_type": "code",
   "execution_count": 59,
   "metadata": {},
   "outputs": [
    {
     "data": {
      "text/plain": [
       "0        JP\n",
       "1        US\n",
       "2        MX\n",
       "3        IN\n",
       "4        BR\n",
       "         ..\n",
       "15488    GL\n",
       "15489    UA\n",
       "15490    RU\n",
       "15491    RU\n",
       "15492    CA\n",
       "Name: iso2, Length: 15493, dtype: object"
      ]
     },
     "execution_count": 59,
     "metadata": {},
     "output_type": "execute_result"
    }
   ],
   "source": [
    "world_cities.iso2"
   ]
  },
  {
   "cell_type": "code",
   "execution_count": null,
   "metadata": {
    "collapsed": true
   },
   "outputs": [],
   "source": []
  },
  {
   "cell_type": "code",
   "execution_count": null,
   "metadata": {
    "collapsed": true
   },
   "outputs": [],
   "source": []
  },
  {
   "cell_type": "code",
   "execution_count": 60,
   "metadata": {
    "collapsed": true
   },
   "outputs": [],
   "source": [
    "geo_low_points = geo_air.iloc[index_list]"
   ]
  },
  {
   "cell_type": "code",
   "execution_count": 61,
   "metadata": {},
   "outputs": [
    {
     "data": {
      "text/html": [
       "<div>\n",
       "<style scoped>\n",
       "    .dataframe tbody tr th:only-of-type {\n",
       "        vertical-align: middle;\n",
       "    }\n",
       "\n",
       "    .dataframe tbody tr th {\n",
       "        vertical-align: top;\n",
       "    }\n",
       "\n",
       "    .dataframe thead th {\n",
       "        text-align: right;\n",
       "    }\n",
       "</style>\n",
       "<table border=\"1\" class=\"dataframe\">\n",
       "  <thead>\n",
       "    <tr style=\"text-align: right;\">\n",
       "      <th></th>\n",
       "      <th>Unnamed: 0</th>\n",
       "      <th>country</th>\n",
       "      <th>Code</th>\n",
       "      <th>city</th>\n",
       "      <th>longitude</th>\n",
       "      <th>latitude</th>\n",
       "      <th>Date</th>\n",
       "      <th>endsampling</th>\n",
       "      <th>duration</th>\n",
       "      <th>i131</th>\n",
       "      <th>cs134</th>\n",
       "      <th>cs137</th>\n",
       "      <th>geometry</th>\n",
       "    </tr>\n",
       "  </thead>\n",
       "  <tbody>\n",
       "    <tr>\n",
       "      <th>1253</th>\n",
       "      <td>1253</td>\n",
       "      <td>ES</td>\n",
       "      <td>11</td>\n",
       "      <td>VALENCIA</td>\n",
       "      <td>0.00</td>\n",
       "      <td>0.0</td>\n",
       "      <td>1986-05-01</td>\n",
       "      <td>0</td>\n",
       "      <td>24.0</td>\n",
       "      <td>0.000</td>\n",
       "      <td>0.0000</td>\n",
       "      <td>0.0470</td>\n",
       "      <td>POINT (0.00000 0.00000)</td>\n",
       "    </tr>\n",
       "    <tr>\n",
       "      <th>1254</th>\n",
       "      <td>1254</td>\n",
       "      <td>ES</td>\n",
       "      <td>11</td>\n",
       "      <td>VALENCIA</td>\n",
       "      <td>0.00</td>\n",
       "      <td>0.0</td>\n",
       "      <td>1986-05-02</td>\n",
       "      <td>0</td>\n",
       "      <td>24.0</td>\n",
       "      <td>0.000</td>\n",
       "      <td>0.0054</td>\n",
       "      <td>0.0351</td>\n",
       "      <td>POINT (0.00000 0.00000)</td>\n",
       "    </tr>\n",
       "    <tr>\n",
       "      <th>1255</th>\n",
       "      <td>1255</td>\n",
       "      <td>ES</td>\n",
       "      <td>11</td>\n",
       "      <td>VALENCIA</td>\n",
       "      <td>0.00</td>\n",
       "      <td>0.0</td>\n",
       "      <td>1986-05-03</td>\n",
       "      <td>0</td>\n",
       "      <td>24.0</td>\n",
       "      <td>0.000</td>\n",
       "      <td>0.0410</td>\n",
       "      <td>0.0995</td>\n",
       "      <td>POINT (0.00000 0.00000)</td>\n",
       "    </tr>\n",
       "    <tr>\n",
       "      <th>1256</th>\n",
       "      <td>1256</td>\n",
       "      <td>ES</td>\n",
       "      <td>11</td>\n",
       "      <td>VALENCIA</td>\n",
       "      <td>0.00</td>\n",
       "      <td>0.0</td>\n",
       "      <td>1986-05-04</td>\n",
       "      <td>0</td>\n",
       "      <td>24.0</td>\n",
       "      <td>0.000</td>\n",
       "      <td>0.0000</td>\n",
       "      <td>0.1082</td>\n",
       "      <td>POINT (0.00000 0.00000)</td>\n",
       "    </tr>\n",
       "    <tr>\n",
       "      <th>1257</th>\n",
       "      <td>1257</td>\n",
       "      <td>ES</td>\n",
       "      <td>11</td>\n",
       "      <td>VALENCIA</td>\n",
       "      <td>0.00</td>\n",
       "      <td>0.0</td>\n",
       "      <td>1986-05-05</td>\n",
       "      <td>0</td>\n",
       "      <td>24.0</td>\n",
       "      <td>0.000</td>\n",
       "      <td>0.0000</td>\n",
       "      <td>NaN</td>\n",
       "      <td>POINT (0.00000 0.00000)</td>\n",
       "    </tr>\n",
       "    <tr>\n",
       "      <th>...</th>\n",
       "      <td>...</td>\n",
       "      <td>...</td>\n",
       "      <td>...</td>\n",
       "      <td>...</td>\n",
       "      <td>...</td>\n",
       "      <td>...</td>\n",
       "      <td>...</td>\n",
       "      <td>...</td>\n",
       "      <td>...</td>\n",
       "      <td>...</td>\n",
       "      <td>...</td>\n",
       "      <td>...</td>\n",
       "      <td>...</td>\n",
       "    </tr>\n",
       "    <tr>\n",
       "      <th>2033</th>\n",
       "      <td>2033</td>\n",
       "      <td>CZ</td>\n",
       "      <td>23</td>\n",
       "      <td>USTI</td>\n",
       "      <td>50.68</td>\n",
       "      <td>14.0</td>\n",
       "      <td>1986-05-01</td>\n",
       "      <td>5</td>\n",
       "      <td>24.0</td>\n",
       "      <td>5.240</td>\n",
       "      <td>1.4000</td>\n",
       "      <td>NaN</td>\n",
       "      <td>POINT (50.68000 14.00000)</td>\n",
       "    </tr>\n",
       "    <tr>\n",
       "      <th>2034</th>\n",
       "      <td>2034</td>\n",
       "      <td>CZ</td>\n",
       "      <td>23</td>\n",
       "      <td>USTI</td>\n",
       "      <td>50.68</td>\n",
       "      <td>14.0</td>\n",
       "      <td>1986-05-02</td>\n",
       "      <td>5</td>\n",
       "      <td>24.0</td>\n",
       "      <td>4.810</td>\n",
       "      <td>1.4300</td>\n",
       "      <td>NaN</td>\n",
       "      <td>POINT (50.68000 14.00000)</td>\n",
       "    </tr>\n",
       "    <tr>\n",
       "      <th>2035</th>\n",
       "      <td>2035</td>\n",
       "      <td>CZ</td>\n",
       "      <td>23</td>\n",
       "      <td>USTI</td>\n",
       "      <td>50.68</td>\n",
       "      <td>14.0</td>\n",
       "      <td>1986-05-03</td>\n",
       "      <td>5</td>\n",
       "      <td>24.0</td>\n",
       "      <td>0.196</td>\n",
       "      <td>0.0130</td>\n",
       "      <td>NaN</td>\n",
       "      <td>POINT (50.68000 14.00000)</td>\n",
       "    </tr>\n",
       "    <tr>\n",
       "      <th>2036</th>\n",
       "      <td>2036</td>\n",
       "      <td>CZ</td>\n",
       "      <td>23</td>\n",
       "      <td>USTI</td>\n",
       "      <td>50.68</td>\n",
       "      <td>14.0</td>\n",
       "      <td>1986-05-04</td>\n",
       "      <td>5</td>\n",
       "      <td>24.0</td>\n",
       "      <td>1.300</td>\n",
       "      <td>0.5020</td>\n",
       "      <td>NaN</td>\n",
       "      <td>POINT (50.68000 14.00000)</td>\n",
       "    </tr>\n",
       "    <tr>\n",
       "      <th>2037</th>\n",
       "      <td>2037</td>\n",
       "      <td>CZ</td>\n",
       "      <td>23</td>\n",
       "      <td>USTI</td>\n",
       "      <td>50.68</td>\n",
       "      <td>14.0</td>\n",
       "      <td>1986-05-05</td>\n",
       "      <td>5</td>\n",
       "      <td>24.0</td>\n",
       "      <td>1.320</td>\n",
       "      <td>0.5600</td>\n",
       "      <td>NaN</td>\n",
       "      <td>POINT (50.68000 14.00000)</td>\n",
       "    </tr>\n",
       "  </tbody>\n",
       "</table>\n",
       "<p>141 rows × 13 columns</p>\n",
       "</div>"
      ],
      "text/plain": [
       "      Unnamed: 0 country  Code      city  longitude  latitude        Date  \\\n",
       "1253        1253      ES    11  VALENCIA       0.00       0.0  1986-05-01   \n",
       "1254        1254      ES    11  VALENCIA       0.00       0.0  1986-05-02   \n",
       "1255        1255      ES    11  VALENCIA       0.00       0.0  1986-05-03   \n",
       "1256        1256      ES    11  VALENCIA       0.00       0.0  1986-05-04   \n",
       "1257        1257      ES    11  VALENCIA       0.00       0.0  1986-05-05   \n",
       "...          ...     ...   ...       ...        ...       ...         ...   \n",
       "2033        2033      CZ    23      USTI      50.68      14.0  1986-05-01   \n",
       "2034        2034      CZ    23      USTI      50.68      14.0  1986-05-02   \n",
       "2035        2035      CZ    23      USTI      50.68      14.0  1986-05-03   \n",
       "2036        2036      CZ    23      USTI      50.68      14.0  1986-05-04   \n",
       "2037        2037      CZ    23      USTI      50.68      14.0  1986-05-05   \n",
       "\n",
       "      endsampling  duration   i131   cs134   cs137                   geometry  \n",
       "1253            0      24.0  0.000  0.0000  0.0470    POINT (0.00000 0.00000)  \n",
       "1254            0      24.0  0.000  0.0054  0.0351    POINT (0.00000 0.00000)  \n",
       "1255            0      24.0  0.000  0.0410  0.0995    POINT (0.00000 0.00000)  \n",
       "1256            0      24.0  0.000  0.0000  0.1082    POINT (0.00000 0.00000)  \n",
       "1257            0      24.0  0.000  0.0000     NaN    POINT (0.00000 0.00000)  \n",
       "...           ...       ...    ...     ...     ...                        ...  \n",
       "2033            5      24.0  5.240  1.4000     NaN  POINT (50.68000 14.00000)  \n",
       "2034            5      24.0  4.810  1.4300     NaN  POINT (50.68000 14.00000)  \n",
       "2035            5      24.0  0.196  0.0130     NaN  POINT (50.68000 14.00000)  \n",
       "2036            5      24.0  1.300  0.5020     NaN  POINT (50.68000 14.00000)  \n",
       "2037            5      24.0  1.320  0.5600     NaN  POINT (50.68000 14.00000)  \n",
       "\n",
       "[141 rows x 13 columns]"
      ]
     },
     "execution_count": 61,
     "metadata": {},
     "output_type": "execute_result"
    }
   ],
   "source": [
    "geo_low_points"
   ]
  },
  {
   "cell_type": "code",
   "execution_count": null,
   "metadata": {
    "collapsed": true
   },
   "outputs": [],
   "source": []
  },
  {
   "cell_type": "code",
   "execution_count": null,
   "metadata": {
    "collapsed": true
   },
   "outputs": [],
   "source": []
  },
  {
   "cell_type": "code",
   "execution_count": null,
   "metadata": {
    "collapsed": true
   },
   "outputs": [],
   "source": []
  },
  {
   "cell_type": "code",
   "execution_count": null,
   "metadata": {
    "collapsed": true
   },
   "outputs": [],
   "source": []
  },
  {
   "cell_type": "code",
   "execution_count": 62,
   "metadata": {},
   "outputs": [
    {
     "data": {
      "text/plain": [
       "city\n",
       "BANSKA         6\n",
       "BRATISLAVA    10\n",
       "CESKE         12\n",
       "HRADEC        11\n",
       "JASLOVSKE     11\n",
       "MORAVSKY      13\n",
       "PRAHA         39\n",
       "USTI           5\n",
       "VAERNES        8\n",
       "VALENCIA      26\n",
       "Name: country, dtype: int64"
      ]
     },
     "execution_count": 62,
     "metadata": {},
     "output_type": "execute_result"
    }
   ],
   "source": [
    "geo_low_points['country'].groupby([geo_low_points['city']]).count()"
   ]
  },
  {
   "cell_type": "code",
   "execution_count": 63,
   "metadata": {},
   "outputs": [
    {
     "data": {
      "text/html": [
       "<div>\n",
       "<style scoped>\n",
       "    .dataframe tbody tr th:only-of-type {\n",
       "        vertical-align: middle;\n",
       "    }\n",
       "\n",
       "    .dataframe tbody tr th {\n",
       "        vertical-align: top;\n",
       "    }\n",
       "\n",
       "    .dataframe thead th {\n",
       "        text-align: right;\n",
       "    }\n",
       "</style>\n",
       "<table border=\"1\" class=\"dataframe\">\n",
       "  <thead>\n",
       "    <tr style=\"text-align: right;\">\n",
       "      <th></th>\n",
       "      <th>count</th>\n",
       "      <th>unique</th>\n",
       "      <th>top</th>\n",
       "      <th>freq</th>\n",
       "    </tr>\n",
       "    <tr>\n",
       "      <th>city</th>\n",
       "      <th></th>\n",
       "      <th></th>\n",
       "      <th></th>\n",
       "      <th></th>\n",
       "    </tr>\n",
       "  </thead>\n",
       "  <tbody>\n",
       "    <tr>\n",
       "      <th>BANSKA</th>\n",
       "      <td>6</td>\n",
       "      <td>1</td>\n",
       "      <td>CZ</td>\n",
       "      <td>6</td>\n",
       "    </tr>\n",
       "    <tr>\n",
       "      <th>BRATISLAVA</th>\n",
       "      <td>10</td>\n",
       "      <td>1</td>\n",
       "      <td>CZ</td>\n",
       "      <td>10</td>\n",
       "    </tr>\n",
       "    <tr>\n",
       "      <th>CESKE</th>\n",
       "      <td>12</td>\n",
       "      <td>1</td>\n",
       "      <td>CZ</td>\n",
       "      <td>12</td>\n",
       "    </tr>\n",
       "    <tr>\n",
       "      <th>HRADEC</th>\n",
       "      <td>11</td>\n",
       "      <td>1</td>\n",
       "      <td>CZ</td>\n",
       "      <td>11</td>\n",
       "    </tr>\n",
       "    <tr>\n",
       "      <th>JASLOVSKE</th>\n",
       "      <td>11</td>\n",
       "      <td>1</td>\n",
       "      <td>CZ</td>\n",
       "      <td>11</td>\n",
       "    </tr>\n",
       "    <tr>\n",
       "      <th>MORAVSKY</th>\n",
       "      <td>13</td>\n",
       "      <td>1</td>\n",
       "      <td>CZ</td>\n",
       "      <td>13</td>\n",
       "    </tr>\n",
       "    <tr>\n",
       "      <th>PRAHA</th>\n",
       "      <td>39</td>\n",
       "      <td>1</td>\n",
       "      <td>CZ</td>\n",
       "      <td>39</td>\n",
       "    </tr>\n",
       "    <tr>\n",
       "      <th>USTI</th>\n",
       "      <td>5</td>\n",
       "      <td>1</td>\n",
       "      <td>CZ</td>\n",
       "      <td>5</td>\n",
       "    </tr>\n",
       "    <tr>\n",
       "      <th>VAERNES</th>\n",
       "      <td>8</td>\n",
       "      <td>1</td>\n",
       "      <td>NO</td>\n",
       "      <td>8</td>\n",
       "    </tr>\n",
       "    <tr>\n",
       "      <th>VALENCIA</th>\n",
       "      <td>26</td>\n",
       "      <td>1</td>\n",
       "      <td>ES</td>\n",
       "      <td>26</td>\n",
       "    </tr>\n",
       "  </tbody>\n",
       "</table>\n",
       "</div>"
      ],
      "text/plain": [
       "           count unique top freq\n",
       "city                            \n",
       "BANSKA         6      1  CZ    6\n",
       "BRATISLAVA    10      1  CZ   10\n",
       "CESKE         12      1  CZ   12\n",
       "HRADEC        11      1  CZ   11\n",
       "JASLOVSKE     11      1  CZ   11\n",
       "MORAVSKY      13      1  CZ   13\n",
       "PRAHA         39      1  CZ   39\n",
       "USTI           5      1  CZ    5\n",
       "VAERNES        8      1  NO    8\n",
       "VALENCIA      26      1  ES   26"
      ]
     },
     "execution_count": 63,
     "metadata": {},
     "output_type": "execute_result"
    }
   ],
   "source": [
    "geo_low_points['country'].groupby([geo_low_points['city']]).describe()"
   ]
  },
  {
   "cell_type": "code",
   "execution_count": 64,
   "metadata": {
    "collapsed": true
   },
   "outputs": [],
   "source": [
    "# First coordinate will be long\n",
    "lats_longs = {'VAERNES': (10.327740, 59.199860), 'VALENCIA': (-0.376288,39.469906),\n",
    "             'BANSKA': (13.632010, 50.500030), 'BRATISLAVA': (15.257400, 50.539560), \n",
    "             'CESKE': (14.475020, 48.973910), 'HRADEC': (15.832630, 50.209430), \n",
    "             'JASLOVSKE': (14.420460, 50.087810), 'MORAVSKY': (16.312850, 49.048970), \n",
    "             'PRAHA': (14.420460, 50.087811)}"
   ]
  },
  {
   "cell_type": "code",
   "execution_count": 65,
   "metadata": {},
   "outputs": [
    {
     "data": {
      "text/plain": [
       "{'BANSKA': (13.63201, 50.50003),\n",
       " 'BRATISLAVA': (15.2574, 50.53956),\n",
       " 'CESKE': (14.47502, 48.97391),\n",
       " 'HRADEC': (15.83263, 50.20943),\n",
       " 'JASLOVSKE': (14.42046, 50.08781),\n",
       " 'MORAVSKY': (16.31285, 49.04897),\n",
       " 'PRAHA': (14.42046, 50.087811),\n",
       " 'VAERNES': (10.32774, 59.19986),\n",
       " 'VALENCIA': (-0.376288, 39.469906)}"
      ]
     },
     "execution_count": 65,
     "metadata": {},
     "output_type": "execute_result"
    }
   ],
   "source": [
    "lats_longs"
   ]
  },
  {
   "cell_type": "code",
   "execution_count": 66,
   "metadata": {},
   "outputs": [
    {
     "data": {
      "text/plain": [
       "1716    0.0\n",
       "1717    0.0\n",
       "1718    0.0\n",
       "1719    0.0\n",
       "1720    0.0\n",
       "1721    0.0\n",
       "1722    0.0\n",
       "1723    0.0\n",
       "Name: latitude, dtype: float64"
      ]
     },
     "execution_count": 66,
     "metadata": {},
     "output_type": "execute_result"
    }
   ],
   "source": [
    "geo_low_points.loc[geo_low_points.city == 'VAERNES', 'latitude']"
   ]
  },
  {
   "cell_type": "code",
   "execution_count": 67,
   "metadata": {},
   "outputs": [
    {
     "name": "stderr",
     "output_type": "stream",
     "text": [
      "/Users/Leonard/miniconda3/lib/python3.6/site-packages/pandas/core/indexing.py:965: SettingWithCopyWarning: \n",
      "A value is trying to be set on a copy of a slice from a DataFrame.\n",
      "Try using .loc[row_indexer,col_indexer] = value instead\n",
      "\n",
      "See the caveats in the documentation: https://pandas.pydata.org/pandas-docs/stable/user_guide/indexing.html#returning-a-view-versus-a-copy\n",
      "  self.obj[item] = s\n"
     ]
    }
   ],
   "source": [
    "geo_low_points.loc[geo_low_points.city == 'VAERNES', 'latitude'] = 59.199860"
   ]
  },
  {
   "cell_type": "code",
   "execution_count": 68,
   "metadata": {},
   "outputs": [
    {
     "name": "stderr",
     "output_type": "stream",
     "text": [
      "/Users/Leonard/miniconda3/lib/python3.6/site-packages/pandas/core/indexing.py:965: SettingWithCopyWarning: \n",
      "A value is trying to be set on a copy of a slice from a DataFrame.\n",
      "Try using .loc[row_indexer,col_indexer] = value instead\n",
      "\n",
      "See the caveats in the documentation: https://pandas.pydata.org/pandas-docs/stable/user_guide/indexing.html#returning-a-view-versus-a-copy\n",
      "  self.obj[item] = s\n"
     ]
    }
   ],
   "source": [
    "geo_low_points.loc[geo_low_points.city == 'VAERNES', 'longitude'] = 10.327740"
   ]
  },
  {
   "cell_type": "code",
   "execution_count": 69,
   "metadata": {},
   "outputs": [
    {
     "data": {
      "text/html": [
       "<div>\n",
       "<style scoped>\n",
       "    .dataframe tbody tr th:only-of-type {\n",
       "        vertical-align: middle;\n",
       "    }\n",
       "\n",
       "    .dataframe tbody tr th {\n",
       "        vertical-align: top;\n",
       "    }\n",
       "\n",
       "    .dataframe thead th {\n",
       "        text-align: right;\n",
       "    }\n",
       "</style>\n",
       "<table border=\"1\" class=\"dataframe\">\n",
       "  <thead>\n",
       "    <tr style=\"text-align: right;\">\n",
       "      <th></th>\n",
       "      <th>Unnamed: 0</th>\n",
       "      <th>country</th>\n",
       "      <th>Code</th>\n",
       "      <th>city</th>\n",
       "      <th>longitude</th>\n",
       "      <th>latitude</th>\n",
       "      <th>Date</th>\n",
       "      <th>endsampling</th>\n",
       "      <th>duration</th>\n",
       "      <th>i131</th>\n",
       "      <th>cs134</th>\n",
       "      <th>cs137</th>\n",
       "      <th>geometry</th>\n",
       "    </tr>\n",
       "  </thead>\n",
       "  <tbody>\n",
       "    <tr>\n",
       "      <th>1716</th>\n",
       "      <td>1716</td>\n",
       "      <td>NO</td>\n",
       "      <td>21</td>\n",
       "      <td>VAERNES</td>\n",
       "      <td>10.32774</td>\n",
       "      <td>59.19986</td>\n",
       "      <td>1986-04-28</td>\n",
       "      <td>18</td>\n",
       "      <td>9.0</td>\n",
       "      <td>7.00</td>\n",
       "      <td>0.0</td>\n",
       "      <td>2.0000</td>\n",
       "      <td>POINT (0.00000 0.00000)</td>\n",
       "    </tr>\n",
       "    <tr>\n",
       "      <th>1717</th>\n",
       "      <td>1717</td>\n",
       "      <td>NO</td>\n",
       "      <td>21</td>\n",
       "      <td>VAERNES</td>\n",
       "      <td>10.32774</td>\n",
       "      <td>59.19986</td>\n",
       "      <td>1986-04-29</td>\n",
       "      <td>9</td>\n",
       "      <td>15.0</td>\n",
       "      <td>9.00</td>\n",
       "      <td>0.0</td>\n",
       "      <td>3.0000</td>\n",
       "      <td>POINT (0.00000 0.00000)</td>\n",
       "    </tr>\n",
       "    <tr>\n",
       "      <th>1718</th>\n",
       "      <td>1718</td>\n",
       "      <td>NO</td>\n",
       "      <td>21</td>\n",
       "      <td>VAERNES</td>\n",
       "      <td>10.32774</td>\n",
       "      <td>59.19986</td>\n",
       "      <td>1986-04-30</td>\n",
       "      <td>9</td>\n",
       "      <td>24.0</td>\n",
       "      <td>5.00</td>\n",
       "      <td>0.0</td>\n",
       "      <td>2.0000</td>\n",
       "      <td>POINT (0.00000 0.00000)</td>\n",
       "    </tr>\n",
       "    <tr>\n",
       "      <th>1719</th>\n",
       "      <td>1719</td>\n",
       "      <td>NO</td>\n",
       "      <td>21</td>\n",
       "      <td>VAERNES</td>\n",
       "      <td>10.32774</td>\n",
       "      <td>59.19986</td>\n",
       "      <td>1986-05-02</td>\n",
       "      <td>9</td>\n",
       "      <td>48.0</td>\n",
       "      <td>0.30</td>\n",
       "      <td>0.0</td>\n",
       "      <td>0.1100</td>\n",
       "      <td>POINT (0.00000 0.00000)</td>\n",
       "    </tr>\n",
       "    <tr>\n",
       "      <th>1720</th>\n",
       "      <td>1720</td>\n",
       "      <td>NO</td>\n",
       "      <td>21</td>\n",
       "      <td>VAERNES</td>\n",
       "      <td>10.32774</td>\n",
       "      <td>59.19986</td>\n",
       "      <td>1986-05-05</td>\n",
       "      <td>9</td>\n",
       "      <td>72.0</td>\n",
       "      <td>0.08</td>\n",
       "      <td>0.0</td>\n",
       "      <td>0.0011</td>\n",
       "      <td>POINT (0.00000 0.00000)</td>\n",
       "    </tr>\n",
       "    <tr>\n",
       "      <th>1721</th>\n",
       "      <td>1721</td>\n",
       "      <td>NO</td>\n",
       "      <td>21</td>\n",
       "      <td>VAERNES</td>\n",
       "      <td>10.32774</td>\n",
       "      <td>59.19986</td>\n",
       "      <td>1986-05-07</td>\n",
       "      <td>9</td>\n",
       "      <td>48.0</td>\n",
       "      <td>0.20</td>\n",
       "      <td>0.0</td>\n",
       "      <td>0.0400</td>\n",
       "      <td>POINT (0.00000 0.00000)</td>\n",
       "    </tr>\n",
       "    <tr>\n",
       "      <th>1722</th>\n",
       "      <td>1722</td>\n",
       "      <td>NO</td>\n",
       "      <td>21</td>\n",
       "      <td>VAERNES</td>\n",
       "      <td>10.32774</td>\n",
       "      <td>59.19986</td>\n",
       "      <td>1986-05-09</td>\n",
       "      <td>9</td>\n",
       "      <td>48.0</td>\n",
       "      <td>0.10</td>\n",
       "      <td>0.0</td>\n",
       "      <td>0.0250</td>\n",
       "      <td>POINT (0.00000 0.00000)</td>\n",
       "    </tr>\n",
       "    <tr>\n",
       "      <th>1723</th>\n",
       "      <td>1723</td>\n",
       "      <td>NO</td>\n",
       "      <td>21</td>\n",
       "      <td>VAERNES</td>\n",
       "      <td>10.32774</td>\n",
       "      <td>59.19986</td>\n",
       "      <td>1986-05-12</td>\n",
       "      <td>9</td>\n",
       "      <td>72.0</td>\n",
       "      <td>0.01</td>\n",
       "      <td>0.0</td>\n",
       "      <td>0.0015</td>\n",
       "      <td>POINT (0.00000 0.00000)</td>\n",
       "    </tr>\n",
       "  </tbody>\n",
       "</table>\n",
       "</div>"
      ],
      "text/plain": [
       "      Unnamed: 0 country  Code     city  longitude  latitude        Date  \\\n",
       "1716        1716      NO    21  VAERNES   10.32774  59.19986  1986-04-28   \n",
       "1717        1717      NO    21  VAERNES   10.32774  59.19986  1986-04-29   \n",
       "1718        1718      NO    21  VAERNES   10.32774  59.19986  1986-04-30   \n",
       "1719        1719      NO    21  VAERNES   10.32774  59.19986  1986-05-02   \n",
       "1720        1720      NO    21  VAERNES   10.32774  59.19986  1986-05-05   \n",
       "1721        1721      NO    21  VAERNES   10.32774  59.19986  1986-05-07   \n",
       "1722        1722      NO    21  VAERNES   10.32774  59.19986  1986-05-09   \n",
       "1723        1723      NO    21  VAERNES   10.32774  59.19986  1986-05-12   \n",
       "\n",
       "      endsampling  duration  i131  cs134   cs137                 geometry  \n",
       "1716           18       9.0  7.00    0.0  2.0000  POINT (0.00000 0.00000)  \n",
       "1717            9      15.0  9.00    0.0  3.0000  POINT (0.00000 0.00000)  \n",
       "1718            9      24.0  5.00    0.0  2.0000  POINT (0.00000 0.00000)  \n",
       "1719            9      48.0  0.30    0.0  0.1100  POINT (0.00000 0.00000)  \n",
       "1720            9      72.0  0.08    0.0  0.0011  POINT (0.00000 0.00000)  \n",
       "1721            9      48.0  0.20    0.0  0.0400  POINT (0.00000 0.00000)  \n",
       "1722            9      48.0  0.10    0.0  0.0250  POINT (0.00000 0.00000)  \n",
       "1723            9      72.0  0.01    0.0  0.0015  POINT (0.00000 0.00000)  "
      ]
     },
     "execution_count": 69,
     "metadata": {},
     "output_type": "execute_result"
    }
   ],
   "source": [
    "geo_low_points.loc[geo_low_points.city == 'VAERNES']"
   ]
  },
  {
   "cell_type": "code",
   "execution_count": 70,
   "metadata": {},
   "outputs": [
    {
     "data": {
      "text/plain": [
       "26"
      ]
     },
     "execution_count": 70,
     "metadata": {},
     "output_type": "execute_result"
    }
   ],
   "source": [
    "len(geo_low_points.loc[geo_low_points.country == 'ES'])"
   ]
  },
  {
   "cell_type": "code",
   "execution_count": 71,
   "metadata": {},
   "outputs": [
    {
     "name": "stderr",
     "output_type": "stream",
     "text": [
      "/Users/Leonard/miniconda3/lib/python3.6/site-packages/pandas/core/indexing.py:965: SettingWithCopyWarning: \n",
      "A value is trying to be set on a copy of a slice from a DataFrame.\n",
      "Try using .loc[row_indexer,col_indexer] = value instead\n",
      "\n",
      "See the caveats in the documentation: https://pandas.pydata.org/pandas-docs/stable/user_guide/indexing.html#returning-a-view-versus-a-copy\n",
      "  self.obj[item] = s\n"
     ]
    }
   ],
   "source": [
    "geo_low_points.loc[geo_low_points.city == 'VALENCIA', 'longitude'] = -0.376288 \n",
    "geo_low_points.loc[geo_low_points.city == 'VALENCIA', 'latitude'] = 39.469906"
   ]
  },
  {
   "cell_type": "code",
   "execution_count": 72,
   "metadata": {},
   "outputs": [
    {
     "data": {
      "text/html": [
       "<div>\n",
       "<style scoped>\n",
       "    .dataframe tbody tr th:only-of-type {\n",
       "        vertical-align: middle;\n",
       "    }\n",
       "\n",
       "    .dataframe tbody tr th {\n",
       "        vertical-align: top;\n",
       "    }\n",
       "\n",
       "    .dataframe thead th {\n",
       "        text-align: right;\n",
       "    }\n",
       "</style>\n",
       "<table border=\"1\" class=\"dataframe\">\n",
       "  <thead>\n",
       "    <tr style=\"text-align: right;\">\n",
       "      <th></th>\n",
       "      <th>Unnamed: 0</th>\n",
       "      <th>country</th>\n",
       "      <th>Code</th>\n",
       "      <th>city</th>\n",
       "      <th>longitude</th>\n",
       "      <th>latitude</th>\n",
       "      <th>Date</th>\n",
       "      <th>endsampling</th>\n",
       "      <th>duration</th>\n",
       "      <th>i131</th>\n",
       "      <th>cs134</th>\n",
       "      <th>cs137</th>\n",
       "      <th>geometry</th>\n",
       "    </tr>\n",
       "  </thead>\n",
       "  <tbody>\n",
       "    <tr>\n",
       "      <th>1253</th>\n",
       "      <td>1253</td>\n",
       "      <td>ES</td>\n",
       "      <td>11</td>\n",
       "      <td>VALENCIA</td>\n",
       "      <td>-0.376288</td>\n",
       "      <td>39.469906</td>\n",
       "      <td>1986-05-01</td>\n",
       "      <td>0</td>\n",
       "      <td>24.0</td>\n",
       "      <td>0.0</td>\n",
       "      <td>0.0000</td>\n",
       "      <td>0.0470</td>\n",
       "      <td>POINT (0.00000 0.00000)</td>\n",
       "    </tr>\n",
       "    <tr>\n",
       "      <th>1254</th>\n",
       "      <td>1254</td>\n",
       "      <td>ES</td>\n",
       "      <td>11</td>\n",
       "      <td>VALENCIA</td>\n",
       "      <td>-0.376288</td>\n",
       "      <td>39.469906</td>\n",
       "      <td>1986-05-02</td>\n",
       "      <td>0</td>\n",
       "      <td>24.0</td>\n",
       "      <td>0.0</td>\n",
       "      <td>0.0054</td>\n",
       "      <td>0.0351</td>\n",
       "      <td>POINT (0.00000 0.00000)</td>\n",
       "    </tr>\n",
       "    <tr>\n",
       "      <th>1255</th>\n",
       "      <td>1255</td>\n",
       "      <td>ES</td>\n",
       "      <td>11</td>\n",
       "      <td>VALENCIA</td>\n",
       "      <td>-0.376288</td>\n",
       "      <td>39.469906</td>\n",
       "      <td>1986-05-03</td>\n",
       "      <td>0</td>\n",
       "      <td>24.0</td>\n",
       "      <td>0.0</td>\n",
       "      <td>0.0410</td>\n",
       "      <td>0.0995</td>\n",
       "      <td>POINT (0.00000 0.00000)</td>\n",
       "    </tr>\n",
       "    <tr>\n",
       "      <th>1256</th>\n",
       "      <td>1256</td>\n",
       "      <td>ES</td>\n",
       "      <td>11</td>\n",
       "      <td>VALENCIA</td>\n",
       "      <td>-0.376288</td>\n",
       "      <td>39.469906</td>\n",
       "      <td>1986-05-04</td>\n",
       "      <td>0</td>\n",
       "      <td>24.0</td>\n",
       "      <td>0.0</td>\n",
       "      <td>0.0000</td>\n",
       "      <td>0.1082</td>\n",
       "      <td>POINT (0.00000 0.00000)</td>\n",
       "    </tr>\n",
       "    <tr>\n",
       "      <th>1257</th>\n",
       "      <td>1257</td>\n",
       "      <td>ES</td>\n",
       "      <td>11</td>\n",
       "      <td>VALENCIA</td>\n",
       "      <td>-0.376288</td>\n",
       "      <td>39.469906</td>\n",
       "      <td>1986-05-05</td>\n",
       "      <td>0</td>\n",
       "      <td>24.0</td>\n",
       "      <td>0.0</td>\n",
       "      <td>0.0000</td>\n",
       "      <td>NaN</td>\n",
       "      <td>POINT (0.00000 0.00000)</td>\n",
       "    </tr>\n",
       "    <tr>\n",
       "      <th>1258</th>\n",
       "      <td>1258</td>\n",
       "      <td>ES</td>\n",
       "      <td>11</td>\n",
       "      <td>VALENCIA</td>\n",
       "      <td>-0.376288</td>\n",
       "      <td>39.469906</td>\n",
       "      <td>1986-05-06</td>\n",
       "      <td>0</td>\n",
       "      <td>24.0</td>\n",
       "      <td>0.0</td>\n",
       "      <td>0.0254</td>\n",
       "      <td>0.0663</td>\n",
       "      <td>POINT (0.00000 0.00000)</td>\n",
       "    </tr>\n",
       "    <tr>\n",
       "      <th>1259</th>\n",
       "      <td>1259</td>\n",
       "      <td>ES</td>\n",
       "      <td>11</td>\n",
       "      <td>VALENCIA</td>\n",
       "      <td>-0.376288</td>\n",
       "      <td>39.469906</td>\n",
       "      <td>1986-05-07</td>\n",
       "      <td>0</td>\n",
       "      <td>24.0</td>\n",
       "      <td>0.0</td>\n",
       "      <td>0.0000</td>\n",
       "      <td>NaN</td>\n",
       "      <td>POINT (0.00000 0.00000)</td>\n",
       "    </tr>\n",
       "    <tr>\n",
       "      <th>1260</th>\n",
       "      <td>1260</td>\n",
       "      <td>ES</td>\n",
       "      <td>11</td>\n",
       "      <td>VALENCIA</td>\n",
       "      <td>-0.376288</td>\n",
       "      <td>39.469906</td>\n",
       "      <td>1986-05-08</td>\n",
       "      <td>0</td>\n",
       "      <td>24.0</td>\n",
       "      <td>0.0</td>\n",
       "      <td>0.0000</td>\n",
       "      <td>NaN</td>\n",
       "      <td>POINT (0.00000 0.00000)</td>\n",
       "    </tr>\n",
       "    <tr>\n",
       "      <th>1261</th>\n",
       "      <td>1261</td>\n",
       "      <td>ES</td>\n",
       "      <td>11</td>\n",
       "      <td>VALENCIA</td>\n",
       "      <td>-0.376288</td>\n",
       "      <td>39.469906</td>\n",
       "      <td>1986-05-09</td>\n",
       "      <td>0</td>\n",
       "      <td>24.0</td>\n",
       "      <td>0.0</td>\n",
       "      <td>0.0000</td>\n",
       "      <td>NaN</td>\n",
       "      <td>POINT (0.00000 0.00000)</td>\n",
       "    </tr>\n",
       "    <tr>\n",
       "      <th>1262</th>\n",
       "      <td>1262</td>\n",
       "      <td>ES</td>\n",
       "      <td>11</td>\n",
       "      <td>VALENCIA</td>\n",
       "      <td>-0.376288</td>\n",
       "      <td>39.469906</td>\n",
       "      <td>1986-05-10</td>\n",
       "      <td>0</td>\n",
       "      <td>24.0</td>\n",
       "      <td>0.0</td>\n",
       "      <td>0.0000</td>\n",
       "      <td>NaN</td>\n",
       "      <td>POINT (0.00000 0.00000)</td>\n",
       "    </tr>\n",
       "    <tr>\n",
       "      <th>1263</th>\n",
       "      <td>1263</td>\n",
       "      <td>ES</td>\n",
       "      <td>11</td>\n",
       "      <td>VALENCIA</td>\n",
       "      <td>-0.376288</td>\n",
       "      <td>39.469906</td>\n",
       "      <td>1986-05-12</td>\n",
       "      <td>0</td>\n",
       "      <td>24.0</td>\n",
       "      <td>0.0</td>\n",
       "      <td>0.0000</td>\n",
       "      <td>NaN</td>\n",
       "      <td>POINT (0.00000 0.00000)</td>\n",
       "    </tr>\n",
       "    <tr>\n",
       "      <th>1264</th>\n",
       "      <td>1264</td>\n",
       "      <td>ES</td>\n",
       "      <td>11</td>\n",
       "      <td>VALENCIA</td>\n",
       "      <td>-0.376288</td>\n",
       "      <td>39.469906</td>\n",
       "      <td>1986-05-13</td>\n",
       "      <td>0</td>\n",
       "      <td>24.0</td>\n",
       "      <td>0.0</td>\n",
       "      <td>0.0000</td>\n",
       "      <td>NaN</td>\n",
       "      <td>POINT (0.00000 0.00000)</td>\n",
       "    </tr>\n",
       "    <tr>\n",
       "      <th>1265</th>\n",
       "      <td>1265</td>\n",
       "      <td>ES</td>\n",
       "      <td>11</td>\n",
       "      <td>VALENCIA</td>\n",
       "      <td>-0.376288</td>\n",
       "      <td>39.469906</td>\n",
       "      <td>1986-05-14</td>\n",
       "      <td>0</td>\n",
       "      <td>24.0</td>\n",
       "      <td>0.0</td>\n",
       "      <td>0.0000</td>\n",
       "      <td>0.0065</td>\n",
       "      <td>POINT (0.00000 0.00000)</td>\n",
       "    </tr>\n",
       "    <tr>\n",
       "      <th>1266</th>\n",
       "      <td>1266</td>\n",
       "      <td>ES</td>\n",
       "      <td>11</td>\n",
       "      <td>VALENCIA</td>\n",
       "      <td>-0.376288</td>\n",
       "      <td>39.469906</td>\n",
       "      <td>1986-05-15</td>\n",
       "      <td>0</td>\n",
       "      <td>24.0</td>\n",
       "      <td>0.0</td>\n",
       "      <td>0.0000</td>\n",
       "      <td>NaN</td>\n",
       "      <td>POINT (0.00000 0.00000)</td>\n",
       "    </tr>\n",
       "    <tr>\n",
       "      <th>1267</th>\n",
       "      <td>1267</td>\n",
       "      <td>ES</td>\n",
       "      <td>11</td>\n",
       "      <td>VALENCIA</td>\n",
       "      <td>-0.376288</td>\n",
       "      <td>39.469906</td>\n",
       "      <td>1986-05-17</td>\n",
       "      <td>0</td>\n",
       "      <td>24.0</td>\n",
       "      <td>0.0</td>\n",
       "      <td>0.0000</td>\n",
       "      <td>NaN</td>\n",
       "      <td>POINT (0.00000 0.00000)</td>\n",
       "    </tr>\n",
       "    <tr>\n",
       "      <th>1268</th>\n",
       "      <td>1268</td>\n",
       "      <td>ES</td>\n",
       "      <td>11</td>\n",
       "      <td>VALENCIA</td>\n",
       "      <td>-0.376288</td>\n",
       "      <td>39.469906</td>\n",
       "      <td>1986-05-18</td>\n",
       "      <td>0</td>\n",
       "      <td>24.0</td>\n",
       "      <td>0.0</td>\n",
       "      <td>0.0000</td>\n",
       "      <td>NaN</td>\n",
       "      <td>POINT (0.00000 0.00000)</td>\n",
       "    </tr>\n",
       "    <tr>\n",
       "      <th>1269</th>\n",
       "      <td>1269</td>\n",
       "      <td>ES</td>\n",
       "      <td>11</td>\n",
       "      <td>VALENCIA</td>\n",
       "      <td>-0.376288</td>\n",
       "      <td>39.469906</td>\n",
       "      <td>1986-05-19</td>\n",
       "      <td>0</td>\n",
       "      <td>24.0</td>\n",
       "      <td>0.0</td>\n",
       "      <td>0.0000</td>\n",
       "      <td>NaN</td>\n",
       "      <td>POINT (0.00000 0.00000)</td>\n",
       "    </tr>\n",
       "    <tr>\n",
       "      <th>1270</th>\n",
       "      <td>1270</td>\n",
       "      <td>ES</td>\n",
       "      <td>11</td>\n",
       "      <td>VALENCIA</td>\n",
       "      <td>-0.376288</td>\n",
       "      <td>39.469906</td>\n",
       "      <td>1986-05-21</td>\n",
       "      <td>0</td>\n",
       "      <td>24.0</td>\n",
       "      <td>0.0</td>\n",
       "      <td>0.0000</td>\n",
       "      <td>0.0070</td>\n",
       "      <td>POINT (0.00000 0.00000)</td>\n",
       "    </tr>\n",
       "    <tr>\n",
       "      <th>1271</th>\n",
       "      <td>1271</td>\n",
       "      <td>ES</td>\n",
       "      <td>11</td>\n",
       "      <td>VALENCIA</td>\n",
       "      <td>-0.376288</td>\n",
       "      <td>39.469906</td>\n",
       "      <td>1986-05-22</td>\n",
       "      <td>0</td>\n",
       "      <td>24.0</td>\n",
       "      <td>0.0</td>\n",
       "      <td>0.0000</td>\n",
       "      <td>NaN</td>\n",
       "      <td>POINT (0.00000 0.00000)</td>\n",
       "    </tr>\n",
       "    <tr>\n",
       "      <th>1272</th>\n",
       "      <td>1272</td>\n",
       "      <td>ES</td>\n",
       "      <td>11</td>\n",
       "      <td>VALENCIA</td>\n",
       "      <td>-0.376288</td>\n",
       "      <td>39.469906</td>\n",
       "      <td>1986-05-23</td>\n",
       "      <td>0</td>\n",
       "      <td>24.0</td>\n",
       "      <td>0.0</td>\n",
       "      <td>0.0000</td>\n",
       "      <td>NaN</td>\n",
       "      <td>POINT (0.00000 0.00000)</td>\n",
       "    </tr>\n",
       "    <tr>\n",
       "      <th>1273</th>\n",
       "      <td>1273</td>\n",
       "      <td>ES</td>\n",
       "      <td>11</td>\n",
       "      <td>VALENCIA</td>\n",
       "      <td>-0.376288</td>\n",
       "      <td>39.469906</td>\n",
       "      <td>1986-05-24</td>\n",
       "      <td>0</td>\n",
       "      <td>24.0</td>\n",
       "      <td>0.0</td>\n",
       "      <td>0.0000</td>\n",
       "      <td>0.0012</td>\n",
       "      <td>POINT (0.00000 0.00000)</td>\n",
       "    </tr>\n",
       "    <tr>\n",
       "      <th>1274</th>\n",
       "      <td>1274</td>\n",
       "      <td>ES</td>\n",
       "      <td>11</td>\n",
       "      <td>VALENCIA</td>\n",
       "      <td>-0.376288</td>\n",
       "      <td>39.469906</td>\n",
       "      <td>1986-05-25</td>\n",
       "      <td>0</td>\n",
       "      <td>24.0</td>\n",
       "      <td>0.0</td>\n",
       "      <td>0.0000</td>\n",
       "      <td>NaN</td>\n",
       "      <td>POINT (0.00000 0.00000)</td>\n",
       "    </tr>\n",
       "    <tr>\n",
       "      <th>1275</th>\n",
       "      <td>1275</td>\n",
       "      <td>ES</td>\n",
       "      <td>11</td>\n",
       "      <td>VALENCIA</td>\n",
       "      <td>-0.376288</td>\n",
       "      <td>39.469906</td>\n",
       "      <td>1986-05-26</td>\n",
       "      <td>0</td>\n",
       "      <td>24.0</td>\n",
       "      <td>0.0</td>\n",
       "      <td>0.0000</td>\n",
       "      <td>NaN</td>\n",
       "      <td>POINT (0.00000 0.00000)</td>\n",
       "    </tr>\n",
       "    <tr>\n",
       "      <th>1276</th>\n",
       "      <td>1276</td>\n",
       "      <td>ES</td>\n",
       "      <td>11</td>\n",
       "      <td>VALENCIA</td>\n",
       "      <td>-0.376288</td>\n",
       "      <td>39.469906</td>\n",
       "      <td>1986-05-28</td>\n",
       "      <td>0</td>\n",
       "      <td>24.0</td>\n",
       "      <td>0.0</td>\n",
       "      <td>0.0000</td>\n",
       "      <td>NaN</td>\n",
       "      <td>POINT (0.00000 0.00000)</td>\n",
       "    </tr>\n",
       "    <tr>\n",
       "      <th>1277</th>\n",
       "      <td>1277</td>\n",
       "      <td>ES</td>\n",
       "      <td>11</td>\n",
       "      <td>VALENCIA</td>\n",
       "      <td>-0.376288</td>\n",
       "      <td>39.469906</td>\n",
       "      <td>1986-05-29</td>\n",
       "      <td>0</td>\n",
       "      <td>24.0</td>\n",
       "      <td>0.0</td>\n",
       "      <td>0.0000</td>\n",
       "      <td>NaN</td>\n",
       "      <td>POINT (0.00000 0.00000)</td>\n",
       "    </tr>\n",
       "    <tr>\n",
       "      <th>1278</th>\n",
       "      <td>1278</td>\n",
       "      <td>ES</td>\n",
       "      <td>11</td>\n",
       "      <td>VALENCIA</td>\n",
       "      <td>-0.376288</td>\n",
       "      <td>39.469906</td>\n",
       "      <td>1986-05-30</td>\n",
       "      <td>0</td>\n",
       "      <td>24.0</td>\n",
       "      <td>0.0</td>\n",
       "      <td>0.0000</td>\n",
       "      <td>0.0084</td>\n",
       "      <td>POINT (0.00000 0.00000)</td>\n",
       "    </tr>\n",
       "  </tbody>\n",
       "</table>\n",
       "</div>"
      ],
      "text/plain": [
       "      Unnamed: 0 country  Code      city  longitude   latitude        Date  \\\n",
       "1253        1253      ES    11  VALENCIA  -0.376288  39.469906  1986-05-01   \n",
       "1254        1254      ES    11  VALENCIA  -0.376288  39.469906  1986-05-02   \n",
       "1255        1255      ES    11  VALENCIA  -0.376288  39.469906  1986-05-03   \n",
       "1256        1256      ES    11  VALENCIA  -0.376288  39.469906  1986-05-04   \n",
       "1257        1257      ES    11  VALENCIA  -0.376288  39.469906  1986-05-05   \n",
       "1258        1258      ES    11  VALENCIA  -0.376288  39.469906  1986-05-06   \n",
       "1259        1259      ES    11  VALENCIA  -0.376288  39.469906  1986-05-07   \n",
       "1260        1260      ES    11  VALENCIA  -0.376288  39.469906  1986-05-08   \n",
       "1261        1261      ES    11  VALENCIA  -0.376288  39.469906  1986-05-09   \n",
       "1262        1262      ES    11  VALENCIA  -0.376288  39.469906  1986-05-10   \n",
       "1263        1263      ES    11  VALENCIA  -0.376288  39.469906  1986-05-12   \n",
       "1264        1264      ES    11  VALENCIA  -0.376288  39.469906  1986-05-13   \n",
       "1265        1265      ES    11  VALENCIA  -0.376288  39.469906  1986-05-14   \n",
       "1266        1266      ES    11  VALENCIA  -0.376288  39.469906  1986-05-15   \n",
       "1267        1267      ES    11  VALENCIA  -0.376288  39.469906  1986-05-17   \n",
       "1268        1268      ES    11  VALENCIA  -0.376288  39.469906  1986-05-18   \n",
       "1269        1269      ES    11  VALENCIA  -0.376288  39.469906  1986-05-19   \n",
       "1270        1270      ES    11  VALENCIA  -0.376288  39.469906  1986-05-21   \n",
       "1271        1271      ES    11  VALENCIA  -0.376288  39.469906  1986-05-22   \n",
       "1272        1272      ES    11  VALENCIA  -0.376288  39.469906  1986-05-23   \n",
       "1273        1273      ES    11  VALENCIA  -0.376288  39.469906  1986-05-24   \n",
       "1274        1274      ES    11  VALENCIA  -0.376288  39.469906  1986-05-25   \n",
       "1275        1275      ES    11  VALENCIA  -0.376288  39.469906  1986-05-26   \n",
       "1276        1276      ES    11  VALENCIA  -0.376288  39.469906  1986-05-28   \n",
       "1277        1277      ES    11  VALENCIA  -0.376288  39.469906  1986-05-29   \n",
       "1278        1278      ES    11  VALENCIA  -0.376288  39.469906  1986-05-30   \n",
       "\n",
       "      endsampling  duration  i131   cs134   cs137                 geometry  \n",
       "1253            0      24.0   0.0  0.0000  0.0470  POINT (0.00000 0.00000)  \n",
       "1254            0      24.0   0.0  0.0054  0.0351  POINT (0.00000 0.00000)  \n",
       "1255            0      24.0   0.0  0.0410  0.0995  POINT (0.00000 0.00000)  \n",
       "1256            0      24.0   0.0  0.0000  0.1082  POINT (0.00000 0.00000)  \n",
       "1257            0      24.0   0.0  0.0000     NaN  POINT (0.00000 0.00000)  \n",
       "1258            0      24.0   0.0  0.0254  0.0663  POINT (0.00000 0.00000)  \n",
       "1259            0      24.0   0.0  0.0000     NaN  POINT (0.00000 0.00000)  \n",
       "1260            0      24.0   0.0  0.0000     NaN  POINT (0.00000 0.00000)  \n",
       "1261            0      24.0   0.0  0.0000     NaN  POINT (0.00000 0.00000)  \n",
       "1262            0      24.0   0.0  0.0000     NaN  POINT (0.00000 0.00000)  \n",
       "1263            0      24.0   0.0  0.0000     NaN  POINT (0.00000 0.00000)  \n",
       "1264            0      24.0   0.0  0.0000     NaN  POINT (0.00000 0.00000)  \n",
       "1265            0      24.0   0.0  0.0000  0.0065  POINT (0.00000 0.00000)  \n",
       "1266            0      24.0   0.0  0.0000     NaN  POINT (0.00000 0.00000)  \n",
       "1267            0      24.0   0.0  0.0000     NaN  POINT (0.00000 0.00000)  \n",
       "1268            0      24.0   0.0  0.0000     NaN  POINT (0.00000 0.00000)  \n",
       "1269            0      24.0   0.0  0.0000     NaN  POINT (0.00000 0.00000)  \n",
       "1270            0      24.0   0.0  0.0000  0.0070  POINT (0.00000 0.00000)  \n",
       "1271            0      24.0   0.0  0.0000     NaN  POINT (0.00000 0.00000)  \n",
       "1272            0      24.0   0.0  0.0000     NaN  POINT (0.00000 0.00000)  \n",
       "1273            0      24.0   0.0  0.0000  0.0012  POINT (0.00000 0.00000)  \n",
       "1274            0      24.0   0.0  0.0000     NaN  POINT (0.00000 0.00000)  \n",
       "1275            0      24.0   0.0  0.0000     NaN  POINT (0.00000 0.00000)  \n",
       "1276            0      24.0   0.0  0.0000     NaN  POINT (0.00000 0.00000)  \n",
       "1277            0      24.0   0.0  0.0000     NaN  POINT (0.00000 0.00000)  \n",
       "1278            0      24.0   0.0  0.0000  0.0084  POINT (0.00000 0.00000)  "
      ]
     },
     "execution_count": 72,
     "metadata": {},
     "output_type": "execute_result"
    }
   ],
   "source": [
    "geo_low_points.loc[geo_low_points.city == 'VALENCIA']"
   ]
  },
  {
   "cell_type": "code",
   "execution_count": 73,
   "metadata": {},
   "outputs": [
    {
     "name": "stderr",
     "output_type": "stream",
     "text": [
      "/Users/Leonard/miniconda3/lib/python3.6/site-packages/pandas/core/indexing.py:965: SettingWithCopyWarning: \n",
      "A value is trying to be set on a copy of a slice from a DataFrame.\n",
      "Try using .loc[row_indexer,col_indexer] = value instead\n",
      "\n",
      "See the caveats in the documentation: https://pandas.pydata.org/pandas-docs/stable/user_guide/indexing.html#returning-a-view-versus-a-copy\n",
      "  self.obj[item] = s\n"
     ]
    }
   ],
   "source": [
    "old_lats = geo_low_points.loc[geo_low_points.country == 'CZ'].latitude\n",
    "geo_low_points.loc[geo_low_points.country == 'CZ', 'latitude'] = geo_low_points.loc[geo_low_points.country == 'CZ'].longitude\n",
    "geo_low_points.loc[geo_low_points.country == 'CZ', 'longitude'] = old_lats"
   ]
  },
  {
   "cell_type": "code",
   "execution_count": 74,
   "metadata": {},
   "outputs": [
    {
     "data": {
      "text/html": [
       "<div>\n",
       "<style scoped>\n",
       "    .dataframe tbody tr th:only-of-type {\n",
       "        vertical-align: middle;\n",
       "    }\n",
       "\n",
       "    .dataframe tbody tr th {\n",
       "        vertical-align: top;\n",
       "    }\n",
       "\n",
       "    .dataframe thead th {\n",
       "        text-align: right;\n",
       "    }\n",
       "</style>\n",
       "<table border=\"1\" class=\"dataframe\">\n",
       "  <thead>\n",
       "    <tr style=\"text-align: right;\">\n",
       "      <th></th>\n",
       "      <th>Unnamed: 0</th>\n",
       "      <th>country</th>\n",
       "      <th>Code</th>\n",
       "      <th>city</th>\n",
       "      <th>longitude</th>\n",
       "      <th>latitude</th>\n",
       "      <th>Date</th>\n",
       "      <th>endsampling</th>\n",
       "      <th>duration</th>\n",
       "      <th>i131</th>\n",
       "      <th>cs134</th>\n",
       "      <th>cs137</th>\n",
       "      <th>geometry</th>\n",
       "    </tr>\n",
       "  </thead>\n",
       "  <tbody>\n",
       "    <tr>\n",
       "      <th>1904</th>\n",
       "      <td>1904</td>\n",
       "      <td>CZ</td>\n",
       "      <td>23</td>\n",
       "      <td>BANSKA</td>\n",
       "      <td>19.17</td>\n",
       "      <td>48.73</td>\n",
       "      <td>1986-05-01</td>\n",
       "      <td>5</td>\n",
       "      <td>24.0</td>\n",
       "      <td>3.150</td>\n",
       "      <td>0.000</td>\n",
       "      <td>NaN</td>\n",
       "      <td>POINT (48.73000 19.17000)</td>\n",
       "    </tr>\n",
       "    <tr>\n",
       "      <th>1905</th>\n",
       "      <td>1905</td>\n",
       "      <td>CZ</td>\n",
       "      <td>23</td>\n",
       "      <td>BANSKA</td>\n",
       "      <td>19.17</td>\n",
       "      <td>48.73</td>\n",
       "      <td>1986-05-02</td>\n",
       "      <td>5</td>\n",
       "      <td>24.0</td>\n",
       "      <td>1.240</td>\n",
       "      <td>0.050</td>\n",
       "      <td>NaN</td>\n",
       "      <td>POINT (48.73000 19.17000)</td>\n",
       "    </tr>\n",
       "    <tr>\n",
       "      <th>1906</th>\n",
       "      <td>1906</td>\n",
       "      <td>CZ</td>\n",
       "      <td>23</td>\n",
       "      <td>BANSKA</td>\n",
       "      <td>19.17</td>\n",
       "      <td>48.73</td>\n",
       "      <td>1986-05-03</td>\n",
       "      <td>5</td>\n",
       "      <td>24.0</td>\n",
       "      <td>0.763</td>\n",
       "      <td>0.000</td>\n",
       "      <td>NaN</td>\n",
       "      <td>POINT (48.73000 19.17000)</td>\n",
       "    </tr>\n",
       "    <tr>\n",
       "      <th>1907</th>\n",
       "      <td>1907</td>\n",
       "      <td>CZ</td>\n",
       "      <td>23</td>\n",
       "      <td>BANSKA</td>\n",
       "      <td>19.17</td>\n",
       "      <td>48.73</td>\n",
       "      <td>1986-05-05</td>\n",
       "      <td>5</td>\n",
       "      <td>24.0</td>\n",
       "      <td>0.367</td>\n",
       "      <td>0.000</td>\n",
       "      <td>NaN</td>\n",
       "      <td>POINT (48.73000 19.17000)</td>\n",
       "    </tr>\n",
       "    <tr>\n",
       "      <th>1908</th>\n",
       "      <td>1908</td>\n",
       "      <td>CZ</td>\n",
       "      <td>23</td>\n",
       "      <td>BANSKA</td>\n",
       "      <td>19.17</td>\n",
       "      <td>48.73</td>\n",
       "      <td>1986-05-06</td>\n",
       "      <td>5</td>\n",
       "      <td>24.0</td>\n",
       "      <td>0.535</td>\n",
       "      <td>0.000</td>\n",
       "      <td>NaN</td>\n",
       "      <td>POINT (48.73000 19.17000)</td>\n",
       "    </tr>\n",
       "    <tr>\n",
       "      <th>...</th>\n",
       "      <td>...</td>\n",
       "      <td>...</td>\n",
       "      <td>...</td>\n",
       "      <td>...</td>\n",
       "      <td>...</td>\n",
       "      <td>...</td>\n",
       "      <td>...</td>\n",
       "      <td>...</td>\n",
       "      <td>...</td>\n",
       "      <td>...</td>\n",
       "      <td>...</td>\n",
       "      <td>...</td>\n",
       "      <td>...</td>\n",
       "    </tr>\n",
       "    <tr>\n",
       "      <th>2033</th>\n",
       "      <td>2033</td>\n",
       "      <td>CZ</td>\n",
       "      <td>23</td>\n",
       "      <td>USTI</td>\n",
       "      <td>14.00</td>\n",
       "      <td>50.68</td>\n",
       "      <td>1986-05-01</td>\n",
       "      <td>5</td>\n",
       "      <td>24.0</td>\n",
       "      <td>5.240</td>\n",
       "      <td>1.400</td>\n",
       "      <td>NaN</td>\n",
       "      <td>POINT (50.68000 14.00000)</td>\n",
       "    </tr>\n",
       "    <tr>\n",
       "      <th>2034</th>\n",
       "      <td>2034</td>\n",
       "      <td>CZ</td>\n",
       "      <td>23</td>\n",
       "      <td>USTI</td>\n",
       "      <td>14.00</td>\n",
       "      <td>50.68</td>\n",
       "      <td>1986-05-02</td>\n",
       "      <td>5</td>\n",
       "      <td>24.0</td>\n",
       "      <td>4.810</td>\n",
       "      <td>1.430</td>\n",
       "      <td>NaN</td>\n",
       "      <td>POINT (50.68000 14.00000)</td>\n",
       "    </tr>\n",
       "    <tr>\n",
       "      <th>2035</th>\n",
       "      <td>2035</td>\n",
       "      <td>CZ</td>\n",
       "      <td>23</td>\n",
       "      <td>USTI</td>\n",
       "      <td>14.00</td>\n",
       "      <td>50.68</td>\n",
       "      <td>1986-05-03</td>\n",
       "      <td>5</td>\n",
       "      <td>24.0</td>\n",
       "      <td>0.196</td>\n",
       "      <td>0.013</td>\n",
       "      <td>NaN</td>\n",
       "      <td>POINT (50.68000 14.00000)</td>\n",
       "    </tr>\n",
       "    <tr>\n",
       "      <th>2036</th>\n",
       "      <td>2036</td>\n",
       "      <td>CZ</td>\n",
       "      <td>23</td>\n",
       "      <td>USTI</td>\n",
       "      <td>14.00</td>\n",
       "      <td>50.68</td>\n",
       "      <td>1986-05-04</td>\n",
       "      <td>5</td>\n",
       "      <td>24.0</td>\n",
       "      <td>1.300</td>\n",
       "      <td>0.502</td>\n",
       "      <td>NaN</td>\n",
       "      <td>POINT (50.68000 14.00000)</td>\n",
       "    </tr>\n",
       "    <tr>\n",
       "      <th>2037</th>\n",
       "      <td>2037</td>\n",
       "      <td>CZ</td>\n",
       "      <td>23</td>\n",
       "      <td>USTI</td>\n",
       "      <td>14.00</td>\n",
       "      <td>50.68</td>\n",
       "      <td>1986-05-05</td>\n",
       "      <td>5</td>\n",
       "      <td>24.0</td>\n",
       "      <td>1.320</td>\n",
       "      <td>0.560</td>\n",
       "      <td>NaN</td>\n",
       "      <td>POINT (50.68000 14.00000)</td>\n",
       "    </tr>\n",
       "  </tbody>\n",
       "</table>\n",
       "<p>107 rows × 13 columns</p>\n",
       "</div>"
      ],
      "text/plain": [
       "      Unnamed: 0 country  Code    city  longitude  latitude        Date  \\\n",
       "1904        1904      CZ    23  BANSKA      19.17     48.73  1986-05-01   \n",
       "1905        1905      CZ    23  BANSKA      19.17     48.73  1986-05-02   \n",
       "1906        1906      CZ    23  BANSKA      19.17     48.73  1986-05-03   \n",
       "1907        1907      CZ    23  BANSKA      19.17     48.73  1986-05-05   \n",
       "1908        1908      CZ    23  BANSKA      19.17     48.73  1986-05-06   \n",
       "...          ...     ...   ...     ...        ...       ...         ...   \n",
       "2033        2033      CZ    23    USTI      14.00     50.68  1986-05-01   \n",
       "2034        2034      CZ    23    USTI      14.00     50.68  1986-05-02   \n",
       "2035        2035      CZ    23    USTI      14.00     50.68  1986-05-03   \n",
       "2036        2036      CZ    23    USTI      14.00     50.68  1986-05-04   \n",
       "2037        2037      CZ    23    USTI      14.00     50.68  1986-05-05   \n",
       "\n",
       "      endsampling  duration   i131  cs134  cs137                   geometry  \n",
       "1904            5      24.0  3.150  0.000    NaN  POINT (48.73000 19.17000)  \n",
       "1905            5      24.0  1.240  0.050    NaN  POINT (48.73000 19.17000)  \n",
       "1906            5      24.0  0.763  0.000    NaN  POINT (48.73000 19.17000)  \n",
       "1907            5      24.0  0.367  0.000    NaN  POINT (48.73000 19.17000)  \n",
       "1908            5      24.0  0.535  0.000    NaN  POINT (48.73000 19.17000)  \n",
       "...           ...       ...    ...    ...    ...                        ...  \n",
       "2033            5      24.0  5.240  1.400    NaN  POINT (50.68000 14.00000)  \n",
       "2034            5      24.0  4.810  1.430    NaN  POINT (50.68000 14.00000)  \n",
       "2035            5      24.0  0.196  0.013    NaN  POINT (50.68000 14.00000)  \n",
       "2036            5      24.0  1.300  0.502    NaN  POINT (50.68000 14.00000)  \n",
       "2037            5      24.0  1.320  0.560    NaN  POINT (50.68000 14.00000)  \n",
       "\n",
       "[107 rows x 13 columns]"
      ]
     },
     "execution_count": 74,
     "metadata": {},
     "output_type": "execute_result"
    }
   ],
   "source": [
    "geo_low_points.loc[geo_low_points.country == 'CZ']"
   ]
  },
  {
   "cell_type": "code",
   "execution_count": 75,
   "metadata": {},
   "outputs": [
    {
     "name": "stderr",
     "output_type": "stream",
     "text": [
      "/Users/Leonard/miniconda3/lib/python3.6/site-packages/geopandas/geodataframe.py:183: SettingWithCopyWarning: \n",
      "A value is trying to be set on a copy of a slice from a DataFrame.\n",
      "Try using .loc[row_indexer,col_indexer] = value instead\n",
      "\n",
      "See the caveats in the documentation: https://pandas.pydata.org/pandas-docs/stable/user_guide/indexing.html#returning-a-view-versus-a-copy\n",
      "  frame[geo_column_name] = level\n"
     ]
    }
   ],
   "source": [
    "# Redo the point zipping \n",
    "geometry = [Point(xy) for xy in zip( geo_low_points[\"longitude\"], geo_low_points[\"latitude\"]  )] \n",
    "geo_low_points.geometry = geometry"
   ]
  },
  {
   "cell_type": "code",
   "execution_count": 76,
   "metadata": {},
   "outputs": [
    {
     "data": {
      "text/html": [
       "<div>\n",
       "<style scoped>\n",
       "    .dataframe tbody tr th:only-of-type {\n",
       "        vertical-align: middle;\n",
       "    }\n",
       "\n",
       "    .dataframe tbody tr th {\n",
       "        vertical-align: top;\n",
       "    }\n",
       "\n",
       "    .dataframe thead th {\n",
       "        text-align: right;\n",
       "    }\n",
       "</style>\n",
       "<table border=\"1\" class=\"dataframe\">\n",
       "  <thead>\n",
       "    <tr style=\"text-align: right;\">\n",
       "      <th></th>\n",
       "      <th>Unnamed: 0</th>\n",
       "      <th>country</th>\n",
       "      <th>Code</th>\n",
       "      <th>city</th>\n",
       "      <th>longitude</th>\n",
       "      <th>latitude</th>\n",
       "      <th>Date</th>\n",
       "      <th>endsampling</th>\n",
       "      <th>duration</th>\n",
       "      <th>i131</th>\n",
       "      <th>cs134</th>\n",
       "      <th>cs137</th>\n",
       "      <th>geometry</th>\n",
       "    </tr>\n",
       "  </thead>\n",
       "  <tbody>\n",
       "    <tr>\n",
       "      <th>1253</th>\n",
       "      <td>1253</td>\n",
       "      <td>ES</td>\n",
       "      <td>11</td>\n",
       "      <td>VALENCIA</td>\n",
       "      <td>-0.376288</td>\n",
       "      <td>39.469906</td>\n",
       "      <td>1986-05-01</td>\n",
       "      <td>0</td>\n",
       "      <td>24.0</td>\n",
       "      <td>0.000</td>\n",
       "      <td>0.0000</td>\n",
       "      <td>0.0470</td>\n",
       "      <td>POINT (-0.37629 39.46991)</td>\n",
       "    </tr>\n",
       "    <tr>\n",
       "      <th>1254</th>\n",
       "      <td>1254</td>\n",
       "      <td>ES</td>\n",
       "      <td>11</td>\n",
       "      <td>VALENCIA</td>\n",
       "      <td>-0.376288</td>\n",
       "      <td>39.469906</td>\n",
       "      <td>1986-05-02</td>\n",
       "      <td>0</td>\n",
       "      <td>24.0</td>\n",
       "      <td>0.000</td>\n",
       "      <td>0.0054</td>\n",
       "      <td>0.0351</td>\n",
       "      <td>POINT (-0.37629 39.46991)</td>\n",
       "    </tr>\n",
       "    <tr>\n",
       "      <th>1255</th>\n",
       "      <td>1255</td>\n",
       "      <td>ES</td>\n",
       "      <td>11</td>\n",
       "      <td>VALENCIA</td>\n",
       "      <td>-0.376288</td>\n",
       "      <td>39.469906</td>\n",
       "      <td>1986-05-03</td>\n",
       "      <td>0</td>\n",
       "      <td>24.0</td>\n",
       "      <td>0.000</td>\n",
       "      <td>0.0410</td>\n",
       "      <td>0.0995</td>\n",
       "      <td>POINT (-0.37629 39.46991)</td>\n",
       "    </tr>\n",
       "    <tr>\n",
       "      <th>1256</th>\n",
       "      <td>1256</td>\n",
       "      <td>ES</td>\n",
       "      <td>11</td>\n",
       "      <td>VALENCIA</td>\n",
       "      <td>-0.376288</td>\n",
       "      <td>39.469906</td>\n",
       "      <td>1986-05-04</td>\n",
       "      <td>0</td>\n",
       "      <td>24.0</td>\n",
       "      <td>0.000</td>\n",
       "      <td>0.0000</td>\n",
       "      <td>0.1082</td>\n",
       "      <td>POINT (-0.37629 39.46991)</td>\n",
       "    </tr>\n",
       "    <tr>\n",
       "      <th>1257</th>\n",
       "      <td>1257</td>\n",
       "      <td>ES</td>\n",
       "      <td>11</td>\n",
       "      <td>VALENCIA</td>\n",
       "      <td>-0.376288</td>\n",
       "      <td>39.469906</td>\n",
       "      <td>1986-05-05</td>\n",
       "      <td>0</td>\n",
       "      <td>24.0</td>\n",
       "      <td>0.000</td>\n",
       "      <td>0.0000</td>\n",
       "      <td>NaN</td>\n",
       "      <td>POINT (-0.37629 39.46991)</td>\n",
       "    </tr>\n",
       "    <tr>\n",
       "      <th>...</th>\n",
       "      <td>...</td>\n",
       "      <td>...</td>\n",
       "      <td>...</td>\n",
       "      <td>...</td>\n",
       "      <td>...</td>\n",
       "      <td>...</td>\n",
       "      <td>...</td>\n",
       "      <td>...</td>\n",
       "      <td>...</td>\n",
       "      <td>...</td>\n",
       "      <td>...</td>\n",
       "      <td>...</td>\n",
       "      <td>...</td>\n",
       "    </tr>\n",
       "    <tr>\n",
       "      <th>2033</th>\n",
       "      <td>2033</td>\n",
       "      <td>CZ</td>\n",
       "      <td>23</td>\n",
       "      <td>USTI</td>\n",
       "      <td>14.000000</td>\n",
       "      <td>50.680000</td>\n",
       "      <td>1986-05-01</td>\n",
       "      <td>5</td>\n",
       "      <td>24.0</td>\n",
       "      <td>5.240</td>\n",
       "      <td>1.4000</td>\n",
       "      <td>NaN</td>\n",
       "      <td>POINT (14.00000 50.68000)</td>\n",
       "    </tr>\n",
       "    <tr>\n",
       "      <th>2034</th>\n",
       "      <td>2034</td>\n",
       "      <td>CZ</td>\n",
       "      <td>23</td>\n",
       "      <td>USTI</td>\n",
       "      <td>14.000000</td>\n",
       "      <td>50.680000</td>\n",
       "      <td>1986-05-02</td>\n",
       "      <td>5</td>\n",
       "      <td>24.0</td>\n",
       "      <td>4.810</td>\n",
       "      <td>1.4300</td>\n",
       "      <td>NaN</td>\n",
       "      <td>POINT (14.00000 50.68000)</td>\n",
       "    </tr>\n",
       "    <tr>\n",
       "      <th>2035</th>\n",
       "      <td>2035</td>\n",
       "      <td>CZ</td>\n",
       "      <td>23</td>\n",
       "      <td>USTI</td>\n",
       "      <td>14.000000</td>\n",
       "      <td>50.680000</td>\n",
       "      <td>1986-05-03</td>\n",
       "      <td>5</td>\n",
       "      <td>24.0</td>\n",
       "      <td>0.196</td>\n",
       "      <td>0.0130</td>\n",
       "      <td>NaN</td>\n",
       "      <td>POINT (14.00000 50.68000)</td>\n",
       "    </tr>\n",
       "    <tr>\n",
       "      <th>2036</th>\n",
       "      <td>2036</td>\n",
       "      <td>CZ</td>\n",
       "      <td>23</td>\n",
       "      <td>USTI</td>\n",
       "      <td>14.000000</td>\n",
       "      <td>50.680000</td>\n",
       "      <td>1986-05-04</td>\n",
       "      <td>5</td>\n",
       "      <td>24.0</td>\n",
       "      <td>1.300</td>\n",
       "      <td>0.5020</td>\n",
       "      <td>NaN</td>\n",
       "      <td>POINT (14.00000 50.68000)</td>\n",
       "    </tr>\n",
       "    <tr>\n",
       "      <th>2037</th>\n",
       "      <td>2037</td>\n",
       "      <td>CZ</td>\n",
       "      <td>23</td>\n",
       "      <td>USTI</td>\n",
       "      <td>14.000000</td>\n",
       "      <td>50.680000</td>\n",
       "      <td>1986-05-05</td>\n",
       "      <td>5</td>\n",
       "      <td>24.0</td>\n",
       "      <td>1.320</td>\n",
       "      <td>0.5600</td>\n",
       "      <td>NaN</td>\n",
       "      <td>POINT (14.00000 50.68000)</td>\n",
       "    </tr>\n",
       "  </tbody>\n",
       "</table>\n",
       "<p>141 rows × 13 columns</p>\n",
       "</div>"
      ],
      "text/plain": [
       "      Unnamed: 0 country  Code      city  longitude   latitude        Date  \\\n",
       "1253        1253      ES    11  VALENCIA  -0.376288  39.469906  1986-05-01   \n",
       "1254        1254      ES    11  VALENCIA  -0.376288  39.469906  1986-05-02   \n",
       "1255        1255      ES    11  VALENCIA  -0.376288  39.469906  1986-05-03   \n",
       "1256        1256      ES    11  VALENCIA  -0.376288  39.469906  1986-05-04   \n",
       "1257        1257      ES    11  VALENCIA  -0.376288  39.469906  1986-05-05   \n",
       "...          ...     ...   ...       ...        ...        ...         ...   \n",
       "2033        2033      CZ    23      USTI  14.000000  50.680000  1986-05-01   \n",
       "2034        2034      CZ    23      USTI  14.000000  50.680000  1986-05-02   \n",
       "2035        2035      CZ    23      USTI  14.000000  50.680000  1986-05-03   \n",
       "2036        2036      CZ    23      USTI  14.000000  50.680000  1986-05-04   \n",
       "2037        2037      CZ    23      USTI  14.000000  50.680000  1986-05-05   \n",
       "\n",
       "      endsampling  duration   i131   cs134   cs137                   geometry  \n",
       "1253            0      24.0  0.000  0.0000  0.0470  POINT (-0.37629 39.46991)  \n",
       "1254            0      24.0  0.000  0.0054  0.0351  POINT (-0.37629 39.46991)  \n",
       "1255            0      24.0  0.000  0.0410  0.0995  POINT (-0.37629 39.46991)  \n",
       "1256            0      24.0  0.000  0.0000  0.1082  POINT (-0.37629 39.46991)  \n",
       "1257            0      24.0  0.000  0.0000     NaN  POINT (-0.37629 39.46991)  \n",
       "...           ...       ...    ...     ...     ...                        ...  \n",
       "2033            5      24.0  5.240  1.4000     NaN  POINT (14.00000 50.68000)  \n",
       "2034            5      24.0  4.810  1.4300     NaN  POINT (14.00000 50.68000)  \n",
       "2035            5      24.0  0.196  0.0130     NaN  POINT (14.00000 50.68000)  \n",
       "2036            5      24.0  1.300  0.5020     NaN  POINT (14.00000 50.68000)  \n",
       "2037            5      24.0  1.320  0.5600     NaN  POINT (14.00000 50.68000)  \n",
       "\n",
       "[141 rows x 13 columns]"
      ]
     },
     "execution_count": 76,
     "metadata": {},
     "output_type": "execute_result"
    }
   ],
   "source": [
    "geo_low_points"
   ]
  },
  {
   "cell_type": "code",
   "execution_count": null,
   "metadata": {
    "collapsed": true
   },
   "outputs": [],
   "source": []
  },
  {
   "cell_type": "code",
   "execution_count": null,
   "metadata": {
    "collapsed": true
   },
   "outputs": [],
   "source": []
  },
  {
   "cell_type": "code",
   "execution_count": 345,
   "metadata": {},
   "outputs": [
    {
     "data": {
      "text/plain": [
       "<matplotlib.axes._subplots.AxesSubplot at 0x128df5c50>"
      ]
     },
     "execution_count": 345,
     "metadata": {},
     "output_type": "execute_result"
    },
    {
     "data": {
      "image/png": "[encoded data removed]",
      "text/plain": [
       "<Figure size 864x576 with 1 Axes>"
      ]
     },
     "metadata": {},
     "output_type": "display_data"
    }
   ],
   "source": [
    "fig, ax = plt.subplots(figsize=(12, 8))\n",
    "gdf_europe.plot(ax = ax, color = 'gray')\n",
    "geo_low_points.plot(ax = ax, markersize = 5, color = 'r', alpha = 0.5)"
   ]
  },
  {
   "cell_type": "code",
   "execution_count": null,
   "metadata": {
    "collapsed": true
   },
   "outputs": [],
   "source": []
  },
  {
   "cell_type": "code",
   "execution_count": null,
   "metadata": {
    "collapsed": true
   },
   "outputs": [],
   "source": []
  },
  {
   "cell_type": "markdown",
   "metadata": {},
   "source": [
    "### France specific data"
   ]
  },
  {
   "cell_type": "code",
   "execution_count": 181,
   "metadata": {},
   "outputs": [
    {
     "data": {
      "text/html": [
       "<div>\n",
       "<style scoped>\n",
       "    .dataframe tbody tr th:only-of-type {\n",
       "        vertical-align: middle;\n",
       "    }\n",
       "\n",
       "    .dataframe tbody tr th {\n",
       "        vertical-align: top;\n",
       "    }\n",
       "\n",
       "    .dataframe thead th {\n",
       "        text-align: right;\n",
       "    }\n",
       "</style>\n",
       "<table border=\"1\" class=\"dataframe\">\n",
       "  <thead>\n",
       "    <tr style=\"text-align: right;\">\n",
       "      <th></th>\n",
       "      <th>Unnamed: 0</th>\n",
       "      <th>country</th>\n",
       "      <th>Code</th>\n",
       "      <th>city</th>\n",
       "      <th>longitude</th>\n",
       "      <th>latitude</th>\n",
       "      <th>Date</th>\n",
       "      <th>endsampling</th>\n",
       "      <th>duration</th>\n",
       "      <th>i131</th>\n",
       "      <th>cs134</th>\n",
       "      <th>cs137</th>\n",
       "      <th>geometry</th>\n",
       "    </tr>\n",
       "  </thead>\n",
       "  <tbody>\n",
       "    <tr>\n",
       "      <th>277</th>\n",
       "      <td>277</td>\n",
       "      <td>FR</td>\n",
       "      <td>3</td>\n",
       "      <td>CADARACHE</td>\n",
       "      <td>5.75</td>\n",
       "      <td>43.71</td>\n",
       "      <td>1986-05-01</td>\n",
       "      <td>9</td>\n",
       "      <td>24.0</td>\n",
       "      <td>0.300000</td>\n",
       "      <td>0.0008</td>\n",
       "      <td>0.020000</td>\n",
       "      <td>POINT (43.71000 5.75000)</td>\n",
       "    </tr>\n",
       "    <tr>\n",
       "      <th>278</th>\n",
       "      <td>278</td>\n",
       "      <td>FR</td>\n",
       "      <td>3</td>\n",
       "      <td>CADARACHE</td>\n",
       "      <td>5.75</td>\n",
       "      <td>43.71</td>\n",
       "      <td>1986-05-02</td>\n",
       "      <td>9</td>\n",
       "      <td>24.0</td>\n",
       "      <td>6.299999</td>\n",
       "      <td>0.1800</td>\n",
       "      <td>0.410000</td>\n",
       "      <td>POINT (43.71000 5.75000)</td>\n",
       "    </tr>\n",
       "    <tr>\n",
       "      <th>279</th>\n",
       "      <td>279</td>\n",
       "      <td>FR</td>\n",
       "      <td>3</td>\n",
       "      <td>CADARACHE</td>\n",
       "      <td>5.75</td>\n",
       "      <td>43.71</td>\n",
       "      <td>1986-05-03</td>\n",
       "      <td>9</td>\n",
       "      <td>24.0</td>\n",
       "      <td>5.900000</td>\n",
       "      <td>0.4000</td>\n",
       "      <td>0.940000</td>\n",
       "      <td>POINT (43.71000 5.75000)</td>\n",
       "    </tr>\n",
       "    <tr>\n",
       "      <th>280</th>\n",
       "      <td>280</td>\n",
       "      <td>FR</td>\n",
       "      <td>3</td>\n",
       "      <td>CADARACHE</td>\n",
       "      <td>5.75</td>\n",
       "      <td>43.71</td>\n",
       "      <td>1986-05-04</td>\n",
       "      <td>9</td>\n",
       "      <td>24.0</td>\n",
       "      <td>6.599999</td>\n",
       "      <td>0.5000</td>\n",
       "      <td>1.099999</td>\n",
       "      <td>POINT (43.71000 5.75000)</td>\n",
       "    </tr>\n",
       "    <tr>\n",
       "      <th>281</th>\n",
       "      <td>281</td>\n",
       "      <td>FR</td>\n",
       "      <td>3</td>\n",
       "      <td>CADARACHE</td>\n",
       "      <td>5.75</td>\n",
       "      <td>43.71</td>\n",
       "      <td>1986-05-05</td>\n",
       "      <td>9</td>\n",
       "      <td>24.0</td>\n",
       "      <td>1.400000</td>\n",
       "      <td>0.1000</td>\n",
       "      <td>0.310000</td>\n",
       "      <td>POINT (43.71000 5.75000)</td>\n",
       "    </tr>\n",
       "    <tr>\n",
       "      <th>...</th>\n",
       "      <td>...</td>\n",
       "      <td>...</td>\n",
       "      <td>...</td>\n",
       "      <td>...</td>\n",
       "      <td>...</td>\n",
       "      <td>...</td>\n",
       "      <td>...</td>\n",
       "      <td>...</td>\n",
       "      <td>...</td>\n",
       "      <td>...</td>\n",
       "      <td>...</td>\n",
       "      <td>...</td>\n",
       "      <td>...</td>\n",
       "    </tr>\n",
       "    <tr>\n",
       "      <th>532</th>\n",
       "      <td>532</td>\n",
       "      <td>FR</td>\n",
       "      <td>3</td>\n",
       "      <td>VERDUN</td>\n",
       "      <td>5.38</td>\n",
       "      <td>49.15</td>\n",
       "      <td>1986-05-06</td>\n",
       "      <td>9</td>\n",
       "      <td>24.0</td>\n",
       "      <td>0.110000</td>\n",
       "      <td>0.0630</td>\n",
       "      <td>0.120000</td>\n",
       "      <td>POINT (49.15000 5.38000)</td>\n",
       "    </tr>\n",
       "    <tr>\n",
       "      <th>533</th>\n",
       "      <td>533</td>\n",
       "      <td>FR</td>\n",
       "      <td>3</td>\n",
       "      <td>VERDUN</td>\n",
       "      <td>5.38</td>\n",
       "      <td>49.15</td>\n",
       "      <td>1986-05-07</td>\n",
       "      <td>9</td>\n",
       "      <td>24.0</td>\n",
       "      <td>0.039000</td>\n",
       "      <td>0.0140</td>\n",
       "      <td>0.028000</td>\n",
       "      <td>POINT (49.15000 5.38000)</td>\n",
       "    </tr>\n",
       "    <tr>\n",
       "      <th>534</th>\n",
       "      <td>534</td>\n",
       "      <td>FR</td>\n",
       "      <td>3</td>\n",
       "      <td>VERDUN</td>\n",
       "      <td>5.38</td>\n",
       "      <td>49.15</td>\n",
       "      <td>1986-05-08</td>\n",
       "      <td>9</td>\n",
       "      <td>24.0</td>\n",
       "      <td>0.008700</td>\n",
       "      <td>0.0012</td>\n",
       "      <td>0.002000</td>\n",
       "      <td>POINT (49.15000 5.38000)</td>\n",
       "    </tr>\n",
       "    <tr>\n",
       "      <th>535</th>\n",
       "      <td>535</td>\n",
       "      <td>FR</td>\n",
       "      <td>3</td>\n",
       "      <td>VERDUN</td>\n",
       "      <td>5.38</td>\n",
       "      <td>49.15</td>\n",
       "      <td>1986-05-09</td>\n",
       "      <td>9</td>\n",
       "      <td>24.0</td>\n",
       "      <td>0.009100</td>\n",
       "      <td>0.0012</td>\n",
       "      <td>0.002100</td>\n",
       "      <td>POINT (49.15000 5.38000)</td>\n",
       "    </tr>\n",
       "    <tr>\n",
       "      <th>536</th>\n",
       "      <td>536</td>\n",
       "      <td>FR</td>\n",
       "      <td>3</td>\n",
       "      <td>VERDUN</td>\n",
       "      <td>5.38</td>\n",
       "      <td>49.15</td>\n",
       "      <td>1986-05-10</td>\n",
       "      <td>9</td>\n",
       "      <td>24.0</td>\n",
       "      <td>0.007600</td>\n",
       "      <td>0.0011</td>\n",
       "      <td>0.002060</td>\n",
       "      <td>POINT (49.15000 5.38000)</td>\n",
       "    </tr>\n",
       "  </tbody>\n",
       "</table>\n",
       "<p>260 rows × 13 columns</p>\n",
       "</div>"
      ],
      "text/plain": [
       "     Unnamed: 0 country  Code       city  longitude  latitude        Date  \\\n",
       "277         277      FR     3  CADARACHE       5.75     43.71  1986-05-01   \n",
       "278         278      FR     3  CADARACHE       5.75     43.71  1986-05-02   \n",
       "279         279      FR     3  CADARACHE       5.75     43.71  1986-05-03   \n",
       "280         280      FR     3  CADARACHE       5.75     43.71  1986-05-04   \n",
       "281         281      FR     3  CADARACHE       5.75     43.71  1986-05-05   \n",
       "..          ...     ...   ...        ...        ...       ...         ...   \n",
       "532         532      FR     3     VERDUN       5.38     49.15  1986-05-06   \n",
       "533         533      FR     3     VERDUN       5.38     49.15  1986-05-07   \n",
       "534         534      FR     3     VERDUN       5.38     49.15  1986-05-08   \n",
       "535         535      FR     3     VERDUN       5.38     49.15  1986-05-09   \n",
       "536         536      FR     3     VERDUN       5.38     49.15  1986-05-10   \n",
       "\n",
       "     endsampling  duration      i131   cs134     cs137  \\\n",
       "277            9      24.0  0.300000  0.0008  0.020000   \n",
       "278            9      24.0  6.299999  0.1800  0.410000   \n",
       "279            9      24.0  5.900000  0.4000  0.940000   \n",
       "280            9      24.0  6.599999  0.5000  1.099999   \n",
       "281            9      24.0  1.400000  0.1000  0.310000   \n",
       "..           ...       ...       ...     ...       ...   \n",
       "532            9      24.0  0.110000  0.0630  0.120000   \n",
       "533            9      24.0  0.039000  0.0140  0.028000   \n",
       "534            9      24.0  0.008700  0.0012  0.002000   \n",
       "535            9      24.0  0.009100  0.0012  0.002100   \n",
       "536            9      24.0  0.007600  0.0011  0.002060   \n",
       "\n",
       "                     geometry  \n",
       "277  POINT (43.71000 5.75000)  \n",
       "278  POINT (43.71000 5.75000)  \n",
       "279  POINT (43.71000 5.75000)  \n",
       "280  POINT (43.71000 5.75000)  \n",
       "281  POINT (43.71000 5.75000)  \n",
       "..                        ...  \n",
       "532  POINT (49.15000 5.38000)  \n",
       "533  POINT (49.15000 5.38000)  \n",
       "534  POINT (49.15000 5.38000)  \n",
       "535  POINT (49.15000 5.38000)  \n",
       "536  POINT (49.15000 5.38000)  \n",
       "\n",
       "[260 rows x 13 columns]"
      ]
     },
     "execution_count": 181,
     "metadata": {},
     "output_type": "execute_result"
    }
   ],
   "source": [
    "geo_france_air"
   ]
  },
  {
   "cell_type": "code",
   "execution_count": 182,
   "metadata": {
    "collapsed": true
   },
   "outputs": [],
   "source": [
    "# Plot the measurements taken from france on a france map. \n",
    "geo_france_air = geo_air.loc[geo_air['country'] == 'FR']"
   ]
  },
  {
   "cell_type": "code",
   "execution_count": null,
   "metadata": {
    "collapsed": true
   },
   "outputs": [],
   "source": []
  },
  {
   "cell_type": "code",
   "execution_count": null,
   "metadata": {
    "collapsed": true
   },
   "outputs": [],
   "source": []
  },
  {
   "cell_type": "code",
   "execution_count": null,
   "metadata": {
    "collapsed": true
   },
   "outputs": [],
   "source": []
  },
  {
   "cell_type": "code",
   "execution_count": 183,
   "metadata": {
    "collapsed": true
   },
   "outputs": [],
   "source": [
    "geo_france_map = gdf_europe.loc[gdf_europe['country_code'] == 'FR']"
   ]
  },
  {
   "cell_type": "code",
   "execution_count": null,
   "metadata": {
    "collapsed": true
   },
   "outputs": [],
   "source": []
  },
  {
   "cell_type": "code",
   "execution_count": null,
   "metadata": {
    "collapsed": true
   },
   "outputs": [],
   "source": []
  },
  {
   "cell_type": "code",
   "execution_count": 184,
   "metadata": {},
   "outputs": [
    {
     "data": {
      "image/svg+xml": [
       "<svg xmlns=\"http://www.w3.org/2000/svg\" xmlns:xlink=\"http://www.w3.org/1999/xlink\" width=\"127.04380664062501\" height=\"100.0\" viewBox=\"-66.49941796875 -26.07436914062501 127.04380664062501 81.87681445312501\" preserveAspectRatio=\"xMinYMin meet\"><g transform=\"matrix(1,0,0,-1,0,29.72807617187499)\"><g><path fill-rule=\"evenodd\" fill=\"#66cc99\" stroke=\"#555555\" stroke-width=\"2.0\" opacity=\"0.6\" d=\"M 9.480371093750023,42.805419921875 L 9.454199218750006,42.658593749999994 L 9.473242187500006,42.615576171875 L 9.509375000000006,42.585595703124994 L 9.526171875000017,42.552636718749994 L 9.556445312500017,42.160937499999996 L 9.550683593750023,42.129736328125 L 9.428417968750011,41.972412109375 L 9.40087890625,41.926220703125 L 9.394824218750017,41.731201171875 L 9.374218750000011,41.67880859375 L 9.330859375000017,41.6271484375 L 9.25341796875,41.46005859375 L 9.186132812500006,41.384912109374994 L 9.003027343750006,41.4765625 L 8.89501953125,41.516162109374996 L 8.842089843750017,41.558886718749996 L 8.807519531250023,41.58837890625 L 8.829785156250011,41.627685546875 L 8.879003906250006,41.6685546875 L 8.886816406250006,41.70068359375 L 8.77099609375,41.737109374999996 L 8.717968750000011,41.76142578125 L 8.718652343750023,41.804003906249996 L 8.758691406250023,41.870410156249996 L 8.740429687500011,41.925146484375 L 8.673632812500017,41.92236328125 L 8.621875000000017,41.930712890624996 L 8.615136718750023,41.959130859374994 L 8.653417968750006,41.995556640625 L 8.702539062500023,42.043115234374994 L 8.700976562500017,42.095605468749994 L 8.6416015625,42.118212890624996 L 8.587792968750023,42.16083984375 L 8.566210937500017,42.218798828124996 L 8.60791015625,42.258447265624994 L 8.675488281250011,42.284033203125 L 8.625878906250023,42.343408203124994 L 8.592382812500006,42.3447265625 L 8.565625000000011,42.357714843749996 L 8.587500000000006,42.385302734374996 L 8.640039062500023,42.426562499999996 L 8.713085937500011,42.549755859375 L 8.814843750000023,42.60791015625 L 8.994921875000017,42.645312499999996 L 9.043652343750011,42.661669921874996 L 9.08837890625,42.704980468749994 L 9.137890625000011,42.73291015625 L 9.198046875000017,42.72919921875 L 9.253515625000006,42.712451171874996 L 9.287695312500006,42.694628906249996 L 9.313378906250023,42.713183593749996 L 9.33837890625,42.766894531249996 L 9.323046875000017,42.8140625 L 9.330957031250023,42.943798828125 L 9.363183593750023,43.017382812499996 L 9.415234375000011,43.021484375 L 9.463281250000023,42.981005859374996 L 9.460839843750023,42.945214843749994 L 9.478613281250006,42.860498046874994 L 9.480371093750023,42.805419921875 z\" /><path fill-rule=\"evenodd\" fill=\"#66cc99\" stroke=\"#555555\" stroke-width=\"2.0\" opacity=\"0.6\" d=\"M 7.615625000000023,47.592724609375 L 7.494921875000017,47.54736328125 L 7.467382812500006,47.507666015625 L 7.420019531250006,47.45517578125 L 7.343164062500023,47.43310546875 L 7.265722656250006,47.42578125 L 7.203125,47.43271484375 L 7.16748046875,47.4537109375 L 7.169238281250017,47.4732421875 L 7.136035156250017,47.48984375 L 7.053417968750011,47.48935546875 L 6.968359375000006,47.45322265625 L 6.900390625,47.39423828125 L 6.921484375000006,47.361230468749994 L 6.984082031250011,47.3525390625 L 7.000585937500006,47.339453125 L 7.000585937500006,47.322509765625 L 6.978515625,47.302050781249996 L 6.952050781250023,47.2671875 L 6.820703125000023,47.16318359375 L 6.688085937500006,47.058251953124994 L 6.666894531250023,47.026513671874994 L 6.624804687500017,47.004345703125 L 6.456250000000011,46.94833984375 L 6.438574218750006,46.92587890625 L 6.429003906250017,46.832275390625 L 6.41015625,46.755419921874996 L 6.28515625,46.683056640625 L 6.160742187500006,46.61103515625 L 6.129687500000017,46.5669921875 L 6.107031250000006,46.516064453125 L 6.067968750000006,46.458544921874996 L 6.060253906250011,46.428173828125 L 6.123242187500011,46.37861328125 L 6.115917968750011,46.337646484375 L 6.095898437500011,46.27939453125 L 6.0361328125,46.238085937499996 L 5.970019531250017,46.214697265625 L 5.971484375000017,46.151220703125 L 6.006640625000017,46.142333984375 L 6.086621093750011,46.147021484374996 L 6.199414062500011,46.19306640625 L 6.27294921875,46.252246093749996 L 6.229589843750006,46.308447265625 L 6.224218750000006,46.31943359375 L 6.234667968750017,46.3326171875 L 6.321875000000006,46.393701171874994 L 6.428906250000011,46.430517578125 L 6.578222656250006,46.437353515625 L 6.758105468750017,46.415771484375 L 6.776074218750011,46.406640624999994 L 6.767382812500017,46.369189453124996 L 6.7841796875,46.31396484375 L 6.816796875000023,46.275195312499996 L 6.772070312500006,46.16513671875 L 6.8056640625,46.130664062499996 L 6.858007812500006,46.089404296874996 L 6.897265625000017,46.0517578125 L 6.953710937500006,46.017138671874996 L 7.00390625,45.958837890625 L 7.021093750000006,45.92578125 L 6.940820312500023,45.868359375 L 6.804492187500017,45.81455078125 L 6.789160156250006,45.780078124999996 L 6.790917968750023,45.740869140624994 L 6.806250000000006,45.710009765624996 L 6.881445312500006,45.670361328125 L 6.96240234375,45.58056640625 L 7.013671875,45.50048828125 L 7.126074218750006,45.423681640625 L 7.153417968750006,45.400927734374996 L 7.146386718750023,45.381738281249994 L 7.116796875000006,45.349023437499994 L 7.078320312500011,45.23994140625 L 7.032421875000011,45.222607421875 L 6.981250000000017,45.215576171875 L 6.84228515625,45.135644531249994 L 6.780371093750006,45.145312499999996 L 6.692285156250023,45.144287109375 L 6.627734375000017,45.117968749999996 L 6.634765625,45.068164062499996 L 6.69140625,45.022607421874994 L 6.724707031250006,44.972998046875 L 6.738183593750023,44.92138671875 L 6.801074218750017,44.883154296875 L 6.889355468750011,44.860302734375 L 6.939843750000023,44.858740234375 L 6.972851562500011,44.845019531249996 L 6.99267578125,44.827294921874994 L 7.030664062500023,44.716699218749994 L 7.007910156250006,44.68896484375 L 6.960351562500023,44.677148437499994 L 6.931933593750017,44.631640624999996 L 6.875195312500011,44.56455078125 L 6.842968750000011,44.510693359375 L 6.878613281250011,44.463281249999994 L 6.893847656250017,44.428173828125 L 6.874804687500017,44.392041015625 L 6.900195312500017,44.335742187499996 L 6.96728515625,44.280029296875 L 7.1494140625,44.201708984374996 L 7.318554687500011,44.137988281249996 L 7.370898437500017,44.127392578125 L 7.599414062500017,44.168359374999994 L 7.63720703125,44.164843749999996 L 7.6650390625,44.116015624999996 L 7.677148437500023,44.083154296874994 L 7.651464843750006,44.033642578125 L 7.589648437500017,43.9654296875 L 7.522656250000011,43.911083984375 L 7.482031250000006,43.864892578124994 L 7.490527343750017,43.82294921875 L 7.4931640625,43.767138671874996 L 7.438671875000011,43.750439453125 L 7.436914062500023,43.761474609375 L 7.414453125000023,43.770898437499994 L 7.39501953125,43.76533203125 L 7.380078125000011,43.753222656249996 L 7.377734375000017,43.731738281249996 L 7.261523437500017,43.696093749999996 L 7.181445312500017,43.659130859375 L 6.86474609375,43.438330078125 L 6.716601562500017,43.373583984374996 L 6.687402343750023,43.3345703125 L 6.6572265625,43.261669921875 L 6.570214843750023,43.199072265625 L 6.494042968750023,43.169287109375 L 6.305371093750011,43.138720703124996 L 6.115917968750011,43.07236328125 L 6.030566406250017,43.100976562499994 L 5.809472656250023,43.097900390625 L 5.671582031250011,43.17783203125 L 5.406542968750017,43.228515625 L 5.320214843750023,43.344921875 L 5.199511718750017,43.352490234375 L 5.120410156250017,43.348974609375 L 5.073144531250023,43.366601562499994 L 5.060839843750017,43.406298828124996 L 5.059765625000011,43.44453125 L 4.975976562500023,43.426953125 L 4.911914062500017,43.426953125 L 4.873730468750011,43.41162109375 L 4.843554687500017,43.393945312499994 L 4.807910156250017,43.405224609375 L 4.787207031250006,43.401416015624996 L 4.7890625,43.37890625 L 4.712109375000011,43.373291015625 L 4.628710937500017,43.387109374999994 L 4.409765625000006,43.447216796875 L 4.376171875000011,43.456396484375 L 4.224218750000006,43.479638671874994 L 4.162792968750011,43.503662109375 L 4.113085937500017,43.563037109374996 L 4.075097656250023,43.581835937499996 L 4.052636718750023,43.593066406249996 L 3.9108398437500114,43.5630859375 L 3.861621093750017,43.516357421875 L 3.7847656250000057,43.46162109375 L 3.2588867187500057,43.193212890625 L 3.162890625000017,43.08076171875 L 3.0517578125,42.91513671875 L 3.0430664062500057,42.837890625 L 3.0909179687500057,42.590869140624996 L 3.1978515625000057,42.461181640625 L 3.21142578125,42.43115234375 L 3.152148437500017,42.431005859375 L 3.0526367187500227,42.447216796875 L 2.970019531250017,42.467236328125 L 2.891406250000017,42.4560546875 L 2.8156250000000114,42.429248046874996 L 2.7494140625000227,42.413037109375 L 2.7018554687500114,42.408496093749996 L 2.6700195312500057,42.393017578125 L 2.65478515625,42.362109374999996 L 2.651660156250017,42.340478515624994 L 2.5679687500000057,42.34580078125 L 2.3744140625000227,42.390283203124994 L 2.2003906250000114,42.420947265624996 L 2.0983398437500114,42.386083984375 L 2.03271484375,42.353515625 L 1.9865234375000114,42.35849609375 L 1.951464843750017,42.3927734375 L 1.9279296875000114,42.426318359374996 L 1.8597656250000227,42.457080078124996 L 1.7060546875,42.503320312499994 L 1.7139648437500057,42.525634765625 L 1.740234375,42.55673828125 L 1.7394531250000114,42.575927734375 L 1.7098632812500227,42.604443359375 L 1.568164062500017,42.635009765625 L 1.5013671875000227,42.642724609374994 L 1.4588867187500227,42.6216796875 L 1.4283203125000057,42.5958984375 L 1.349414062500017,42.690673828125 L 1.293261718750017,42.7099609375 L 1.208300781250017,42.713134765625 L 1.111132812500017,42.742041015625 L 1.010058593750017,42.778955078124994 L 0.764453125000017,42.838037109374994 L 0.6968750000000057,42.845117187499994 L 0.6698242187500227,42.835742187499996 L 0.6517578125000227,42.800439453124994 L 0.6419921875000227,42.700634765625 L 0.631640625000017,42.689599609374994 L 0.5176757812500057,42.686279296875 L 0.37724609375001705,42.700146484375 L 0.31289062500002274,42.693261718749994 L 0.2554687500000057,42.692919921874996 L 0.20136718750001137,42.7193359375 L -0.041162109374994316,42.689111328124994 L -0.08149414062498295,42.703857421875 L -0.14003906249999432,42.748925781249994 L -0.205322265625,42.785302734374994 L -0.25605468749998295,42.803955078125 L -0.29931640625,42.825341796874994 L -0.33857421874998295,42.82880859375 L -0.3984375,42.80810546875 L -0.48115234374998295,42.79931640625 L -0.5498046875,42.802001953125 L -0.58642578125,42.798974609374994 L -0.740185546874983,42.909521484375 L -0.762646484374983,42.939794921875 L -0.8392089843749773,42.948193359375 L -0.933837890625,42.949511718749996 L -1.1754394531249943,43.021142578124994 L -1.2854492187499886,43.059619140624996 L -1.3015624999999886,43.082470703125 L -1.300048828125,43.100976562499994 L -1.31884765625,43.096972656249996 L -1.352734374999983,43.064257812499996 L -1.3705078124999943,43.03759765625 L -1.39404296875,43.032617187499994 L -1.4287597656249886,43.036767578124994 L -1.4608398437499943,43.0517578125 L -1.48046875,43.071142578125 L -1.459423828124983,43.10498046875 L -1.422607421875,43.14912109375 L -1.4073242187499773,43.197119140625 L -1.4106933593749886,43.240087890625 L -1.4717285156249886,43.26767578125 L -1.561474609374983,43.279199218749994 L -1.627148437499983,43.282470703125 L -1.712841796874983,43.307031249999994 L -1.7532714843749773,43.32470703125 L -1.792724609375,43.37255859375 L -1.7940429687499773,43.40732421875 L -1.6314453124999773,43.438037109374996 L -1.48486328125,43.563769531249996 L -1.3459960937499886,44.02021484375 L -1.2455078124999943,44.559863281249996 L -1.1708007812499943,44.66181640625 L -1.0769531249999886,44.689843749999994 L -1.1528808593749886,44.764013671875 L -1.200390624999983,44.726464843749994 L -1.2203124999999773,44.68662109375 L -1.2452148437499773,44.66669921875 L -1.1890624999999773,45.161474609375 L -1.1490722656249943,45.342626953125 L -1.081005859374983,45.532421875 L -0.9417480468749773,45.457080078124996 L -0.8263183593749943,45.380664062499996 L -0.7666503906249886,45.314355468749994 L -0.691113281249983,45.09345703125 L -0.633984374999983,45.047119140625 L -0.5484863281249943,45.0005859375 L -0.582275390625,45.0513671875 L -0.64111328125,45.090185546875 L -0.733105468749983,45.384619140625 L -0.790771484375,45.468017578125 L -0.8806640624999886,45.53818359375 L -1.1699707031249886,45.685937499999994 L -1.195996093749983,45.714453125 L -1.2099609375,45.770898437499994 L -1.1143554687499773,45.768505859375 L -1.03173828125,45.741064453125 L -1.04150390625,45.77265625 L -1.0660156249999773,45.8056640625 L -1.1043945312499943,45.925341796874996 L -1.1363769531249943,46.204833984375 L -1.132031249999983,46.252685546875 L -1.1462890624999886,46.311376953125 L -1.2388183593749886,46.324511718749996 L -1.3127929687499886,46.326904296875 L -1.3924804687499943,46.35009765625 L -1.7865234374999943,46.51484375 L -1.9214355468749886,46.684814453125 L -2.0593749999999886,46.810302734375 L -2.092480468749983,46.865039062499996 L -2.090283203124983,46.9205078125 L -2.0188964843749773,47.037646484374996 L -2.0819335937499943,47.111621093749996 L -2.1435546875,47.126318359375 L -2.1970703124999886,47.162939453125 L -2.1485839843749943,47.223925781249996 L -2.1083007812499943,47.262939453125 L -2.027587890625,47.273583984374994 L -1.9217285156249773,47.260644531249994 L -1.8212890625,47.225341796875 L -1.7425292968749773,47.215966796874994 L -1.9753906249999886,47.310693359374994 L -2.35302734375,47.278759765625 L -2.4344238281249773,47.290966796875 L -2.503124999999983,47.312060546874996 L -2.530029296875,47.381591796875 L -2.476318359375,47.412939453125 L -2.427685546874983,47.4708984375 L -2.4827148437499886,47.511621093749994 L -2.5540527343749773,47.52705078125 L -2.6659179687499943,47.526171874999996 L -2.7703124999999886,47.5138671875 L -2.7967773437499943,47.537255859374994 L -2.733105468749983,47.601806640625 L -2.7872070312499773,47.625537109374996 L -2.859375,47.614453125 L -2.964062499999983,47.60107421875 L -3.064208984375,47.621337890625 L -3.1588378906249943,47.694677734375 L -3.2215820312499943,47.694140624999996 L -3.2646972656249886,47.685107421874996 L -3.32861328125,47.713330078125 L -3.3958984374999943,47.72041015625 L -3.4439453124999773,47.71103515625 L -3.5078125,47.753125 L -3.9009277343749886,47.837548828124994 L -4.070703124999994,47.8478515625 L -4.226416015624977,47.809619140624996 L -4.312109374999977,47.822900390624994 L -4.375097656249977,47.87744140625 L -4.427978515625,47.9689453125 L -4.678808593749977,48.039501953125 L -4.629199218749989,48.085791015625 L -4.512402343749983,48.096728515624996 L -4.377832031249994,48.128808593749994 L -4.329443359374977,48.169970703124996 L -4.434619140624989,48.21796875 L -4.51220703125,48.229736328125 L -4.544335937499994,48.246972656249994 L -4.5771484375,48.2900390625 L -4.530664062499994,48.309716796874994 L -4.497900390624977,48.299267578125 L -4.4033203125,48.29306640625 L -4.241406249999983,48.303662109375 L -4.3017578125,48.347070312499994 L -4.364404296874994,48.356738281249996 L -4.393164062499977,48.367626953125 L -4.524804687499994,48.372314453125 L -4.584716796875,48.35751953125 L -4.719384765624994,48.363134765625 L -4.74853515625,48.410009765625 L -4.762499999999989,48.450244140624996 L -4.720751953124989,48.539892578125 L -4.531201171874983,48.619970703125 L -4.058886718749989,48.70751953125 L -3.855664062499983,48.694726562499994 L -3.714794921874983,48.710498046874996 L -3.5459960937499773,48.765673828124996 L -3.4714843749999886,48.812939453125 L -3.2314453125,48.8408203125 L -3.0032226562499886,48.790673828124994 L -2.7928710937499943,48.60107421875 L -2.692333984374983,48.53681640625 L -2.4461914062499943,48.648291015625 L -2.0794433593749773,48.64501953125 L -2.0037109374999886,48.582080078124996 L -1.97314453125,48.635107421875 L -1.905712890624983,48.697119140625 L -1.8519531249999943,48.668847656249994 L -1.82470703125,48.630517578124994 L -1.4376464843749943,48.641406249999996 L -1.37646484375,48.652587890625 L -1.48046875,48.697607421875 L -1.5654785156249886,48.805517578125 L -1.5831054687499773,49.202392578125 L -1.6903320312499943,49.31318359375 L -1.813427734374983,49.490136718749994 L -1.870068359374983,49.595117187499994 L -1.8753906249999943,49.631396484374996 L -1.8564453125,49.6837890625 L -1.7051269531249886,49.680957031249996 L -1.5882324218749773,49.66767578125 L -1.36572265625,49.707275390625 L -1.2586425781249773,49.68017578125 L -1.2649414062499886,49.5982421875 L -1.2322753906249773,49.494873046875 L -1.1949707031249943,49.44482421875 L -1.1385253906249773,49.387890625 L -0.9591308593749943,49.3931640625 L -0.7655273437499943,49.359716796875 L -0.5208984374999943,49.354541015624996 L -0.16347656249999432,49.296777343749994 L -0.011181640624982947,49.330224609374994 L 0.13613281250002274,49.401513671874994 L 0.41689453125002274,49.448388671874994 L 0.43925781250001705,49.473193359374996 L 0.27763671875001705,49.463281249999994 L 0.12939453125,49.508447265624994 L 0.109375,49.557519531249994 L 0.12656250000000568,49.6015625 L 0.18671875000001137,49.703027343749994 L 0.6162109375,49.862939453124994 L 0.924121093750017,49.910205078124996 L 1.2455078125000227,49.9982421875 L 1.4072265625,50.088525390624994 L 1.5140625000000227,50.205078125 L 1.5484375000000057,50.230712890625 L 1.5927734375,50.252197265625 L 1.551562500000017,50.2939453125 L 1.5794921875000227,50.7392578125 L 1.6095703125000114,50.819482421874994 L 1.6722656250000227,50.885009765625 L 1.7676757812500057,50.935693359374994 L 1.9125000000000227,50.990624999999994 L 2.4457031250000227,51.06650390625 L 2.52490234375,51.097119140625 L 2.5360351562500227,51.04951171875 L 2.5748046875000057,50.988574218749996 L 2.6014648437500227,50.9552734375 L 2.5792968750000114,50.911767578124994 L 2.5967773437500057,50.875927734375 L 2.6691406250000114,50.811425781249994 L 2.7593750000000057,50.750634765624994 L 2.8397460937500227,50.711767578125 L 2.8624023437500057,50.716015625 L 2.9219726562500057,50.72705078125 L 3.0228515625000227,50.766894531249996 L 3.1068359375000227,50.779443359374994 L 3.1548828125000057,50.748925781249994 L 3.1820312500000227,50.731689453125 L 3.2349609375000057,50.662939453125 L 3.249804687500017,50.591162109375 L 3.2733398437500227,50.531542968749996 L 3.316210937500017,50.507373046874996 L 3.4769531250000227,50.499462890625 L 3.5954101562500114,50.477343749999996 L 3.626757812500017,50.457324218749996 L 3.667285156250017,50.3248046875 L 3.6893554687500227,50.306054687499994 L 3.7188476562500057,50.321679687499994 L 3.748046875,50.343505859375 L 3.78857421875,50.346972656249996 L 3.8581054687500114,50.33857421875 L 3.94970703125,50.3359375 L 4.044140625000011,50.321337890624996 L 4.174609375000017,50.246484374999994 L 4.169628906250011,50.22177734375 L 4.144140625000006,50.17841796875 L 4.13525390625,50.143798828125 L 4.15771484375,50.1298828125 L 4.192187500000017,50.094140624999994 L 4.183886718750017,50.05283203125 L 4.150292968750023,50.023876953125 L 4.136816406250006,50.0 L 4.137011718750017,49.98447265625 L 4.149316406250023,49.971582031249994 L 4.176074218750017,49.960253906249996 L 4.368750000000006,49.944970703124994 L 4.545019531250006,49.960253906249996 L 4.656152343750023,50.00244140625 L 4.675097656250017,50.046875 L 4.706640625000006,50.097070312499994 L 4.772851562500023,50.139062499999994 L 4.818652343750017,50.153173828125 L 4.860546875000011,50.135888671874994 L 4.7900390625,49.9595703125 L 4.841503906250011,49.914501953125 L 4.84912109375,49.847119140625 L 4.867578125000023,49.788134765624996 L 4.930566406250023,49.7892578125 L 5.006933593750006,49.778369140624996 L 5.06103515625,49.75654296875 L 5.124121093750006,49.721484374999996 L 5.215039062500011,49.689257812499996 L 5.27880859375,49.6779296875 L 5.301953125000011,49.6509765625 L 5.353515625,49.61982421875 L 5.434667968750006,49.554492187499996 L 5.50732421875,49.510888671874994 L 5.542382812500023,49.511035156249996 L 5.610058593750011,49.528222656249994 L 5.71044921875,49.539208984374994 L 5.789746093750011,49.53828125 L 5.823437500000011,49.505078125 L 5.9013671875,49.48974609375 L 5.928906250000011,49.4775390625 L 5.95947265625,49.454638671874996 L 6.011425781250011,49.445458984374994 L 6.074121093750023,49.454638671874996 L 6.119921875000017,49.485205078125 L 6.181054687500023,49.498925781249994 L 6.2421875,49.4943359375 L 6.27734375,49.4775390625 L 6.344335937500006,49.452734375 L 6.382226562500023,49.458154296874994 L 6.458105468750006,49.44287109375 L 6.534277343750006,49.394677734374994 L 6.566308593750023,49.34619140625 L 6.57470703125,49.319677734375 L 6.607617187500011,49.290869140625 L 6.735449218750006,49.160595703125 L 6.776269531250023,49.154150390625 L 6.820703125000023,49.17392578125 L 6.849511718750023,49.201953124999996 L 6.891210937500006,49.20751953125 L 6.958300781250017,49.194628906249996 L 7.00146484375,49.1798828125 L 7.022167968750011,49.123437499999994 L 7.036718750000006,49.112695312499994 L 7.065722656250017,49.124853515625 L 7.117382812500011,49.1275390625 L 7.199902343750011,49.113623046875 L 7.313378906250023,49.129541015624994 L 7.404199218750023,49.153076171875 L 7.450585937500023,49.152197265625 L 7.525488281250006,49.086376953125 L 7.610937500000006,49.061767578125 L 7.799218750000023,49.041894531249994 L 8.001269531250017,49.0109375 L 8.080664062500006,48.985888671874996 L 8.134863281250006,48.973583984375 L 8.140332031250011,48.88642578125 L 8.1240234375,48.873291015625 L 7.922753906250023,48.698535156249996 L 7.837988281250006,48.636035156249996 L 7.794824218750023,48.546826171875 L 7.76513671875,48.410009765625 L 7.705664062500006,48.280029296875 L 7.616601562500023,48.156787109374996 L 7.584179687500011,48.064306640625 L 7.608496093750006,48.002587890624994 L 7.59326171875,47.905664062499994 L 7.53857421875,47.7736328125 L 7.529394531250006,47.673876953124996 L 7.5654296875,47.60654296875 L 7.615625000000023,47.592724609375 z\" /><path fill-rule=\"evenodd\" fill=\"#66cc99\" stroke=\"#555555\" stroke-width=\"2.0\" opacity=\"0.6\" d=\"M -1.1783203124999773,45.904052734375 L -1.213574218749983,45.8166015625 L -1.2802734375,45.897119140624994 L -1.3687011718749886,45.967675781249994 L -1.388867187499983,46.032958984375 L -1.388671875,46.050390625 L -1.2850585937499943,46.002685546875 L -1.1783203124999773,45.904052734375 z\" /><path fill-rule=\"evenodd\" fill=\"#66cc99\" stroke=\"#555555\" stroke-width=\"2.0\" opacity=\"0.6\" d=\"M 45.180273437500006,-12.976757812500011 L 45.11757812500002,-12.984960937500006 L 45.08769531250002,-12.95849609375 L 45.069433593750006,-12.895605468750006 L 45.08828125000002,-12.835058593750006 L 45.09355468750002,-12.7861328125 L 45.042578125000006,-12.701269531250006 L 45.092382812500006,-12.653027343750011 L 45.134765625,-12.709179687500011 L 45.158789062500006,-12.712988281250006 L 45.22314453125,-12.752148437500011 L 45.20429687500001,-12.824316406250006 L 45.208593750000006,-12.847949218750003 L 45.17939453125001,-12.920214843750003 L 45.180273437500006,-12.976757812500011 z\" /><path fill-rule=\"evenodd\" fill=\"#66cc99\" stroke=\"#555555\" stroke-width=\"2.0\" opacity=\"0.6\" d=\"M 55.79736328125,-21.33935546875 L 55.65615234375002,-21.36904296875001 L 55.5576171875,-21.35830078125001 L 55.36269531250002,-21.27363281250001 L 55.31035156250002,-21.217382812500006 L 55.23281250000002,-21.058398437500003 L 55.25,-21.00244140625 L 55.31132812500002,-20.904101562500003 L 55.45048828125002,-20.86513671875001 L 55.59648437500002,-20.87958984375001 L 55.66191406250002,-20.90625 L 55.73916015625002,-21.021484375 L 55.83906250000001,-21.13857421875001 L 55.82246093750001,-21.27783203125 L 55.79736328125,-21.33935546875 z\" /><path fill-rule=\"evenodd\" fill=\"#66cc99\" stroke=\"#555555\" stroke-width=\"2.0\" opacity=\"0.6\" d=\"M -60.82626953124999,14.494482421874991 L -60.83662109375,14.437402343749994 L -60.86210937499999,14.42626953125 L -60.8994140625,14.473779296874994 L -61.063720703125,14.467089843750003 L -61.0888671875,14.509570312500003 L -61.09033203125,14.529687499999994 L -61.01132812499999,14.601904296874991 L -61.10429687499999,14.621240234374994 L -61.14111328125,14.652392578125003 L -61.2197265625,14.804394531249997 L -61.213330078125,14.848583984374997 L -61.180810546874994,14.871923828124991 L -61.127392578125,14.875292968750003 L -61.027099609375,14.826171875 L -60.952539062499994,14.756249999999994 L -60.927148437499994,14.755175781250003 L -60.91865234375,14.7353515625 L -60.93369140624999,14.686181640624994 L -60.88916015625,14.64453125 L -60.86997070312499,14.613720703124997 L -60.82626953124999,14.494482421874991 z\" /><path fill-rule=\"evenodd\" fill=\"#66cc99\" stroke=\"#555555\" stroke-width=\"2.0\" opacity=\"0.6\" d=\"M -61.3271484375,16.230419921874997 L -61.44482421875,16.219287109375003 L -61.52216796875,16.22802734375 L -61.539990234375,16.299609375000003 L -61.50058593749999,16.36020507812499 L -61.52890624999999,16.433789062499997 L -61.510644531249994,16.477685546874994 L -61.47119140625,16.506640625000003 L -61.4064453125,16.468310546875003 L -61.396142578124994,16.41342773437499 L -61.35546875,16.363183593749994 L -61.172607421875,16.256103515625 L -61.3271484375,16.230419921874997 z\" /><path fill-rule=\"evenodd\" fill=\"#66cc99\" stroke=\"#555555\" stroke-width=\"2.0\" opacity=\"0.6\" d=\"M -61.58955078125,16.00693359374999 L -61.67045898437499,15.962060546874994 L -61.71025390624999,15.975927734374991 L -61.759423828124994,16.062060546875003 L -61.794091796874994,16.300976562499997 L -61.76713867187499,16.340478515624994 L -61.748046875,16.355273437500003 L -61.641503906249994,16.325976562500003 L -61.59702148437499,16.292187499999997 L -61.55234374999999,16.270898437499994 L -61.57504882812499,16.22714843749999 L -61.563867187499994,16.047753906249994 L -61.58955078125,16.00693359374999 z\" /><path fill-rule=\"evenodd\" fill=\"#66cc99\" stroke=\"#555555\" stroke-width=\"2.0\" opacity=\"0.6\" d=\"M -61.23046875,15.889941406250003 L -61.28623046874999,15.886035156250003 L -61.3107421875,15.894677734374994 L -61.31840820312499,15.954882812500003 L -61.275292968749994,15.996240234374994 L -61.25,16.006298828124997 L -61.212353515625,15.959912109374997 L -61.20341796874999,15.921240234374991 L -61.23046875,15.889941406250003 z\" /><path fill-rule=\"evenodd\" fill=\"#66cc99\" stroke=\"#555555\" stroke-width=\"2.0\" opacity=\"0.6\" d=\"M -54.61625976562499,2.3267578124999915 L -54.604736328125,2.3357910156249915 L -54.56840820312499,2.3425781249999886 L -54.53593749999999,2.3433105468749886 L -54.485546875,2.4161132812499915 L -54.402001953124994,2.4615234374999915 L -54.256738281249994,2.7137207031249915 L -54.1955078125,2.81787109375 L -54.18808593749999,2.8748535156249915 L -54.17070312499999,2.993603515624997 L -54.203125,3.13818359375 L -54.18803710937499,3.1787597656249886 L -54.06318359375,3.3533203124999886 L -54.00957031249999,3.4485351562499886 L -54.00595703124999,3.530517578125 L -53.990478515625,3.589550781249997 L -54.00590820312499,3.6204101562499886 L -54.03422851562499,3.62939453125 L -54.081982421875,3.7059570312499943 L -54.11279296875,3.7694335937499943 L -54.1974609375,3.834423828124997 L -54.255517578124994,3.901074218749997 L -54.350732421874994,4.054101562499994 L -54.34213867187499,4.140039062499994 L -54.369140625,4.170947265624989 L -54.398388671875,4.2024902343749915 L -54.396240234375,4.241406249999997 L -54.416015625,4.337646484375 L -54.440673828125,4.428027343749989 L -54.449609374999994,4.485009765624994 L -54.42607421874999,4.5830078125 L -54.44023437499999,4.6919921874999915 L -54.471142578125,4.749316406249989 L -54.4796875,4.8365234374999915 L -54.47333984375,4.914697265624994 L -54.44687499999999,4.958789062499989 L -54.45219726562499,5.013476562499989 L -54.33164062499999,5.187402343749994 L -54.240185546875,5.288232421874994 L -54.15595703125,5.3589843749999915 L -54.08530273437499,5.411816406249997 L -53.98959960937499,5.676025390625 L -53.919921875,5.768994140624997 L -53.84716796875,5.7822265625 L -53.45444335937499,5.5634765625 L -53.27036132812499,5.543261718749989 L -52.899316406249994,5.425048828125 L -52.76499023437499,5.273486328124989 L -52.45395507812499,5.0213378906249915 L -52.29052734375,4.942187499999989 L -52.28891601562499,4.876123046874994 L -52.324609374999994,4.770898437499994 L -52.219970703125,4.86279296875 L -52.05810546875,4.7173828124999915 L -52.01230468749999,4.64599609375 L -51.9619140625,4.514404296875 L -51.979345703125006,4.429882812499997 L -52.001708984375,4.38623046875 L -52.0029296875,4.352294921875 L -51.95478515624998,4.399072265624994 L -51.92768554687498,4.4361328124999915 L -51.919580078124994,4.524316406249994 L -51.880273437499994,4.633740234374997 L -51.827539062499994,4.635693359374997 L -51.78564453125,4.570507812499997 L -51.698632812499994,4.286816406249997 L -51.66582031249999,4.228808593749989 L -51.65327148437498,4.1387695312499915 L -51.658105468749994,4.0984863281249915 L -51.65253906249998,4.061279296875 L -51.683447265625006,4.039697265624994 L -51.76708984375,3.99267578125 L -51.805273437500006,3.929931640625 L -51.827490234375006,3.869580078124997 L -51.879492187500006,3.828564453124997 L -51.92890624999998,3.7769531249999915 L -51.9443359375,3.735107421875 L -51.990624999999994,3.7020019531249915 L -51.99951171875,3.6468749999999943 L -52.116113281249994,3.4522949218749943 L -52.16259765625,3.364697265624997 L -52.229443359375,3.271679687499997 L -52.271240234375,3.2371093749999886 L -52.327880859375,3.1817382812499915 L -52.356640625,3.1177246093749886 L -52.356640625,3.0515624999999886 L -52.396386718749994,2.9722167968749886 L -52.418408203125,2.9038574218749886 L -52.45585937499999,2.8641601562499943 L -52.5546875,2.647656249999997 L -52.559472656249994,2.5731445312499943 L -52.5830078125,2.5289062499999915 L -52.65317382812499,2.425732421874997 L -52.700634765625,2.3636718749999943 L -52.7833984375,2.3171874999999886 L -52.87041015624999,2.2666503906249886 L -52.903466796874994,2.2115234374999915 L -52.96484375,2.183544921874997 L -53.009716796875,2.1817382812499915 L -53.082275390625,2.2017089843749886 L -53.180078124999994,2.2113281249999943 L -53.22978515624999,2.2048828124999886 L -53.252197265625,2.2322753906249915 L -53.28549804687499,2.2952148437499886 L -53.334423828125,2.3397460937499943 L -53.36601562499999,2.32421875 L -53.4318359375,2.2794433593749943 L -53.508984375,2.253124999999997 L -53.56396484375,2.261914062499997 L -53.68369140624999,2.292919921874997 L -53.73471679687499,2.308544921874997 L -53.750146484374994,2.3350097656249886 L -53.7677734375,2.3548339843749915 L -53.79423828124999,2.3459960937499886 L -53.829541015625,2.312939453124997 L -53.876611328124994,2.278271484374997 L -53.946435546874994,2.2325683593749943 L -54.089746093749994,2.1504882812499915 L -54.130078125,2.121044921874997 L -54.167382812499994,2.1370605468749915 L -54.227978515625,2.1533203125 L -54.29306640624999,2.154248046874997 L -54.43310546875,2.20751953125 L -54.515087890625,2.2454589843749915 L -54.55048828125,2.2930664062499915 L -54.591943359374994,2.3137695312499886 L -54.61625976562499,2.3267578124999915 z\" /></g></g></svg>"
      ],
      "text/plain": [
       "<shapely.geometry.multipolygon.MultiPolygon at 0x12662fb00>"
      ]
     },
     "execution_count": 184,
     "metadata": {},
     "output_type": "execute_result"
    }
   ],
   "source": [
    "geo_france_map.geometry.values[0]"
   ]
  },
  {
   "cell_type": "code",
   "execution_count": 188,
   "metadata": {},
   "outputs": [
    {
     "data": {
      "text/plain": [
       "<matplotlib.axes._subplots.AxesSubplot at 0x12660f1d0>"
      ]
     },
     "execution_count": 188,
     "metadata": {},
     "output_type": "execute_result"
    },
    {
     "data": {
      "image/png": "[encoded data removed]",
      "text/plain": [
       "<Figure size 864x576 with 1 Axes>"
      ]
     },
     "metadata": {},
     "output_type": "display_data"
    }
   ],
   "source": [
    "fig, ax = plt.subplots(figsize=(12, 8))\n",
    "geo_france_map.plot(ax = ax, color = 'gray')\n",
    "geo_france_air.plot(ax = ax, color = 'r', markersize = 5)"
   ]
  },
  {
   "cell_type": "code",
   "execution_count": 143,
   "metadata": {},
   "outputs": [
    {
     "data": {
      "text/plain": [
       "array([-61.7940918 , -21.36904297,  55.8390625 ,  51.09711914])"
      ]
     },
     "execution_count": 143,
     "metadata": {},
     "output_type": "execute_result"
    }
   ],
   "source": [
    "geo_france_map.total_bounds"
   ]
  },
  {
   "cell_type": "code",
   "execution_count": 144,
   "metadata": {},
   "outputs": [
    {
     "data": {
      "text/plain": [
       "array([43.71, -1.9 , 51.  ,  7.56])"
      ]
     },
     "execution_count": 144,
     "metadata": {},
     "output_type": "execute_result"
    }
   ],
   "source": [
    "geo_france_air.total_bounds"
   ]
  },
  {
   "cell_type": "code",
   "execution_count": 157,
   "metadata": {
    "collapsed": true
   },
   "outputs": [],
   "source": [
    "point = geo_france_air.geometry.values[0]"
   ]
  },
  {
   "cell_type": "code",
   "execution_count": 158,
   "metadata": {},
   "outputs": [
    {
     "data": {
      "image/svg+xml": [
       "<svg xmlns=\"http://www.w3.org/2000/svg\" xmlns:xlink=\"http://www.w3.org/1999/xlink\" width=\"100.0\" height=\"100.0\" viewBox=\"42.71 4.75 2.0 2.0\" preserveAspectRatio=\"xMinYMin meet\"><g transform=\"matrix(1,0,0,-1,0,11.5)\"><circle cx=\"43.71\" cy=\"5.75\" r=\"0.06\" stroke=\"#555555\" stroke-width=\"0.02\" fill=\"#66cc99\" opacity=\"0.6\" /></g></svg>"
      ],
      "text/plain": [
       "<shapely.geometry.point.Point at 0x125e0d710>"
      ]
     },
     "execution_count": 158,
     "metadata": {},
     "output_type": "execute_result"
    }
   ],
   "source": [
    "point"
   ]
  },
  {
   "cell_type": "code",
   "execution_count": 77,
   "metadata": {},
   "outputs": [
    {
     "data": {
      "text/plain": [
       "array([-68.37109375, -54.74921875, 158.95888672,  80.47783203])"
      ]
     },
     "execution_count": 77,
     "metadata": {},
     "output_type": "execute_result"
    }
   ],
   "source": [
    "gdf_europe.total_bounds"
   ]
  },
  {
   "cell_type": "code",
   "execution_count": 82,
   "metadata": {},
   "outputs": [
    {
     "data": {
      "text/plain": [
       "array([ 0.  , -6.28, 63.83, 50.68])"
      ]
     },
     "execution_count": 82,
     "metadata": {},
     "output_type": "execute_result"
    }
   ],
   "source": [
    "geo_air.total_bounds"
   ]
  },
  {
   "cell_type": "code",
   "execution_count": 80,
   "metadata": {},
   "outputs": [
    {
     "name": "stderr",
     "output_type": "stream",
     "text": [
      "/Users/Leonard/miniconda3/lib/python3.6/site-packages/geopandas/geodataframe.py:97: UserWarning: Pandas doesn't allow columns to be created via a new attribute name - see https://pandas.pydata.org/pandas-docs/stable/indexing.html#attribute-access\n",
      "  super(GeoDataFrame, self).__setattr__(attr, val)\n"
     ]
    },
    {
     "ename": "AttributeError",
     "evalue": "can't set attribute",
     "output_type": "error",
     "traceback": [
      "\u001b[0;31m---------------------------------------------------------------------------\u001b[0m",
      "\u001b[0;31mAttributeError\u001b[0m                            Traceback (most recent call last)",
      "\u001b[0;32m~/miniconda3/lib/python3.6/site-packages/pandas/core/generic.py\u001b[0m in \u001b[0;36m__setattr__\u001b[0;34m(self, name, value)\u001b[0m\n\u001b[1;32m   5304\u001b[0m                 \u001b[0;32melse\u001b[0m\u001b[0;34m:\u001b[0m\u001b[0;34m\u001b[0m\u001b[0m\n\u001b[0;32m-> 5305\u001b[0;31m                     \u001b[0mobject\u001b[0m\u001b[0;34m.\u001b[0m\u001b[0m__setattr__\u001b[0m\u001b[0;34m(\u001b[0m\u001b[0mself\u001b[0m\u001b[0;34m,\u001b[0m \u001b[0mname\u001b[0m\u001b[0;34m,\u001b[0m \u001b[0mvalue\u001b[0m\u001b[0;34m)\u001b[0m\u001b[0;34m\u001b[0m\u001b[0m\n\u001b[0m\u001b[1;32m   5306\u001b[0m             \u001b[0;32mexcept\u001b[0m \u001b[0;34m(\u001b[0m\u001b[0mAttributeError\u001b[0m\u001b[0;34m,\u001b[0m \u001b[0mTypeError\u001b[0m\u001b[0;34m)\u001b[0m\u001b[0;34m:\u001b[0m\u001b[0;34m\u001b[0m\u001b[0m\n",
      "\u001b[0;31mAttributeError\u001b[0m: can't set attribute",
      "\nDuring handling of the above exception, another exception occurred:\n",
      "\u001b[0;31mAttributeError\u001b[0m                            Traceback (most recent call last)",
      "\u001b[0;32m<ipython-input-80-06db513a40c6>\u001b[0m in \u001b[0;36m<module>\u001b[0;34m()\u001b[0m\n\u001b[0;32m----> 1\u001b[0;31m \u001b[0mgeo_air\u001b[0m\u001b[0;34m.\u001b[0m\u001b[0mtotal_bounds\u001b[0m \u001b[0;34m=\u001b[0m \u001b[0mgdf_europe\u001b[0m\u001b[0;34m.\u001b[0m\u001b[0mtotal_bounds\u001b[0m\u001b[0;34m\u001b[0m\u001b[0m\n\u001b[0m",
      "\u001b[0;32m~/miniconda3/lib/python3.6/site-packages/geopandas/geodataframe.py\u001b[0m in \u001b[0;36m__setattr__\u001b[0;34m(self, attr, val)\u001b[0m\n\u001b[1;32m     95\u001b[0m             \u001b[0mobject\u001b[0m\u001b[0;34m.\u001b[0m\u001b[0m__setattr__\u001b[0m\u001b[0;34m(\u001b[0m\u001b[0mself\u001b[0m\u001b[0;34m,\u001b[0m \u001b[0mattr\u001b[0m\u001b[0;34m,\u001b[0m \u001b[0mval\u001b[0m\u001b[0;34m)\u001b[0m\u001b[0;34m\u001b[0m\u001b[0m\n\u001b[1;32m     96\u001b[0m         \u001b[0;32melse\u001b[0m\u001b[0;34m:\u001b[0m\u001b[0;34m\u001b[0m\u001b[0m\n\u001b[0;32m---> 97\u001b[0;31m             \u001b[0msuper\u001b[0m\u001b[0;34m(\u001b[0m\u001b[0mGeoDataFrame\u001b[0m\u001b[0;34m,\u001b[0m \u001b[0mself\u001b[0m\u001b[0;34m)\u001b[0m\u001b[0;34m.\u001b[0m\u001b[0m__setattr__\u001b[0m\u001b[0;34m(\u001b[0m\u001b[0mattr\u001b[0m\u001b[0;34m,\u001b[0m \u001b[0mval\u001b[0m\u001b[0;34m)\u001b[0m\u001b[0;34m\u001b[0m\u001b[0m\n\u001b[0m\u001b[1;32m     98\u001b[0m \u001b[0;34m\u001b[0m\u001b[0m\n\u001b[1;32m     99\u001b[0m     \u001b[0;32mdef\u001b[0m \u001b[0m_get_geometry\u001b[0m\u001b[0;34m(\u001b[0m\u001b[0mself\u001b[0m\u001b[0;34m)\u001b[0m\u001b[0;34m:\u001b[0m\u001b[0;34m\u001b[0m\u001b[0m\n",
      "\u001b[0;32m~/miniconda3/lib/python3.6/site-packages/pandas/core/generic.py\u001b[0m in \u001b[0;36m__setattr__\u001b[0;34m(self, name, value)\u001b[0m\n\u001b[1;32m   5313\u001b[0m                         \u001b[0mstacklevel\u001b[0m\u001b[0;34m=\u001b[0m\u001b[0;36m2\u001b[0m\u001b[0;34m,\u001b[0m\u001b[0;34m\u001b[0m\u001b[0m\n\u001b[1;32m   5314\u001b[0m                     )\n\u001b[0;32m-> 5315\u001b[0;31m                 \u001b[0mobject\u001b[0m\u001b[0;34m.\u001b[0m\u001b[0m__setattr__\u001b[0m\u001b[0;34m(\u001b[0m\u001b[0mself\u001b[0m\u001b[0;34m,\u001b[0m \u001b[0mname\u001b[0m\u001b[0;34m,\u001b[0m \u001b[0mvalue\u001b[0m\u001b[0;34m)\u001b[0m\u001b[0;34m\u001b[0m\u001b[0m\n\u001b[0m\u001b[1;32m   5316\u001b[0m \u001b[0;34m\u001b[0m\u001b[0m\n\u001b[1;32m   5317\u001b[0m     \u001b[0;32mdef\u001b[0m \u001b[0m_dir_additions\u001b[0m\u001b[0;34m(\u001b[0m\u001b[0mself\u001b[0m\u001b[0;34m)\u001b[0m\u001b[0;34m:\u001b[0m\u001b[0;34m\u001b[0m\u001b[0m\n",
      "\u001b[0;31mAttributeError\u001b[0m: can't set attribute"
     ]
    }
   ],
   "source": [
    "geo_air.total_bounds = gdf_europe.total_bounds"
   ]
  },
  {
   "cell_type": "code",
   "execution_count": null,
   "metadata": {
    "collapsed": true
   },
   "outputs": [],
   "source": []
  },
  {
   "cell_type": "code",
   "execution_count": 174,
   "metadata": {},
   "outputs": [
    {
     "data": {
      "text/html": [
       "<div>\n",
       "<style scoped>\n",
       "    .dataframe tbody tr th:only-of-type {\n",
       "        vertical-align: middle;\n",
       "    }\n",
       "\n",
       "    .dataframe tbody tr th {\n",
       "        vertical-align: top;\n",
       "    }\n",
       "\n",
       "    .dataframe thead th {\n",
       "        text-align: right;\n",
       "    }\n",
       "</style>\n",
       "<table border=\"1\" class=\"dataframe\">\n",
       "  <thead>\n",
       "    <tr style=\"text-align: right;\">\n",
       "      <th></th>\n",
       "      <th>Unnamed: 0</th>\n",
       "      <th>country</th>\n",
       "      <th>Code</th>\n",
       "      <th>city</th>\n",
       "      <th>longitude</th>\n",
       "      <th>latitude</th>\n",
       "      <th>Date</th>\n",
       "      <th>endsampling</th>\n",
       "      <th>duration</th>\n",
       "      <th>i131</th>\n",
       "      <th>cs134</th>\n",
       "      <th>cs137</th>\n",
       "      <th>geometry</th>\n",
       "    </tr>\n",
       "  </thead>\n",
       "  <tbody>\n",
       "    <tr>\n",
       "      <th>0</th>\n",
       "      <td>0</td>\n",
       "      <td>SE</td>\n",
       "      <td>1</td>\n",
       "      <td>RISOE</td>\n",
       "      <td>12.07</td>\n",
       "      <td>55.7</td>\n",
       "      <td>1986-04-27</td>\n",
       "      <td>0</td>\n",
       "      <td>24.0</td>\n",
       "      <td>1.00000</td>\n",
       "      <td>0.00000</td>\n",
       "      <td>0.24000</td>\n",
       "      <td>POINT (55.70000 12.07000)</td>\n",
       "    </tr>\n",
       "    <tr>\n",
       "      <th>1</th>\n",
       "      <td>1</td>\n",
       "      <td>SE</td>\n",
       "      <td>1</td>\n",
       "      <td>RISOE</td>\n",
       "      <td>12.07</td>\n",
       "      <td>55.7</td>\n",
       "      <td>1986-04-28</td>\n",
       "      <td>0</td>\n",
       "      <td>24.0</td>\n",
       "      <td>0.00460</td>\n",
       "      <td>0.00054</td>\n",
       "      <td>0.00098</td>\n",
       "      <td>POINT (55.70000 12.07000)</td>\n",
       "    </tr>\n",
       "    <tr>\n",
       "      <th>2</th>\n",
       "      <td>2</td>\n",
       "      <td>SE</td>\n",
       "      <td>1</td>\n",
       "      <td>RISOE</td>\n",
       "      <td>12.07</td>\n",
       "      <td>55.7</td>\n",
       "      <td>1986-04-29</td>\n",
       "      <td>12</td>\n",
       "      <td>12.0</td>\n",
       "      <td>0.01470</td>\n",
       "      <td>0.00430</td>\n",
       "      <td>0.00740</td>\n",
       "      <td>POINT (55.70000 12.07000)</td>\n",
       "    </tr>\n",
       "    <tr>\n",
       "      <th>3</th>\n",
       "      <td>3</td>\n",
       "      <td>SE</td>\n",
       "      <td>1</td>\n",
       "      <td>RISOE</td>\n",
       "      <td>12.07</td>\n",
       "      <td>55.7</td>\n",
       "      <td>1986-04-29</td>\n",
       "      <td>0</td>\n",
       "      <td>12.0</td>\n",
       "      <td>0.00061</td>\n",
       "      <td>0.00000</td>\n",
       "      <td>0.00009</td>\n",
       "      <td>POINT (55.70000 12.07000)</td>\n",
       "    </tr>\n",
       "    <tr>\n",
       "      <th>4</th>\n",
       "      <td>4</td>\n",
       "      <td>SE</td>\n",
       "      <td>1</td>\n",
       "      <td>RISOE</td>\n",
       "      <td>12.07</td>\n",
       "      <td>55.7</td>\n",
       "      <td>1986-04-30</td>\n",
       "      <td>0</td>\n",
       "      <td>24.0</td>\n",
       "      <td>0.00075</td>\n",
       "      <td>0.00010</td>\n",
       "      <td>0.00028</td>\n",
       "      <td>POINT (55.70000 12.07000)</td>\n",
       "    </tr>\n",
       "  </tbody>\n",
       "</table>\n",
       "</div>"
      ],
      "text/plain": [
       "   Unnamed: 0 country  Code   city  longitude  latitude        Date  \\\n",
       "0           0      SE     1  RISOE      12.07      55.7  1986-04-27   \n",
       "1           1      SE     1  RISOE      12.07      55.7  1986-04-28   \n",
       "2           2      SE     1  RISOE      12.07      55.7  1986-04-29   \n",
       "3           3      SE     1  RISOE      12.07      55.7  1986-04-29   \n",
       "4           4      SE     1  RISOE      12.07      55.7  1986-04-30   \n",
       "\n",
       "   endsampling  duration     i131    cs134    cs137                   geometry  \n",
       "0            0      24.0  1.00000  0.00000  0.24000  POINT (55.70000 12.07000)  \n",
       "1            0      24.0  0.00460  0.00054  0.00098  POINT (55.70000 12.07000)  \n",
       "2           12      12.0  0.01470  0.00430  0.00740  POINT (55.70000 12.07000)  \n",
       "3            0      12.0  0.00061  0.00000  0.00009  POINT (55.70000 12.07000)  \n",
       "4            0      24.0  0.00075  0.00010  0.00028  POINT (55.70000 12.07000)  "
      ]
     },
     "execution_count": 174,
     "metadata": {},
     "output_type": "execute_result"
    }
   ],
   "source": [
    "geo_air.head()"
   ]
  },
  {
   "cell_type": "code",
   "execution_count": 71,
   "metadata": {},
   "outputs": [
    {
     "data": {
      "text/plain": [
       "<Geographic 2D CRS: EPSG:4326>\n",
       "Name: WGS 84\n",
       "Axis Info [ellipsoidal]:\n",
       "- Lat[north]: Geodetic latitude (degree)\n",
       "- Lon[east]: Geodetic longitude (degree)\n",
       "Area of Use:\n",
       "- name: World\n",
       "- bounds: (-180.0, -90.0, 180.0, 90.0)\n",
       "Datum: World Geodetic System 1984\n",
       "- Ellipsoid: WGS 84\n",
       "- Prime Meridian: Greenwich"
      ]
     },
     "execution_count": 71,
     "metadata": {},
     "output_type": "execute_result"
    }
   ],
   "source": [
    "gdf_europe.geometry.crs"
   ]
  },
  {
   "cell_type": "code",
   "execution_count": 72,
   "metadata": {},
   "outputs": [
    {
     "data": {
      "text/plain": [
       "<Geographic 2D CRS: EPSG:4326>\n",
       "Name: WGS 84\n",
       "Axis Info [ellipsoidal]:\n",
       "- Lat[north]: Geodetic latitude (degree)\n",
       "- Lon[east]: Geodetic longitude (degree)\n",
       "Area of Use:\n",
       "- name: World\n",
       "- bounds: (-180.0, -90.0, 180.0, 90.0)\n",
       "Datum: World Geodetic System 1984\n",
       "- Ellipsoid: WGS 84\n",
       "- Prime Meridian: Greenwich"
      ]
     },
     "execution_count": 72,
     "metadata": {},
     "output_type": "execute_result"
    }
   ],
   "source": [
    "geo_air.geometry.crs"
   ]
  },
  {
   "cell_type": "code",
   "execution_count": null,
   "metadata": {
    "collapsed": true
   },
   "outputs": [],
   "source": []
  },
  {
   "cell_type": "code",
   "execution_count": 31,
   "metadata": {},
   "outputs": [
    {
     "ename": "NameError",
     "evalue": "name 'europe' is not defined",
     "output_type": "error",
     "traceback": [
      "\u001b[0;31m---------------------------------------------------------------------------\u001b[0m",
      "\u001b[0;31mNameError\u001b[0m                                 Traceback (most recent call last)",
      "\u001b[0;32m<ipython-input-31-1547fb86071a>\u001b[0m in \u001b[0;36m<module>\u001b[0;34m()\u001b[0m\n\u001b[1;32m      1\u001b[0m \u001b[0;31m# I like these nifty set operations\u001b[0m\u001b[0;34m\u001b[0m\u001b[0;34m\u001b[0m\u001b[0m\n\u001b[0;32m----> 2\u001b[0;31m \u001b[0meu_set\u001b[0m \u001b[0;34m=\u001b[0m \u001b[0mset\u001b[0m\u001b[0;34m(\u001b[0m\u001b[0meurope\u001b[0m\u001b[0;34m)\u001b[0m\u001b[0;34m\u001b[0m\u001b[0m\n\u001b[0m",
      "\u001b[0;31mNameError\u001b[0m: name 'europe' is not defined"
     ]
    }
   ],
   "source": [
    "# I like these nifty set operations\n",
    "eu_set = set(europe)"
   ]
  },
  {
   "cell_type": "code",
   "execution_count": null,
   "metadata": {
    "collapsed": true
   },
   "outputs": [],
   "source": [
    "gdf_set = set(gdf.country.values)"
   ]
  },
  {
   "cell_type": "code",
   "execution_count": 32,
   "metadata": {},
   "outputs": [
    {
     "ename": "NameError",
     "evalue": "name 'eu_set' is not defined",
     "output_type": "error",
     "traceback": [
      "\u001b[0;31m---------------------------------------------------------------------------\u001b[0m",
      "\u001b[0;31mNameError\u001b[0m                                 Traceback (most recent call last)",
      "\u001b[0;32m<ipython-input-32-6d2643a9b5b1>\u001b[0m in \u001b[0;36m<module>\u001b[0;34m()\u001b[0m\n\u001b[0;32m----> 1\u001b[0;31m \u001b[0mlen\u001b[0m\u001b[0;34m(\u001b[0m\u001b[0meu_set\u001b[0m\u001b[0;34m)\u001b[0m \u001b[0;34m-\u001b[0m \u001b[0mlen\u001b[0m\u001b[0;34m(\u001b[0m\u001b[0meu_set\u001b[0m\u001b[0;34m.\u001b[0m\u001b[0mintersection\u001b[0m\u001b[0;34m(\u001b[0m\u001b[0mgdf_set\u001b[0m\u001b[0;34m)\u001b[0m\u001b[0;34m)\u001b[0m\u001b[0;34m\u001b[0m\u001b[0m\n\u001b[0m",
      "\u001b[0;31mNameError\u001b[0m: name 'eu_set' is not defined"
     ]
    }
   ],
   "source": [
    "len(eu_set) - len(eu_set.intersection(gdf_set))"
   ]
  },
  {
   "cell_type": "code",
   "execution_count": 33,
   "metadata": {},
   "outputs": [
    {
     "ename": "NameError",
     "evalue": "name 'eu_set' is not defined",
     "output_type": "error",
     "traceback": [
      "\u001b[0;31m---------------------------------------------------------------------------\u001b[0m",
      "\u001b[0;31mNameError\u001b[0m                                 Traceback (most recent call last)",
      "\u001b[0;32m<ipython-input-33-a126f5363d0c>\u001b[0m in \u001b[0;36m<module>\u001b[0;34m()\u001b[0m\n\u001b[0;32m----> 1\u001b[0;31m \u001b[0meu_set\u001b[0m\u001b[0;34m.\u001b[0m\u001b[0mdifference\u001b[0m\u001b[0;34m(\u001b[0m\u001b[0mgdf_set\u001b[0m\u001b[0;34m)\u001b[0m\u001b[0;34m\u001b[0m\u001b[0m\n\u001b[0m",
      "\u001b[0;31mNameError\u001b[0m: name 'eu_set' is not defined"
     ]
    }
   ],
   "source": [
    "eu_set.difference(gdf_set)"
   ]
  },
  {
   "cell_type": "code",
   "execution_count": 34,
   "metadata": {
    "collapsed": true
   },
   "outputs": [],
   "source": [
    "## Subsetting only european countries from the map\n",
    "gdf_copy = gdf"
   ]
  },
  {
   "cell_type": "code",
   "execution_count": 35,
   "metadata": {},
   "outputs": [
    {
     "ename": "NameError",
     "evalue": "name 'europe' is not defined",
     "output_type": "error",
     "traceback": [
      "\u001b[0;31m---------------------------------------------------------------------------\u001b[0m",
      "\u001b[0;31mNameError\u001b[0m                                 Traceback (most recent call last)",
      "\u001b[0;32m<ipython-input-35-974797a03207>\u001b[0m in \u001b[0;36m<module>\u001b[0;34m()\u001b[0m\n\u001b[1;32m      1\u001b[0m \u001b[0mindices_europe\u001b[0m \u001b[0;34m=\u001b[0m \u001b[0;34m[\u001b[0m\u001b[0;34m]\u001b[0m\u001b[0;34m\u001b[0m\u001b[0m\n\u001b[1;32m      2\u001b[0m \u001b[0;32mfor\u001b[0m \u001b[0mindex\u001b[0m \u001b[0;32min\u001b[0m \u001b[0mrange\u001b[0m\u001b[0;34m(\u001b[0m\u001b[0mlen\u001b[0m\u001b[0;34m(\u001b[0m\u001b[0mgdf\u001b[0m\u001b[0;34m)\u001b[0m\u001b[0;34m)\u001b[0m\u001b[0;34m:\u001b[0m\u001b[0;34m\u001b[0m\u001b[0m\n\u001b[0;32m----> 3\u001b[0;31m     \u001b[0;32mif\u001b[0m \u001b[0mgdf\u001b[0m\u001b[0;34m.\u001b[0m\u001b[0mcountry\u001b[0m\u001b[0;34m.\u001b[0m\u001b[0mvalues\u001b[0m\u001b[0;34m[\u001b[0m\u001b[0mindex\u001b[0m\u001b[0;34m]\u001b[0m \u001b[0;32min\u001b[0m \u001b[0meurope\u001b[0m\u001b[0;34m:\u001b[0m\u001b[0;34m\u001b[0m\u001b[0m\n\u001b[0m\u001b[1;32m      4\u001b[0m         \u001b[0mindices_europe\u001b[0m\u001b[0;34m.\u001b[0m\u001b[0mappend\u001b[0m\u001b[0;34m(\u001b[0m\u001b[0mindex\u001b[0m\u001b[0;34m)\u001b[0m\u001b[0;34m\u001b[0m\u001b[0m\n",
      "\u001b[0;31mNameError\u001b[0m: name 'europe' is not defined"
     ]
    }
   ],
   "source": [
    "indices_europe = []\n",
    "for index in range(len(gdf)):\n",
    "    if gdf.country.values[index] in europe:\n",
    "        indices_europe.append(index)"
   ]
  },
  {
   "cell_type": "code",
   "execution_count": 36,
   "metadata": {
    "collapsed": true
   },
   "outputs": [],
   "source": [
    "europe_data = gdf.iloc[indices_europe]"
   ]
  },
  {
   "cell_type": "code",
   "execution_count": 37,
   "metadata": {},
   "outputs": [
    {
     "name": "stderr",
     "output_type": "stream",
     "text": [
      "/Users/Leonard/miniconda3/lib/python3.6/site-packages/geopandas/plotting.py:532: UserWarning: The GeoDataFrame you are attempting to plot is empty. Nothing has been displayed.\n",
      "  UserWarning,\n"
     ]
    },
    {
     "data": {
      "image/png": "[encoded data removed]",
      "text/plain": [
       "<Figure size 1080x1080 with 1 Axes>"
      ]
     },
     "metadata": {},
     "output_type": "display_data"
    }
   ],
   "source": [
    "fig, ax = plt.subplots(figsize = (15, 15))\n",
    "europe_data.plot(ax = ax)\n",
    "plt.show()"
   ]
  },
  {
   "cell_type": "code",
   "execution_count": 38,
   "metadata": {
    "collapsed": true
   },
   "outputs": [],
   "source": [
    "# We know France has foreign territories\n",
    "france_data = gdf.loc[gdf.country == 'France']"
   ]
  },
  {
   "cell_type": "code",
   "execution_count": 39,
   "metadata": {},
   "outputs": [
    {
     "data": {
      "text/plain": [
       "160    MULTIPOLYGON (((9.48037 42.80542, 9.45420 42.6...\n",
       "Name: geometry, dtype: geometry"
      ]
     },
     "execution_count": 39,
     "metadata": {},
     "output_type": "execute_result"
    }
   ],
   "source": [
    "france_data.geometry"
   ]
  },
  {
   "cell_type": "code",
   "execution_count": 40,
   "metadata": {
    "collapsed": true
   },
   "outputs": [],
   "source": [
    "france = france_data.explode()['geometry'][1] ## Useful to quickly visualise"
   ]
  },
  {
   "cell_type": "code",
   "execution_count": 173,
   "metadata": {},
   "outputs": [
    {
     "data": {
      "image/svg+xml": [
       "<svg xmlns=\"http://www.w3.org/2000/svg\" xmlns:xlink=\"http://www.w3.org/1999/xlink\" width=\"100.0\" height=\"100.0\" viewBox=\"8.500162109375012 41.319449218749995 1.121746093750005 1.767498046875005\" preserveAspectRatio=\"xMinYMin meet\"><g transform=\"matrix(1,0,0,-1,0,84.406396484375)\"><path fill-rule=\"evenodd\" fill=\"#66cc99\" stroke=\"#555555\" stroke-width=\"0.0353499609375001\" opacity=\"0.6\" d=\"M 9.480371093750023,42.805419921875 L 9.454199218750006,42.658593749999994 L 9.473242187500006,42.615576171875 L 9.509375000000006,42.585595703124994 L 9.526171875000017,42.552636718749994 L 9.556445312500017,42.160937499999996 L 9.550683593750023,42.129736328125 L 9.428417968750011,41.972412109375 L 9.40087890625,41.926220703125 L 9.394824218750017,41.731201171875 L 9.374218750000011,41.67880859375 L 9.330859375000017,41.6271484375 L 9.25341796875,41.46005859375 L 9.186132812500006,41.384912109374994 L 9.003027343750006,41.4765625 L 8.89501953125,41.516162109374996 L 8.842089843750017,41.558886718749996 L 8.807519531250023,41.58837890625 L 8.829785156250011,41.627685546875 L 8.879003906250006,41.6685546875 L 8.886816406250006,41.70068359375 L 8.77099609375,41.737109374999996 L 8.717968750000011,41.76142578125 L 8.718652343750023,41.804003906249996 L 8.758691406250023,41.870410156249996 L 8.740429687500011,41.925146484375 L 8.673632812500017,41.92236328125 L 8.621875000000017,41.930712890624996 L 8.615136718750023,41.959130859374994 L 8.653417968750006,41.995556640625 L 8.702539062500023,42.043115234374994 L 8.700976562500017,42.095605468749994 L 8.6416015625,42.118212890624996 L 8.587792968750023,42.16083984375 L 8.566210937500017,42.218798828124996 L 8.60791015625,42.258447265624994 L 8.675488281250011,42.284033203125 L 8.625878906250023,42.343408203124994 L 8.592382812500006,42.3447265625 L 8.565625000000011,42.357714843749996 L 8.587500000000006,42.385302734374996 L 8.640039062500023,42.426562499999996 L 8.713085937500011,42.549755859375 L 8.814843750000023,42.60791015625 L 8.994921875000017,42.645312499999996 L 9.043652343750011,42.661669921874996 L 9.08837890625,42.704980468749994 L 9.137890625000011,42.73291015625 L 9.198046875000017,42.72919921875 L 9.253515625000006,42.712451171874996 L 9.287695312500006,42.694628906249996 L 9.313378906250023,42.713183593749996 L 9.33837890625,42.766894531249996 L 9.323046875000017,42.8140625 L 9.330957031250023,42.943798828125 L 9.363183593750023,43.017382812499996 L 9.415234375000011,43.021484375 L 9.463281250000023,42.981005859374996 L 9.460839843750023,42.945214843749994 L 9.478613281250006,42.860498046874994 L 9.480371093750023,42.805419921875 z\" /></g></svg>"
      ],
      "text/plain": [
       "<shapely.geometry.polygon.Polygon at 0x1224a4b00>"
      ]
     },
     "execution_count": 173,
     "metadata": {},
     "output_type": "execute_result"
    }
   ],
   "source": [
    "france_data.explode()['geometry'][0]"
   ]
  },
  {
   "cell_type": "code",
   "execution_count": null,
   "metadata": {
    "collapsed": true
   },
   "outputs": [],
   "source": []
  },
  {
   "cell_type": "code",
   "execution_count": 42,
   "metadata": {
    "collapsed": true
   },
   "outputs": [],
   "source": [
    "france_exploded = france_data.explode()"
   ]
  },
  {
   "cell_type": "code",
   "execution_count": 43,
   "metadata": {
    "collapsed": true
   },
   "outputs": [],
   "source": [
    "continental_france = pd.DataFrame(france_exploded.iloc[0]) # Should know how to switch series into data frame"
   ]
  },
  {
   "cell_type": "code",
   "execution_count": 44,
   "metadata": {
    "collapsed": true
   },
   "outputs": [],
   "source": [
    "boy = france_exploded.iloc[1].to_frame().transpose()"
   ]
  },
  {
   "cell_type": "code",
   "execution_count": 45,
   "metadata": {},
   "outputs": [
    {
     "data": {
      "text/html": [
       "<div>\n",
       "<style scoped>\n",
       "    .dataframe tbody tr th:only-of-type {\n",
       "        vertical-align: middle;\n",
       "    }\n",
       "\n",
       "    .dataframe tbody tr th {\n",
       "        vertical-align: top;\n",
       "    }\n",
       "\n",
       "    .dataframe thead th {\n",
       "        text-align: right;\n",
       "    }\n",
       "</style>\n",
       "<table border=\"1\" class=\"dataframe\">\n",
       "  <thead>\n",
       "    <tr style=\"text-align: right;\">\n",
       "      <th></th>\n",
       "      <th>country</th>\n",
       "    </tr>\n",
       "  </thead>\n",
       "  <tbody>\n",
       "    <tr>\n",
       "      <th>geometry</th>\n",
       "      <td>France</td>\n",
       "    </tr>\n",
       "  </tbody>\n",
       "</table>\n",
       "</div>"
      ],
      "text/plain": [
       "         country\n",
       "geometry  France"
      ]
     },
     "execution_count": 45,
     "metadata": {},
     "output_type": "execute_result"
    }
   ],
   "source": [
    "pd.DataFrame({'country': ['France']}, {'geometry': [france_exploded.iloc[1].geometry]})"
   ]
  },
  {
   "cell_type": "code",
   "execution_count": 46,
   "metadata": {},
   "outputs": [
    {
     "data": {
      "image/png": "[encoded data removed]",
      "text/plain": [
       "<Figure size 432x288 with 1 Axes>"
      ]
     },
     "metadata": {},
     "output_type": "display_data"
    }
   ],
   "source": [
    "gpd.GeoDataFrame(boy).plot()\n",
    "plt.show()"
   ]
  },
  {
   "cell_type": "code",
   "execution_count": null,
   "metadata": {
    "collapsed": true
   },
   "outputs": [],
   "source": []
  },
  {
   "cell_type": "code",
   "execution_count": null,
   "metadata": {
    "collapsed": true
   },
   "outputs": [],
   "source": []
  },
  {
   "cell_type": "code",
   "execution_count": null,
   "metadata": {
    "collapsed": true
   },
   "outputs": [],
   "source": []
  }
 ],
 "metadata": {
  "kernelspec": {
   "display_name": "Python 3",
   "language": "python",
   "name": "python3"
  },
  "language_info": {
   "codemirror_mode": {
    "name": "ipython",
    "version": 3
   },
   "file_extension": ".py",
   "mimetype": "text/x-python",
   "name": "python",
   "nbconvert_exporter": "python",
   "pygments_lexer": "ipython3",
   "version": "3.6.1"
  }
 },
 "nbformat": 4,
 "nbformat_minor": 2
}
