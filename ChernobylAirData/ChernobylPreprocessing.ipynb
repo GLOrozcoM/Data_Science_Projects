{
 "cells": [
  {
   "cell_type": "markdown",
   "metadata": {},
   "source": [
    "## Our mission \n",
    "In this module, we will preprocess the Chernobyl air data by doing the following: \n",
    "\n",
    "- Rename PAYS to be country.\n",
    "    - To avoid confusion. \n",
    "- Rename variables X, Y to be lattitude and longitude respectively.\n",
    "    - To avoid confusion. \n",
    "- Rename chemical concentration variables. \n",
    "    - As you can see in the initial air.head() output below, writing in a string search for 1 131 (Bq/m3) everytime \n",
    "    I need to find info for the variable can get tedious. Renaming will speed up the analysis.\n",
    "- Rename duration.\n",
    "    - Same as above. \n",
    "- Convert date to date object.\n",
    "    - Dates in date object make for easier analysis.\n",
    "- Convert end of sampling to hour.\n",
    "    - Same as above, except for time.\n",
    "- Convert all chemicals to floats and insert Na's for any non-numeric string. "
   ]
  },
  {
   "cell_type": "code",
   "execution_count": 1,
   "metadata": {
    "collapsed": true
   },
   "outputs": [],
   "source": [
    "import pandas as pd \n",
    "import numpy as np"
   ]
  },
  {
   "cell_type": "code",
   "execution_count": 38,
   "metadata": {
    "collapsed": true
   },
   "outputs": [],
   "source": [
    "air = pd.read_csv('CHERNAIR.csv')"
   ]
  },
  {
   "cell_type": "markdown",
   "metadata": {},
   "source": [
    "## Renaming variables"
   ]
  },
  {
   "cell_type": "code",
   "execution_count": 34,
   "metadata": {},
   "outputs": [
    {
     "data": {
      "text/html": [
       "<div>\n",
       "<style scoped>\n",
       "    .dataframe tbody tr th:only-of-type {\n",
       "        vertical-align: middle;\n",
       "    }\n",
       "\n",
       "    .dataframe tbody tr th {\n",
       "        vertical-align: top;\n",
       "    }\n",
       "\n",
       "    .dataframe thead th {\n",
       "        text-align: right;\n",
       "    }\n",
       "</style>\n",
       "<table border=\"1\" class=\"dataframe\">\n",
       "  <thead>\n",
       "    <tr style=\"text-align: right;\">\n",
       "      <th></th>\n",
       "      <th>PAYS</th>\n",
       "      <th>Code</th>\n",
       "      <th>Ville</th>\n",
       "      <th>X</th>\n",
       "      <th>Y</th>\n",
       "      <th>Date</th>\n",
       "      <th>End of sampling</th>\n",
       "      <th>Duration(h.min)</th>\n",
       "      <th>I 131 (Bq/m3)</th>\n",
       "      <th>Cs 134 (Bq/m3)</th>\n",
       "      <th>Cs 137 (Bq/m3)</th>\n",
       "    </tr>\n",
       "  </thead>\n",
       "  <tbody>\n",
       "    <tr>\n",
       "      <th>0</th>\n",
       "      <td>SE</td>\n",
       "      <td>1</td>\n",
       "      <td>RISOE</td>\n",
       "      <td>12.07</td>\n",
       "      <td>55.7</td>\n",
       "      <td>86/04/27</td>\n",
       "      <td>24:00:00</td>\n",
       "      <td>24.0</td>\n",
       "      <td>1</td>\n",
       "      <td>0</td>\n",
       "      <td>0.24</td>\n",
       "    </tr>\n",
       "    <tr>\n",
       "      <th>1</th>\n",
       "      <td>SE</td>\n",
       "      <td>1</td>\n",
       "      <td>RISOE</td>\n",
       "      <td>12.07</td>\n",
       "      <td>55.7</td>\n",
       "      <td>86/04/28</td>\n",
       "      <td>24:00:00</td>\n",
       "      <td>24.0</td>\n",
       "      <td>0.0046</td>\n",
       "      <td>0.00054</td>\n",
       "      <td>0.00098</td>\n",
       "    </tr>\n",
       "    <tr>\n",
       "      <th>2</th>\n",
       "      <td>SE</td>\n",
       "      <td>1</td>\n",
       "      <td>RISOE</td>\n",
       "      <td>12.07</td>\n",
       "      <td>55.7</td>\n",
       "      <td>86/04/29</td>\n",
       "      <td>12:00</td>\n",
       "      <td>12.0</td>\n",
       "      <td>0.0147</td>\n",
       "      <td>0.0043</td>\n",
       "      <td>0.0074</td>\n",
       "    </tr>\n",
       "    <tr>\n",
       "      <th>3</th>\n",
       "      <td>SE</td>\n",
       "      <td>1</td>\n",
       "      <td>RISOE</td>\n",
       "      <td>12.07</td>\n",
       "      <td>55.7</td>\n",
       "      <td>86/04/29</td>\n",
       "      <td>24:00:00</td>\n",
       "      <td>12.0</td>\n",
       "      <td>0.00061</td>\n",
       "      <td>0</td>\n",
       "      <td>0.00009</td>\n",
       "    </tr>\n",
       "    <tr>\n",
       "      <th>4</th>\n",
       "      <td>SE</td>\n",
       "      <td>1</td>\n",
       "      <td>RISOE</td>\n",
       "      <td>12.07</td>\n",
       "      <td>55.7</td>\n",
       "      <td>86/04/30</td>\n",
       "      <td>24:00:00</td>\n",
       "      <td>24.0</td>\n",
       "      <td>0.00075</td>\n",
       "      <td>0.0001</td>\n",
       "      <td>0.00028</td>\n",
       "    </tr>\n",
       "  </tbody>\n",
       "</table>\n",
       "</div>"
      ],
      "text/plain": [
       "  PAYS  Code  Ville      X     Y      Date End of sampling  Duration(h.min)  \\\n",
       "0   SE     1  RISOE  12.07  55.7  86/04/27        24:00:00             24.0   \n",
       "1   SE     1  RISOE  12.07  55.7  86/04/28        24:00:00             24.0   \n",
       "2   SE     1  RISOE  12.07  55.7  86/04/29           12:00             12.0   \n",
       "3   SE     1  RISOE  12.07  55.7  86/04/29        24:00:00             12.0   \n",
       "4   SE     1  RISOE  12.07  55.7  86/04/30        24:00:00             24.0   \n",
       "\n",
       "  I 131 (Bq/m3) Cs 134 (Bq/m3) Cs 137 (Bq/m3)  \n",
       "0             1              0           0.24  \n",
       "1        0.0046        0.00054        0.00098  \n",
       "2        0.0147         0.0043         0.0074  \n",
       "3       0.00061              0        0.00009  \n",
       "4       0.00075         0.0001        0.00028  "
      ]
     },
     "execution_count": 34,
     "metadata": {},
     "output_type": "execute_result"
    }
   ],
   "source": [
    "air.head()"
   ]
  },
  {
   "cell_type": "code",
   "execution_count": 39,
   "metadata": {},
   "outputs": [],
   "source": [
    "air.rename(columns = {'PAYS': 'country', \n",
    "                      'X': 'lattitude', 'Y': 'longitude', \n",
    "                      'End of sampling': 'endsampling',\n",
    "                      'I 131 (Bq/m3)': 'i131',\n",
    "                     'Cs 134 (Bq/m3)': 'cs134',\n",
    "                     'Cs 137 (Bq/m3)': 'cs137',\n",
    "                     'Duration(h.min)': 'duration'}, inplace = True)"
   ]
  },
  {
   "cell_type": "code",
   "execution_count": 40,
   "metadata": {},
   "outputs": [
    {
     "data": {
      "text/html": [
       "<div>\n",
       "<style scoped>\n",
       "    .dataframe tbody tr th:only-of-type {\n",
       "        vertical-align: middle;\n",
       "    }\n",
       "\n",
       "    .dataframe tbody tr th {\n",
       "        vertical-align: top;\n",
       "    }\n",
       "\n",
       "    .dataframe thead th {\n",
       "        text-align: right;\n",
       "    }\n",
       "</style>\n",
       "<table border=\"1\" class=\"dataframe\">\n",
       "  <thead>\n",
       "    <tr style=\"text-align: right;\">\n",
       "      <th></th>\n",
       "      <th>country</th>\n",
       "      <th>Code</th>\n",
       "      <th>Ville</th>\n",
       "      <th>lattitude</th>\n",
       "      <th>longitude</th>\n",
       "      <th>Date</th>\n",
       "      <th>endsampling</th>\n",
       "      <th>duration</th>\n",
       "      <th>i131</th>\n",
       "      <th>cs134</th>\n",
       "      <th>cs137</th>\n",
       "    </tr>\n",
       "  </thead>\n",
       "  <tbody>\n",
       "    <tr>\n",
       "      <th>0</th>\n",
       "      <td>SE</td>\n",
       "      <td>1</td>\n",
       "      <td>RISOE</td>\n",
       "      <td>12.07</td>\n",
       "      <td>55.7</td>\n",
       "      <td>86/04/27</td>\n",
       "      <td>24:00:00</td>\n",
       "      <td>24.0</td>\n",
       "      <td>1</td>\n",
       "      <td>0</td>\n",
       "      <td>0.24</td>\n",
       "    </tr>\n",
       "    <tr>\n",
       "      <th>1</th>\n",
       "      <td>SE</td>\n",
       "      <td>1</td>\n",
       "      <td>RISOE</td>\n",
       "      <td>12.07</td>\n",
       "      <td>55.7</td>\n",
       "      <td>86/04/28</td>\n",
       "      <td>24:00:00</td>\n",
       "      <td>24.0</td>\n",
       "      <td>0.0046</td>\n",
       "      <td>0.00054</td>\n",
       "      <td>0.00098</td>\n",
       "    </tr>\n",
       "    <tr>\n",
       "      <th>2</th>\n",
       "      <td>SE</td>\n",
       "      <td>1</td>\n",
       "      <td>RISOE</td>\n",
       "      <td>12.07</td>\n",
       "      <td>55.7</td>\n",
       "      <td>86/04/29</td>\n",
       "      <td>12:00</td>\n",
       "      <td>12.0</td>\n",
       "      <td>0.0147</td>\n",
       "      <td>0.0043</td>\n",
       "      <td>0.0074</td>\n",
       "    </tr>\n",
       "    <tr>\n",
       "      <th>3</th>\n",
       "      <td>SE</td>\n",
       "      <td>1</td>\n",
       "      <td>RISOE</td>\n",
       "      <td>12.07</td>\n",
       "      <td>55.7</td>\n",
       "      <td>86/04/29</td>\n",
       "      <td>24:00:00</td>\n",
       "      <td>12.0</td>\n",
       "      <td>0.00061</td>\n",
       "      <td>0</td>\n",
       "      <td>0.00009</td>\n",
       "    </tr>\n",
       "    <tr>\n",
       "      <th>4</th>\n",
       "      <td>SE</td>\n",
       "      <td>1</td>\n",
       "      <td>RISOE</td>\n",
       "      <td>12.07</td>\n",
       "      <td>55.7</td>\n",
       "      <td>86/04/30</td>\n",
       "      <td>24:00:00</td>\n",
       "      <td>24.0</td>\n",
       "      <td>0.00075</td>\n",
       "      <td>0.0001</td>\n",
       "      <td>0.00028</td>\n",
       "    </tr>\n",
       "  </tbody>\n",
       "</table>\n",
       "</div>"
      ],
      "text/plain": [
       "  country  Code  Ville  lattitude  longitude      Date endsampling  duration  \\\n",
       "0      SE     1  RISOE      12.07       55.7  86/04/27    24:00:00      24.0   \n",
       "1      SE     1  RISOE      12.07       55.7  86/04/28    24:00:00      24.0   \n",
       "2      SE     1  RISOE      12.07       55.7  86/04/29       12:00      12.0   \n",
       "3      SE     1  RISOE      12.07       55.7  86/04/29    24:00:00      12.0   \n",
       "4      SE     1  RISOE      12.07       55.7  86/04/30    24:00:00      24.0   \n",
       "\n",
       "      i131    cs134    cs137  \n",
       "0        1        0     0.24  \n",
       "1   0.0046  0.00054  0.00098  \n",
       "2   0.0147   0.0043   0.0074  \n",
       "3  0.00061        0  0.00009  \n",
       "4  0.00075   0.0001  0.00028  "
      ]
     },
     "execution_count": 40,
     "metadata": {},
     "output_type": "execute_result"
    }
   ],
   "source": [
    "air.head()"
   ]
  },
  {
   "cell_type": "markdown",
   "metadata": {},
   "source": [
    "## Converting to date and time objects"
   ]
  },
  {
   "cell_type": "code",
   "execution_count": 41,
   "metadata": {},
   "outputs": [],
   "source": [
    "air.Date = pd.to_datetime(air.Date)"
   ]
  },
  {
   "cell_type": "code",
   "execution_count": 47,
   "metadata": {},
   "outputs": [],
   "source": [
    "air.endsampling.replace({'24:00:00':'00:00:00'}, inplace = True)"
   ]
  },
  {
   "cell_type": "code",
   "execution_count": 53,
   "metadata": {},
   "outputs": [],
   "source": [
    "air.endsampling = pd.to_datetime(air.endsampling).dt.hour"
   ]
  },
  {
   "cell_type": "markdown",
   "metadata": {},
   "source": [
    "## Convert chemical strings to numeric values"
   ]
  },
  {
   "cell_type": "code",
   "execution_count": 73,
   "metadata": {},
   "outputs": [
    {
     "name": "stdout",
     "output_type": "stream",
     "text": [
      "<class 'pandas.core.frame.DataFrame'>\n",
      "RangeIndex: 2051 entries, 0 to 2050\n",
      "Data columns (total 11 columns):\n",
      " #   Column       Non-Null Count  Dtype         \n",
      "---  ------       --------------  -----         \n",
      " 0   country      2051 non-null   object        \n",
      " 1   Code         2051 non-null   int64         \n",
      " 2   Ville        2051 non-null   object        \n",
      " 3   lattitude    2051 non-null   float64       \n",
      " 4   longitude    2051 non-null   float64       \n",
      " 5   Date         2051 non-null   datetime64[ns]\n",
      " 6   endsampling  2051 non-null   int64         \n",
      " 7   duration     2051 non-null   float64       \n",
      " 8   i131         2009 non-null   float64       \n",
      " 9   cs134        1801 non-null   float64       \n",
      " 10  cs137        1506 non-null   float64       \n",
      "dtypes: datetime64[ns](1), float64(6), int64(2), object(2)\n",
      "memory usage: 176.4+ KB\n"
     ]
    }
   ],
   "source": [
    "air.info()"
   ]
  },
  {
   "cell_type": "code",
   "execution_count": 63,
   "metadata": {},
   "outputs": [],
   "source": [
    "air.i131 = pd.to_numeric(air.i131, errors = 'coerce')"
   ]
  },
  {
   "cell_type": "code",
   "execution_count": 66,
   "metadata": {
    "collapsed": true
   },
   "outputs": [],
   "source": [
    "air.cs134 = pd.to_numeric(air.cs134, errors = 'coerce')"
   ]
  },
  {
   "cell_type": "code",
   "execution_count": 69,
   "metadata": {
    "collapsed": true
   },
   "outputs": [],
   "source": [
    "air.cs137 = pd.to_numeric(air.cs137, errors = 'coerce')"
   ]
  },
  {
   "cell_type": "code",
   "execution_count": 74,
   "metadata": {},
   "outputs": [
    {
     "name": "stdout",
     "output_type": "stream",
     "text": [
      "<class 'pandas.core.frame.DataFrame'>\n",
      "RangeIndex: 2051 entries, 0 to 2050\n",
      "Data columns (total 11 columns):\n",
      " #   Column       Non-Null Count  Dtype         \n",
      "---  ------       --------------  -----         \n",
      " 0   country      2051 non-null   object        \n",
      " 1   Code         2051 non-null   int64         \n",
      " 2   Ville        2051 non-null   object        \n",
      " 3   lattitude    2051 non-null   float64       \n",
      " 4   longitude    2051 non-null   float64       \n",
      " 5   Date         2051 non-null   datetime64[ns]\n",
      " 6   endsampling  2051 non-null   int64         \n",
      " 7   duration     2051 non-null   float64       \n",
      " 8   i131         2009 non-null   float64       \n",
      " 9   cs134        1801 non-null   float64       \n",
      " 10  cs137        1506 non-null   float64       \n",
      "dtypes: datetime64[ns](1), float64(6), int64(2), object(2)\n",
      "memory usage: 176.4+ KB\n"
     ]
    }
   ],
   "source": [
    "air.info()"
   ]
  },
  {
   "cell_type": "code",
   "execution_count": null,
   "metadata": {
    "collapsed": true
   },
   "outputs": [],
   "source": []
  }
 ],
 "metadata": {
  "kernelspec": {
   "display_name": "Python 3",
   "language": "python",
   "name": "python3"
  },
  "language_info": {
   "codemirror_mode": {
    "name": "ipython",
    "version": 3
   },
   "file_extension": ".py",
   "mimetype": "text/x-python",
   "name": "python",
   "nbconvert_exporter": "python",
   "pygments_lexer": "ipython3",
   "version": "3.6.1"
  }
 },
 "nbformat": 4,
 "nbformat_minor": 2
}
