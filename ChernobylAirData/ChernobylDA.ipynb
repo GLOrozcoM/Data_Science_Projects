{
 "cells": [
  {
   "cell_type": "markdown",
   "metadata": {},
   "source": [
    "## Analysis\n"
   ]
  },
  {
   "cell_type": "code",
   "execution_count": null,
   "metadata": {
    "collapsed": true
   },
   "outputs": [],
   "source": [
    "# Came up: \n",
    "# countries mapped to codes"
   ]
  },
  {
   "cell_type": "code",
   "execution_count": 17,
   "metadata": {},
   "outputs": [],
   "source": [
    "import pandas as pd \n",
    "import numpy as np\n",
    "\n",
    "import matplotlib.pyplot as plt\n",
    "import seaborn as sns"
   ]
  },
  {
   "cell_type": "code",
   "execution_count": 2,
   "metadata": {
    "collapsed": true
   },
   "outputs": [],
   "source": [
    "air = pd.read_csv('processed_chernair.csv')"
   ]
  },
  {
   "cell_type": "code",
   "execution_count": 3,
   "metadata": {},
   "outputs": [
    {
     "name": "stdout",
     "output_type": "stream",
     "text": [
      "<class 'pandas.core.frame.DataFrame'>\n",
      "RangeIndex: 2051 entries, 0 to 2050\n",
      "Data columns (total 12 columns):\n",
      " #   Column       Non-Null Count  Dtype  \n",
      "---  ------       --------------  -----  \n",
      " 0   Unnamed: 0   2051 non-null   int64  \n",
      " 1   country      2051 non-null   object \n",
      " 2   Code         2051 non-null   int64  \n",
      " 3   city         2051 non-null   object \n",
      " 4   lattitude    2051 non-null   float64\n",
      " 5   longitude    2051 non-null   float64\n",
      " 6   Date         2051 non-null   object \n",
      " 7   endsampling  2051 non-null   int64  \n",
      " 8   duration     2051 non-null   float64\n",
      " 9   i131         2009 non-null   float64\n",
      " 10  cs134        1801 non-null   float64\n",
      " 11  cs137        1506 non-null   float64\n",
      "dtypes: float64(6), int64(3), object(3)\n",
      "memory usage: 192.4+ KB\n"
     ]
    }
   ],
   "source": [
    "air.info()"
   ]
  },
  {
   "cell_type": "code",
   "execution_count": 4,
   "metadata": {
    "collapsed": true
   },
   "outputs": [],
   "source": [
    "## See which countries, on a map, had a non-zero quantity of these isotopes. \n",
    "## Color code the isotopes. "
   ]
  },
  {
   "cell_type": "code",
   "execution_count": 5,
   "metadata": {},
   "outputs": [
    {
     "data": {
      "text/plain": [
       "Unnamed: 0           2008\n",
       "country                CZ\n",
       "Code                   23\n",
       "city                PRAHA\n",
       "lattitude              50\n",
       "longitude           14.42\n",
       "Date           1986-04-30\n",
       "endsampling            11\n",
       "duration                3\n",
       "i131                   70\n",
       "cs134                  14\n",
       "cs137                 NaN\n",
       "Name: 2008, dtype: object"
      ]
     },
     "execution_count": 5,
     "metadata": {},
     "output_type": "execute_result"
    }
   ],
   "source": [
    "# Which city, country had the largest readout for each isotope?\n",
    "air.iloc[air.i131.idxmax()]"
   ]
  },
  {
   "cell_type": "code",
   "execution_count": 6,
   "metadata": {
    "collapsed": true
   },
   "outputs": [],
   "source": [
    "# Noticed we need to switch countries to code as well. "
   ]
  },
  {
   "cell_type": "code",
   "execution_count": 9,
   "metadata": {},
   "outputs": [
    {
     "data": {
      "text/plain": [
       "Unnamed: 0           2008\n",
       "country                CZ\n",
       "Code                   23\n",
       "city                PRAHA\n",
       "lattitude              50\n",
       "longitude           14.42\n",
       "Date           1986-04-30\n",
       "endsampling            11\n",
       "duration                3\n",
       "i131                   70\n",
       "cs134                  14\n",
       "cs137                 NaN\n",
       "Name: 2008, dtype: object"
      ]
     },
     "execution_count": 9,
     "metadata": {},
     "output_type": "execute_result"
    }
   ],
   "source": [
    "air.iloc[air.cs134.idxmax()]"
   ]
  },
  {
   "cell_type": "code",
   "execution_count": 10,
   "metadata": {},
   "outputs": [
    {
     "data": {
      "text/plain": [
       "Unnamed: 0            1625\n",
       "country                 FI\n",
       "Code                    20\n",
       "city           NURMIJAERVI\n",
       "lattitude             24.7\n",
       "longitude            60.45\n",
       "Date            1986-04-28\n",
       "endsampling             22\n",
       "duration                 7\n",
       "i131                     0\n",
       "cs134                  7.2\n",
       "cs137                 11.9\n",
       "Name: 1625, dtype: object"
      ]
     },
     "execution_count": 10,
     "metadata": {},
     "output_type": "execute_result"
    }
   ],
   "source": [
    "air.iloc[air.cs137.idxmax()]"
   ]
  },
  {
   "cell_type": "code",
   "execution_count": 21,
   "metadata": {},
   "outputs": [
    {
     "data": {
      "image/png": "[encoded data removed]",
      "text/plain": [
       "<Figure size 432x288 with 1 Axes>"
      ]
     },
     "metadata": {},
     "output_type": "display_data"
    }
   ],
   "source": [
    "# Distributions of concentration \n",
    "sns.distplot(air.i131, bins = 50)\n",
    "plt.show()"
   ]
  },
  {
   "cell_type": "code",
   "execution_count": 23,
   "metadata": {},
   "outputs": [
    {
     "data": {
      "image/png": "[encoded data removed]",
      "text/plain": [
       "<Figure size 432x288 with 1 Axes>"
      ]
     },
     "metadata": {},
     "output_type": "display_data"
    }
   ],
   "source": [
    "sns.distplot(air.cs134, bins = 50)\n",
    "plt.show()"
   ]
  },
  {
   "cell_type": "code",
   "execution_count": 24,
   "metadata": {},
   "outputs": [
    {
     "data": {
      "image/png": "[encoded data removed]",
      "text/plain": [
       "<Figure size 432x288 with 1 Axes>"
      ]
     },
     "metadata": {},
     "output_type": "display_data"
    }
   ],
   "source": [
    "sns.distplot(air.cs137, bins = 50)\n",
    "plt.show()"
   ]
  },
  {
   "cell_type": "code",
   "execution_count": 25,
   "metadata": {},
   "outputs": [
    {
     "data": {
      "text/plain": [
       "count    2009.000000\n",
       "mean        1.748547\n",
       "std         5.037676\n",
       "min         0.000000\n",
       "25%         0.003400\n",
       "50%         0.060000\n",
       "75%         1.140000\n",
       "max        70.000000\n",
       "Name: i131, dtype: float64"
      ]
     },
     "execution_count": 25,
     "metadata": {},
     "output_type": "execute_result"
    }
   ],
   "source": [
    "air.i131.describe()"
   ]
  },
  {
   "cell_type": "code",
   "execution_count": 26,
   "metadata": {
    "collapsed": true
   },
   "outputs": [],
   "source": [
    "# Can I say something about this mean? For example. "
   ]
  },
  {
   "cell_type": "code",
   "execution_count": 27,
   "metadata": {},
   "outputs": [
    {
     "data": {
      "text/plain": [
       "count    1801.000000\n",
       "mean        0.246130\n",
       "std         0.752174\n",
       "min         0.000000\n",
       "25%         0.000000\n",
       "50%         0.002035\n",
       "75%         0.170000\n",
       "max        14.000000\n",
       "Name: cs134, dtype: float64"
      ]
     },
     "execution_count": 27,
     "metadata": {},
     "output_type": "execute_result"
    }
   ],
   "source": [
    "air.cs134.describe()"
   ]
  },
  {
   "cell_type": "code",
   "execution_count": 28,
   "metadata": {},
   "outputs": [
    {
     "data": {
      "text/plain": [
       "count    1506.000000\n",
       "mean        0.480119\n",
       "std         1.036107\n",
       "min         0.000000\n",
       "25%         0.001600\n",
       "50%         0.020000\n",
       "75%         0.479325\n",
       "max        11.900000\n",
       "Name: cs137, dtype: float64"
      ]
     },
     "execution_count": 28,
     "metadata": {},
     "output_type": "execute_result"
    }
   ],
   "source": [
    "air.cs137.describe()"
   ]
  },
  {
   "cell_type": "code",
   "execution_count": 29,
   "metadata": {},
   "outputs": [
    {
     "name": "stdout",
     "output_type": "stream",
     "text": [
      "<class 'pandas.core.frame.DataFrame'>\n",
      "RangeIndex: 2051 entries, 0 to 2050\n",
      "Data columns (total 12 columns):\n",
      " #   Column       Non-Null Count  Dtype  \n",
      "---  ------       --------------  -----  \n",
      " 0   Unnamed: 0   2051 non-null   int64  \n",
      " 1   country      2051 non-null   object \n",
      " 2   Code         2051 non-null   int64  \n",
      " 3   city         2051 non-null   object \n",
      " 4   lattitude    2051 non-null   float64\n",
      " 5   longitude    2051 non-null   float64\n",
      " 6   Date         2051 non-null   object \n",
      " 7   endsampling  2051 non-null   int64  \n",
      " 8   duration     2051 non-null   float64\n",
      " 9   i131         2009 non-null   float64\n",
      " 10  cs134        1801 non-null   float64\n",
      " 11  cs137        1506 non-null   float64\n",
      "dtypes: float64(6), int64(3), object(3)\n",
      "memory usage: 192.4+ KB\n"
     ]
    }
   ],
   "source": [
    "air.info()"
   ]
  },
  {
   "cell_type": "code",
   "execution_count": null,
   "metadata": {
    "collapsed": true
   },
   "outputs": [],
   "source": []
  }
 ],
 "metadata": {
  "kernelspec": {
   "display_name": "Python 3",
   "language": "python",
   "name": "python3"
  },
  "language_info": {
   "codemirror_mode": {
    "name": "ipython",
    "version": 3
   },
   "file_extension": ".py",
   "mimetype": "text/x-python",
   "name": "python",
   "nbconvert_exporter": "python",
   "pygments_lexer": "ipython3",
   "version": "3.6.1"
  }
 },
 "nbformat": 4,
 "nbformat_minor": 2
}
