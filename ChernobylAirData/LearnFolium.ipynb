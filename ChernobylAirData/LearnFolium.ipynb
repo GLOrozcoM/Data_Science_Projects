{
 "cells": [
  {
   "cell_type": "code",
   "execution_count": 14,
   "metadata": {
    "collapsed": true
   },
   "outputs": [],
   "source": [
    "import pandas as pd \n",
    "import folium\n",
    "from folium import plugins"
   ]
  },
  {
   "cell_type": "code",
   "execution_count": 30,
   "metadata": {
    "collapsed": true
   },
   "outputs": [],
   "source": [
    "air = pd.read_csv('air_modified.csv')"
   ]
  },
  {
   "cell_type": "code",
   "execution_count": 31,
   "metadata": {
    "collapsed": true
   },
   "outputs": [],
   "source": [
    "MAX_ROWS = len(air)"
   ]
  },
  {
   "cell_type": "code",
   "execution_count": 32,
   "metadata": {
    "collapsed": true
   },
   "outputs": [],
   "source": [
    "LAT_COLUMN_NUMBER = air.columns.get_loc('latitude')"
   ]
  },
  {
   "cell_type": "code",
   "execution_count": 33,
   "metadata": {
    "collapsed": true
   },
   "outputs": [],
   "source": [
    "LONG_COLUMN_NUMBER = air.columns.get_loc('longitude')"
   ]
  },
  {
   "cell_type": "code",
   "execution_count": 34,
   "metadata": {
    "collapsed": true
   },
   "outputs": [],
   "source": [
    "# Notice latitude is the first coordinate\n",
    "CHERNOBYL_COORDS = [51.386998452, 30.092666296]"
   ]
  },
  {
   "cell_type": "code",
   "execution_count": 35,
   "metadata": {
    "collapsed": true
   },
   "outputs": [],
   "source": [
    "ZOOM_START = 3"
   ]
  },
  {
   "cell_type": "code",
   "execution_count": 177,
   "metadata": {
    "collapsed": true
   },
   "outputs": [],
   "source": [
    "#for i in range(len(air)):\n",
    "  #  folium.CircleMarker([air.iloc[i]['longitude'], air.iloc[i]['latitude']]).add_to(folium_map)"
   ]
  },
  {
   "cell_type": "code",
   "execution_count": 36,
   "metadata": {
    "collapsed": true
   },
   "outputs": [],
   "source": [
    "folium_map = folium.Map( location = CHERNOBYL_COORDS , zoom_start = ZOOM_START)"
   ]
  },
  {
   "cell_type": "code",
   "execution_count": 37,
   "metadata": {
    "collapsed": true
   },
   "outputs": [],
   "source": [
    "points = [ \n",
    "    { \n",
    "        'coordinates' : [ 12.07 , 55.7 ],  \n",
    "        'popup': '<h1> Point1</h1> ',\n",
    "        'time' : '1986-04-27'\n",
    "    }, \n",
    "    {\n",
    "        'coordinates': [13.07, 60.8],\n",
    "        'popup': '<h1> Point2</h1> ',\n",
    "        'time': '1986-04-29'\n",
    "    }, \n",
    "    {\n",
    "        'coordinates': [15.07, 60.8],\n",
    "        'popup': '<h1> Point3</h1> ',\n",
    "        'time': '1986-05-01'\n",
    "    }\n",
    "]"
   ]
  },
  {
   "cell_type": "code",
   "execution_count": 38,
   "metadata": {
    "collapsed": true
   },
   "outputs": [],
   "source": [
    "features = [\n",
    "    {\n",
    "        'type': 'Feature',\n",
    "        'geometry': {\n",
    "            'type': 'Point',\n",
    "            'coordinates': point['coordinates'],\n",
    "        },\n",
    "        'properties': {\n",
    "            'time': point['time'],\n",
    "            'id':'house',\n",
    "            'icon': 'circle',\n",
    "            'popup': point['popup'],\n",
    "            'iconstyle': {\n",
    "                'fillColor': 'green',\n",
    "                'fillOpacity':0.6,\n",
    "                'stroke':'false',\n",
    "                'radius':5\n",
    "            }\n",
    "        }\n",
    "    } for point in points\n",
    "]"
   ]
  },
  {
   "cell_type": "code",
   "execution_count": 26,
   "metadata": {
    "collapsed": true
   },
   "outputs": [],
   "source": [
    "features.append(\n",
    "    {\n",
    "        'type': 'Feature',\n",
    "        'geometry': {\n",
    "            'type': 'LineString',\n",
    "            'coordinates': [\n",
    "                [ 12.07 , 55.7 ],\n",
    "                [13.07, 60.8],\n",
    "                [15.07, 60.8]\n",
    "            ],\n",
    "        },\n",
    "        'properties': {\n",
    "            'popup': 'Current address',\n",
    "            'times': [\n",
    "                '1986-04-27',\n",
    "                '1986-04-29',\n",
    "                '1986-05-01'\n",
    "            ],\n",
    "            'icon': 'circle',\n",
    "            'iconstyle': {\n",
    "                'fillColor': 'green',\n",
    "                'fillOpacity': 0.6,\n",
    "                'stroke': 'false',\n",
    "                'radius': 5\n",
    "            },\n",
    "            'style': {'weight': 0},\n",
    "            'id': 'man'\n",
    "        }\n",
    "    }\n",
    ")"
   ]
  },
  {
   "cell_type": "code",
   "execution_count": 39,
   "metadata": {},
   "outputs": [
    {
     "data": {
      "text/plain": [
       "<folium.plugins.timestamped_geo_json.TimestampedGeoJson at 0x11ce1a390>"
      ]
     },
     "execution_count": 39,
     "metadata": {},
     "output_type": "execute_result"
    }
   ],
   "source": [
    "plugins.TimestampedGeoJson(\n",
    "    {\n",
    "        'type': 'FeatureCollection',\n",
    "        'features': features\n",
    "    },\n",
    "    period='P1D',\n",
    "    add_last_point=True,\n",
    "    auto_play=False,\n",
    "    loop=False,\n",
    "    max_speed=1,\n",
    "    loop_button=True,\n",
    "    date_options='YYYY-MM-DD',\n",
    "    time_slider_drag_update=True\n",
    ").add_to(folium_map)"
   ]
  },
  {
   "cell_type": "code",
   "execution_count": 40,
   "metadata": {},
   "outputs": [
    {
     "data": {
      "text/html": [
       "<div style=\"width:100%;\"><div style=\"position:relative;width:100%;height:0;padding-bottom:60%;\"><iframe src=\"about:blank\" style=\"position:absolute;width:100%;height:100%;left:0;top:0;border:none !important;\" data-html=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 onload=\"this.contentDocument.open();this.contentDocument.write(atob(this.getAttribute('data-html')));this.contentDocument.close();\" allowfullscreen webkitallowfullscreen mozallowfullscreen></iframe></div></div>"
      ],
      "text/plain": [
       "<folium.folium.Map at 0x11cdf8630>"
      ]
     },
     "execution_count": 40,
     "metadata": {},
     "output_type": "execute_result"
    }
   ],
   "source": [
    "folium_map"
   ]
  },
  {
   "cell_type": "code",
   "execution_count": null,
   "metadata": {
    "collapsed": true
   },
   "outputs": [],
   "source": [
    "plugins.TimestampedGeoJson(\n",
    "    {\n",
    "        'type': 'FeatureCollection',\n",
    "        'features': features2\n",
    "    },\n",
    "    period='P1D',\n",
    "    add_last_point=True,\n",
    "    auto_play=False,\n",
    "    loop=False,\n",
    "    max_speed=1,\n",
    "    loop_button=True,\n",
    "    date_options='YYYY-MM-DD',\n",
    "    time_slider_drag_update=True,\n",
    ").add_to(folium_map)"
   ]
  },
  {
   "cell_type": "code",
   "execution_count": 185,
   "metadata": {},
   "outputs": [
    {
     "data": {
      "text/plain": [
       "<folium.map.LayerControl at 0x116b48550>"
      ]
     },
     "execution_count": 185,
     "metadata": {},
     "output_type": "execute_result"
    }
   ],
   "source": [
    "folium.LayerControl().add_to(folium_map)"
   ]
  },
  {
   "cell_type": "code",
   "execution_count": 189,
   "metadata": {},
   "outputs": [
    {
     "ename": "ValueError",
     "evalue": "Cannot render objects with any missing geometries: [{'type': 'Feature', 'geometry': {'type': 'Point', 'coordinates': [12.07, 55.7]}, 'properties': {'time': '1986-04-27', 'id': 'house', 'icon': 'marker', 'popup': '<h1> Point1</h1> ', 'iconstyle': {'iconUrl': 'empty', 'iconSize': [20, 20]}}}, {'type': 'Feature', 'geometry': {'type': 'Point', 'coordinates': [13.07, 60.8]}, 'properties': {'time': '1986-04-29', 'id': 'house', 'icon': 'marker', 'popup': '<h1> Point2</h1> ', 'iconstyle': {'iconUrl': 'empty', 'iconSize': [20, 20]}}}, {'type': 'Feature', 'geometry': {'type': 'Point', 'coordinates': [15.07, 60.8]}, 'properties': {'time': '1986-05-01', 'id': 'house', 'icon': 'marker', 'popup': '<h1> Point3</h1> ', 'iconstyle': {'iconUrl': 'empty', 'iconSize': [20, 20]}}}, {'type': 'Feature', 'geometry': {'type': 'LineString', 'coordinates': [[12.07, 55.7], [13.07, 60.8], [15.07, 60.8]]}, 'properties': {'popup': 'Current address', 'times': ['1986-04-27', '1986-04-29', '1986-05-01'], 'icon': 'circle', 'iconstyle': {'fillColor': 'green', 'fillOpacity': 0.6, 'stroke': 'false', 'radius': 5}, 'style': {'weight': 0}, 'id': 'man'}}]",
     "output_type": "error",
     "traceback": [
      "\u001b[0;31m---------------------------------------------------------------------------\u001b[0m",
      "\u001b[0;31mValueError\u001b[0m                                Traceback (most recent call last)",
      "\u001b[0;32m<ipython-input-189-1aeec1a84347>\u001b[0m in \u001b[0;36m<module>\u001b[0;34m()\u001b[0m\n\u001b[1;32m      1\u001b[0m folium.GeoJson(\n\u001b[1;32m      2\u001b[0m     \u001b[0mfeatures\u001b[0m\u001b[0;34m,\u001b[0m\u001b[0;34m\u001b[0m\u001b[0m\n\u001b[0;32m----> 3\u001b[0;31m     \u001b[0mname\u001b[0m\u001b[0;34m=\u001b[0m\u001b[0;34m'geojson'\u001b[0m\u001b[0;34m\u001b[0m\u001b[0m\n\u001b[0m\u001b[1;32m      4\u001b[0m ).add_to(folium_map)\n",
      "\u001b[0;32m~/miniconda3/lib/python3.6/site-packages/folium/features.py\u001b[0m in \u001b[0;36m__init__\u001b[0;34m(self, data, style_function, highlight_function, name, overlay, control, show, smooth_factor, tooltip, embed)\u001b[0m\n\u001b[1;32m    450\u001b[0m         \u001b[0mself\u001b[0m\u001b[0;34m.\u001b[0m\u001b[0mhighlight\u001b[0m \u001b[0;34m=\u001b[0m \u001b[0mhighlight_function\u001b[0m \u001b[0;32mis\u001b[0m \u001b[0;32mnot\u001b[0m \u001b[0;32mNone\u001b[0m\u001b[0;34m\u001b[0m\u001b[0m\n\u001b[1;32m    451\u001b[0m \u001b[0;34m\u001b[0m\u001b[0m\n\u001b[0;32m--> 452\u001b[0;31m         \u001b[0mself\u001b[0m\u001b[0;34m.\u001b[0m\u001b[0mdata\u001b[0m \u001b[0;34m=\u001b[0m \u001b[0mself\u001b[0m\u001b[0;34m.\u001b[0m\u001b[0mprocess_data\u001b[0m\u001b[0;34m(\u001b[0m\u001b[0mdata\u001b[0m\u001b[0;34m)\u001b[0m\u001b[0;34m\u001b[0m\u001b[0m\n\u001b[0m\u001b[1;32m    453\u001b[0m \u001b[0;34m\u001b[0m\u001b[0m\n\u001b[1;32m    454\u001b[0m         \u001b[0;32mif\u001b[0m \u001b[0mself\u001b[0m\u001b[0;34m.\u001b[0m\u001b[0mstyle\u001b[0m \u001b[0;32mor\u001b[0m \u001b[0mself\u001b[0m\u001b[0;34m.\u001b[0m\u001b[0mhighlight\u001b[0m\u001b[0;34m:\u001b[0m\u001b[0;34m\u001b[0m\u001b[0m\n",
      "\u001b[0;32m~/miniconda3/lib/python3.6/site-packages/folium/features.py\u001b[0m in \u001b[0;36mprocess_data\u001b[0;34m(self, data)\u001b[0m\n\u001b[1;32m    494\u001b[0m         \u001b[0;32melse\u001b[0m\u001b[0;34m:\u001b[0m\u001b[0;34m\u001b[0m\u001b[0m\n\u001b[1;32m    495\u001b[0m             raise ValueError('Cannot render objects with any missing geometries'\n\u001b[0;32m--> 496\u001b[0;31m                              ': {!r}'.format(data))\n\u001b[0m\u001b[1;32m    497\u001b[0m \u001b[0;34m\u001b[0m\u001b[0m\n\u001b[1;32m    498\u001b[0m     \u001b[0;32mdef\u001b[0m \u001b[0mconvert_to_feature_collection\u001b[0m\u001b[0;34m(\u001b[0m\u001b[0mself\u001b[0m\u001b[0;34m)\u001b[0m\u001b[0;34m:\u001b[0m\u001b[0;34m\u001b[0m\u001b[0m\n",
      "\u001b[0;31mValueError\u001b[0m: Cannot render objects with any missing geometries: [{'type': 'Feature', 'geometry': {'type': 'Point', 'coordinates': [12.07, 55.7]}, 'properties': {'time': '1986-04-27', 'id': 'house', 'icon': 'marker', 'popup': '<h1> Point1</h1> ', 'iconstyle': {'iconUrl': 'empty', 'iconSize': [20, 20]}}}, {'type': 'Feature', 'geometry': {'type': 'Point', 'coordinates': [13.07, 60.8]}, 'properties': {'time': '1986-04-29', 'id': 'house', 'icon': 'marker', 'popup': '<h1> Point2</h1> ', 'iconstyle': {'iconUrl': 'empty', 'iconSize': [20, 20]}}}, {'type': 'Feature', 'geometry': {'type': 'Point', 'coordinates': [15.07, 60.8]}, 'properties': {'time': '1986-05-01', 'id': 'house', 'icon': 'marker', 'popup': '<h1> Point3</h1> ', 'iconstyle': {'iconUrl': 'empty', 'iconSize': [20, 20]}}}, {'type': 'Feature', 'geometry': {'type': 'LineString', 'coordinates': [[12.07, 55.7], [13.07, 60.8], [15.07, 60.8]]}, 'properties': {'popup': 'Current address', 'times': ['1986-04-27', '1986-04-29', '1986-05-01'], 'icon': 'circle', 'iconstyle': {'fillColor': 'green', 'fillOpacity': 0.6, 'stroke': 'false', 'radius': 5}, 'style': {'weight': 0}, 'id': 'man'}}]"
     ]
    }
   ],
   "source": [
    "folium.GeoJson(\n",
    "    features,\n",
    "    name='geojson'\n",
    ").add_to(folium_map)"
   ]
  },
  {
   "cell_type": "code",
   "execution_count": 162,
   "metadata": {},
   "outputs": [
    {
     "data": {
      "text/html": [
       "<div style=\"width:100%;\"><div style=\"position:relative;width:100%;height:0;padding-bottom:60%;\"><iframe src=\"about:blank\" style=\"position:absolute;width:100%;height:100%;left:0;top:0;border:none !important;\" data-html=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 onload=\"this.contentDocument.open();this.contentDocument.write(atob(this.getAttribute('data-html')));this.contentDocument.close();\" allowfullscreen webkitallowfullscreen mozallowfullscreen></iframe></div></div>"
      ],
      "text/plain": [
       "<folium.folium.Map at 0x116b3a4a8>"
      ]
     },
     "execution_count": 162,
     "metadata": {},
     "output_type": "execute_result"
    }
   ],
   "source": [
    "g1 = plugins.FeatureGroupSubGroup(fg, 'group1')\n",
    "folium_map.add_child(g1)\n",
    "g2 = plugins.FeatureGroupSubGroup(fg, 'group2')\n",
    "folium_map.add_child(g2)"
   ]
  },
  {
   "cell_type": "code",
   "execution_count": 165,
   "metadata": {},
   "outputs": [
    {
     "data": {
      "text/plain": [
       "<folium.map.Marker at 0x116b5b978>"
      ]
     },
     "execution_count": 165,
     "metadata": {},
     "output_type": "execute_result"
    }
   ],
   "source": [
    "folium.Marker([ 12.07 , 55.7 ]).add_to(g1)\n",
    "folium.Marker([13.07, 60.8]).add_to(g2)"
   ]
  },
  {
   "cell_type": "code",
   "execution_count": 166,
   "metadata": {},
   "outputs": [
    {
     "data": {
      "text/plain": [
       "<folium.map.LayerControl at 0x116b5bc88>"
      ]
     },
     "execution_count": 166,
     "metadata": {},
     "output_type": "execute_result"
    }
   ],
   "source": [
    "folium.LayerControl(collapsed=False).add_to(folium_map)"
   ]
  },
  {
   "cell_type": "code",
   "execution_count": 167,
   "metadata": {},
   "outputs": [
    {
     "data": {
      "text/html": [
       "<div style=\"width:100%;\"><div style=\"position:relative;width:100%;height:0;padding-bottom:60%;\"><iframe src=\"about:blank\" style=\"position:absolute;width:100%;height:100%;left:0;top:0;border:none !important;\" data-html=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 onload=\"this.contentDocument.open();this.contentDocument.write(atob(this.getAttribute('data-html')));this.contentDocument.close();\" allowfullscreen webkitallowfullscreen mozallowfullscreen></iframe></div></div>"
      ],
      "text/plain": [
       "<folium.folium.Map at 0x116b3a4a8>"
      ]
     },
     "execution_count": 167,
     "metadata": {},
     "output_type": "execute_result"
    }
   ],
   "source": [
    "folium_map"
   ]
  },
  {
   "cell_type": "code",
   "execution_count": null,
   "metadata": {
    "collapsed": true
   },
   "outputs": [],
   "source": [
    "m = folium.Map(location=[0, 0], zoom_start=6)\n",
    "\n",
    "fg = folium.FeatureGroup(name='groups')\n",
    "m.add_child(fg)\n",
    "\n",
    "g1 = plugins.FeatureGroupSubGroup(fg, 'group1')\n",
    "m.add_child(g1)\n",
    "\n",
    "g2 = plugins.FeatureGroupSubGroup(fg, 'group2')\n",
    "m.add_child(g2)\n",
    "\n",
    "folium.Marker([-1, -1]).add_to(g1)\n",
    "folium.Marker([1, 1]).add_to(g1)\n",
    "\n",
    "folium.Marker([-1, 1]).add_to(g2)\n",
    "folium.Marker([1, -1]).add_to(g2)\n",
    "\n",
    "folium.LayerControl(collapsed=False).add_to(m)\n",
    "m.save(os.path.join('results', 'Plugins_8.html'))\n",
    "m"
   ]
  },
  {
   "cell_type": "code",
   "execution_count": 158,
   "metadata": {
    "scrolled": true
   },
   "outputs": [
    {
     "data": {
      "text/html": [
       "<div style=\"width:100%;\"><div style=\"position:relative;width:100%;height:0;padding-bottom:60%;\"><iframe src=\"about:blank\" style=\"position:absolute;width:100%;height:100%;left:0;top:0;border:none !important;\" data-html=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 onload=\"this.contentDocument.open();this.contentDocument.write(atob(this.getAttribute('data-html')));this.contentDocument.close();\" allowfullscreen webkitallowfullscreen mozallowfullscreen></iframe></div></div>"
      ],
      "text/plain": [
       "<folium.folium.Map at 0x116b3a4a8>"
      ]
     },
     "execution_count": 158,
     "metadata": {},
     "output_type": "execute_result"
    }
   ],
   "source": [
    "folium_map"
   ]
  },
  {
   "cell_type": "code",
   "execution_count": null,
   "metadata": {
    "collapsed": true
   },
   "outputs": [],
   "source": []
  },
  {
   "cell_type": "code",
   "execution_count": 74,
   "metadata": {},
   "outputs": [
    {
     "data": {
      "text/plain": [
       "<folium.plugins.timestamped_geo_json.TimestampedGeoJson at 0x116917f98>"
      ]
     },
     "execution_count": 74,
     "metadata": {},
     "output_type": "execute_result"
    }
   ],
   "source": [
    "plugins.TimestampedGeoJson({\n",
    "    'type': 'FeatureCollection',\n",
    "    'features': features,\n",
    "}, period='P1D', add_last_point=True).add_to(folium_map)"
   ]
  },
  {
   "cell_type": "code",
   "execution_count": null,
   "metadata": {
    "collapsed": true
   },
   "outputs": [],
   "source": []
  },
  {
   "cell_type": "code",
   "execution_count": 50,
   "metadata": {
    "collapsed": true
   },
   "outputs": [],
   "source": [
    "# First attempt\n",
    "features = [ \n",
    "    { 'type': 'Feature', \n",
    "     'geometry': { \n",
    "         'type': 'Point', \n",
    "         'coordinates': line['coordinates'] \n",
    "     }, \n",
    "        'properties': { \n",
    "            'times': line['dates'] \n",
    "        } \n",
    "    }\n",
    "     \n",
    "     for line in lines ]"
   ]
  },
  {
   "cell_type": "code",
   "execution_count": 51,
   "metadata": {},
   "outputs": [
    {
     "data": {
      "text/plain": [
       "[{'geometry': {'coordinates': [[12.07, 55.7], [14.3, 55.7]], 'type': 'Point'},\n",
       "  'properties': {'times': ['1986-04-27', '1986-04-30']},\n",
       "  'type': 'Feature'}]"
      ]
     },
     "execution_count": 51,
     "metadata": {},
     "output_type": "execute_result"
    }
   ],
   "source": [
    "features"
   ]
  },
  {
   "cell_type": "code",
   "execution_count": 55,
   "metadata": {},
   "outputs": [
    {
     "data": {
      "text/plain": [
       "<folium.plugins.timestamped_geo_json.TimestampedGeoJson at 0x1168e8cc0>"
      ]
     },
     "execution_count": 55,
     "metadata": {},
     "output_type": "execute_result"
    }
   ],
   "source": [
    "plugins.TimestampedGeoJson({\n",
    "    'type': 'FeatureCollection',\n",
    "    'features': features,\n",
    "}, period='P1D', add_last_point=True).add_to(folium_map)"
   ]
  },
  {
   "cell_type": "code",
   "execution_count": 56,
   "metadata": {},
   "outputs": [
    {
     "data": {
      "text/html": [
       "<div style=\"width:100%;\"><div style=\"position:relative;width:100%;height:0;padding-bottom:60%;\"><iframe src=\"about:blank\" style=\"position:absolute;width:100%;height:100%;left:0;top:0;border:none !important;\" data-html=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 onload=\"this.contentDocument.open();this.contentDocument.write(atob(this.getAttribute('data-html')));this.contentDocument.close();\" allowfullscreen webkitallowfullscreen mozallowfullscreen></iframe></div></div>"
      ],
      "text/plain": [
       "<folium.folium.Map at 0x1168e8898>"
      ]
     },
     "execution_count": 56,
     "metadata": {},
     "output_type": "execute_result"
    }
   ],
   "source": [
    "folium_map"
   ]
  },
  {
   "cell_type": "code",
   "execution_count": null,
   "metadata": {
    "collapsed": true
   },
   "outputs": [],
   "source": [
    "folium_map.save('initial_folium.html')"
   ]
  }
 ],
 "metadata": {
  "kernelspec": {
   "display_name": "Python 3",
   "language": "python",
   "name": "python3"
  },
  "language_info": {
   "codemirror_mode": {
    "name": "ipython",
    "version": 3
   },
   "file_extension": ".py",
   "mimetype": "text/x-python",
   "name": "python",
   "nbconvert_exporter": "python",
   "pygments_lexer": "ipython3",
   "version": "3.6.1"
  }
 },
 "nbformat": 4,
 "nbformat_minor": 1
}
