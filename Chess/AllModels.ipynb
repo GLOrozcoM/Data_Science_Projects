{
 "cells": [
  {
   "cell_type": "code",
   "execution_count": 111,
   "metadata": {
    "collapsed": true
   },
   "outputs": [],
   "source": [
    "import pandas as pd\n",
    "import matplotlib.pyplot as plt\n",
    "\n",
    "%matplotlib inline\n",
    "\n",
    "import seaborn as sns"
   ]
  },
  {
   "cell_type": "code",
   "execution_count": 112,
   "metadata": {
    "collapsed": true
   },
   "outputs": [],
   "source": [
    "sns.set_style(\"dark\")"
   ]
  },
  {
   "cell_type": "code",
   "execution_count": 113,
   "metadata": {},
   "outputs": [
    {
     "name": "stdout",
     "output_type": "stream",
     "text": [
      "The autoreload extension is already loaded. To reload it, use:\n",
      "  %reload_ext autoreload\n"
     ]
    }
   ],
   "source": [
    "%load_ext autoreload\n",
    "%autoreload 2\n",
    "import ChessUtility as cu"
   ]
  },
  {
   "cell_type": "code",
   "execution_count": 114,
   "metadata": {
    "collapsed": true
   },
   "outputs": [],
   "source": [
    "games = pd.read_csv('games_new_vars.csv')"
   ]
  },
  {
   "cell_type": "markdown",
   "metadata": {},
   "source": [
    "## Models \n",
    "\n",
    "Recall we are trying to predict probabilities of winning. In particular, we are trying to find out the probability of a higher rated player winning a match. We predict these probabilities using the absolute value difference in rating between two players, the number of turns, and whether the higher rated player is white. At the outset, we will limit our models to binary classification (win or loss of higher rated player). Then, we will classify for result (win, loss, or draw). "
   ]
  },
  {
   "cell_type": "markdown",
   "metadata": {},
   "source": [
    "We will fit a logistic regression (only in the binary classification case), a bag of trees, a random forest, and perform linear discriminant analysis (when we classify wins, losses and draws). For each model, we will perform a stratified k-fold cross validation with ten fold splits to determine performance. Prediction accuracy as well as a confusion matrix for each model will help us determine which model performs best. "
   ]
  },
  {
   "cell_type": "markdown",
   "metadata": {},
   "source": [
    "## Normalization and response variable\n",
    "\n",
    "Before fitting models, we will normalize our data. This is important since we intend on using multiple predictors, and our predictors could be on different scales. "
   ]
  },
  {
   "cell_type": "code",
   "execution_count": 115,
   "metadata": {
    "collapsed": true
   },
   "outputs": [],
   "source": [
    "from sklearn.preprocessing import normalize"
   ]
  },
  {
   "cell_type": "code",
   "execution_count": 57,
   "metadata": {
    "collapsed": true
   },
   "outputs": [],
   "source": [
    "X = normalize(games[['abs_diff_rating', 'turns', 'white_higher_rated']])"
   ]
  },
  {
   "cell_type": "markdown",
   "metadata": {},
   "source": [
    "Here we set up our response variable for a binary classification case. "
   ]
  },
  {
   "cell_type": "code",
   "execution_count": 58,
   "metadata": {
    "collapsed": true
   },
   "outputs": [],
   "source": [
    "y = games['higher_rating_won']"
   ]
  },
  {
   "cell_type": "markdown",
   "metadata": {},
   "source": [
    "Some of the algorithms below automatically randomize. By setting a random state, we will pick a random result and stick with it through out the analysis. "
   ]
  },
  {
   "cell_type": "code",
   "execution_count": 59,
   "metadata": {
    "collapsed": true
   },
   "outputs": [],
   "source": [
    "RANDOM_STATE = 1"
   ]
  },
  {
   "cell_type": "markdown",
   "metadata": {},
   "source": [
    "## Logistic Regression, Bag of Trees, and Random Forest"
   ]
  },
  {
   "cell_type": "markdown",
   "metadata": {},
   "source": [
    "We will begin with a Logistic Regression and perform a stratifed 10 fold cross validation on the model. "
   ]
  },
  {
   "cell_type": "code",
   "execution_count": 63,
   "metadata": {},
   "outputs": [],
   "source": [
    "lg_confusion_matrix = cu.run_logistic_regression(NUMBER_FOLDS, X, y, RANDOM_STATE)"
   ]
  },
  {
   "cell_type": "code",
   "execution_count": 65,
   "metadata": {
    "collapsed": true
   },
   "outputs": [],
   "source": [
    "lg_results = cu.get_cm_results(lg_confusion_matrix)"
   ]
  },
  {
   "cell_type": "code",
   "execution_count": 17,
   "metadata": {
    "collapsed": true
   },
   "outputs": [],
   "source": [
    "NUMBER_ESTIMATORS = 100"
   ]
  },
  {
   "cell_type": "code",
   "execution_count": 71,
   "metadata": {},
   "outputs": [],
   "source": [
    "bag_confusion_matrix = cu.run_bag_trees(NUMBER_FOLDS, NUMBER_ESTIMATORS, RANDOM_STATE, X, y)"
   ]
  },
  {
   "cell_type": "code",
   "execution_count": 73,
   "metadata": {},
   "outputs": [],
   "source": [
    "bag_results = cu.get_cm_results(bag_confusion_matrix)"
   ]
  },
  {
   "cell_type": "code",
   "execution_count": 77,
   "metadata": {
    "collapsed": true
   },
   "outputs": [],
   "source": [
    "rforest_confusion_matrix = cu.run_random_forest(NUMBER_FOLDS, NUMBER_ESTIMATORS, RANDOM_STATE, X, y)"
   ]
  },
  {
   "cell_type": "code",
   "execution_count": 79,
   "metadata": {
    "collapsed": true
   },
   "outputs": [],
   "source": [
    "rforest_results = cu.get_cm_results(rforest_confusion_matrix)"
   ]
  },
  {
   "cell_type": "code",
   "execution_count": 105,
   "metadata": {},
   "outputs": [],
   "source": [
    "ser_rforest_results = pd.Series(rforest_results)"
   ]
  },
  {
   "cell_type": "code",
   "execution_count": 143,
   "metadata": {},
   "outputs": [],
   "source": [
    "def create_bar_results(model_results, title):\n",
    "    \"\"\" Create a bar plot for confusion matrix results. \n",
    "    \n",
    "    \"\"\"\n",
    "    # https://stackoverflow.com/questions/39444665/add-data-labels-to-seaborn-factor-plot\n",
    "    \n",
    "    series_results = pd.Series(model_results)\n",
    "    \n",
    "    sns.barplot(series_results.index, series_results.values)\n",
    "    plt.title( title )\n",
    "    plt.ylabel('Value')\n",
    "    plt.xlabel('Metric')\n",
    "    plt.ylim([0, 1])\n",
    "    \n",
    "    # Get current axis on current figure\n",
    "    ax = plt.gca()\n",
    "    \n",
    "     # loop through all bars of the barplot\n",
    "    for nr, p in enumerate(ax.patches):\n",
    "\n",
    "    # height of bar, which is basically the data value\n",
    "        height = p.get_height() \n",
    "\n",
    "    # add text to specified position\n",
    "        ax.text(\n",
    "        # bar to which data label will be added \n",
    "        # so this is the x-coordinate of the data label\n",
    "            nr, \n",
    "\n",
    "        # height of data label: height / 2. is in the middle of the bar\n",
    "        # so this is the y-coordinate of the data label\n",
    "            height + 0.05, \n",
    "\n",
    "        # formatting of data label\n",
    "            u'{:0.3f}'.format(height), \n",
    "\n",
    "        # color of data label\n",
    "            color='gray', \n",
    "\n",
    "        # size of data label\n",
    "            fontsize=15, \n",
    "\n",
    "        # horizontal alignment: possible values are center, right, left\n",
    "            ha='center', \n",
    "\n",
    "        # vertical alignment: possible values are top, bottom, center, baseline\n",
    "            va='center'\n",
    "        )\n",
    "    "
   ]
  },
  {
   "cell_type": "code",
   "execution_count": 144,
   "metadata": {},
   "outputs": [
    {
     "data": {
      "image/png": "[encoded data removed]",
      "text/plain": [
       "<Figure size 432x288 with 1 Axes>"
      ]
     },
     "metadata": {},
     "output_type": "display_data"
    }
   ],
   "source": [
    "create_bar_results(rforest_results, 'Random Forest Results')"
   ]
  },
  {
   "cell_type": "markdown",
   "metadata": {},
   "source": [
    "## Beyond binary \n",
    "In this section, we refit all models except for our logistic regression. This time, our response will be 'result'. Recall this encoded whether games were a loss, draw, or win for the higher rated player. "
   ]
  },
  {
   "cell_type": "code",
   "execution_count": 55,
   "metadata": {
    "collapsed": true
   },
   "outputs": [],
   "source": [
    "y = games['result']"
   ]
  },
  {
   "cell_type": "markdown",
   "metadata": {},
   "source": [
    "## Bag of Trees"
   ]
  },
  {
   "cell_type": "markdown",
   "metadata": {
    "collapsed": true
   },
   "source": [
    "We continue hunting for good models with a bag of trees. Here, we also run stratified 10 fold cross validation.  "
   ]
  },
  {
   "cell_type": "code",
   "execution_count": 62,
   "metadata": {
    "collapsed": true
   },
   "outputs": [],
   "source": [
    "tree = DecisionTreeClassifier()"
   ]
  },
  {
   "cell_type": "code",
   "execution_count": 63,
   "metadata": {
    "collapsed": true
   },
   "outputs": [],
   "source": [
    "bag = BaggingClassifier(base_estimator = tree, \n",
    "                        n_estimators = NUMBER_ESTIMATORS, \n",
    "                       random_state = RANDOM_STATE)"
   ]
  },
  {
   "cell_type": "code",
   "execution_count": 64,
   "metadata": {
    "collapsed": true
   },
   "outputs": [],
   "source": [
    "bag_confusion_matrix = cu.run_stratified_k(bag, NUMBER_FOLDS, X, y, RANDOM_STATE)"
   ]
  },
  {
   "cell_type": "code",
   "execution_count": 65,
   "metadata": {},
   "outputs": [
    {
     "data": {
      "text/plain": [
       "array([[2829,  294, 2803],\n",
       "       [ 184,  123,  279],\n",
       "       [3600,  497, 8832]])"
      ]
     },
     "execution_count": 65,
     "metadata": {},
     "output_type": "execute_result"
    }
   ],
   "source": [
    "bag_confusion_matrix"
   ]
  },
  {
   "cell_type": "markdown",
   "metadata": {},
   "source": [
    "## Random Forest\n",
    "Next, we fit a random forest model. "
   ]
  },
  {
   "cell_type": "code",
   "execution_count": 66,
   "metadata": {
    "collapsed": true
   },
   "outputs": [],
   "source": [
    "from sklearn.ensemble import RandomForestClassifier"
   ]
  },
  {
   "cell_type": "code",
   "execution_count": 67,
   "metadata": {
    "collapsed": true
   },
   "outputs": [],
   "source": [
    "random_forest = RandomForestClassifier(n_estimators = NUMBER_ESTIMATORS, random_state = RANDOM_STATE)"
   ]
  },
  {
   "cell_type": "code",
   "execution_count": 68,
   "metadata": {
    "collapsed": true
   },
   "outputs": [],
   "source": [
    "rforest_confusion_matrix = cu.run_stratified_k(random_forest, NUMBER_FOLDS, X, y, RANDOM_STATE)"
   ]
  },
  {
   "cell_type": "code",
   "execution_count": 69,
   "metadata": {},
   "outputs": [
    {
     "data": {
      "text/plain": [
       "array([[2822,  294, 2804],\n",
       "       [ 189,  124,  281],\n",
       "       [3602,  496, 8829]])"
      ]
     },
     "execution_count": 69,
     "metadata": {},
     "output_type": "execute_result"
    }
   ],
   "source": [
    "rforest_confusion_matrix"
   ]
  },
  {
   "cell_type": "markdown",
   "metadata": {},
   "source": [
    "## Linear Discriminant Analysis"
   ]
  },
  {
   "cell_type": "code",
   "execution_count": null,
   "metadata": {
    "collapsed": true
   },
   "outputs": [],
   "source": []
  }
 ],
 "metadata": {
  "kernelspec": {
   "display_name": "Python 3",
   "language": "python",
   "name": "python3"
  },
  "language_info": {
   "codemirror_mode": {
    "name": "ipython",
    "version": 3
   },
   "file_extension": ".py",
   "mimetype": "text/x-python",
   "name": "python",
   "nbconvert_exporter": "python",
   "pygments_lexer": "ipython3",
   "version": "3.6.1"
  }
 },
 "nbformat": 4,
 "nbformat_minor": 2
}
