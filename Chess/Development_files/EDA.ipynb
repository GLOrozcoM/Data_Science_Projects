{
 "cells": [
  {
   "cell_type": "markdown",
   "metadata": {},
   "source": [
    "## EDA\n",
    "\n",
    "(See IntroVariableCreation for our previously done work.)\n",
    "\n",
    "In this module, we're interested in *getting a feel* for the variables in our dataset."
   ]
  },
  {
   "cell_type": "code",
   "execution_count": 1,
   "metadata": {
    "collapsed": true
   },
   "outputs": [],
   "source": [
    "import pandas as pd\n",
    "import numpy as np\n",
    "from pandas import DataFrame, Series\n",
    "import matplotlib.pyplot as plt\n",
    "import seaborn as sns"
   ]
  },
  {
   "cell_type": "code",
   "execution_count": 2,
   "metadata": {
    "collapsed": true
   },
   "outputs": [],
   "source": [
    "games = pd.read_csv('games_new_vars.csv')"
   ]
  },
  {
   "cell_type": "markdown",
   "metadata": {},
   "source": [
    "### Absolute value in differences\n",
    "We'll start by checking out our abs_diff_rating variable. "
   ]
  },
  {
   "cell_type": "code",
   "execution_count": 3,
   "metadata": {},
   "outputs": [
    {
     "data": {
      "text/plain": [
       "count    20058.000000\n",
       "mean       173.091435\n",
       "std        179.214854\n",
       "min          0.000000\n",
       "25%         45.000000\n",
       "50%        115.000000\n",
       "75%        241.000000\n",
       "max       1605.000000\n",
       "Name: abs_diff_rating, dtype: float64"
      ]
     },
     "execution_count": 3,
     "metadata": {},
     "output_type": "execute_result"
    }
   ],
   "source": [
    "games.abs_diff_rating.describe()"
   ]
  },
  {
   "cell_type": "code",
   "execution_count": 4,
   "metadata": {
    "scrolled": true
   },
   "outputs": [
    {
     "data": {
      "image/png": "[encoded data removed]",
      "text/plain": [
       "<Figure size 432x288 with 1 Axes>"
      ]
     },
     "metadata": {},
     "output_type": "display_data"
    }
   ],
   "source": [
    "sns.distplot(games.abs_diff_rating,\n",
    "                        kde=False)\n",
    "plt.show()"
   ]
  },
  {
   "cell_type": "markdown",
   "metadata": {},
   "source": [
    "We can see we've got a one tailed right skewed distribution of absolute values in rating. \n",
    "\n",
    "I wonder if we've got outliers hiding in here. "
   ]
  },
  {
   "cell_type": "code",
   "execution_count": 14,
   "metadata": {},
   "outputs": [
    {
     "data": {
      "image/png": "[encoded data removed]",
      "text/plain": [
       "<Figure size 432x288 with 1 Axes>"
      ]
     },
     "metadata": {},
     "output_type": "display_data"
    }
   ],
   "source": [
    "sns.boxplot(x=\"abs_diff_rating\",\n",
    "                data=games)\n",
    "plt.show()"
   ]
  },
  {
   "cell_type": "markdown",
   "metadata": {},
   "source": [
    "Definite yes. It looks like after the 580 absolute value difference, we have a load of upper outliers. However, we need not necessarily remove them since they could inform how large differences contribute to percentages of winning. Note that we don't have low outliers."
   ]
  },
  {
   "cell_type": "markdown",
   "metadata": {},
   "source": [
    "Let's find out how many of these upper outliers we have."
   ]
  },
  {
   "cell_type": "code",
   "execution_count": 24,
   "metadata": {
    "collapsed": true
   },
   "outputs": [],
   "source": [
    "# Multiple definitions for an outlier exist. We use the boxplot definition inline with our plot above.\n",
    "quartiles = np.percentile(games.abs_diff_rating, [25, 50, 75])\n",
    "upper_cutoff = games.abs_diff_rating.mean() + 1.5 * ( quartiles[2] - quartiles[0] ) "
   ]
  },
  {
   "cell_type": "code",
   "execution_count": 26,
   "metadata": {},
   "outputs": [
    {
     "data": {
      "text/plain": [
       "7        695\n",
       "11       486\n",
       "12       555\n",
       "20       582\n",
       "26       746\n",
       "        ... \n",
       "19921    771\n",
       "20012    768\n",
       "20041    507\n",
       "20042    494\n",
       "20053    471\n",
       "Name: abs_diff_rating, Length: 1491, dtype: int64"
      ]
     },
     "execution_count": 26,
     "metadata": {},
     "output_type": "execute_result"
    }
   ],
   "source": [
    "games.loc[games.abs_diff_rating > upper_cutoff, 'abs_diff_rating']"
   ]
  },
  {
   "cell_type": "markdown",
   "metadata": {},
   "source": [
    "So, we have 1461 outliers. Here is our upper cutoff difference. "
   ]
  },
  {
   "cell_type": "code",
   "execution_count": 28,
   "metadata": {},
   "outputs": [
    {
     "data": {
      "text/plain": [
       "467.0"
      ]
     },
     "execution_count": 28,
     "metadata": {},
     "output_type": "execute_result"
    }
   ],
   "source": [
    "np.round(upper_cutoff)"
   ]
  },
  {
   "cell_type": "markdown",
   "metadata": {},
   "source": [
    "I'm curious. Do these big differences in rating have a high proportion of wins for the higher rated player? "
   ]
  },
  {
   "cell_type": "code",
   "execution_count": 29,
   "metadata": {},
   "outputs": [
    {
     "data": {
      "text/plain": [
       "1    1257\n",
       "0     234\n",
       "Name: higher_rating_won, dtype: int64"
      ]
     },
     "execution_count": 29,
     "metadata": {},
     "output_type": "execute_result"
    }
   ],
   "source": [
    "games.loc[games.abs_diff_rating > upper_cutoff, 'higher_rating_won'].value_counts()"
   ]
  },
  {
   "cell_type": "markdown",
   "metadata": {},
   "source": [
    "Recall that a value of 1 means the higher rated player won, 0 if they drew or lost. As a proportion, we have:"
   ]
  },
  {
   "cell_type": "code",
   "execution_count": 30,
   "metadata": {},
   "outputs": [
    {
     "data": {
      "text/plain": [
       "1    0.843058\n",
       "0    0.156942\n",
       "Name: higher_rating_won, dtype: float64"
      ]
     },
     "execution_count": 30,
     "metadata": {},
     "output_type": "execute_result"
    }
   ],
   "source": [
    "games.loc[games.abs_diff_rating > upper_cutoff, 'higher_rating_won'].value_counts(1)"
   ]
  },
  {
   "cell_type": "markdown",
   "metadata": {},
   "source": [
    "Deciding to keep the outliers depends on the kind of model we use. So, we will leave the outliers alone."
   ]
  },
  {
   "cell_type": "markdown",
   "metadata": {},
   "source": [
    "### Victory status\n",
    "We will now take a look at the frequency for victory status. "
   ]
  },
  {
   "cell_type": "code",
   "execution_count": 31,
   "metadata": {},
   "outputs": [
    {
     "data": {
      "image/png": "[encoded data removed]",
      "text/plain": [
       "<Figure size 432x288 with 1 Axes>"
      ]
     },
     "metadata": {},
     "output_type": "display_data"
    }
   ],
   "source": [
    "sns.countplot(x = 'victory_status', data = games)\n",
    "plt.show()"
   ]
  },
  {
   "cell_type": "markdown",
   "metadata": {},
   "source": [
    "Most players resigned before being submitted to the shame of a mate. Note how very little draws there are proportionate to the other results. "
   ]
  },
  {
   "cell_type": "markdown",
   "metadata": {},
   "source": [
    "When I've played online, I've sometimes beat a better player by having them run out of time. I wonder what we can say about the proportion of wins by a lower rated player due to running out of time. "
   ]
  },
  {
   "cell_type": "code",
   "execution_count": 36,
   "metadata": {
    "collapsed": true
   },
   "outputs": [],
   "source": [
    "victory_higher_rating_g = games.victory_status.groupby(games.higher_rating_won)"
   ]
  },
  {
   "cell_type": "code",
   "execution_count": 42,
   "metadata": {},
   "outputs": [
    {
     "data": {
      "text/plain": [
       "higher_rating_won  victory_status\n",
       "0                  resign            0.516091\n",
       "                   mate              0.276668\n",
       "                   draw              0.117571\n",
       "                   outoftime         0.089670\n",
       "1                  resign            0.580473\n",
       "                   mate              0.339459\n",
       "                   outoftime         0.080068\n",
       "Name: victory_status, dtype: float64"
      ]
     },
     "execution_count": 42,
     "metadata": {},
     "output_type": "execute_result"
    }
   ],
   "source": [
    "victory_higher_rating_g.value_counts(1)"
   ]
  },
  {
   "cell_type": "markdown",
   "metadata": {},
   "source": [
    "If we look at the proportions, the out of time proportion is only ever so slightly higher in the 0 category than in the 1 category. \n",
    "I don't think is big enough to make us believe a lower rated player wins more often from an out of time than a higher rated player. "
   ]
  },
  {
   "cell_type": "markdown",
   "metadata": {},
   "source": [
    "### Higher Rating Won\n",
    "\n",
    "We are interested in checking out how often the higher rating won since this will be one of our response variables in our predictions. "
   ]
  },
  {
   "cell_type": "code",
   "execution_count": 25,
   "metadata": {},
   "outputs": [
    {
     "data": {
      "image/png": "[encoded data removed]",
      "text/plain": [
       "<Figure size 432x288 with 1 Axes>"
      ]
     },
     "metadata": {},
     "output_type": "display_data"
    }
   ],
   "source": [
    "sns.countplot(x = 'higher_rating_won', data = games)\n",
    "plt.show()"
   ]
  },
  {
   "cell_type": "markdown",
   "metadata": {},
   "source": [
    "Most of the time, the higher rating won. Great. The rating system would probably need some tweaking if this wasn't the case."
   ]
  },
  {
   "cell_type": "markdown",
   "metadata": {},
   "source": [
    "### Number of turns\n",
    "\n",
    "We can also check out the distribution for the number of turns taken. "
   ]
  },
  {
   "cell_type": "code",
   "execution_count": 43,
   "metadata": {},
   "outputs": [
    {
     "data": {
      "image/png": "[encoded data removed]",
      "text/plain": [
       "<Figure size 432x288 with 1 Axes>"
      ]
     },
     "metadata": {},
     "output_type": "display_data"
    }
   ],
   "source": [
    "sns.distplot(games.turns, kde = False, color = 'b')\n",
    "plt.show()"
   ]
  },
  {
   "cell_type": "markdown",
   "metadata": {},
   "source": [
    "Looks like most turns hover around 50. Numerically, we can pinpoint the mean and median:"
   ]
  },
  {
   "cell_type": "code",
   "execution_count": 44,
   "metadata": {},
   "outputs": [
    {
     "data": {
      "text/plain": [
       "count    20058.000000\n",
       "mean        60.465999\n",
       "std         33.570585\n",
       "min          1.000000\n",
       "25%         37.000000\n",
       "50%         55.000000\n",
       "75%         79.000000\n",
       "max        349.000000\n",
       "Name: turns, dtype: float64"
      ]
     },
     "execution_count": 44,
     "metadata": {},
     "output_type": "execute_result"
    }
   ],
   "source": [
    "games.turns.describe()"
   ]
  },
  {
   "cell_type": "markdown",
   "metadata": {},
   "source": [
    "We get a mean and a median that are similar at 60.46 (so 60 turns) and 55 respectively. Seeing 349 makes me curious. Who played that long a game? "
   ]
  },
  {
   "cell_type": "code",
   "execution_count": 45,
   "metadata": {
    "scrolled": true
   },
   "outputs": [
    {
     "data": {
      "text/plain": [
       "Unnamed: 0                                                           349\n",
       "id                                                              2icRDIZI\n",
       "rated                                                               True\n",
       "created_at                                                   1.50394e+12\n",
       "last_move_at                                                 1.50394e+12\n",
       "turns                                                                120\n",
       "victory_status                                                      mate\n",
       "winner                                                             black\n",
       "increment_code                                                      10+0\n",
       "white_id                                                        bomardan\n",
       "white_rating                                                        1589\n",
       "black_id                                                           tfeng\n",
       "black_rating                                                        1569\n",
       "moves                  d4 Nf6 c4 g6 Nc3 d5 Nf3 Bg7 Bf4 O-O Nb5 c6 Nc7...\n",
       "opening_eco                                                          D92\n",
       "opening_name           Gruenfeld Defense: Three Knights Variation |  ...\n",
       "opening_ply                                                            9\n",
       "diff_rating                                                           20\n",
       "abs_diff_rating                                                       20\n",
       "higher_rating                                                      white\n",
       "higher_rating_won                                                      0\n",
       "higher_rating_coded                                                    1\n",
       "white_higher_rated                                                     1\n",
       "result                                                                 0\n",
       "Name: 349, dtype: object"
      ]
     },
     "execution_count": 45,
     "metadata": {},
     "output_type": "execute_result"
    }
   ],
   "source": [
    "games.iloc[games.turns.max()]"
   ]
  },
  {
   "cell_type": "markdown",
   "metadata": {},
   "source": [
    "The players had similar ratings of 1589 (white) and 1569 (black). Cool that black won - I like it when the undergod makes it. And mated 'em too. "
   ]
  },
  {
   "cell_type": "markdown",
   "metadata": {},
   "source": [
    "Don't know if you saw this, Watson, but we had a min of 1 for turns (look out our output for numerical description of turn data). Big alert Houston! We'll have to address short turn games since these may affect our models. \n",
    "\n",
    "We'll start by checking out that game with one turn though."
   ]
  },
  {
   "cell_type": "code",
   "execution_count": 50,
   "metadata": {},
   "outputs": [
    {
     "data": {
      "text/plain": [
       "Unnamed: 0                          1946\n",
       "id                              3K5kYPO8\n",
       "rated                               True\n",
       "created_at                   1.49153e+12\n",
       "last_move_at                 1.49153e+12\n",
       "turns                                  1\n",
       "victory_status                    resign\n",
       "winner                             black\n",
       "increment_code                      10+0\n",
       "white_id                    serik-astana\n",
       "white_rating                        1464\n",
       "black_id                      brorael357\n",
       "black_rating                        1355\n",
       "moves                                 g3\n",
       "opening_eco                          A00\n",
       "opening_name           Hungarian Opening\n",
       "opening_ply                            1\n",
       "diff_rating                          109\n",
       "abs_diff_rating                      109\n",
       "higher_rating                      white\n",
       "higher_rating_won                      0\n",
       "higher_rating_coded                    1\n",
       "white_higher_rated                     1\n",
       "result                                 0\n",
       "Name: 1946, dtype: object"
      ]
     },
     "execution_count": 50,
     "metadata": {},
     "output_type": "execute_result"
    }
   ],
   "source": [
    "games.iloc[games.turns.idxmin()]"
   ]
  },
  {
   "cell_type": "markdown",
   "metadata": {},
   "source": [
    "Of course, this kind of game could disrupt our model work later so we intend to remove it. For now, note how many games took less than 10 turns. "
   ]
  },
  {
   "cell_type": "code",
   "execution_count": 53,
   "metadata": {},
   "outputs": [
    {
     "data": {
      "text/plain": [
       "617"
      ]
     },
     "execution_count": 53,
     "metadata": {},
     "output_type": "execute_result"
    }
   ],
   "source": [
    "len(games.loc[games.turns < 10])"
   ]
  },
  {
   "cell_type": "markdown",
   "metadata": {
    "collapsed": true
   },
   "source": [
    "### Result \n",
    "\n",
    "Finally, let's look at the result variable. "
   ]
  },
  {
   "cell_type": "code",
   "execution_count": 35,
   "metadata": {},
   "outputs": [
    {
     "data": {
      "image/png": "[encoded data removed]",
      "text/plain": [
       "<Figure size 432x288 with 1 Axes>"
      ]
     },
     "metadata": {},
     "output_type": "display_data"
    }
   ],
   "source": [
    "sns.countplot(x = 'result', data = games)\n",
    "plt.show()"
   ]
  },
  {
   "cell_type": "markdown",
   "metadata": {},
   "source": [
    "This reflects our victory status variable. For the higher rated player, we have mostly wins (2), a little more than half of these are losses (0), and a small proportion turn out to be draws (1). Numerically, we have that:"
   ]
  },
  {
   "cell_type": "code",
   "execution_count": 43,
   "metadata": {},
   "outputs": [
    {
     "data": {
      "text/plain": [
       "2    0.615814\n",
       "0    0.336823\n",
       "1    0.047363\n",
       "Name: result, dtype: float64"
      ]
     },
     "execution_count": 43,
     "metadata": {},
     "output_type": "execute_result"
    }
   ],
   "source": [
    "games.result.value_counts(1)"
   ]
  },
  {
   "cell_type": "markdown",
   "metadata": {},
   "source": [
    "### Increment code \n",
    "You have noticed a variable called increment code. "
   ]
  },
  {
   "cell_type": "code",
   "execution_count": 36,
   "metadata": {},
   "outputs": [
    {
     "data": {
      "text/plain": [
       "0         15+2\n",
       "1         5+10\n",
       "2         5+10\n",
       "3         20+0\n",
       "4         30+3\n",
       "         ...  \n",
       "20053    10+10\n",
       "20054     10+0\n",
       "20055     10+0\n",
       "20056     10+0\n",
       "20057     10+0\n",
       "Name: increment_code, Length: 20058, dtype: object"
      ]
     },
     "execution_count": 36,
     "metadata": {},
     "output_type": "execute_result"
    }
   ],
   "source": [
    "games.increment_code"
   ]
  },
  {
   "cell_type": "markdown",
   "metadata": {},
   "source": [
    "This variable gives us how much each player will receive in rating increase. Intuitively, if a high rated player beats a lower rated player, the higher rated player would receive a few points. But, if the lower rated player beat the higher rated player, they would probably receive a higher amount of points. A draw would result in players receiving the same increment. \n",
    "\n",
    "I sound like an expert in this variable, but I'm not. It's my guess. Let's see if my guess holds. To do so, we will check drawed games and see if the increment is equal. "
   ]
  },
  {
   "cell_type": "code",
   "execution_count": 40,
   "metadata": {},
   "outputs": [
    {
     "data": {
      "text/plain": [
       "5         10+0\n",
       "40       20+25\n",
       "98        15+0\n",
       "126      15+15\n",
       "143      15+15\n",
       "         ...  \n",
       "20003    30+30\n",
       "20004    30+30\n",
       "20011    45+45\n",
       "20014    45+45\n",
       "20034    45+45\n",
       "Name: increment_code, Length: 906, dtype: object"
      ]
     },
     "execution_count": 40,
     "metadata": {},
     "output_type": "execute_result"
    }
   ],
   "source": [
    "games.loc[games.victory_status == 'draw', 'increment_code']"
   ]
  },
  {
   "cell_type": "markdown",
   "metadata": {},
   "source": [
    "So the increment isn't always equal. But this makes sense since a lower rated player could draw with a higher rated player and deserve to be elevated. \n",
    "\n",
    "A potential rabbit hole for us to jump is figuring out how an increment code is determined based on result and difference in rating. But we'll leave that for another bedtime story. "
   ]
  },
  {
   "cell_type": "markdown",
   "metadata": {},
   "source": [
    "### Conclusions\n",
    "\n",
    "1) We need not worry about low outliers in the absolute value of differences between ratings. High outliers, however, do exist (according to our definition of boxplot outliers), and we will deal with them based on the model we apply to the data. \n",
    "\n",
    "2) For the higher rated player, most of the games end up as wins ~61%, then losses ~37% with a majority of resignations, instead of checkmates. A small percentage are draws ~5%. \n",
    "\n",
    "3) The turns variable reveal that we may need to remove short turn games since they offer little information. \n",
    "\n",
    "4) An interesting study would be to determine how increment codes are decided. \n",
    "\n"
   ]
  }
 ],
 "metadata": {
  "kernelspec": {
   "display_name": "Python 3",
   "language": "python",
   "name": "python3"
  },
  "language_info": {
   "codemirror_mode": {
    "name": "ipython",
    "version": 3
   },
   "file_extension": ".py",
   "mimetype": "text/x-python",
   "name": "python",
   "nbconvert_exporter": "python",
   "pygments_lexer": "ipython3",
   "version": "3.6.1"
  }
 },
 "nbformat": 4,
 "nbformat_minor": 2
}
