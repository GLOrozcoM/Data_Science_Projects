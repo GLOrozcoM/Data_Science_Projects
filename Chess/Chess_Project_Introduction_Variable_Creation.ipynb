{
 "cells": [
  {
   "cell_type": "markdown",
   "metadata": {},
   "source": [
    "## Introducing the question\n",
    "\n",
    "I am interested in determining how the difference between two ratings relates to the probability of winning for each player. \n",
    "\n",
    "For example, suppose that we both meet to play a chess match. I, having been a decent player, have a rating of 1800. You just started playing the other day so you have a rating of 1000. The idea behind a rating is to let us know that we are not evently matched. Given my rating, you should know that I will probably crush you, and your chance of winning is dismally lower than mine. So how can I quantify this intuition? \n",
    "\n",
    "My intuition tells me that the bigger the difference, the more likely the person with the higher rating will win.\n",
    "\n",
    "In this notebook, we make variables to cook our models with. "
   ]
  },
  {
   "cell_type": "markdown",
   "metadata": {},
   "source": [
    "## Making new variables\n",
    "\n",
    "Our ingredients for this cake will be the following:\n",
    "\n",
    "1) diff_rating will quantify the difference between the player ratings,\n",
    "\n",
    "2) abs_diff_rating will simply take the absolute value of the quantity above.\n",
    "\n",
    "3) higher_rating_won will be a binary variable taking 1 if the person with the higher rating won, and 0 if they didn't.\n",
    "\n",
    "4) higher_rating_coded will determine whether white won (takes value of 1, 0 otherwise).\n",
    "\n",
    "5) result will encode wether the higher rated player lost, tied, or won (0, 1, 2). \n",
    "\n",
    "6) white_higher_rate encodes whether the higher rated player was white or not (1, 0). \n",
    "\n",
    "TODO Could the variable names higher_rating_coded and white_higher_rate be confusing?"
   ]
  },
  {
   "cell_type": "code",
   "execution_count": 1,
   "metadata": {
    "collapsed": true
   },
   "outputs": [],
   "source": [
    "import pandas as pd\n",
    "import numpy as np\n",
    "from pandas import DataFrame, Series"
   ]
  },
  {
   "cell_type": "code",
   "execution_count": 2,
   "metadata": {
    "collapsed": true
   },
   "outputs": [],
   "source": [
    "games = pd.read_csv('games.csv')"
   ]
  },
  {
   "cell_type": "code",
   "execution_count": 3,
   "metadata": {
    "collapsed": true
   },
   "outputs": [],
   "source": [
    "games['diff_rating'] = games.white_rating - games.black_rating"
   ]
  },
  {
   "cell_type": "code",
   "execution_count": 4,
   "metadata": {
    "collapsed": true
   },
   "outputs": [],
   "source": [
    "games['abs_diff_rating'] = np.abs(games['diff_rating'])"
   ]
  },
  {
   "cell_type": "code",
   "execution_count": 6,
   "metadata": {
    "collapsed": true
   },
   "outputs": [],
   "source": [
    "games['higher_rating'] = ''\n",
    "games.loc[games.diff_rating > 0, 'higher_rating'] = 'white'\n",
    "games.loc[games.diff_rating < 0, 'higher_rating'] = 'black'\n",
    "games.loc[games.diff_rating == 0, 'higher_rating'] = 'same'"
   ]
  },
  {
   "cell_type": "code",
   "execution_count": 7,
   "metadata": {
    "collapsed": true
   },
   "outputs": [],
   "source": [
    "games['higher_rating_won'] = 0\n",
    "games.loc[games.winner == games.higher_rating, 'higher_rating_won'] = 1"
   ]
  },
  {
   "cell_type": "code",
   "execution_count": 8,
   "metadata": {
    "collapsed": true
   },
   "outputs": [],
   "source": [
    "games['higher_rating_coded'] = 0\n",
    "games.loc[games.higher_rating == 'white', 'higher_rating_coded'] = 1"
   ]
  },
  {
   "cell_type": "code",
   "execution_count": 9,
   "metadata": {
    "collapsed": true
   },
   "outputs": [],
   "source": [
    "games['result'] = 0\n",
    "games.loc[games.winner == 'draw' , 'result'] = 1\n",
    "games.loc[games.higher_rating_won == 1, 'result'] = 2"
   ]
  },
  {
   "cell_type": "code",
   "execution_count": 10,
   "metadata": {
    "collapsed": true
   },
   "outputs": [],
   "source": [
    "games['white_higher_rated'] = 0\n",
    "games.loc[games.higher_rating == 'white', 'white_higher_rated'] = 1"
   ]
  },
  {
   "cell_type": "markdown",
   "metadata": {},
   "source": [
    "Now would be a good time to show the variables we just created. Also, let's see the original winner variable. "
   ]
  },
  {
   "cell_type": "code",
   "execution_count": 11,
   "metadata": {},
   "outputs": [
    {
     "data": {
      "text/html": [
       "<div>\n",
       "<style scoped>\n",
       "    .dataframe tbody tr th:only-of-type {\n",
       "        vertical-align: middle;\n",
       "    }\n",
       "\n",
       "    .dataframe tbody tr th {\n",
       "        vertical-align: top;\n",
       "    }\n",
       "\n",
       "    .dataframe thead th {\n",
       "        text-align: right;\n",
       "    }\n",
       "</style>\n",
       "<table border=\"1\" class=\"dataframe\">\n",
       "  <thead>\n",
       "    <tr style=\"text-align: right;\">\n",
       "      <th></th>\n",
       "      <th>higher_rating</th>\n",
       "      <th>higher_rating_coded</th>\n",
       "      <th>diff_rating</th>\n",
       "      <th>abs_diff_rating</th>\n",
       "      <th>higher_rating_won</th>\n",
       "      <th>winner</th>\n",
       "      <th>result</th>\n",
       "      <th>white_higher_rated</th>\n",
       "    </tr>\n",
       "  </thead>\n",
       "  <tbody>\n",
       "    <tr>\n",
       "      <th>15871</th>\n",
       "      <td>black</td>\n",
       "      <td>0</td>\n",
       "      <td>-4</td>\n",
       "      <td>4</td>\n",
       "      <td>0</td>\n",
       "      <td>white</td>\n",
       "      <td>0</td>\n",
       "      <td>0</td>\n",
       "    </tr>\n",
       "    <tr>\n",
       "      <th>6468</th>\n",
       "      <td>white</td>\n",
       "      <td>1</td>\n",
       "      <td>204</td>\n",
       "      <td>204</td>\n",
       "      <td>0</td>\n",
       "      <td>black</td>\n",
       "      <td>0</td>\n",
       "      <td>1</td>\n",
       "    </tr>\n",
       "    <tr>\n",
       "      <th>3136</th>\n",
       "      <td>white</td>\n",
       "      <td>1</td>\n",
       "      <td>32</td>\n",
       "      <td>32</td>\n",
       "      <td>0</td>\n",
       "      <td>black</td>\n",
       "      <td>0</td>\n",
       "      <td>1</td>\n",
       "    </tr>\n",
       "    <tr>\n",
       "      <th>6818</th>\n",
       "      <td>white</td>\n",
       "      <td>1</td>\n",
       "      <td>96</td>\n",
       "      <td>96</td>\n",
       "      <td>1</td>\n",
       "      <td>white</td>\n",
       "      <td>2</td>\n",
       "      <td>1</td>\n",
       "    </tr>\n",
       "    <tr>\n",
       "      <th>18632</th>\n",
       "      <td>white</td>\n",
       "      <td>1</td>\n",
       "      <td>323</td>\n",
       "      <td>323</td>\n",
       "      <td>1</td>\n",
       "      <td>white</td>\n",
       "      <td>2</td>\n",
       "      <td>1</td>\n",
       "    </tr>\n",
       "    <tr>\n",
       "      <th>14138</th>\n",
       "      <td>white</td>\n",
       "      <td>1</td>\n",
       "      <td>23</td>\n",
       "      <td>23</td>\n",
       "      <td>0</td>\n",
       "      <td>black</td>\n",
       "      <td>0</td>\n",
       "      <td>1</td>\n",
       "    </tr>\n",
       "    <tr>\n",
       "      <th>3635</th>\n",
       "      <td>black</td>\n",
       "      <td>0</td>\n",
       "      <td>-101</td>\n",
       "      <td>101</td>\n",
       "      <td>0</td>\n",
       "      <td>white</td>\n",
       "      <td>0</td>\n",
       "      <td>0</td>\n",
       "    </tr>\n",
       "    <tr>\n",
       "      <th>8328</th>\n",
       "      <td>white</td>\n",
       "      <td>1</td>\n",
       "      <td>128</td>\n",
       "      <td>128</td>\n",
       "      <td>0</td>\n",
       "      <td>black</td>\n",
       "      <td>0</td>\n",
       "      <td>1</td>\n",
       "    </tr>\n",
       "    <tr>\n",
       "      <th>3760</th>\n",
       "      <td>black</td>\n",
       "      <td>0</td>\n",
       "      <td>-15</td>\n",
       "      <td>15</td>\n",
       "      <td>1</td>\n",
       "      <td>black</td>\n",
       "      <td>2</td>\n",
       "      <td>0</td>\n",
       "    </tr>\n",
       "    <tr>\n",
       "      <th>1909</th>\n",
       "      <td>black</td>\n",
       "      <td>0</td>\n",
       "      <td>-70</td>\n",
       "      <td>70</td>\n",
       "      <td>1</td>\n",
       "      <td>black</td>\n",
       "      <td>2</td>\n",
       "      <td>0</td>\n",
       "    </tr>\n",
       "  </tbody>\n",
       "</table>\n",
       "</div>"
      ],
      "text/plain": [
       "      higher_rating  higher_rating_coded  diff_rating  abs_diff_rating  \\\n",
       "15871         black                    0           -4                4   \n",
       "6468          white                    1          204              204   \n",
       "3136          white                    1           32               32   \n",
       "6818          white                    1           96               96   \n",
       "18632         white                    1          323              323   \n",
       "14138         white                    1           23               23   \n",
       "3635          black                    0         -101              101   \n",
       "8328          white                    1          128              128   \n",
       "3760          black                    0          -15               15   \n",
       "1909          black                    0          -70               70   \n",
       "\n",
       "       higher_rating_won winner  result  white_higher_rated  \n",
       "15871                  0  white       0                   0  \n",
       "6468                   0  black       0                   1  \n",
       "3136                   0  black       0                   1  \n",
       "6818                   1  white       2                   1  \n",
       "18632                  1  white       2                   1  \n",
       "14138                  0  black       0                   1  \n",
       "3635                   0  white       0                   0  \n",
       "8328                   0  black       0                   1  \n",
       "3760                   1  black       2                   0  \n",
       "1909                   1  black       2                   0  "
      ]
     },
     "execution_count": 11,
     "metadata": {},
     "output_type": "execute_result"
    }
   ],
   "source": [
    "random_indices = np.random.randint(len(games), size = 10)\n",
    "games.iloc[random_indices][['higher_rating','higher_rating_coded', 'diff_rating', \n",
    "                            'abs_diff_rating', 'higher_rating_won', 'winner',\n",
    "                           'result', 'white_higher_rated']]"
   ]
  },
  {
   "cell_type": "markdown",
   "metadata": {},
   "source": [
    "Looking at a random sample of our dataset, we can see that we've done what we set out to do."
   ]
  },
  {
   "cell_type": "code",
   "execution_count": 38,
   "metadata": {
    "collapsed": true
   },
   "outputs": [],
   "source": [
    "games.to_csv('games_new_vars.csv')"
   ]
  }
 ],
 "metadata": {
  "kernelspec": {
   "display_name": "Python 3",
   "language": "python",
   "name": "python3"
  },
  "language_info": {
   "codemirror_mode": {
    "name": "ipython",
    "version": 3
   },
   "file_extension": ".py",
   "mimetype": "text/x-python",
   "name": "python",
   "nbconvert_exporter": "python",
   "pygments_lexer": "ipython3",
   "version": "3.6.1"
  }
 },
 "nbformat": 4,
 "nbformat_minor": 2
}
