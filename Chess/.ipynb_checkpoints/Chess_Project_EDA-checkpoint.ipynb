{
 "cells": [
  {
   "cell_type": "markdown",
   "metadata": {},
   "source": [
    "## Chess EDA\n",
    "\n",
    "(See Chess_Project_Introduction_Variable_Creation for our previously done work.)\n",
    "In this module, we're interested in *getting a feel* for the variables in our dataset."
   ]
  },
  {
   "cell_type": "markdown",
   "metadata": {},
   "source": [
    "## TODO \n",
    "\n",
    "? Should I normalize the distributions of absolute value in differences and number of turns ?"
   ]
  },
  {
   "cell_type": "code",
   "execution_count": 1,
   "metadata": {
    "collapsed": true
   },
   "outputs": [],
   "source": [
    "import pandas as pd\n",
    "import numpy as np\n",
    "from pandas import DataFrame, Series\n",
    "import matplotlib.pyplot as plt\n",
    "import seaborn as sns"
   ]
  },
  {
   "cell_type": "code",
   "execution_count": 2,
   "metadata": {
    "collapsed": true
   },
   "outputs": [],
   "source": [
    "games = pd.read_csv('games_new_vars.csv')"
   ]
  },
  {
   "cell_type": "markdown",
   "metadata": {},
   "source": [
    "### Absolute value in differences\n",
    "We'll start by checking out our abs_diff_rating variable. "
   ]
  },
  {
   "cell_type": "code",
   "execution_count": 3,
   "metadata": {},
   "outputs": [
    {
     "data": {
      "text/plain": [
       "count    20058.000000\n",
       "mean       173.091435\n",
       "std        179.214854\n",
       "min          0.000000\n",
       "25%         45.000000\n",
       "50%        115.000000\n",
       "75%        241.000000\n",
       "max       1605.000000\n",
       "Name: abs_diff_rating, dtype: float64"
      ]
     },
     "execution_count": 3,
     "metadata": {},
     "output_type": "execute_result"
    }
   ],
   "source": [
    "games.abs_diff_rating.describe()"
   ]
  },
  {
   "cell_type": "code",
   "execution_count": 4,
   "metadata": {},
   "outputs": [
    {
     "data": {
      "image/png": "[encoded data removed]",
      "text/plain": [
       "<Figure size 432x288 with 1 Axes>"
      ]
     },
     "metadata": {},
     "output_type": "display_data"
    }
   ],
   "source": [
    "sns.distplot(games.abs_diff_rating,\n",
    "                        kde=False)\n",
    "plt.show()"
   ]
  },
  {
   "cell_type": "markdown",
   "metadata": {},
   "source": [
    "We can see we've got a one tailed right skewed distribution of absolute values in rating. \n",
    "\n",
    "I wonder if we've got outliers hiding in here. "
   ]
  },
  {
   "cell_type": "code",
   "execution_count": 5,
   "metadata": {
    "collapsed": true
   },
   "outputs": [],
   "source": [
    "# This definition of outliers taken from Jake VanderPlas's Python Data Science hanbdook\n",
    "quartiles = np.percentile(games.abs_diff_rating, [25, 50, 75])\n",
    "mu = quartiles[1]\n",
    "sig = 0.74 * (quartiles[2] - quartiles[0])\n",
    "lower_cutoff = mu - 5 * sig\n",
    "upper_cutoff = mu + 5 * sig"
   ]
  },
  {
   "cell_type": "code",
   "execution_count": 6,
   "metadata": {},
   "outputs": [
    {
     "data": {
      "text/plain": [
       "Series([], Name: abs_diff_rating, dtype: int64)"
      ]
     },
     "execution_count": 6,
     "metadata": {},
     "output_type": "execute_result"
    }
   ],
   "source": [
    "games.loc[games.abs_diff_rating < lower_cutoff, 'abs_diff_rating']"
   ]
  },
  {
   "cell_type": "markdown",
   "metadata": {},
   "source": [
    "The reason we don't have low outliers jumps out at us when we see the lower cutoff."
   ]
  },
  {
   "cell_type": "code",
   "execution_count": 7,
   "metadata": {},
   "outputs": [
    {
     "data": {
      "text/plain": [
       "-610.0"
      ]
     },
     "execution_count": 7,
     "metadata": {},
     "output_type": "execute_result"
    }
   ],
   "source": [
    "np.round(lower_cutoff)"
   ]
  },
  {
   "cell_type": "markdown",
   "metadata": {},
   "source": [
    "No way we would have low outliers (according to this definition) for a set of absolute values. \n",
    "\n",
    "But what about entries higher than our upper cutoff?"
   ]
  },
  {
   "cell_type": "code",
   "execution_count": 8,
   "metadata": {},
   "outputs": [
    {
     "data": {
      "text/plain": [
       "35        856\n",
       "39       1471\n",
       "43       1465\n",
       "48       1458\n",
       "49       1458\n",
       "         ... \n",
       "19235    1200\n",
       "19326    1273\n",
       "19372     841\n",
       "19611    1141\n",
       "19614    1212\n",
       "Name: abs_diff_rating, Length: 167, dtype: int64"
      ]
     },
     "execution_count": 8,
     "metadata": {},
     "output_type": "execute_result"
    }
   ],
   "source": [
    "games.loc[games.abs_diff_rating > upper_cutoff, 'abs_diff_rating']"
   ]
  },
  {
   "cell_type": "markdown",
   "metadata": {},
   "source": [
    "So, we have 167 outliers. Here is our upper cutoff difference. "
   ]
  },
  {
   "cell_type": "code",
   "execution_count": 9,
   "metadata": {},
   "outputs": [
    {
     "data": {
      "text/plain": [
       "840.0"
      ]
     },
     "execution_count": 9,
     "metadata": {},
     "output_type": "execute_result"
    }
   ],
   "source": [
    "np.round(upper_cutoff)"
   ]
  },
  {
   "cell_type": "markdown",
   "metadata": {},
   "source": [
    "I'm curious. Do these big differences in rating have a high proportion of wins for the higher rated player? "
   ]
  },
  {
   "cell_type": "code",
   "execution_count": 10,
   "metadata": {},
   "outputs": [
    {
     "data": {
      "text/plain": [
       "1    156\n",
       "0     11\n",
       "Name: higher_rating_won, dtype: int64"
      ]
     },
     "execution_count": 10,
     "metadata": {},
     "output_type": "execute_result"
    }
   ],
   "source": [
    "games.loc[games.abs_diff_rating > upper_cutoff, 'higher_rating_won'].value_counts()"
   ]
  },
  {
   "cell_type": "markdown",
   "metadata": {},
   "source": [
    "Nice! (Our intuition gets a big confirmation number Houston.) Recall that a value of 1 means the higher rated player won, 0 if they drew or lost. As a proportion, we have:"
   ]
  },
  {
   "cell_type": "code",
   "execution_count": 12,
   "metadata": {},
   "outputs": [
    {
     "data": {
      "text/plain": [
       "1    0.934132\n",
       "0    0.065868\n",
       "Name: higher_rating_won, dtype: float64"
      ]
     },
     "execution_count": 12,
     "metadata": {},
     "output_type": "execute_result"
    }
   ],
   "source": [
    "games.loc[games.abs_diff_rating > upper_cutoff, 'higher_rating_won'].value_counts(1)"
   ]
  },
  {
   "cell_type": "markdown",
   "metadata": {},
   "source": [
    "TODO when do we want to include outliers in our analysis? I wonder if in this analysis including all games, even those with high differences \n",
    "in rating will inform the models better. \n",
    "\n",
    "For the moment, we can simply remove the outliers from the dataset. "
   ]
  },
  {
   "cell_type": "markdown",
   "metadata": {},
   "source": [
    "TODO consider reviewing speed of operations in commands discussed in 207 of Jake VanderPlaas\n",
    "TODO but also, how come it's faster?"
   ]
  },
  {
   "cell_type": "code",
   "execution_count": 17,
   "metadata": {},
   "outputs": [],
   "source": [
    "games.query('abs_diff_rating < @upper_cutoff', inplace = True)"
   ]
  },
  {
   "cell_type": "code",
   "execution_count": 21,
   "metadata": {},
   "outputs": [
    {
     "data": {
      "text/html": [
       "<div>\n",
       "<style scoped>\n",
       "    .dataframe tbody tr th:only-of-type {\n",
       "        vertical-align: middle;\n",
       "    }\n",
       "\n",
       "    .dataframe tbody tr th {\n",
       "        vertical-align: top;\n",
       "    }\n",
       "\n",
       "    .dataframe thead th {\n",
       "        text-align: right;\n",
       "    }\n",
       "</style>\n",
       "<table border=\"1\" class=\"dataframe\">\n",
       "  <thead>\n",
       "    <tr style=\"text-align: right;\">\n",
       "      <th></th>\n",
       "      <th>Unnamed: 0</th>\n",
       "      <th>id</th>\n",
       "      <th>rated</th>\n",
       "      <th>created_at</th>\n",
       "      <th>last_move_at</th>\n",
       "      <th>turns</th>\n",
       "      <th>victory_status</th>\n",
       "      <th>winner</th>\n",
       "      <th>increment_code</th>\n",
       "      <th>white_id</th>\n",
       "      <th>...</th>\n",
       "      <th>opening_eco</th>\n",
       "      <th>opening_name</th>\n",
       "      <th>opening_ply</th>\n",
       "      <th>diff_rating</th>\n",
       "      <th>abs_diff_rating</th>\n",
       "      <th>higher_rating</th>\n",
       "      <th>higher_rating_won</th>\n",
       "      <th>higher_rating_coded</th>\n",
       "      <th>white_higher_rated</th>\n",
       "      <th>result</th>\n",
       "    </tr>\n",
       "  </thead>\n",
       "  <tbody>\n",
       "  </tbody>\n",
       "</table>\n",
       "<p>0 rows × 24 columns</p>\n",
       "</div>"
      ],
      "text/plain": [
       "Empty DataFrame\n",
       "Columns: [Unnamed: 0, id, rated, created_at, last_move_at, turns, victory_status, winner, increment_code, white_id, white_rating, black_id, black_rating, moves, opening_eco, opening_name, opening_ply, diff_rating, abs_diff_rating, higher_rating, higher_rating_won, higher_rating_coded, white_higher_rated, result]\n",
       "Index: []\n",
       "\n",
       "[0 rows x 24 columns]"
      ]
     },
     "execution_count": 21,
     "metadata": {},
     "output_type": "execute_result"
    }
   ],
   "source": [
    "games.query('abs_diff_rating > @upper_cutoff') # Took out the outliers check one"
   ]
  },
  {
   "cell_type": "code",
   "execution_count": 24,
   "metadata": {},
   "outputs": [
    {
     "data": {
      "text/plain": [
       "Series([], Name: abs_diff_rating, dtype: int64)"
      ]
     },
     "execution_count": 24,
     "metadata": {},
     "output_type": "execute_result"
    }
   ],
   "source": [
    "games.loc[games.abs_diff_rating > upper_cutoff, 'abs_diff_rating'] # Took out the outliers check two"
   ]
  },
  {
   "cell_type": "markdown",
   "metadata": {},
   "source": [
    "### Victory status\n",
    "We will now take a look at the frequency for victory status. "
   ]
  },
  {
   "cell_type": "code",
   "execution_count": 36,
   "metadata": {},
   "outputs": [
    {
     "data": {
      "image/png": "[encoded data removed]",
      "text/plain": [
       "<Figure size 432x288 with 1 Axes>"
      ]
     },
     "metadata": {},
     "output_type": "display_data"
    }
   ],
   "source": [
    "sns.countplot(x = 'victory_status', data = games)\n",
    "plt.show()"
   ]
  },
  {
   "cell_type": "markdown",
   "metadata": {},
   "source": [
    "Most players resigned before being submitted to the shame of a mate. Note how very little draws there are proportionate to the other results. "
   ]
  },
  {
   "cell_type": "markdown",
   "metadata": {},
   "source": [
    "### Higher Rating Won\n",
    "\n",
    "We are interested in checking out how often the higher rating won since this will be one of our response variables in our predictions. "
   ]
  },
  {
   "cell_type": "code",
   "execution_count": 25,
   "metadata": {},
   "outputs": [
    {
     "data": {
      "image/png": "[encoded data removed]",
      "text/plain": [
       "<Figure size 432x288 with 1 Axes>"
      ]
     },
     "metadata": {},
     "output_type": "display_data"
    }
   ],
   "source": [
    "sns.countplot(x = 'higher_rating_won', data = games)\n",
    "plt.show()"
   ]
  },
  {
   "cell_type": "markdown",
   "metadata": {},
   "source": [
    "Most of the time, the higher rating won. Great. The rating system would probably need some tweaking if this wasn't the case."
   ]
  },
  {
   "cell_type": "markdown",
   "metadata": {},
   "source": [
    "### Number of turns\n",
    "\n",
    "We can also check out the distribution for the number of turns taken. "
   ]
  },
  {
   "cell_type": "code",
   "execution_count": 26,
   "metadata": {},
   "outputs": [
    {
     "data": {
      "image/png": "[encoded data removed]",
      "text/plain": [
       "<Figure size 432x288 with 1 Axes>"
      ]
     },
     "metadata": {},
     "output_type": "display_data"
    }
   ],
   "source": [
    "sns.distplot(games.turns, kde = False, color = 'b')\n",
    "plt.show()"
   ]
  },
  {
   "cell_type": "markdown",
   "metadata": {},
   "source": [
    "Looks like most turns hover around 50. Numerically, we can pinpoint the mean and median:"
   ]
  },
  {
   "cell_type": "code",
   "execution_count": 30,
   "metadata": {},
   "outputs": [
    {
     "data": {
      "text/plain": [
       "count    20058.000000\n",
       "mean        60.465999\n",
       "std         33.570585\n",
       "min          1.000000\n",
       "25%         37.000000\n",
       "50%         55.000000\n",
       "75%         79.000000\n",
       "max        349.000000\n",
       "Name: turns, dtype: float64"
      ]
     },
     "execution_count": 30,
     "metadata": {},
     "output_type": "execute_result"
    }
   ],
   "source": [
    "games.turns.describe()"
   ]
  },
  {
   "cell_type": "markdown",
   "metadata": {},
   "source": [
    "We get a mean and a median that are similar at 60.46 (so 60 turns) and 55 respectively. Seeing 349 makes me curious. Who played that long a game? "
   ]
  },
  {
   "cell_type": "code",
   "execution_count": 44,
   "metadata": {},
   "outputs": [
    {
     "data": {
      "text/plain": [
       "Unnamed: 0                                                           349\n",
       "id                                                              2icRDIZI\n",
       "rated                                                               True\n",
       "created_at                                                   1.50394e+12\n",
       "last_move_at                                                 1.50394e+12\n",
       "turns                                                                120\n",
       "victory_status                                                      mate\n",
       "winner                                                             black\n",
       "increment_code                                                      10+0\n",
       "white_id                                                        bomardan\n",
       "white_rating                                                        1589\n",
       "black_id                                                           tfeng\n",
       "black_rating                                                        1569\n",
       "moves                  d4 Nf6 c4 g6 Nc3 d5 Nf3 Bg7 Bf4 O-O Nb5 c6 Nc7...\n",
       "opening_eco                                                          D92\n",
       "opening_name           Gruenfeld Defense: Three Knights Variation |  ...\n",
       "opening_ply                                                            9\n",
       "diff_rating                                                           20\n",
       "abs_diff_rating                                                       20\n",
       "higher_rating                                                      white\n",
       "higher_rating_won                                                      0\n",
       "higher_rating_coded                                                    1\n",
       "white_higher_rated                                                     1\n",
       "result                                                                 0\n",
       "Name: 349, dtype: object"
      ]
     },
     "execution_count": 44,
     "metadata": {},
     "output_type": "execute_result"
    }
   ],
   "source": [
    "games.iloc[games.turns.max()]"
   ]
  },
  {
   "cell_type": "markdown",
   "metadata": {},
   "source": [
    "The players had similar ratings of 1589 (white) and 1569 (black). Cool that black won - I like it when the undergod makes it. And mated 'em too. "
   ]
  },
  {
   "cell_type": "markdown",
   "metadata": {},
   "source": [
    "Don't know if you saw this Watson, but we had a min of 1 for turns (look out our output for numerical description of turn data). Big alert Houston! We'll have to address short turn games since these may affect our models. \n",
    "\n",
    "We'll start by checking out that game with one turn though."
   ]
  },
  {
   "cell_type": "code",
   "execution_count": 27,
   "metadata": {},
   "outputs": [
    {
     "data": {
      "text/plain": [
       "Unnamed: 0                                                          1959\n",
       "id                                                              OyQkHBIB\n",
       "rated                                                               True\n",
       "created_at                                                   1.48928e+12\n",
       "last_move_at                                                 1.48928e+12\n",
       "turns                                                                 81\n",
       "victory_status                                                      mate\n",
       "winner                                                             white\n",
       "increment_code                                                      10+0\n",
       "white_id                                                      brorael357\n",
       "white_rating                                                        1346\n",
       "black_id                                                       skinner90\n",
       "black_rating                                                        1295\n",
       "moves                  e4 e5 Bc4 Nf6 d3 Bb4+ Bd2 Bf8 Nf3 Nc6 Bg5 h6 B...\n",
       "opening_eco                                                          C24\n",
       "opening_name                            Bishop's Opening: Berlin Defense\n",
       "opening_ply                                                            4\n",
       "diff_rating                                                           51\n",
       "abs_diff_rating                                                       51\n",
       "higher_rating                                                      white\n",
       "higher_rating_won                                                      1\n",
       "higher_rating_coded                                                    1\n",
       "white_higher_rated                                                     1\n",
       "result                                                                 2\n",
       "Name: 1959, dtype: object"
      ]
     },
     "execution_count": 27,
     "metadata": {},
     "output_type": "execute_result"
    }
   ],
   "source": [
    "games.iloc[games.turns.idxmin()]"
   ]
  },
  {
   "cell_type": "code",
   "execution_count": 30,
   "metadata": {},
   "outputs": [
    {
     "data": {
      "text/plain": [
       "332"
      ]
     },
     "execution_count": 30,
     "metadata": {},
     "output_type": "execute_result"
    }
   ],
   "source": [
    "len(games.loc[games.turns < 5])"
   ]
  },
  {
   "cell_type": "code",
   "execution_count": 33,
   "metadata": {},
   "outputs": [
    {
     "data": {
      "text/html": [
       "<div>\n",
       "<style scoped>\n",
       "    .dataframe tbody tr th:only-of-type {\n",
       "        vertical-align: middle;\n",
       "    }\n",
       "\n",
       "    .dataframe tbody tr th {\n",
       "        vertical-align: top;\n",
       "    }\n",
       "\n",
       "    .dataframe thead th {\n",
       "        text-align: right;\n",
       "    }\n",
       "</style>\n",
       "<table border=\"1\" class=\"dataframe\">\n",
       "  <thead>\n",
       "    <tr style=\"text-align: right;\">\n",
       "      <th></th>\n",
       "      <th>Unnamed: 0</th>\n",
       "      <th>id</th>\n",
       "      <th>rated</th>\n",
       "      <th>created_at</th>\n",
       "      <th>last_move_at</th>\n",
       "      <th>turns</th>\n",
       "      <th>victory_status</th>\n",
       "      <th>winner</th>\n",
       "      <th>increment_code</th>\n",
       "      <th>white_id</th>\n",
       "      <th>...</th>\n",
       "      <th>opening_eco</th>\n",
       "      <th>opening_name</th>\n",
       "      <th>opening_ply</th>\n",
       "      <th>diff_rating</th>\n",
       "      <th>abs_diff_rating</th>\n",
       "      <th>higher_rating</th>\n",
       "      <th>higher_rating_won</th>\n",
       "      <th>higher_rating_coded</th>\n",
       "      <th>white_higher_rated</th>\n",
       "      <th>result</th>\n",
       "    </tr>\n",
       "  </thead>\n",
       "  <tbody>\n",
       "    <tr>\n",
       "      <th>21</th>\n",
       "      <td>21</td>\n",
       "      <td>QFCZwY1f</td>\n",
       "      <td>False</td>\n",
       "      <td>1.502950e+12</td>\n",
       "      <td>1.502950e+12</td>\n",
       "      <td>3</td>\n",
       "      <td>resign</td>\n",
       "      <td>white</td>\n",
       "      <td>30+60</td>\n",
       "      <td>shivangithegenius</td>\n",
       "      <td>...</td>\n",
       "      <td>A40</td>\n",
       "      <td>Horwitz Defense</td>\n",
       "      <td>2</td>\n",
       "      <td>26</td>\n",
       "      <td>26</td>\n",
       "      <td>white</td>\n",
       "      <td>1</td>\n",
       "      <td>1</td>\n",
       "      <td>1</td>\n",
       "      <td>2</td>\n",
       "    </tr>\n",
       "    <tr>\n",
       "      <th>46</th>\n",
       "      <td>46</td>\n",
       "      <td>27zreJYy</td>\n",
       "      <td>False</td>\n",
       "      <td>1.499330e+12</td>\n",
       "      <td>1.499330e+12</td>\n",
       "      <td>3</td>\n",
       "      <td>resign</td>\n",
       "      <td>black</td>\n",
       "      <td>15+0</td>\n",
       "      <td>shivangithegenius</td>\n",
       "      <td>...</td>\n",
       "      <td>B01</td>\n",
       "      <td>Scandinavian Defense</td>\n",
       "      <td>2</td>\n",
       "      <td>-522</td>\n",
       "      <td>522</td>\n",
       "      <td>black</td>\n",
       "      <td>1</td>\n",
       "      <td>0</td>\n",
       "      <td>0</td>\n",
       "      <td>2</td>\n",
       "    </tr>\n",
       "    <tr>\n",
       "      <th>55</th>\n",
       "      <td>55</td>\n",
       "      <td>0lDqWVlz</td>\n",
       "      <td>True</td>\n",
       "      <td>1.503180e+12</td>\n",
       "      <td>1.503180e+12</td>\n",
       "      <td>3</td>\n",
       "      <td>resign</td>\n",
       "      <td>white</td>\n",
       "      <td>6+10</td>\n",
       "      <td>caramiecho72</td>\n",
       "      <td>...</td>\n",
       "      <td>B23</td>\n",
       "      <td>Sicilian Defense: Closed Variation</td>\n",
       "      <td>3</td>\n",
       "      <td>-93</td>\n",
       "      <td>93</td>\n",
       "      <td>black</td>\n",
       "      <td>0</td>\n",
       "      <td>0</td>\n",
       "      <td>0</td>\n",
       "      <td>0</td>\n",
       "    </tr>\n",
       "    <tr>\n",
       "      <th>141</th>\n",
       "      <td>141</td>\n",
       "      <td>X4QqWp8Q</td>\n",
       "      <td>True</td>\n",
       "      <td>1.503130e+12</td>\n",
       "      <td>1.503130e+12</td>\n",
       "      <td>2</td>\n",
       "      <td>resign</td>\n",
       "      <td>black</td>\n",
       "      <td>15+15</td>\n",
       "      <td>pune123</td>\n",
       "      <td>...</td>\n",
       "      <td>B02</td>\n",
       "      <td>Alekhine Defense</td>\n",
       "      <td>2</td>\n",
       "      <td>239</td>\n",
       "      <td>239</td>\n",
       "      <td>white</td>\n",
       "      <td>0</td>\n",
       "      <td>1</td>\n",
       "      <td>1</td>\n",
       "      <td>0</td>\n",
       "    </tr>\n",
       "    <tr>\n",
       "      <th>367</th>\n",
       "      <td>367</td>\n",
       "      <td>D0idNTxu</td>\n",
       "      <td>True</td>\n",
       "      <td>1.502640e+12</td>\n",
       "      <td>1.502640e+12</td>\n",
       "      <td>4</td>\n",
       "      <td>outoftime</td>\n",
       "      <td>black</td>\n",
       "      <td>15+15</td>\n",
       "      <td>rustam9</td>\n",
       "      <td>...</td>\n",
       "      <td>C40</td>\n",
       "      <td>King's Knight Opening</td>\n",
       "      <td>3</td>\n",
       "      <td>-125</td>\n",
       "      <td>125</td>\n",
       "      <td>black</td>\n",
       "      <td>1</td>\n",
       "      <td>0</td>\n",
       "      <td>0</td>\n",
       "      <td>2</td>\n",
       "    </tr>\n",
       "  </tbody>\n",
       "</table>\n",
       "<p>5 rows × 24 columns</p>\n",
       "</div>"
      ],
      "text/plain": [
       "     Unnamed: 0        id  rated    created_at  last_move_at  turns  \\\n",
       "21           21  QFCZwY1f  False  1.502950e+12  1.502950e+12      3   \n",
       "46           46  27zreJYy  False  1.499330e+12  1.499330e+12      3   \n",
       "55           55  0lDqWVlz   True  1.503180e+12  1.503180e+12      3   \n",
       "141         141  X4QqWp8Q   True  1.503130e+12  1.503130e+12      2   \n",
       "367         367  D0idNTxu   True  1.502640e+12  1.502640e+12      4   \n",
       "\n",
       "    victory_status winner increment_code           white_id  ...  opening_eco  \\\n",
       "21          resign  white          30+60  shivangithegenius  ...          A40   \n",
       "46          resign  black           15+0  shivangithegenius  ...          B01   \n",
       "55          resign  white           6+10       caramiecho72  ...          B23   \n",
       "141         resign  black          15+15            pune123  ...          B02   \n",
       "367      outoftime  black          15+15            rustam9  ...          C40   \n",
       "\n",
       "                           opening_name  opening_ply diff_rating  \\\n",
       "21                      Horwitz Defense            2          26   \n",
       "46                 Scandinavian Defense            2        -522   \n",
       "55   Sicilian Defense: Closed Variation            3         -93   \n",
       "141                    Alekhine Defense            2         239   \n",
       "367               King's Knight Opening            3        -125   \n",
       "\n",
       "    abs_diff_rating higher_rating  higher_rating_won  higher_rating_coded  \\\n",
       "21               26         white                  1                    1   \n",
       "46              522         black                  1                    0   \n",
       "55               93         black                  0                    0   \n",
       "141             239         white                  0                    1   \n",
       "367             125         black                  1                    0   \n",
       "\n",
       "     white_higher_rated result  \n",
       "21                    1      2  \n",
       "46                    0      2  \n",
       "55                    0      0  \n",
       "141                   1      0  \n",
       "367                   0      2  \n",
       "\n",
       "[5 rows x 24 columns]"
      ]
     },
     "execution_count": 33,
     "metadata": {},
     "output_type": "execute_result"
    }
   ],
   "source": [
    "games.loc[games.turns < 5].head()"
   ]
  },
  {
   "cell_type": "markdown",
   "metadata": {},
   "source": [
    "TODO determine what is an adequate number of turns. "
   ]
  },
  {
   "cell_type": "markdown",
   "metadata": {
    "collapsed": true
   },
   "source": [
    "### Result \n",
    "\n",
    "Finally, let's look at the result variable. "
   ]
  },
  {
   "cell_type": "code",
   "execution_count": 35,
   "metadata": {},
   "outputs": [
    {
     "data": {
      "image/png": "[encoded data removed]",
      "text/plain": [
       "<Figure size 432x288 with 1 Axes>"
      ]
     },
     "metadata": {},
     "output_type": "display_data"
    }
   ],
   "source": [
    "sns.countplot(x = 'result', data = games)\n",
    "plt.show()"
   ]
  },
  {
   "cell_type": "markdown",
   "metadata": {},
   "source": [
    "This reflects our victory status variable. For the higher rated player, we have mostly wins (2), a little more than half of these are losses (0), and a small proportion turn out to be draws (1). Numerically, we have that:"
   ]
  },
  {
   "cell_type": "code",
   "execution_count": 43,
   "metadata": {},
   "outputs": [
    {
     "data": {
      "text/plain": [
       "2    0.615814\n",
       "0    0.336823\n",
       "1    0.047363\n",
       "Name: result, dtype: float64"
      ]
     },
     "execution_count": 43,
     "metadata": {},
     "output_type": "execute_result"
    }
   ],
   "source": [
    "games.result.value_counts(1)"
   ]
  },
  {
   "cell_type": "markdown",
   "metadata": {},
   "source": [
    "### Increment code \n",
    "You have noticed a variable called increment code. "
   ]
  },
  {
   "cell_type": "code",
   "execution_count": 36,
   "metadata": {},
   "outputs": [
    {
     "data": {
      "text/plain": [
       "0         15+2\n",
       "1         5+10\n",
       "2         5+10\n",
       "3         20+0\n",
       "4         30+3\n",
       "         ...  \n",
       "20053    10+10\n",
       "20054     10+0\n",
       "20055     10+0\n",
       "20056     10+0\n",
       "20057     10+0\n",
       "Name: increment_code, Length: 20058, dtype: object"
      ]
     },
     "execution_count": 36,
     "metadata": {},
     "output_type": "execute_result"
    }
   ],
   "source": [
    "games.increment_code"
   ]
  },
  {
   "cell_type": "markdown",
   "metadata": {},
   "source": [
    "This variable gives us how much each player will receive in rating increase. Intuitively, if a high rated player beats a lower rated player, the higher rated player would receive a few points. But, if the lower rated player beat the higher rated player, they would probably receive a higher amount of points. A draw would result in players receiving the same increment. \n",
    "\n",
    "I sound like an expert in this variable, but I'm not. It's my guess. Let's see if my guess holds. To do so, we will check drawed games and see if the increment is equal. "
   ]
  },
  {
   "cell_type": "code",
   "execution_count": 40,
   "metadata": {},
   "outputs": [
    {
     "data": {
      "text/plain": [
       "5         10+0\n",
       "40       20+25\n",
       "98        15+0\n",
       "126      15+15\n",
       "143      15+15\n",
       "         ...  \n",
       "20003    30+30\n",
       "20004    30+30\n",
       "20011    45+45\n",
       "20014    45+45\n",
       "20034    45+45\n",
       "Name: increment_code, Length: 906, dtype: object"
      ]
     },
     "execution_count": 40,
     "metadata": {},
     "output_type": "execute_result"
    }
   ],
   "source": [
    "games.loc[games.victory_status == 'draw', 'increment_code']"
   ]
  },
  {
   "cell_type": "markdown",
   "metadata": {},
   "source": [
    "So the increment isn't always equal. But this makes sense since a lower rated player could draw with a higher rated player and deserve to be elevated. \n",
    "\n",
    "A potential rabbit hole for us to jump is figuring out how an increment code is determined based on result and difference in rating. But we'll leave that for another bedtime story. "
   ]
  },
  {
   "cell_type": "markdown",
   "metadata": {},
   "source": [
    "TODO Explore eco opening rating as it relates to real life wins. "
   ]
  },
  {
   "cell_type": "code",
   "execution_count": 35,
   "metadata": {},
   "outputs": [
    {
     "ename": "ValueError",
     "evalue": "could not convert string to float: 'D10'",
     "output_type": "error",
     "traceback": [
      "\u001b[0;31m---------------------------------------------------------------------------\u001b[0m",
      "\u001b[0;31mValueError\u001b[0m                                Traceback (most recent call last)",
      "\u001b[0;32m<ipython-input-35-d778e917ba4d>\u001b[0m in \u001b[0;36m<module>\u001b[0;34m()\u001b[0m\n\u001b[1;32m      1\u001b[0m sns.distplot(games.opening_eco.values,\n\u001b[0;32m----> 2\u001b[0;31m                         kde=False)\n\u001b[0m\u001b[1;32m      3\u001b[0m \u001b[0mplt\u001b[0m\u001b[0;34m.\u001b[0m\u001b[0mshow\u001b[0m\u001b[0;34m(\u001b[0m\u001b[0;34m)\u001b[0m\u001b[0;34m\u001b[0m\u001b[0m\n",
      "\u001b[0;32m~/miniconda3/lib/python3.6/site-packages/seaborn/distributions.py\u001b[0m in \u001b[0;36mdistplot\u001b[0;34m(a, bins, hist, kde, rug, fit, hist_kws, kde_kws, rug_kws, fit_kws, color, vertical, norm_hist, axlabel, label, ax)\u001b[0m\n\u001b[1;32m    177\u001b[0m \u001b[0;34m\u001b[0m\u001b[0m\n\u001b[1;32m    178\u001b[0m     \u001b[0;31m# Make a a 1-d float array\u001b[0m\u001b[0;34m\u001b[0m\u001b[0;34m\u001b[0m\u001b[0m\n\u001b[0;32m--> 179\u001b[0;31m     \u001b[0ma\u001b[0m \u001b[0;34m=\u001b[0m \u001b[0mnp\u001b[0m\u001b[0;34m.\u001b[0m\u001b[0masarray\u001b[0m\u001b[0;34m(\u001b[0m\u001b[0ma\u001b[0m\u001b[0;34m,\u001b[0m \u001b[0mnp\u001b[0m\u001b[0;34m.\u001b[0m\u001b[0mfloat\u001b[0m\u001b[0;34m)\u001b[0m\u001b[0;34m\u001b[0m\u001b[0m\n\u001b[0m\u001b[1;32m    180\u001b[0m     \u001b[0;32mif\u001b[0m \u001b[0ma\u001b[0m\u001b[0;34m.\u001b[0m\u001b[0mndim\u001b[0m \u001b[0;34m>\u001b[0m \u001b[0;36m1\u001b[0m\u001b[0;34m:\u001b[0m\u001b[0;34m\u001b[0m\u001b[0m\n\u001b[1;32m    181\u001b[0m         \u001b[0ma\u001b[0m \u001b[0;34m=\u001b[0m \u001b[0ma\u001b[0m\u001b[0;34m.\u001b[0m\u001b[0msqueeze\u001b[0m\u001b[0;34m(\u001b[0m\u001b[0;34m)\u001b[0m\u001b[0;34m\u001b[0m\u001b[0m\n",
      "\u001b[0;32m~/miniconda3/lib/python3.6/site-packages/numpy/core/_asarray.py\u001b[0m in \u001b[0;36masarray\u001b[0;34m(a, dtype, order)\u001b[0m\n\u001b[1;32m     83\u001b[0m \u001b[0;34m\u001b[0m\u001b[0m\n\u001b[1;32m     84\u001b[0m     \"\"\"\n\u001b[0;32m---> 85\u001b[0;31m     \u001b[0;32mreturn\u001b[0m \u001b[0marray\u001b[0m\u001b[0;34m(\u001b[0m\u001b[0ma\u001b[0m\u001b[0;34m,\u001b[0m \u001b[0mdtype\u001b[0m\u001b[0;34m,\u001b[0m \u001b[0mcopy\u001b[0m\u001b[0;34m=\u001b[0m\u001b[0;32mFalse\u001b[0m\u001b[0;34m,\u001b[0m \u001b[0morder\u001b[0m\u001b[0;34m=\u001b[0m\u001b[0morder\u001b[0m\u001b[0;34m)\u001b[0m\u001b[0;34m\u001b[0m\u001b[0m\n\u001b[0m\u001b[1;32m     86\u001b[0m \u001b[0;34m\u001b[0m\u001b[0m\n\u001b[1;32m     87\u001b[0m \u001b[0;34m\u001b[0m\u001b[0m\n",
      "\u001b[0;31mValueError\u001b[0m: could not convert string to float: 'D10'"
     ]
    }
   ],
   "source": [
    "\n",
    "sns.distplot(games.opening_eco.values,\n",
    "                        kde=False)\n",
    "plt.show()"
   ]
  },
  {
   "cell_type": "markdown",
   "metadata": {},
   "source": [
    "### Conclusions\n",
    "\n",
    "1) We need not worry about low outliers in the absolute value of differences, but we do need to worry about how to deal with high outliers. \n",
    "\n",
    "2) Most of the games end up as wins (~61%) and losses (~37%)  (with a majority of resignations, instead of checkmates), and a small percentage are draws (~5%). \n",
    "\n",
    "3) The turns variable reveal that we may need to remove short turn games since they may offer little information. Online resources could reveal how many turns would make sense as a viable game.\n",
    "\n",
    "4) An interesting study would be to determine how increment codes are decided. \n",
    "\n"
   ]
  },
  {
   "cell_type": "code",
   "execution_count": 31,
   "metadata": {
    "collapsed": true
   },
   "outputs": [],
   "source": [
    "games.to_csv('games_clean.csv')"
   ]
  }
 ],
 "metadata": {
  "kernelspec": {
   "display_name": "Python 3",
   "language": "python",
   "name": "python3"
  },
  "language_info": {
   "codemirror_mode": {
    "name": "ipython",
    "version": 3
   },
   "file_extension": ".py",
   "mimetype": "text/x-python",
   "name": "python",
   "nbconvert_exporter": "python",
   "pygments_lexer": "ipython3",
   "version": "3.6.1"
  }
 },
 "nbformat": 4,
 "nbformat_minor": 2
}
