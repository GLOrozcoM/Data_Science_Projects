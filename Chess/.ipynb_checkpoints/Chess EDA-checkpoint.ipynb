{
 "cells": [
  {
   "cell_type": "markdown",
   "metadata": {},
   "source": [
    "## Chess EDA\n",
    "\n",
    "Now we're interested in *getting a feel* for the variables in our dataset. Recall that we added in new variables in Chess Variable Creation. "
   ]
  },
  {
   "cell_type": "code",
   "execution_count": 1,
   "metadata": {
    "collapsed": true
   },
   "outputs": [],
   "source": [
    "import pandas as pd\n",
    "import numpy as np\n",
    "from pandas import DataFrame, Series\n",
    "import matplotlib.pyplot as plt\n",
    "import seaborn as sns"
   ]
  },
  {
   "cell_type": "code",
   "execution_count": 2,
   "metadata": {
    "collapsed": true
   },
   "outputs": [],
   "source": [
    "games = pd.read_csv('games_new_vars.csv')"
   ]
  },
  {
   "cell_type": "code",
   "execution_count": 3,
   "metadata": {},
   "outputs": [
    {
     "data": {
      "text/plain": [
       "count    20058.000000\n",
       "mean       173.091435\n",
       "std        179.214854\n",
       "min          0.000000\n",
       "25%         45.000000\n",
       "50%        115.000000\n",
       "75%        241.000000\n",
       "max       1605.000000\n",
       "Name: abs_diff_rating, dtype: float64"
      ]
     },
     "execution_count": 3,
     "metadata": {},
     "output_type": "execute_result"
    }
   ],
   "source": [
    "games.abs_diff_rating.describe()"
   ]
  },
  {
   "cell_type": "code",
   "execution_count": 4,
   "metadata": {},
   "outputs": [
    {
     "data": {
      "image/png": "[encoded data removed]",
      "text/plain": [
       "<Figure size 432x288 with 1 Axes>"
      ]
     },
     "metadata": {},
     "output_type": "display_data"
    }
   ],
   "source": [
    "sns.distplot(games.abs_diff_rating,\n",
    "                        kde=False)\n",
    "plt.show()"
   ]
  },
  {
   "cell_type": "markdown",
   "metadata": {},
   "source": [
    "We can see we've got a one tailed right skewed distribution of absolute values in rating. \n",
    "\n",
    "I wonder if we've got outliers hiding in here. "
   ]
  },
  {
   "cell_type": "code",
   "execution_count": 5,
   "metadata": {},
   "outputs": [],
   "source": [
    "# This definition of outliers taken from Jake VanderPlas's Python Data Science hanbdook\n",
    "quartiles = np.percentile(games.abs_diff_rating, [25, 50, 75])\n",
    "mu = quartiles[1]\n",
    "sig = 0.74 * (quartiles[2] - quartiles[0])\n",
    "lower_cutoff = mu - 5 * sig\n",
    "upper_cutoff = mu + 5 * sig"
   ]
  },
  {
   "cell_type": "code",
   "execution_count": 8,
   "metadata": {},
   "outputs": [
    {
     "data": {
      "text/plain": [
       "Series([], Name: abs_diff_rating, dtype: int64)"
      ]
     },
     "execution_count": 8,
     "metadata": {},
     "output_type": "execute_result"
    }
   ],
   "source": [
    "games.loc[games.abs_diff_rating < lower_cutoff, 'abs_diff_rating']"
   ]
  },
  {
   "cell_type": "markdown",
   "metadata": {},
   "source": [
    "The reason we don't have low outliers jumps out at us when we see the lower cutoff."
   ]
  },
  {
   "cell_type": "code",
   "execution_count": 9,
   "metadata": {},
   "outputs": [
    {
     "data": {
      "text/plain": [
       "-610.1999999999999"
      ]
     },
     "execution_count": 9,
     "metadata": {},
     "output_type": "execute_result"
    }
   ],
   "source": [
    "lower_cutoff"
   ]
  },
  {
   "cell_type": "markdown",
   "metadata": {},
   "source": [
    "No way we would have low outliers for a set of absolute values. \n",
    "\n",
    "But what about entries higher than our upper cutoff?"
   ]
  },
  {
   "cell_type": "code",
   "execution_count": 11,
   "metadata": {},
   "outputs": [
    {
     "data": {
      "text/plain": [
       "35        856\n",
       "39       1471\n",
       "43       1465\n",
       "48       1458\n",
       "49       1458\n",
       "         ... \n",
       "19235    1200\n",
       "19326    1273\n",
       "19372     841\n",
       "19611    1141\n",
       "19614    1212\n",
       "Name: abs_diff_rating, Length: 167, dtype: int64"
      ]
     },
     "execution_count": 11,
     "metadata": {},
     "output_type": "execute_result"
    }
   ],
   "source": [
    "games.loc[games.abs_diff_rating > upper_cutoff, 'abs_diff_rating']"
   ]
  },
  {
   "cell_type": "markdown",
   "metadata": {},
   "source": [
    "So, we have 167 outliers. Here is our upper cutoff difference. "
   ]
  },
  {
   "cell_type": "code",
   "execution_count": 13,
   "metadata": {},
   "outputs": [
    {
     "data": {
      "text/plain": [
       "840.1999999999999"
      ]
     },
     "execution_count": 13,
     "metadata": {},
     "output_type": "execute_result"
    }
   ],
   "source": [
    "upper_cutoff"
   ]
  },
  {
   "cell_type": "markdown",
   "metadata": {},
   "source": [
    "I'm curious. Do these big differences in rating have a high proportion of wins for the higher rated player? "
   ]
  },
  {
   "cell_type": "code",
   "execution_count": 18,
   "metadata": {},
   "outputs": [
    {
     "data": {
      "text/plain": [
       "1    156\n",
       "0     11\n",
       "Name: higher_rating_won, dtype: int64"
      ]
     },
     "execution_count": 18,
     "metadata": {},
     "output_type": "execute_result"
    }
   ],
   "source": [
    "games.loc[games.abs_diff_rating > upper_cutoff, 'higher_rating_won'].value_counts()"
   ]
  },
  {
   "cell_type": "markdown",
   "metadata": {},
   "source": [
    "Nice! (Our intuition gets a big confirmation number Houston.) Recall that a value of 1 means the higher rated player won. As a proportion, we have:"
   ]
  },
  {
   "cell_type": "markdown",
   "metadata": {},
   "source": []
  },
  {
   "cell_type": "code",
   "execution_count": null,
   "metadata": {
    "collapsed": true
   },
   "outputs": [],
   "source": []
  },
  {
   "cell_type": "code",
   "execution_count": null,
   "metadata": {
    "collapsed": true
   },
   "outputs": [],
   "source": []
  },
  {
   "cell_type": "markdown",
   "metadata": {},
   "source": [
    "We will now take a look at the frequency for victory status. "
   ]
  },
  {
   "cell_type": "code",
   "execution_count": 36,
   "metadata": {},
   "outputs": [
    {
     "data": {
      "image/png": "[encoded data removed]",
      "text/plain": [
       "<Figure size 432x288 with 1 Axes>"
      ]
     },
     "metadata": {},
     "output_type": "display_data"
    }
   ],
   "source": [
    "sns.countplot(x = 'victory_status', data = games)\n",
    "plt.show()"
   ]
  },
  {
   "cell_type": "markdown",
   "metadata": {},
   "source": [
    "Most players resigned before being submitted to the same of a mate. Note how very little draws there are proportionate to the other results. \n",
    "\n",
    "We are very interested in checking out how often the higher rating won since this will eventually be one of our response variables in our predictions. "
   ]
  },
  {
   "cell_type": "code",
   "execution_count": 40,
   "metadata": {},
   "outputs": [
    {
     "data": {
      "image/png": "[encoded data removed]",
      "text/plain": [
       "<Figure size 432x288 with 1 Axes>"
      ]
     },
     "metadata": {},
     "output_type": "display_data"
    }
   ],
   "source": [
    "sns.countplot(x = 'higher_rating_won', data = games)\n",
    "plt.show()"
   ]
  },
  {
   "cell_type": "markdown",
   "metadata": {},
   "source": [
    "Most of the time, the higher rating won. "
   ]
  },
  {
   "cell_type": "markdown",
   "metadata": {},
   "source": [
    "We can also check out the distribution for the number of turns taken. "
   ]
  },
  {
   "cell_type": "code",
   "execution_count": 42,
   "metadata": {},
   "outputs": [
    {
     "data": {
      "image/png": "[encoded data removed]",
      "text/plain": [
       "<Figure size 432x288 with 1 Axes>"
      ]
     },
     "metadata": {},
     "output_type": "display_data"
    }
   ],
   "source": [
    "sns.distplot(games.turns, kde = False, color = 'b')\n",
    "plt.show()"
   ]
  },
  {
   "cell_type": "markdown",
   "metadata": {},
   "source": [
    "Looks like most turns hover around 50. Numerically, we can see the following too:"
   ]
  },
  {
   "cell_type": "code",
   "execution_count": 43,
   "metadata": {},
   "outputs": [
    {
     "data": {
      "text/plain": [
       "count    20058.000000\n",
       "mean        60.465999\n",
       "std         33.570585\n",
       "min          1.000000\n",
       "25%         37.000000\n",
       "50%         55.000000\n",
       "75%         79.000000\n",
       "max        349.000000\n",
       "Name: turns, dtype: float64"
      ]
     },
     "execution_count": 43,
     "metadata": {},
     "output_type": "execute_result"
    }
   ],
   "source": [
    "games.turns.describe()"
   ]
  },
  {
   "cell_type": "markdown",
   "metadata": {},
   "source": [
    "We get a mean and a median that are similar at 60.46 (so 60 turns) and 55 respectively. Seeing 349 makes me curious. Who played that long a game? "
   ]
  },
  {
   "cell_type": "code",
   "execution_count": 44,
   "metadata": {},
   "outputs": [
    {
     "data": {
      "text/plain": [
       "Unnamed: 0                                                           349\n",
       "id                                                              2icRDIZI\n",
       "rated                                                               True\n",
       "created_at                                                   1.50394e+12\n",
       "last_move_at                                                 1.50394e+12\n",
       "turns                                                                120\n",
       "victory_status                                                      mate\n",
       "winner                                                             black\n",
       "increment_code                                                      10+0\n",
       "white_id                                                        bomardan\n",
       "white_rating                                                        1589\n",
       "black_id                                                           tfeng\n",
       "black_rating                                                        1569\n",
       "moves                  d4 Nf6 c4 g6 Nc3 d5 Nf3 Bg7 Bf4 O-O Nb5 c6 Nc7...\n",
       "opening_eco                                                          D92\n",
       "opening_name           Gruenfeld Defense: Three Knights Variation |  ...\n",
       "opening_ply                                                            9\n",
       "diff_rating                                                           20\n",
       "abs_diff_rating                                                       20\n",
       "higher_rating                                                      white\n",
       "higher_rating_won                                                      0\n",
       "higher_rating_coded                                                    1\n",
       "white_higher_rated                                                     1\n",
       "result                                                                 0\n",
       "Name: 349, dtype: object"
      ]
     },
     "execution_count": 44,
     "metadata": {},
     "output_type": "execute_result"
    }
   ],
   "source": [
    "games.iloc[games.turns.max()]"
   ]
  },
  {
   "cell_type": "markdown",
   "metadata": {},
   "source": [
    "They had similar ratings of 1589 (white) and 1569 (black). Cool that black won - I like it when the undergod makes it. And mated 'em too. "
   ]
  },
  {
   "cell_type": "markdown",
   "metadata": {},
   "source": [
    "Don't know if you saw this Watson, but we had a min of 1 for turns. This means analyzing games might be impeded by games that only lasted one turn. These kinds of games wouldn't give us useful information. I can start by eliminating games that only lasted five moves or less. Eventually, we can look for a good cutoff number for turns. \n",
    "\n",
    "We can start by checking out the game with one turn though."
   ]
  },
  {
   "cell_type": "code",
   "execution_count": 52,
   "metadata": {},
   "outputs": [
    {
     "data": {
      "text/plain": [
       "Unnamed: 0                          1946\n",
       "id                              3K5kYPO8\n",
       "rated                               True\n",
       "created_at                   1.49153e+12\n",
       "last_move_at                 1.49153e+12\n",
       "turns                                  1\n",
       "victory_status                    resign\n",
       "winner                             black\n",
       "increment_code                      10+0\n",
       "white_id                    serik-astana\n",
       "white_rating                        1464\n",
       "black_id                      brorael357\n",
       "black_rating                        1355\n",
       "moves                                 g3\n",
       "opening_eco                          A00\n",
       "opening_name           Hungarian Opening\n",
       "opening_ply                            1\n",
       "diff_rating                          109\n",
       "abs_diff_rating                      109\n",
       "higher_rating                      white\n",
       "higher_rating_won                      0\n",
       "higher_rating_coded                    1\n",
       "white_higher_rated                     1\n",
       "result                                 0\n",
       "Name: 1946, dtype: object"
      ]
     },
     "execution_count": 52,
     "metadata": {},
     "output_type": "execute_result"
    }
   ],
   "source": [
    "games.iloc[games.turns.idxmin()]"
   ]
  },
  {
   "cell_type": "markdown",
   "metadata": {},
   "source": [
    "Now we check out games that had less than 5 turns. "
   ]
  },
  {
   "cell_type": "code",
   "execution_count": 56,
   "metadata": {},
   "outputs": [
    {
     "data": {
      "text/plain": [
       "342"
      ]
     },
     "execution_count": 56,
     "metadata": {},
     "output_type": "execute_result"
    }
   ],
   "source": [
    "len(games.loc[games.turns < 5])"
   ]
  },
  {
   "cell_type": "code",
   "execution_count": 57,
   "metadata": {},
   "outputs": [
    {
     "data": {
      "text/html": [
       "<div>\n",
       "<style scoped>\n",
       "    .dataframe tbody tr th:only-of-type {\n",
       "        vertical-align: middle;\n",
       "    }\n",
       "\n",
       "    .dataframe tbody tr th {\n",
       "        vertical-align: top;\n",
       "    }\n",
       "\n",
       "    .dataframe thead th {\n",
       "        text-align: right;\n",
       "    }\n",
       "</style>\n",
       "<table border=\"1\" class=\"dataframe\">\n",
       "  <thead>\n",
       "    <tr style=\"text-align: right;\">\n",
       "      <th></th>\n",
       "      <th>Unnamed: 0</th>\n",
       "      <th>id</th>\n",
       "      <th>rated</th>\n",
       "      <th>created_at</th>\n",
       "      <th>last_move_at</th>\n",
       "      <th>turns</th>\n",
       "      <th>victory_status</th>\n",
       "      <th>winner</th>\n",
       "      <th>increment_code</th>\n",
       "      <th>white_id</th>\n",
       "      <th>...</th>\n",
       "      <th>opening_eco</th>\n",
       "      <th>opening_name</th>\n",
       "      <th>opening_ply</th>\n",
       "      <th>diff_rating</th>\n",
       "      <th>abs_diff_rating</th>\n",
       "      <th>higher_rating</th>\n",
       "      <th>higher_rating_won</th>\n",
       "      <th>higher_rating_coded</th>\n",
       "      <th>white_higher_rated</th>\n",
       "      <th>result</th>\n",
       "    </tr>\n",
       "  </thead>\n",
       "  <tbody>\n",
       "    <tr>\n",
       "      <th>21</th>\n",
       "      <td>21</td>\n",
       "      <td>QFCZwY1f</td>\n",
       "      <td>False</td>\n",
       "      <td>1.502950e+12</td>\n",
       "      <td>1.502950e+12</td>\n",
       "      <td>3</td>\n",
       "      <td>resign</td>\n",
       "      <td>white</td>\n",
       "      <td>30+60</td>\n",
       "      <td>shivangithegenius</td>\n",
       "      <td>...</td>\n",
       "      <td>A40</td>\n",
       "      <td>Horwitz Defense</td>\n",
       "      <td>2</td>\n",
       "      <td>26</td>\n",
       "      <td>26</td>\n",
       "      <td>white</td>\n",
       "      <td>1</td>\n",
       "      <td>1</td>\n",
       "      <td>1</td>\n",
       "      <td>2</td>\n",
       "    </tr>\n",
       "    <tr>\n",
       "      <th>46</th>\n",
       "      <td>46</td>\n",
       "      <td>27zreJYy</td>\n",
       "      <td>False</td>\n",
       "      <td>1.499330e+12</td>\n",
       "      <td>1.499330e+12</td>\n",
       "      <td>3</td>\n",
       "      <td>resign</td>\n",
       "      <td>black</td>\n",
       "      <td>15+0</td>\n",
       "      <td>shivangithegenius</td>\n",
       "      <td>...</td>\n",
       "      <td>B01</td>\n",
       "      <td>Scandinavian Defense</td>\n",
       "      <td>2</td>\n",
       "      <td>-522</td>\n",
       "      <td>522</td>\n",
       "      <td>black</td>\n",
       "      <td>1</td>\n",
       "      <td>0</td>\n",
       "      <td>0</td>\n",
       "      <td>2</td>\n",
       "    </tr>\n",
       "    <tr>\n",
       "      <th>55</th>\n",
       "      <td>55</td>\n",
       "      <td>0lDqWVlz</td>\n",
       "      <td>True</td>\n",
       "      <td>1.503180e+12</td>\n",
       "      <td>1.503180e+12</td>\n",
       "      <td>3</td>\n",
       "      <td>resign</td>\n",
       "      <td>white</td>\n",
       "      <td>6+10</td>\n",
       "      <td>caramiecho72</td>\n",
       "      <td>...</td>\n",
       "      <td>B23</td>\n",
       "      <td>Sicilian Defense: Closed Variation</td>\n",
       "      <td>3</td>\n",
       "      <td>-93</td>\n",
       "      <td>93</td>\n",
       "      <td>black</td>\n",
       "      <td>0</td>\n",
       "      <td>0</td>\n",
       "      <td>0</td>\n",
       "      <td>0</td>\n",
       "    </tr>\n",
       "    <tr>\n",
       "      <th>141</th>\n",
       "      <td>141</td>\n",
       "      <td>X4QqWp8Q</td>\n",
       "      <td>True</td>\n",
       "      <td>1.503130e+12</td>\n",
       "      <td>1.503130e+12</td>\n",
       "      <td>2</td>\n",
       "      <td>resign</td>\n",
       "      <td>black</td>\n",
       "      <td>15+15</td>\n",
       "      <td>pune123</td>\n",
       "      <td>...</td>\n",
       "      <td>B02</td>\n",
       "      <td>Alekhine Defense</td>\n",
       "      <td>2</td>\n",
       "      <td>239</td>\n",
       "      <td>239</td>\n",
       "      <td>white</td>\n",
       "      <td>0</td>\n",
       "      <td>1</td>\n",
       "      <td>1</td>\n",
       "      <td>0</td>\n",
       "    </tr>\n",
       "    <tr>\n",
       "      <th>367</th>\n",
       "      <td>367</td>\n",
       "      <td>D0idNTxu</td>\n",
       "      <td>True</td>\n",
       "      <td>1.502640e+12</td>\n",
       "      <td>1.502640e+12</td>\n",
       "      <td>4</td>\n",
       "      <td>outoftime</td>\n",
       "      <td>black</td>\n",
       "      <td>15+15</td>\n",
       "      <td>rustam9</td>\n",
       "      <td>...</td>\n",
       "      <td>C40</td>\n",
       "      <td>King's Knight Opening</td>\n",
       "      <td>3</td>\n",
       "      <td>-125</td>\n",
       "      <td>125</td>\n",
       "      <td>black</td>\n",
       "      <td>1</td>\n",
       "      <td>0</td>\n",
       "      <td>0</td>\n",
       "      <td>2</td>\n",
       "    </tr>\n",
       "  </tbody>\n",
       "</table>\n",
       "<p>5 rows × 24 columns</p>\n",
       "</div>"
      ],
      "text/plain": [
       "     Unnamed: 0        id  rated    created_at  last_move_at  turns  \\\n",
       "21           21  QFCZwY1f  False  1.502950e+12  1.502950e+12      3   \n",
       "46           46  27zreJYy  False  1.499330e+12  1.499330e+12      3   \n",
       "55           55  0lDqWVlz   True  1.503180e+12  1.503180e+12      3   \n",
       "141         141  X4QqWp8Q   True  1.503130e+12  1.503130e+12      2   \n",
       "367         367  D0idNTxu   True  1.502640e+12  1.502640e+12      4   \n",
       "\n",
       "    victory_status winner increment_code           white_id  ...  opening_eco  \\\n",
       "21          resign  white          30+60  shivangithegenius  ...          A40   \n",
       "46          resign  black           15+0  shivangithegenius  ...          B01   \n",
       "55          resign  white           6+10       caramiecho72  ...          B23   \n",
       "141         resign  black          15+15            pune123  ...          B02   \n",
       "367      outoftime  black          15+15            rustam9  ...          C40   \n",
       "\n",
       "                           opening_name  opening_ply diff_rating  \\\n",
       "21                      Horwitz Defense            2          26   \n",
       "46                 Scandinavian Defense            2        -522   \n",
       "55   Sicilian Defense: Closed Variation            3         -93   \n",
       "141                    Alekhine Defense            2         239   \n",
       "367               King's Knight Opening            3        -125   \n",
       "\n",
       "    abs_diff_rating higher_rating  higher_rating_won  higher_rating_coded  \\\n",
       "21               26         white                  1                    1   \n",
       "46              522         black                  1                    0   \n",
       "55               93         black                  0                    0   \n",
       "141             239         white                  0                    1   \n",
       "367             125         black                  1                    0   \n",
       "\n",
       "     white_higher_rated result  \n",
       "21                    1      2  \n",
       "46                    0      2  \n",
       "55                    0      0  \n",
       "141                   1      0  \n",
       "367                   0      2  \n",
       "\n",
       "[5 rows x 24 columns]"
      ]
     },
     "execution_count": 57,
     "metadata": {},
     "output_type": "execute_result"
    }
   ],
   "source": [
    "games.loc[games.turns < 5].head()"
   ]
  },
  {
   "cell_type": "markdown",
   "metadata": {},
   "source": [
    "Now, we'll end by checking out the result variable we made. "
   ]
  },
  {
   "cell_type": "code",
   "execution_count": null,
   "metadata": {
    "collapsed": true
   },
   "outputs": [],
   "source": []
  }
 ],
 "metadata": {
  "kernelspec": {
   "display_name": "Python 3",
   "language": "python",
   "name": "python3"
  },
  "language_info": {
   "codemirror_mode": {
    "name": "ipython",
    "version": 3
   },
   "file_extension": ".py",
   "mimetype": "text/x-python",
   "name": "python",
   "nbconvert_exporter": "python",
   "pygments_lexer": "ipython3",
   "version": "3.6.1"
  }
 },
 "nbformat": 4,
 "nbformat_minor": 2
}
