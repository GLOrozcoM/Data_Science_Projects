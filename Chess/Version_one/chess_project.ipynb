{
 "cells": [
  {
   "cell_type": "markdown",
   "metadata": {},
   "source": [
    "## The dataset and packages\n",
    "\n",
    "You can find the data used in this project here: https://www.kaggle.com/datasnaek/chess . This dataset contains  20,058 records and 16 variables. The original kaggle poster took these data from lichess.org. Each record corresponds to a chess match, and all records were taken from the top 100 teams playing on lichess.org. "
   ]
  },
  {
   "cell_type": "markdown",
   "metadata": {},
   "source": [
    "We will mostly use Python's data packages (pandas, sci-kit, etc.). Otherwise, we will be using my own python module (chess_utility, also in this folder) that contains more complex code. For Jupyter Notebook users, recall you can type any function signature followed by ?? to see the full function source code and documentation.  "
   ]
  },
  {
   "cell_type": "code",
   "execution_count": 1,
   "metadata": {
    "collapsed": true
   },
   "outputs": [],
   "source": [
    "import pandas as pd\n",
    "import numpy as np\n",
    "\n",
    "\n",
    "\n",
    "import seaborn as sns\n",
    "sns.set_style(\"dark\")    # Because we're cool\n",
    "import matplotlib.pyplot as plt\n",
    "%matplotlib inline"
   ]
  },
  {
   "cell_type": "code",
   "execution_count": 2,
   "metadata": {},
   "outputs": [],
   "source": [
    "%load_ext autoreload\n",
    "%autoreload 2\n",
    "import chess_utility as cu"
   ]
  },
  {
   "cell_type": "markdown",
   "metadata": {},
   "source": [
    "Here we can see a small random portion of the data. "
   ]
  },
  {
   "cell_type": "code",
   "execution_count": 3,
   "metadata": {
    "collapsed": true
   },
   "outputs": [],
   "source": [
    "games = pd.read_csv('games.csv')"
   ]
  },
  {
   "cell_type": "code",
   "execution_count": 4,
   "metadata": {},
   "outputs": [
    {
     "data": {
      "text/html": [
       "<div>\n",
       "<style scoped>\n",
       "    .dataframe tbody tr th:only-of-type {\n",
       "        vertical-align: middle;\n",
       "    }\n",
       "\n",
       "    .dataframe tbody tr th {\n",
       "        vertical-align: top;\n",
       "    }\n",
       "\n",
       "    .dataframe thead th {\n",
       "        text-align: right;\n",
       "    }\n",
       "</style>\n",
       "<table border=\"1\" class=\"dataframe\">\n",
       "  <thead>\n",
       "    <tr style=\"text-align: right;\">\n",
       "      <th></th>\n",
       "      <th>id</th>\n",
       "      <th>rated</th>\n",
       "      <th>created_at</th>\n",
       "      <th>last_move_at</th>\n",
       "      <th>turns</th>\n",
       "      <th>victory_status</th>\n",
       "      <th>winner</th>\n",
       "      <th>increment_code</th>\n",
       "      <th>white_id</th>\n",
       "      <th>white_rating</th>\n",
       "      <th>black_id</th>\n",
       "      <th>black_rating</th>\n",
       "      <th>moves</th>\n",
       "      <th>opening_eco</th>\n",
       "      <th>opening_name</th>\n",
       "      <th>opening_ply</th>\n",
       "    </tr>\n",
       "  </thead>\n",
       "  <tbody>\n",
       "    <tr>\n",
       "      <th>186</th>\n",
       "      <td>hl3zLZmV</td>\n",
       "      <td>False</td>\n",
       "      <td>1.501200e+12</td>\n",
       "      <td>1.501200e+12</td>\n",
       "      <td>110</td>\n",
       "      <td>resign</td>\n",
       "      <td>black</td>\n",
       "      <td>10+0</td>\n",
       "      <td>isachess</td>\n",
       "      <td>1845</td>\n",
       "      <td>nicolo97</td>\n",
       "      <td>1917</td>\n",
       "      <td>d4 d5 c4 Nf6 Nc3 Bf5 Nf3 e6 e3 Bb4 Qa4+ Nc6 cx...</td>\n",
       "      <td>D06</td>\n",
       "      <td>Queen's Gambit Refused: Marshall Defense</td>\n",
       "      <td>4</td>\n",
       "    </tr>\n",
       "    <tr>\n",
       "      <th>13021</th>\n",
       "      <td>0wkPVyCT</td>\n",
       "      <td>False</td>\n",
       "      <td>1.499158e+12</td>\n",
       "      <td>1.499159e+12</td>\n",
       "      <td>45</td>\n",
       "      <td>mate</td>\n",
       "      <td>white</td>\n",
       "      <td>15+15</td>\n",
       "      <td>musimustang</td>\n",
       "      <td>1073</td>\n",
       "      <td>ashok-arora</td>\n",
       "      <td>1226</td>\n",
       "      <td>d4 e6 e3 Nc6 Nc3 Nf6 Nf3 Bb4 Qd2 Nd5 Bb5 Na5 B...</td>\n",
       "      <td>A40</td>\n",
       "      <td>Horwitz Defense</td>\n",
       "      <td>2</td>\n",
       "    </tr>\n",
       "  </tbody>\n",
       "</table>\n",
       "</div>"
      ],
      "text/plain": [
       "             id  rated    created_at  last_move_at  turns victory_status  \\\n",
       "186    hl3zLZmV  False  1.501200e+12  1.501200e+12    110         resign   \n",
       "13021  0wkPVyCT  False  1.499158e+12  1.499159e+12     45           mate   \n",
       "\n",
       "      winner increment_code     white_id  white_rating     black_id  \\\n",
       "186    black           10+0     isachess          1845     nicolo97   \n",
       "13021  white          15+15  musimustang          1073  ashok-arora   \n",
       "\n",
       "       black_rating                                              moves  \\\n",
       "186            1917  d4 d5 c4 Nf6 Nc3 Bf5 Nf3 e6 e3 Bb4 Qa4+ Nc6 cx...   \n",
       "13021          1226  d4 e6 e3 Nc6 Nc3 Nf6 Nf3 Bb4 Qd2 Nd5 Bb5 Na5 B...   \n",
       "\n",
       "      opening_eco                              opening_name  opening_ply  \n",
       "186           D06  Queen's Gambit Refused: Marshall Defense            4  \n",
       "13021         A40                           Horwitz Defense            2  "
      ]
     },
     "execution_count": 4,
     "metadata": {},
     "output_type": "execute_result"
    }
   ],
   "source": [
    "NUMROWS = 2\n",
    "cu.sample_entries(games, NUMROWS, games.columns)"
   ]
  },
  {
   "cell_type": "markdown",
   "metadata": {},
   "source": [
    "The variables do an excellent job of explaining themselves. Non-chess players, however, might need some insight into what a few of these variables measure. \n",
    "\n",
    "- Turns refers to the number of turns the game has undergone. One full turn is two moves since each player moving once counts as a turn. \n",
    "- The increment_code variable refers to time increments in a game. Most chess games nowadays have a time limit for each player to make their moves. Time increments indicate how much extra time a player acquires when it's their turn to move. For example, a time increment of 15 + 0 indicates each player has 15 minutes to make all their moves, and 0 seconds will be added to their elapsed time each time it's their turn to move. A time increment of 15 + 10 indicates the same thing, except now, each time it's a player's turn, they will get a bonus 10 seconds on the clock. \n",
    "- Note that the opening_eco refers to a specific code used to classify a chess opening, the first few moves in a chess game. \n",
    "- White_id and black_id refer to usernames for the players on lichess.org. \n",
    "- Finally, white_rating and black_rating correspond to the strength level of a player. A higher number indicates a stronger player. Lichess.org use the Glicko2 system for their ratings. "
   ]
  },
  {
   "cell_type": "markdown",
   "metadata": {},
   "source": [
    "After glancing over our stock of variables, we swiftly check for dreaded missing values in each of them."
   ]
  },
  {
   "cell_type": "code",
   "execution_count": 5,
   "metadata": {},
   "outputs": [
    {
     "name": "stdout",
     "output_type": "stream",
     "text": [
      "<class 'pandas.core.frame.DataFrame'>\n",
      "RangeIndex: 20058 entries, 0 to 20057\n",
      "Data columns (total 16 columns):\n",
      " #   Column          Non-Null Count  Dtype  \n",
      "---  ------          --------------  -----  \n",
      " 0   id              20058 non-null  object \n",
      " 1   rated           20058 non-null  bool   \n",
      " 2   created_at      20058 non-null  float64\n",
      " 3   last_move_at    20058 non-null  float64\n",
      " 4   turns           20058 non-null  int64  \n",
      " 5   victory_status  20058 non-null  object \n",
      " 6   winner          20058 non-null  object \n",
      " 7   increment_code  20058 non-null  object \n",
      " 8   white_id        20058 non-null  object \n",
      " 9   white_rating    20058 non-null  int64  \n",
      " 10  black_id        20058 non-null  object \n",
      " 11  black_rating    20058 non-null  int64  \n",
      " 12  moves           20058 non-null  object \n",
      " 13  opening_eco     20058 non-null  object \n",
      " 14  opening_name    20058 non-null  object \n",
      " 15  opening_ply     20058 non-null  int64  \n",
      "dtypes: bool(1), float64(2), int64(4), object(9)\n",
      "memory usage: 2.3+ MB\n"
     ]
    }
   ],
   "source": [
    "games.info()"
   ]
  },
  {
   "cell_type": "markdown",
   "metadata": {
    "collapsed": true
   },
   "source": [
    "At the top of the output, we see 20058 entries for the entire data set. If we pore over the second column, *non-null count*, we see no variable has missing values since all demonstrate 20058 as their non-null count. So we can safely conclude our data set has no missing values. "
   ]
  },
  {
   "cell_type": "markdown",
   "metadata": {},
   "source": [
    "Before performing an exploratory data analysis (EDA) on our dataset, we will define a predictive question for the set and then perform an EDA for the variables that interest us. "
   ]
  },
  {
   "cell_type": "markdown",
   "metadata": {},
   "source": [
    "## The predictive mega question"
   ]
  },
  {
   "cell_type": "markdown",
   "metadata": {},
   "source": [
    "After poring over the data, we are seduced by the idea of predicting the outcome of a chess match using player ratings. A chess rating (see above, white_rating and black_rating) indicates strength of a player. After signing up on the site, lichess.org gives a user a provisionary rating of 1300. As they play more games, the user gets a more accurate rating. Since all of our matches come from the top 100 teams in lichess.org, we can assume these ratings reflect player strengths well. "
   ]
  },
  {
   "cell_type": "markdown",
   "metadata": {},
   "source": [
    "So, how could we use ratings to predict the outcome of a match? The simplest way is by taking a difference between two ratings. Low differences indicate evenly matched players while high differences suggest unevenly matched players. We would aim to predict the outcome of a match based on this difference. Particularly, we could show a probabilty of winning for each player based on the difference between their ratings.  "
   ]
  },
  {
   "cell_type": "markdown",
   "metadata": {},
   "source": [
    "It might also be useful to consider turns and \"whiteness\" of a player. Supposing a match had been going on for 5 turns, this might inform how likely a player is to win versus a match having been going on for 20 turns. Whiteness also matters since white is first to move in a game. So, playing as white against a higher rated player might up your chances of winning. "
   ]
  },
  {
   "cell_type": "markdown",
   "metadata": {},
   "source": [
    "Our question, thus, can be concisely worded as the following: can we use ratings, number of turns, and whether a player is white to assign a probability of winning to each player in a chess match?"
   ]
  },
  {
   "cell_type": "markdown",
   "metadata": {},
   "source": [
    "*Nothing up this sleeve, and nothing up this sleeve* so we'll jump right in."
   ]
  },
  {
   "cell_type": "markdown",
   "metadata": {},
   "source": [
    "## Cooking new variables"
   ]
  },
  {
   "cell_type": "markdown",
   "metadata": {},
   "source": [
    "To answer our predictive question, we make new variables to work with. "
   ]
  },
  {
   "cell_type": "markdown",
   "metadata": {},
   "source": [
    "1) abs_diff_rating will take the absolute value of the difference in rating between two players. An absolute value makes sense in our context since we'll only be interested in the magnitude of difference between two player ratings."
   ]
  },
  {
   "cell_type": "code",
   "execution_count": 6,
   "metadata": {
    "collapsed": true
   },
   "outputs": [],
   "source": [
    "games['abs_diff_rating'] = np.abs(games.white_rating - games.black_rating)"
   ]
  },
  {
   "cell_type": "markdown",
   "metadata": {},
   "source": [
    "2) higher_rating_won will be a binary variable taking 1 if the person with the higher rating won, and 0 if they didn't. We'll use this variable when running a binary model. "
   ]
  },
  {
   "cell_type": "code",
   "execution_count": 7,
   "metadata": {
    "collapsed": true
   },
   "outputs": [],
   "source": [
    "# To make higher_rating, I make a variable that determines who won - white or black, or if the match was a draw. \n",
    "games[ 'higher_rating' ] = ''\n",
    "games.loc[ games.white_rating - games.black_rating > 0, 'higher_rating' ] = 'white'\n",
    "games.loc[ games.white_rating - games.black_rating < 0, 'higher_rating' ] = 'black'\n",
    "games.loc[ games.white_rating - games.black_rating == 0, 'higher_rating' ] = 'same'"
   ]
  },
  {
   "cell_type": "code",
   "execution_count": 8,
   "metadata": {
    "collapsed": true
   },
   "outputs": [],
   "source": [
    "games[ 'higher_rating_won' ] = 0\n",
    "games.loc[ games.winner == games.higher_rating, 'higher_rating_won'] = 1"
   ]
  },
  {
   "cell_type": "markdown",
   "metadata": {},
   "source": [
    "3) result will encode whether the higher rated player lost, tied, or won (0, 1, 2). We'll use this variable when running a three class classifier. "
   ]
  },
  {
   "cell_type": "code",
   "execution_count": 9,
   "metadata": {
    "collapsed": true
   },
   "outputs": [],
   "source": [
    "games[ 'result'] = 0\n",
    "games.loc[ games.winner == 'draw' , 'result'] = 1\n",
    "games.loc[ games.higher_rating_won == 1, 'result'] = 2"
   ]
  },
  {
   "cell_type": "markdown",
   "metadata": {},
   "source": [
    "4) white_higher_rated encodes whether the higher rated player was white or not (1, 0). "
   ]
  },
  {
   "cell_type": "code",
   "execution_count": 10,
   "metadata": {
    "collapsed": true
   },
   "outputs": [],
   "source": [
    "games[ 'higher_rated_white' ] = 0\n",
    "games.loc[ games.higher_rating == 'white', 'higher_rated_white' ] = 1"
   ]
  },
  {
   "cell_type": "markdown",
   "metadata": {
    "collapsed": true
   },
   "source": [
    "Here's a look at a random sample of our data set for the variables we created. We also include variables in the call out to check the variables were created properly."
   ]
  },
  {
   "cell_type": "code",
   "execution_count": 11,
   "metadata": {},
   "outputs": [
    {
     "data": {
      "text/html": [
       "<div>\n",
       "<style scoped>\n",
       "    .dataframe tbody tr th:only-of-type {\n",
       "        vertical-align: middle;\n",
       "    }\n",
       "\n",
       "    .dataframe tbody tr th {\n",
       "        vertical-align: top;\n",
       "    }\n",
       "\n",
       "    .dataframe thead th {\n",
       "        text-align: right;\n",
       "    }\n",
       "</style>\n",
       "<table border=\"1\" class=\"dataframe\">\n",
       "  <thead>\n",
       "    <tr style=\"text-align: right;\">\n",
       "      <th></th>\n",
       "      <th>abs_diff_rating</th>\n",
       "      <th>higher_rating_won</th>\n",
       "      <th>result</th>\n",
       "      <th>higher_rated_white</th>\n",
       "      <th>winner</th>\n",
       "      <th>white_rating</th>\n",
       "      <th>black_rating</th>\n",
       "    </tr>\n",
       "  </thead>\n",
       "  <tbody>\n",
       "    <tr>\n",
       "      <th>10399</th>\n",
       "      <td>67</td>\n",
       "      <td>1</td>\n",
       "      <td>2</td>\n",
       "      <td>1</td>\n",
       "      <td>white</td>\n",
       "      <td>1515</td>\n",
       "      <td>1448</td>\n",
       "    </tr>\n",
       "    <tr>\n",
       "      <th>10943</th>\n",
       "      <td>9</td>\n",
       "      <td>0</td>\n",
       "      <td>0</td>\n",
       "      <td>0</td>\n",
       "      <td>white</td>\n",
       "      <td>1445</td>\n",
       "      <td>1454</td>\n",
       "    </tr>\n",
       "  </tbody>\n",
       "</table>\n",
       "</div>"
      ],
      "text/plain": [
       "       abs_diff_rating  higher_rating_won  result  higher_rated_white winner  \\\n",
       "10399               67                  1       2                   1  white   \n",
       "10943                9                  0       0                   0  white   \n",
       "\n",
       "       white_rating  black_rating  \n",
       "10399          1515          1448  \n",
       "10943          1445          1454  "
      ]
     },
     "execution_count": 11,
     "metadata": {},
     "output_type": "execute_result"
    }
   ],
   "source": [
    "made_variables = [ 'abs_diff_rating', 'higher_rating_won','result', 'higher_rated_white' ]\n",
    "comparison_variables = [ 'winner', 'white_rating', 'black_rating' ]\n",
    "cu.sample_entries( games, NUMROWS, made_variables + comparison_variables )"
   ]
  },
  {
   "cell_type": "markdown",
   "metadata": {},
   "source": [
    "*Note: since each call to sample_entries is random, you can run the cell above repeatedly to get different samples from the dataset.*"
   ]
  },
  {
   "cell_type": "markdown",
   "metadata": {},
   "source": [
    "Next, we'll drop all other variables and be left with a spartan dataset containing only the variables interesting to us. "
   ]
  },
  {
   "cell_type": "code",
   "execution_count": 12,
   "metadata": {
    "collapsed": true
   },
   "outputs": [],
   "source": [
    "new_variable_indices = [ games.columns.get_loc( column ) for column in made_variables ]"
   ]
  },
  {
   "cell_type": "code",
   "execution_count": 13,
   "metadata": {
    "collapsed": true
   },
   "outputs": [],
   "source": [
    "modified_games = games.iloc[ :, new_variable_indices ].copy()"
   ]
  },
  {
   "cell_type": "code",
   "execution_count": 14,
   "metadata": {
    "collapsed": true
   },
   "outputs": [],
   "source": [
    "modified_games[ 'turns' ] = games[ 'turns' ]"
   ]
  },
  {
   "cell_type": "code",
   "execution_count": 15,
   "metadata": {},
   "outputs": [
    {
     "data": {
      "text/html": [
       "<div>\n",
       "<style scoped>\n",
       "    .dataframe tbody tr th:only-of-type {\n",
       "        vertical-align: middle;\n",
       "    }\n",
       "\n",
       "    .dataframe tbody tr th {\n",
       "        vertical-align: top;\n",
       "    }\n",
       "\n",
       "    .dataframe thead th {\n",
       "        text-align: right;\n",
       "    }\n",
       "</style>\n",
       "<table border=\"1\" class=\"dataframe\">\n",
       "  <thead>\n",
       "    <tr style=\"text-align: right;\">\n",
       "      <th></th>\n",
       "      <th>abs_diff_rating</th>\n",
       "      <th>higher_rating_won</th>\n",
       "      <th>result</th>\n",
       "      <th>higher_rated_white</th>\n",
       "      <th>turns</th>\n",
       "    </tr>\n",
       "  </thead>\n",
       "  <tbody>\n",
       "    <tr>\n",
       "      <th>0</th>\n",
       "      <td>309</td>\n",
       "      <td>1</td>\n",
       "      <td>2</td>\n",
       "      <td>1</td>\n",
       "      <td>13</td>\n",
       "    </tr>\n",
       "    <tr>\n",
       "      <th>1</th>\n",
       "      <td>61</td>\n",
       "      <td>0</td>\n",
       "      <td>0</td>\n",
       "      <td>1</td>\n",
       "      <td>16</td>\n",
       "    </tr>\n",
       "    <tr>\n",
       "      <th>2</th>\n",
       "      <td>4</td>\n",
       "      <td>0</td>\n",
       "      <td>0</td>\n",
       "      <td>0</td>\n",
       "      <td>61</td>\n",
       "    </tr>\n",
       "    <tr>\n",
       "      <th>3</th>\n",
       "      <td>15</td>\n",
       "      <td>0</td>\n",
       "      <td>0</td>\n",
       "      <td>0</td>\n",
       "      <td>61</td>\n",
       "    </tr>\n",
       "    <tr>\n",
       "      <th>4</th>\n",
       "      <td>54</td>\n",
       "      <td>1</td>\n",
       "      <td>2</td>\n",
       "      <td>1</td>\n",
       "      <td>95</td>\n",
       "    </tr>\n",
       "  </tbody>\n",
       "</table>\n",
       "</div>"
      ],
      "text/plain": [
       "   abs_diff_rating  higher_rating_won  result  higher_rated_white  turns\n",
       "0              309                  1       2                   1     13\n",
       "1               61                  0       0                   1     16\n",
       "2                4                  0       0                   0     61\n",
       "3               15                  0       0                   0     61\n",
       "4               54                  1       2                   1     95"
      ]
     },
     "execution_count": 15,
     "metadata": {},
     "output_type": "execute_result"
    }
   ],
   "source": [
    "# Check work \n",
    "modified_games.head()"
   ]
  },
  {
   "cell_type": "markdown",
   "metadata": {
    "collapsed": true
   },
   "source": [
    "We then save this modified version of the dataset and reset the games variable to reflect the modified version. "
   ]
  },
  {
   "cell_type": "code",
   "execution_count": 16,
   "metadata": {
    "collapsed": true
   },
   "outputs": [],
   "source": [
    "modified_games.to_csv( 'modified_games.csv' )"
   ]
  },
  {
   "cell_type": "code",
   "execution_count": 17,
   "metadata": {
    "collapsed": true
   },
   "outputs": [],
   "source": [
    "games = modified_games"
   ]
  },
  {
   "cell_type": "markdown",
   "metadata": {},
   "source": [
    "## Exploratory Data Analysis\n",
    "\n",
    "In this section, we examine our variables of interest with a statistical magnifying glass. "
   ]
  },
  {
   "cell_type": "markdown",
   "metadata": {},
   "source": [
    "### Absolute value in differences\n",
    "We'll start by checking out our abs_diff_rating variable. "
   ]
  },
  {
   "cell_type": "code",
   "execution_count": 18,
   "metadata": {},
   "outputs": [
    {
     "data": {
      "text/plain": [
       "count    20058.000000\n",
       "mean       173.091435\n",
       "std        179.214854\n",
       "min          0.000000\n",
       "25%         45.000000\n",
       "50%        115.000000\n",
       "75%        241.000000\n",
       "max       1605.000000\n",
       "Name: abs_diff_rating, dtype: float64"
      ]
     },
     "execution_count": 18,
     "metadata": {},
     "output_type": "execute_result"
    }
   ],
   "source": [
    "games.abs_diff_rating.describe()"
   ]
  },
  {
   "cell_type": "markdown",
   "metadata": {},
   "source": [
    "A brief look at the read out lets us know most observations had an absolute difference of up to 241 points (third quantile reading). Below, we can see a histogram of this distribution. "
   ]
  },
  {
   "cell_type": "code",
   "execution_count": 19,
   "metadata": {
    "scrolled": true
   },
   "outputs": [
    {
     "data": {
      "text/plain": [
       "Text(0.5, 0, 'Absolute Value Difference in Rating')"
      ]
     },
     "execution_count": 19,
     "metadata": {},
     "output_type": "execute_result"
    },
    {
     "data": {
      "image/png": "[encoded data removed]",
      "text/plain": [
       "<Figure size 432x288 with 1 Axes>"
      ]
     },
     "metadata": {},
     "output_type": "display_data"
    }
   ],
   "source": [
    "sns.distplot(games.abs_diff_rating,\n",
    "                        kde=False)\n",
    "plt.ylabel('Frequency')\n",
    "plt.xlabel('Absolute Value Difference in Rating')"
   ]
  },
  {
   "cell_type": "markdown",
   "metadata": {},
   "source": [
    "We've got a right skewed distribution of absolute values in rating. The skew shows how most games took place between players having smaller absolute difference in rating. In other words, less matches take place between players having high absolute differences in their ratings. This is easy to see when you compare the frequencies from 0 to 200 with frequencies from 600 to 800 for example.  "
   ]
  },
  {
   "cell_type": "markdown",
   "metadata": {},
   "source": [
    "A box plot helps us visualize possible outliers."
   ]
  },
  {
   "cell_type": "code",
   "execution_count": 20,
   "metadata": {},
   "outputs": [
    {
     "data": {
      "text/plain": [
       "Text(0.5, 0, 'Absolute Value Difference in Rating')"
      ]
     },
     "execution_count": 20,
     "metadata": {},
     "output_type": "execute_result"
    },
    {
     "data": {
      "image/png": "[encoded data removed]",
      "text/plain": [
       "<Figure size 432x288 with 1 Axes>"
      ]
     },
     "metadata": {},
     "output_type": "display_data"
    }
   ],
   "source": [
    "sns.boxplot(x=\"abs_diff_rating\", data=games)\n",
    "plt.xlabel('Absolute Value Difference in Rating')"
   ]
  },
  {
   "cell_type": "markdown",
   "metadata": {},
   "source": [
    "It looks like at around the 600 absolute value difference, we have a hoard of high outliers. We need not, however, remove them yet since they could inform how large differences contribute to percentages of winning. Note that we don't have low outliers since all of our values are positive. "
   ]
  },
  {
   "cell_type": "markdown",
   "metadata": {},
   "source": [
    "Do we give the outliers the boot? Nope. Seeing high absolute differences makes sense since matches get created randomly in lichess.org. Also, high absolute differences could inform the probability for match outcomes. "
   ]
  },
  {
   "cell_type": "markdown",
   "metadata": {},
   "source": [
    "### Higher Rating Won\n",
    "\n",
    "We are interested in checking out how often the higher rating won since this will be one of our response variables when predicting. "
   ]
  },
  {
   "cell_type": "code",
   "execution_count": 21,
   "metadata": {},
   "outputs": [
    {
     "data": {
      "text/plain": [
       "Text(0.5, 0, 'Higher Rating Won')"
      ]
     },
     "execution_count": 21,
     "metadata": {},
     "output_type": "execute_result"
    },
    {
     "data": {
      "image/png": "[encoded data removed]",
      "text/plain": [
       "<Figure size 432x288 with 1 Axes>"
      ]
     },
     "metadata": {},
     "output_type": "display_data"
    }
   ],
   "source": [
    "sns.countplot(x = 'higher_rating_won', data = games,  alpha = 0.5)\n",
    "plt.ylabel('Count')\n",
    "plt.xlabel('Higher Rating Won')"
   ]
  },
  {
   "cell_type": "markdown",
   "metadata": {},
   "source": [
    "Below is a specific numerical proportion."
   ]
  },
  {
   "cell_type": "code",
   "execution_count": 22,
   "metadata": {},
   "outputs": [
    {
     "data": {
      "text/plain": [
       "1    0.615814\n",
       "0    0.384186\n",
       "Name: higher_rating_won, dtype: float64"
      ]
     },
     "execution_count": 22,
     "metadata": {},
     "output_type": "execute_result"
    }
   ],
   "source": [
    "games.higher_rating_won.value_counts(1)"
   ]
  },
  {
   "cell_type": "markdown",
   "metadata": {},
   "source": [
    "So 61% of the time, the higher rating won."
   ]
  },
  {
   "cell_type": "markdown",
   "metadata": {},
   "source": [
    "### Number of turns\n",
    "\n",
    "We also check out the distribution for the number of turns taken. "
   ]
  },
  {
   "cell_type": "code",
   "execution_count": 23,
   "metadata": {},
   "outputs": [
    {
     "data": {
      "text/plain": [
       "Text(0.5, 0, 'Turns')"
      ]
     },
     "execution_count": 23,
     "metadata": {},
     "output_type": "execute_result"
    },
    {
     "data": {
      "image/png": "[encoded data removed]",
      "text/plain": [
       "<Figure size 432x288 with 1 Axes>"
      ]
     },
     "metadata": {},
     "output_type": "display_data"
    }
   ],
   "source": [
    "sns.distplot(games.turns, kde = False, color = 'b')\n",
    "plt.ylabel('Frequency')\n",
    "plt.xlabel('Turns')"
   ]
  },
  {
   "cell_type": "markdown",
   "metadata": {},
   "source": [
    "Looks like most turns hover around 50. A numerical distribution is shown below."
   ]
  },
  {
   "cell_type": "code",
   "execution_count": 24,
   "metadata": {},
   "outputs": [
    {
     "data": {
      "text/plain": [
       "count    20058.000000\n",
       "mean        60.465999\n",
       "std         33.570585\n",
       "min          1.000000\n",
       "25%         37.000000\n",
       "50%         55.000000\n",
       "75%         79.000000\n",
       "max        349.000000\n",
       "Name: turns, dtype: float64"
      ]
     },
     "execution_count": 24,
     "metadata": {},
     "output_type": "execute_result"
    }
   ],
   "source": [
    "games.turns.describe()"
   ]
  },
  {
   "cell_type": "markdown",
   "metadata": {},
   "source": [
    "We get a mean and a median that are similar at 60 (rounded down from 60.46 since turns have to be whole numbers) and 55 respectively. Seeing 349 for a max number of turns makes me curious (that's a pretty long game). What more can I say about that match?"
   ]
  },
  {
   "cell_type": "code",
   "execution_count": 25,
   "metadata": {
    "scrolled": true
   },
   "outputs": [
    {
     "data": {
      "text/plain": [
       "abs_diff_rating        20\n",
       "higher_rating_won       0\n",
       "result                  0\n",
       "higher_rated_white      1\n",
       "turns                 120\n",
       "Name: 349, dtype: int64"
      ]
     },
     "execution_count": 25,
     "metadata": {},
     "output_type": "execute_result"
    }
   ],
   "source": [
    "games.iloc[games.turns.max()]"
   ]
  },
  {
   "cell_type": "markdown",
   "metadata": {},
   "source": [
    "The players had similar ratings showing only 20 points difference. Also, black won since the higher_rated_won variable lets us know the higher rated (white) player didn't win. "
   ]
  },
  {
   "cell_type": "markdown",
   "metadata": {},
   "source": [
    "Don't know if you noticed saw this, Watson, but we had a minimum of 1 for turns (see our output for numerical description of turn data). This is alarming since a 1 turn game would probably not provide useful information. "
   ]
  },
  {
   "cell_type": "markdown",
   "metadata": {},
   "source": [
    "We need to determine a good cut off for how many turns is acceptable in our set. In chess, the fastest check mate is called the Fool's Mate and can happen in two turns. So a cut off of two turns for a likely game would be acceptable for a realistic match. "
   ]
  },
  {
   "cell_type": "markdown",
   "metadata": {},
   "source": [
    "We can check how many games lasted less than two turns. "
   ]
  },
  {
   "cell_type": "code",
   "execution_count": 26,
   "metadata": {},
   "outputs": [
    {
     "data": {
      "text/plain": [
       "18"
      ]
     },
     "execution_count": 26,
     "metadata": {},
     "output_type": "execute_result"
    }
   ],
   "source": [
    "len( games.loc[ games.turns < 2 ] )"
   ]
  },
  {
   "cell_type": "markdown",
   "metadata": {},
   "source": [
    "Let's remove games with less than 2 turns from our data. "
   ]
  },
  {
   "cell_type": "code",
   "execution_count": 27,
   "metadata": {
    "collapsed": true
   },
   "outputs": [],
   "source": [
    "games.drop(games[games.turns < 2].index, inplace = True)"
   ]
  },
  {
   "cell_type": "markdown",
   "metadata": {
    "collapsed": true
   },
   "source": [
    "### Result \n",
    "\n",
    "Finally, let's look at the result variable. Recall that this variable encodes whether the higher rated player lost (0), drew (1), or won (2). "
   ]
  },
  {
   "cell_type": "code",
   "execution_count": 28,
   "metadata": {},
   "outputs": [
    {
     "data": {
      "text/plain": [
       "Text(0.5, 0, 'Result')"
      ]
     },
     "execution_count": 28,
     "metadata": {},
     "output_type": "execute_result"
    },
    {
     "data": {
      "image/png": "[encoded data removed]",
      "text/plain": [
       "<Figure size 432x288 with 1 Axes>"
      ]
     },
     "metadata": {},
     "output_type": "display_data"
    }
   ],
   "source": [
    "sns.countplot(x = 'result', data = games, alpha = 0.5)\n",
    "plt.ylabel('Count')\n",
    "plt.xlabel('Result')"
   ]
  },
  {
   "cell_type": "markdown",
   "metadata": {},
   "source": [
    "For the higher rated player, we have mostly wins (2), a little more than half of these are losses (0), and a small proportion turn out to be draws (1). We can see numerical proportions below."
   ]
  },
  {
   "cell_type": "code",
   "execution_count": 29,
   "metadata": {},
   "outputs": [
    {
     "data": {
      "text/plain": [
       "2    0.615669\n",
       "0    0.336926\n",
       "1    0.047405\n",
       "Name: result, dtype: float64"
      ]
     },
     "execution_count": 29,
     "metadata": {},
     "output_type": "execute_result"
    }
   ],
   "source": [
    "games.result.value_counts(1)"
   ]
  },
  {
   "cell_type": "markdown",
   "metadata": {},
   "source": [
    "The higher rated player won 61% of the time (reflecting our binary variable higher_rated_won), lost 34% of the time, and drew about 5% of the time."
   ]
  },
  {
   "cell_type": "markdown",
   "metadata": {},
   "source": [
    "### Exploratory Data Analysis Summary\n",
    "\n",
    "1) We need not worry about low outliers in the absolute value of differences between ratings. High outliers, however, do exist according to our definition of boxplot outliers. We choose to brave them in our set since high absolute differences could inform a probabilitities for match outcomes.\n",
    "\n",
    "2) For the higher rated player, most of the games end up as wins ~61%, then losses ~34%, and a tiny percentage of the matches are draws ~5%. \n",
    "\n",
    "3) The turns variable revealed short turn games, and we removed any matches that had less than 2 turns. "
   ]
  },
  {
   "cell_type": "markdown",
   "metadata": {},
   "source": [
    "Since we removed short turn matches, we will re-write out the dataset for later use. "
   ]
  },
  {
   "cell_type": "code",
   "execution_count": 30,
   "metadata": {
    "collapsed": true
   },
   "outputs": [],
   "source": [
    "games.to_csv('modified_games.csv')"
   ]
  },
  {
   "cell_type": "markdown",
   "metadata": {},
   "source": [
    "## Getting the plan straight\n",
    "\n",
    "After going through that grand EDA, we'll cook up a plan for constructing our models.  "
   ]
  },
  {
   "cell_type": "markdown",
   "metadata": {},
   "source": [
    "Recall our question: *can we use ratings, number of turns, and whether a player is white to assign a probability of winning to each player in a chess match?*  In terms of our variables, this means that we will use abs_diff_rating, turns, and higher_rated_white to assign a probability to each class for higher_rating_won (in the binary case) or result (in the three class case). We can then use these probabilities to make predictions. "
   ]
  },
  {
   "cell_type": "markdown",
   "metadata": {},
   "source": [
    "We'll construct four different models: a logistic regression, a bag of trees, and a random forest. We'll first compare how these procedures compare to each other using stratified k fold cross validation. Then, we'll fit each model and show how they predict outcomes. "
   ]
  },
  {
   "cell_type": "markdown",
   "metadata": {},
   "source": [
    "For the algorithmically rusty, let's take a look at how these models work before using them.  "
   ]
  },
  {
   "cell_type": "markdown",
   "metadata": {},
   "source": [
    "## Logistic Regression"
   ]
  },
  {
   "cell_type": "markdown",
   "metadata": {},
   "source": [
    "A logistic regression is one of the first kids on the block you meet when trying to classify a binary response variable. "
   ]
  },
  {
   "cell_type": "markdown",
   "metadata": {},
   "source": [
    "Taking the math to town, we can set up a simple logistic regression equation as follows. Let $X_1, X_2, X_3$ be predictors and $Y$ a target variable having two classes. In our case, we can imagine that $X_1$ is abs_diff_rating, $X_2$ is turns, $X_3$ is white_higher_rated. Our $Y$ will higher_rated_won. What is the probability of seeing a particular class of $Y$ given $X$? Notationally, we can reword this as $P(Y_{class} | X)$. \n",
    "\n",
    "A logistic regression tells us that \n",
    "\\begin{align}\n",
    "P(Y_{class} | X) = \\frac{ e^{\\beta_0 + \\beta_1X_1 + \\beta_2X_2 + \\beta_3X_3} }{1 + e^{\\beta_0 + \\beta_1X_1 + \\beta_2X_2 + \\beta_3X_3}}.\n",
    "\\end{align}\n"
   ]
  },
  {
   "cell_type": "markdown",
   "metadata": {},
   "source": [
    "The $\\beta$'s in the equation get picked by the least squares solution to this problem. Most softwares do all of the $\\beta$ work for us, and we need not worry about manually calculating these. "
   ]
  },
  {
   "cell_type": "markdown",
   "metadata": {},
   "source": [
    "Having these probabilities enables predictions. Say, for example, that an observation results in a probability of seeing a win in higher_rated_won of 0.6. Since this is greater than or equal to 0.5, we would predict a win for this observation. Observations resulting in probabiliies less than 0.5 get assigned a loss prediction. At the end of the modelling procedure, we check out how badly the model performed comparing its predictions to true values. "
   ]
  },
  {
   "cell_type": "markdown",
   "metadata": {
    "collapsed": true
   },
   "source": [
    "## Tree Methods"
   ]
  },
  {
   "cell_type": "markdown",
   "metadata": {},
   "source": [
    "### Classification decision tree"
   ]
  },
  {
   "cell_type": "markdown",
   "metadata": {},
   "source": [
    "A classification decision tree does as its name suggests. It makes decisions and grows leaves. In our particular case, recall that we're trying to predict a win or loss  using abs_diff_rating, turns, and white_higher_rated. A decision tree splits up the observations based on what groups show higher propensities in a certain class. For example, suppose that observations showing a high abs_diff_rating of 1000 seem to mostly have a win entry for highest_rated_won. Then, the tree will split observations into those having a abs_diff_rating value > 1000 and those observations such that abs_diff_rating value < 1000. Then, any observation falling into the category of having an abs_diff_rating > 1000 get a win predicted for highest_rated_won. For observations less than 1000, we may continue splitting on the same variable, or using turns and white_higher_rated.  "
   ]
  },
  {
   "cell_type": "markdown",
   "metadata": {},
   "source": [
    "The choice of where to split the observations matters. In the classification setting, we use information gain (IG) or gini gain (GG) to determine the best split. Since these measures are similar, we'll just pick one and fly with it (GG). After we perform all the splits, we'll be left with what looks like an upside down tree (root at the top, leaves at the bottom). Each leaf or bottommost node of a tree defines a prediction for a set of observations. Thus, every observation in that node would receive the same prediction. After getting our hands on the predictions, we compare them with true values to see how wrongly everything went. "
   ]
  },
  {
   "cell_type": "markdown",
   "metadata": {},
   "source": [
    "Decision trees rock boats because they're easy to visualize and sometimes mirror human decision making. When modelling using a decision tree (see below), we'll show a visualization that should also help to understand the concept. "
   ]
  },
  {
   "cell_type": "markdown",
   "metadata": {},
   "source": [
    "### Bag of trees"
   ]
  },
  {
   "cell_type": "markdown",
   "metadata": {},
   "source": [
    "Sometimes one thing won't work well. But trying a lot of one thing might give better results. A bag of trees does this. It uses a lot of decision trees to make its predictions. The process goes like this: fit a set number of trees, say 100, on the data. Now, take an observation and find predictions for it using those 100 different trees. Then, find the most commonly occuring prediction (majority vote count) and assign it as the bag's prediction for that observation. Do this for all data you want to find predictions for. "
   ]
  },
  {
   "cell_type": "markdown",
   "metadata": {},
   "source": [
    "Why do we use bags? Besides, of course, a single decision tree not predicting well, we might be concerned because a single decision tree predicts *too* well. Decision trees get intimate with their data and can sometimes give excellent predictions for a particular data set. If, however, we take that same tree and give it another dataset, it may perform poorly because it grew to attached to the first dataset. A bag of trees aims to fix this. By taking a majority vote of predictions from various trees, we limit the possibility of using any one tree too much. For mah geeks in the house, this is a perfect example of a bias-variance trade-off where we accept more bias to get rid of variance. "
   ]
  },
  {
   "cell_type": "markdown",
   "metadata": {},
   "source": [
    "### Random forests"
   ]
  },
  {
   "cell_type": "markdown",
   "metadata": {},
   "source": [
    "There's more. Suppose a particular variable, say abs_diff_rating, works well in predicting higher_rated_won and another variable, say turns, doesn't. It's possible that a tree might include both abs_diff_rating and turns, but the better performing abs_diff_rating masks the poor performance of turns. Bags don't correct for this since each tree can grow using all the variables in the dataset. "
   ]
  },
  {
   "cell_type": "markdown",
   "metadata": {},
   "source": [
    "Random forests fix this by saying nope. They, like bags, aggregate trees, but deny the using of all variables to fit each tree. Instead, they allow each tree to use a subset of the variables. Usually, in the case of $p$ variables, they allow for $m$ variables where $m = \\sqrt{p}$. "
   ]
  },
  {
   "cell_type": "markdown",
   "metadata": {},
   "source": [
    "## Comparing the models "
   ]
  },
  {
   "cell_type": "markdown",
   "metadata": {},
   "source": [
    "In this section, we'll be fitting a particular model multiple times on the data and averaging its results to check how it compares to other models. "
   ]
  },
  {
   "cell_type": "markdown",
   "metadata": {},
   "source": [
    "### Stratified K fold cross validation"
   ]
  },
  {
   "cell_type": "markdown",
   "metadata": {},
   "source": [
    "In supervised learning algorithms, we work with a training data set and a test data set. We fit/train our model on the training data set, then see how it performs on the test set. In practice though, we may have only one dataset. So we get clever, and we make an \"artificial\" test set by splitting up our available dataset into a training set and testing set. This is the essence of cross validation. "
   ]
  },
  {
   "cell_type": "markdown",
   "metadata": {},
   "source": [
    "In K fold cross validation, we cut up our data set into K folds or groups. Then, we hold one fold out, and we train the model on the other folds. We then test the model on the fold we left out. We do this K times, alternating each fold as the test set. This process helps us form a better picture of how well the model works. "
   ]
  },
  {
   "cell_type": "markdown",
   "metadata": {},
   "source": [
    "Sometimes one class dominates other classes in a dataset. For example, in our dataset, the result variable shows many wins, less losses, and even fewer draws. "
   ]
  },
  {
   "cell_type": "code",
   "execution_count": 31,
   "metadata": {},
   "outputs": [
    {
     "data": {
      "text/plain": [
       "2    0.615669\n",
       "0    0.336926\n",
       "1    0.047405\n",
       "Name: result, dtype: float64"
      ]
     },
     "execution_count": 31,
     "metadata": {},
     "output_type": "execute_result"
    }
   ],
   "source": [
    "games.result.value_counts(1)"
   ]
  },
  {
   "cell_type": "markdown",
   "metadata": {},
   "source": [
    "A draw (entry of 1) only occurs about 4% of the time in our dataset. This means that if we just apply a K fold cross validation, some folds may end up not having any draws at all to fit the models on so our model won't know how to react (speaking anthropomorphically here) when it does see a draw. "
   ]
  },
  {
   "cell_type": "markdown",
   "metadata": {},
   "source": [
    "Stratified K fold cross validation aims to fix this issue by ensuring that each fold proportionately contains all classes. In other words, if we have draws 4% of the time in the entire dataset, then approximately 4% of each fold should be draws. Since our dataset has skewed classes, it makes sense to check how well a model runs using this method. "
   ]
  },
  {
   "cell_type": "markdown",
   "metadata": {},
   "source": [
    "### Cooking up binary models"
   ]
  },
  {
   "cell_type": "markdown",
   "metadata": {},
   "source": [
    "#### Response setting, and other params\n",
    "We'll knight these predictors with a big 'X' for a name. "
   ]
  },
  {
   "cell_type": "code",
   "execution_count": 32,
   "metadata": {
    "collapsed": true
   },
   "outputs": [],
   "source": [
    "from sklearn.preprocessing import normalize\n",
    "X = normalize(games[ [ 'abs_diff_rating', 'turns', 'higher_rated_white' ] ])"
   ]
  },
  {
   "cell_type": "code",
   "execution_count": 33,
   "metadata": {
    "collapsed": true
   },
   "outputs": [],
   "source": [
    "games = pd.read_csv('modified_games.csv')"
   ]
  },
  {
   "cell_type": "markdown",
   "metadata": {},
   "source": [
    "We set up a response and give it a wildly descriptive 'y'. "
   ]
  },
  {
   "cell_type": "code",
   "execution_count": 34,
   "metadata": {
    "collapsed": true
   },
   "outputs": [],
   "source": [
    "y = games[ 'higher_rating_won' ]"
   ]
  },
  {
   "cell_type": "markdown",
   "metadata": {},
   "source": [
    "Some of the algorithms below automatically randomize. So, if we're not careful, we could end up always getting different numbers for the model results. By setting a RANDOM STATE, we can pick a result and stick with throughout the analysis. Also, when we cross validate using K fold cross validation we will specify 10 folds through NUMBER FOLDS. "
   ]
  },
  {
   "cell_type": "code",
   "execution_count": 35,
   "metadata": {
    "collapsed": true
   },
   "outputs": [],
   "source": [
    "RANDOM_STATE = 1\n",
    "NUMBER_FOLDS = 10"
   ]
  },
  {
   "cell_type": "markdown",
   "metadata": {},
   "source": [
    "#### Logistic regression"
   ]
  },
  {
   "cell_type": "markdown",
   "metadata": {},
   "source": [
    "We will begin with a Logistic Regression. "
   ]
  },
  {
   "cell_type": "code",
   "execution_count": 36,
   "metadata": {
    "collapsed": true
   },
   "outputs": [],
   "source": [
    "lg_confusion_matrix = cu.run_logistic_regression(NUMBER_FOLDS, X, y, RANDOM_STATE)\n",
    "lg_results = cu.get_cm_results(lg_confusion_matrix)"
   ]
  },
  {
   "cell_type": "markdown",
   "metadata": {},
   "source": [
    "#### Tree based methods"
   ]
  },
  {
   "cell_type": "markdown",
   "metadata": {},
   "source": [
    "Next up, we fit a bag of trees to our data. In the case of fitting a bag of trees and a random forest, we will use 100 estimators. This means that we will be using 100 trees in each case to build the models. "
   ]
  },
  {
   "cell_type": "code",
   "execution_count": 37,
   "metadata": {
    "collapsed": true
   },
   "outputs": [],
   "source": [
    "NUMBER_ESTIMATORS = 100"
   ]
  },
  {
   "cell_type": "code",
   "execution_count": 38,
   "metadata": {
    "collapsed": true
   },
   "outputs": [],
   "source": [
    "bag_confusion_matrix = cu.run_bag_trees(NUMBER_FOLDS, NUMBER_ESTIMATORS, RANDOM_STATE, X, y)\n",
    "bag_results = cu.get_cm_results(bag_confusion_matrix)"
   ]
  },
  {
   "cell_type": "code",
   "execution_count": 39,
   "metadata": {
    "collapsed": true
   },
   "outputs": [],
   "source": [
    "r_forest_confusion_matrix = cu.run_random_forest(NUMBER_FOLDS, NUMBER_ESTIMATORS, RANDOM_STATE, X, y)\n",
    "r_forest_results = cu.get_cm_results(r_forest_confusion_matrix)"
   ]
  },
  {
   "cell_type": "markdown",
   "metadata": {},
   "source": [
    "#### Results readings"
   ]
  },
  {
   "cell_type": "markdown",
   "metadata": {},
   "source": [
    "A whole tribe of metrics based on a confusion matrix exist. We'll acquire these then plot these to determine model performance."
   ]
  },
  {
   "cell_type": "code",
   "execution_count": 40,
   "metadata": {
    "collapsed": true
   },
   "outputs": [],
   "source": [
    "accuracy, precision, recall, fmeasure, specificity, negative_pv = cu.group_important_results(lg_results, bag_results, r_forest_results)"
   ]
  },
  {
   "cell_type": "code",
   "execution_count": 41,
   "metadata": {
    "scrolled": true
   },
   "outputs": [
    {
     "data": {
      "image/png": "[encoded data removed]",
      "text/plain": [
       "<Figure size 1440x360 with 6 Axes>"
      ]
     },
     "metadata": {},
     "output_type": "display_data"
    }
   ],
   "source": [
    "cu.create_specific_results_plot(r_forest_results, lg_results, bag_results, 3, 2) # 3 cols, 2 rows"
   ]
  },
  {
   "cell_type": "markdown",
   "metadata": {},
   "source": [
    "We've got six different metrics to chew on here so put on your seat belt. "
   ]
  },
  {
   "cell_type": "markdown",
   "metadata": {},
   "source": [
    "- First, is accuracy. This is a general metric. It tells us how often the model correctly predicts the value. All models seem to hover at around 63% of accuracy. In other words, the models make a correct prediction 63% of the time. "
   ]
  },
  {
   "cell_type": "markdown",
   "metadata": {},
   "source": [
    "- Second, is precision. It is the proportion of correctly predicted wins to the number of total win predictions. Here, the Logistic Regression pulls ahead at 0.802 and says cheers to the other two models.  "
   ]
  },
  {
   "cell_type": "markdown",
   "metadata": {},
   "source": [
    "- Third, is recall. This tells us how many of the true wins our model predicted accurately. Our models seem to hover between 67% and 69%. "
   ]
  },
  {
   "cell_type": "markdown",
   "metadata": {},
   "source": [
    "- Fourth, is the fabulous fmeasure. This combines precision and recall into one spiffy measurement. In our case, it looks like most models hover between 71% and 73%. "
   ]
  },
  {
   "cell_type": "markdown",
   "metadata": {},
   "source": [
    "- Fifth, is specificity. The specifics on specificity are simple. The measure infroms about losses. In particular, out of the times we predicted a loss how often were we right? And, goodness gracious the Logistic Regression just sags here at about 37% compared to the others at around 47%. "
   ]
  },
  {
   "cell_type": "markdown",
   "metadata": {},
   "source": [
    "- Finally, we got negative pv. This is short for negative predictive value, and this tells us what percentage of true losses our models caught. Most of the models do equally pitifully at around 53%.  "
   ]
  },
  {
   "cell_type": "markdown",
   "metadata": {},
   "source": [
    "##### Conclusion\n",
    "So what can we say? These models perform similarly across most measurements. The models do splendidly when they predict wins (Logistic Regression in particular), but they trip awkwardly when predicting losses (Logistic Regression in particular). "
   ]
  },
  {
   "cell_type": "markdown",
   "metadata": {},
   "source": [
    "We could also compare with the null rate. This measures the accuracy if we just predicted every response to the dominant class. Using different word words, this is the accuracy of a model that simply predicts a win no matter what. "
   ]
  },
  {
   "cell_type": "code",
   "execution_count": 42,
   "metadata": {
    "scrolled": true
   },
   "outputs": [
    {
     "data": {
      "text/plain": [
       "0.3843313373253493"
      ]
     },
     "execution_count": 42,
     "metadata": {},
     "output_type": "execute_result"
    }
   ],
   "source": [
    "null_rate = np.abs( (y - 1 ).sum() ) / len( games )\n",
    "null_rate"
   ]
  },
  {
   "cell_type": "markdown",
   "metadata": {},
   "source": [
    "It is cute, and encouragingly, worse than the accuracy of any of our models above. "
   ]
  },
  {
   "cell_type": "markdown",
   "metadata": {},
   "source": [
    "We also show plots for each model packaged with its confusion matrix measurements."
   ]
  },
  {
   "cell_type": "code",
   "execution_count": 43,
   "metadata": {},
   "outputs": [
    {
     "data": {
      "image/png": "[encoded data removed]",
      "text/plain": [
       "<Figure size 1440x360 with 3 Axes>"
      ]
     },
     "metadata": {},
     "output_type": "display_data"
    }
   ],
   "source": [
    "cu.create_cumulative_results_plot(r_forest_results, lg_results, bag_results)"
   ]
  },
  {
   "cell_type": "markdown",
   "metadata": {},
   "source": [
    "The take away for this section is that these models perform similarly. Logistic Regression perferms slightly better in precision, but sacrifices specificity. "
   ]
  },
  {
   "cell_type": "markdown",
   "metadata": {},
   "source": [
    "### Beyond binary \n",
    "\n",
    "In this section, we go further. We refit our tree based models with our response as 'result'. Recall this encoded whether games were a loss, draw, or win for the higher rated player. We eschew trying a three class classification with a logistic regression because it isn't a popular choice for three class problems. "
   ]
  },
  {
   "cell_type": "code",
   "execution_count": 44,
   "metadata": {
    "collapsed": true
   },
   "outputs": [],
   "source": [
    "y = games['result']"
   ]
  },
  {
   "cell_type": "markdown",
   "metadata": {},
   "source": [
    "#### Bag those Trees"
   ]
  },
  {
   "cell_type": "markdown",
   "metadata": {
    "collapsed": true
   },
   "source": [
    "We kick it off again with a bag of trees. Here, we also run stratified 10 fold cross validation.  "
   ]
  },
  {
   "cell_type": "code",
   "execution_count": 45,
   "metadata": {
    "collapsed": true
   },
   "outputs": [],
   "source": [
    "bag_multi_confusion_matrix = cu.run_bag_trees(NUMBER_FOLDS, NUMBER_ESTIMATORS, RANDOM_STATE, X, y)"
   ]
  },
  {
   "cell_type": "markdown",
   "metadata": {},
   "source": [
    "We also fit the random forest in exactly the same way. "
   ]
  },
  {
   "cell_type": "code",
   "execution_count": 46,
   "metadata": {
    "collapsed": true
   },
   "outputs": [],
   "source": [
    "r_forest_multi_confusion_matrix = cu.run_random_forest(NUMBER_FOLDS, NUMBER_ESTIMATORS, RANDOM_STATE, X, y)"
   ]
  },
  {
   "cell_type": "markdown",
   "metadata": {},
   "source": [
    "We can start by comparing the accuracy of our two models. "
   ]
  },
  {
   "cell_type": "code",
   "execution_count": 47,
   "metadata": {
    "collapsed": true
   },
   "outputs": [],
   "source": [
    "r_forest_accuracy = cu.get_accuracy_three_class( r_forest_multi_confusion_matrix )\n",
    "bag_accuracy = cu.get_accuracy_three_class( bag_multi_confusion_matrix )\n",
    "accuracies = {'Random Forest': r_forest_accuracy, 'Bag of Trees': bag_accuracy}"
   ]
  },
  {
   "cell_type": "code",
   "execution_count": 48,
   "metadata": {},
   "outputs": [
    {
     "data": {
      "text/plain": [
       "(0, 1)"
      ]
     },
     "execution_count": 48,
     "metadata": {},
     "output_type": "execute_result"
    },
    {
     "data": {
      "image/png": "[encoded data removed]",
      "text/plain": [
       "<Figure size 360x360 with 1 Axes>"
      ]
     },
     "metadata": {},
     "output_type": "display_data"
    }
   ],
   "source": [
    "fig, axs = plt.subplots(figsize=[5, 5], gridspec_kw={'wspace': 0.2})\n",
    "cu.create_bar_results(accuracies, 'Accuracy', axs)\n",
    "plt.ylim([0, 1])"
   ]
  },
  {
   "cell_type": "markdown",
   "metadata": {},
   "source": [
    "Our hearts say 'bummer'. They classify correctly about 60% of the time. We, however, don't immediately lose hope since maybe more specific metrics will uplift us. "
   ]
  },
  {
   "cell_type": "markdown",
   "metadata": {},
   "source": [
    "In a three class confusion matrix, we usually consider precision and recall for each class. So, we'll join the herd and do so as well. "
   ]
  },
  {
   "cell_type": "markdown",
   "metadata": {},
   "source": [
    "##### Loss"
   ]
  },
  {
   "cell_type": "code",
   "execution_count": 49,
   "metadata": {},
   "outputs": [
    {
     "data": {
      "image/png": "[encoded data removed]",
      "text/plain": [
       "<Figure size 1440x360 with 2 Axes>"
      ]
     },
     "metadata": {},
     "output_type": "display_data"
    }
   ],
   "source": [
    "cu.make_plot_multi_label( bag_multi_confusion_matrix, r_forest_multi_confusion_matrix, 0 )    # 0 for loss"
   ]
  },
  {
   "cell_type": "markdown",
   "metadata": {},
   "source": [
    "Uncannily, the precision and recall is quite similar for the bag and forest. This considers the losses predicted by the model. So, when we predict a lost, we are right around 43% of the time (precision). But out of all the losses we should've predicted, we only got 48% (recall). "
   ]
  },
  {
   "cell_type": "markdown",
   "metadata": {},
   "source": [
    "##### Draw"
   ]
  },
  {
   "cell_type": "code",
   "execution_count": 50,
   "metadata": {},
   "outputs": [
    {
     "data": {
      "image/png": "[encoded data removed]",
      "text/plain": [
       "<Figure size 1440x360 with 2 Axes>"
      ]
     },
     "metadata": {},
     "output_type": "display_data"
    }
   ],
   "source": [
    "cu.make_plot_multi_label( bag_multi_confusion_matrix, r_forest_multi_confusion_matrix, 1 )    # 1 for draw"
   ]
  },
  {
   "cell_type": "markdown",
   "metadata": {},
   "source": [
    "Egad. Our models sink to new lows when trying to predict a draw between the two players. When we predict a draw, we are right about 13% of the time (precision). Also, out of all the draws we should've predicted, we only got 20% (recall). "
   ]
  },
  {
   "cell_type": "markdown",
   "metadata": {},
   "source": [
    "##### Winning"
   ]
  },
  {
   "cell_type": "code",
   "execution_count": 51,
   "metadata": {},
   "outputs": [
    {
     "data": {
      "image/png": "[encoded data removed]",
      "text/plain": [
       "<Figure size 1440x360 with 2 Axes>"
      ]
     },
     "metadata": {},
     "output_type": "display_data"
    }
   ],
   "source": [
    "cu.make_plot_multi_label( bag_multi_confusion_matrix, r_forest_multi_confusion_matrix, 2 )    # 2 for win"
   ]
  },
  {
   "cell_type": "markdown",
   "metadata": {},
   "source": [
    "Applauds wildly! Our models rise to new heights when predicting wins. When we predict a win, we are right around 75% of the time (precision). But out of all the wins we should've predicted, we only properly predicted 68% (recall). "
   ]
  },
  {
   "cell_type": "markdown",
   "metadata": {},
   "source": [
    "##### Conclusion"
   ]
  },
  {
   "cell_type": "markdown",
   "metadata": {},
   "source": [
    "So, we can say our model wins at predicting wins, loses at predicting losses, and jumps off a cliff when trying to predict draws. "
   ]
  },
  {
   "cell_type": "markdown",
   "metadata": {},
   "source": [
    "## The models in action"
   ]
  },
  {
   "cell_type": "markdown",
   "metadata": {},
   "source": [
    "Now that we've compared the models to each other, we can fit the models and see how they make their predictions.  "
   ]
  },
  {
   "cell_type": "code",
   "execution_count": 52,
   "metadata": {
    "collapsed": true
   },
   "outputs": [],
   "source": [
    "y = games[ 'higher_rating_won' ]    # Back to binary"
   ]
  },
  {
   "cell_type": "code",
   "execution_count": 53,
   "metadata": {
    "collapsed": true
   },
   "outputs": [],
   "source": [
    "from sklearn.model_selection import train_test_split\n",
    "X_train, X_test, y_train, y_test = train_test_split(X, y, test_size = 0.2, random_state = RANDOM_STATE)    # Specify random state"
   ]
  },
  {
   "cell_type": "markdown",
   "metadata": {},
   "source": [
    "### Logistic Regression"
   ]
  },
  {
   "cell_type": "code",
   "execution_count": 54,
   "metadata": {},
   "outputs": [
    {
     "data": {
      "text/plain": [
       "LogisticRegression(C=1.0, class_weight=None, dual=False, fit_intercept=True,\n",
       "                   intercept_scaling=1, l1_ratio=None, max_iter=100,\n",
       "                   multi_class='auto', n_jobs=None, penalty='l2',\n",
       "                   random_state=None, solver='lbfgs', tol=0.0001, verbose=0,\n",
       "                   warm_start=False)"
      ]
     },
     "execution_count": 54,
     "metadata": {},
     "output_type": "execute_result"
    }
   ],
   "source": [
    "from sklearn.linear_model import LogisticRegression\n",
    "lg = LogisticRegression()\n",
    "lg.fit( X_train, y_train )"
   ]
  },
  {
   "cell_type": "markdown",
   "metadata": {},
   "source": [
    "We can now see how the logistic regressoin makes a prediction. We'll start by seeing how two players match up to each other at the start of the game. "
   ]
  },
  {
   "cell_type": "code",
   "execution_count": 55,
   "metadata": {
    "collapsed": true
   },
   "outputs": [],
   "source": [
    "abs_diff_rating = 100\n",
    "turns = 0\n",
    "white_higher_rated = 1"
   ]
  },
  {
   "cell_type": "code",
   "execution_count": 56,
   "metadata": {
    "scrolled": true
   },
   "outputs": [
    {
     "data": {
      "text/plain": [
       "0.0"
      ]
     },
     "execution_count": 56,
     "metadata": {},
     "output_type": "execute_result"
    }
   ],
   "source": [
    "cu.probability_with_lg( lg,  abs_diff_rating, turns, white_higher_rated)"
   ]
  },
  {
   "cell_type": "markdown",
   "metadata": {},
   "source": [
    "So, if the player's have a difference of a 100 points between them, then the higher rated player has a 66% of winning. "
   ]
  },
  {
   "cell_type": "code",
   "execution_count": 57,
   "metadata": {
    "collapsed": true
   },
   "outputs": [],
   "source": [
    "turns = 50"
   ]
  },
  {
   "cell_type": "code",
   "execution_count": 58,
   "metadata": {},
   "outputs": [
    {
     "data": {
      "text/plain": [
       "0.0"
      ]
     },
     "execution_count": 58,
     "metadata": {},
     "output_type": "execute_result"
    }
   ],
   "source": [
    "cu.probability_with_lg( lg,  abs_diff_rating, turns, white_higher_rated)"
   ]
  },
  {
   "cell_type": "markdown",
   "metadata": {},
   "source": [
    "Interestingly enough, if more turns have happened, then the probability of the higher rated player falls to 61%. "
   ]
  },
  {
   "cell_type": "code",
   "execution_count": 59,
   "metadata": {
    "collapsed": true
   },
   "outputs": [],
   "source": [
    "turns = 150"
   ]
  },
  {
   "cell_type": "code",
   "execution_count": 60,
   "metadata": {},
   "outputs": [
    {
     "data": {
      "text/plain": [
       "0.0"
      ]
     },
     "execution_count": 60,
     "metadata": {},
     "output_type": "execute_result"
    }
   ],
   "source": [
    "cu.probability_with_lg( lg,  abs_diff_rating, turns, white_higher_rated)"
   ]
  },
  {
   "cell_type": "markdown",
   "metadata": {},
   "source": [
    "Whoa! If our players have been duking it out for 150 turns, our model suggests only a 50% chance of winning for the higher rated player. Intuitively, this makes sense since a longer game indicates more even matching. "
   ]
  },
  {
   "cell_type": "markdown",
   "metadata": {},
   "source": [
    "We could also make the difference in rating be higher. "
   ]
  },
  {
   "cell_type": "code",
   "execution_count": 61,
   "metadata": {
    "collapsed": true
   },
   "outputs": [],
   "source": [
    "abs_diff_rating = 500\n",
    "turns = 0"
   ]
  },
  {
   "cell_type": "code",
   "execution_count": 62,
   "metadata": {},
   "outputs": [
    {
     "data": {
      "text/plain": [
       "0.0"
      ]
     },
     "execution_count": 62,
     "metadata": {},
     "output_type": "execute_result"
    }
   ],
   "source": [
    "cu.probability_with_lg( lg,  abs_diff_rating, turns, white_higher_rated)"
   ]
  },
  {
   "cell_type": "markdown",
   "metadata": {},
   "source": [
    "Radical! "
   ]
  },
  {
   "cell_type": "markdown",
   "metadata": {},
   "source": [
    "We could also see how being white affects the higher rated player. "
   ]
  },
  {
   "cell_type": "code",
   "execution_count": 63,
   "metadata": {
    "collapsed": true
   },
   "outputs": [],
   "source": [
    "white_higher_rated = 0"
   ]
  },
  {
   "cell_type": "code",
   "execution_count": 64,
   "metadata": {},
   "outputs": [
    {
     "data": {
      "text/plain": [
       "0.0"
      ]
     },
     "execution_count": 64,
     "metadata": {},
     "output_type": "execute_result"
    }
   ],
   "source": [
    "cu.probability_with_lg( lg,  abs_diff_rating, turns, white_higher_rated)"
   ]
  },
  {
   "cell_type": "markdown",
   "metadata": {},
   "source": [
    "It looks like not being white lowers the higher rated player's chance of winning by 2%.  "
   ]
  },
  {
   "cell_type": "code",
   "execution_count": 65,
   "metadata": {
    "collapsed": true
   },
   "outputs": [],
   "source": [
    "abs_diff_rating = 100\n",
    "white_higher_rated = 1"
   ]
  },
  {
   "cell_type": "code",
   "execution_count": 66,
   "metadata": {},
   "outputs": [
    {
     "data": {
      "text/plain": [
       "0.0"
      ]
     },
     "execution_count": 66,
     "metadata": {},
     "output_type": "execute_result"
    }
   ],
   "source": [
    "cu.probability_with_lg( lg,  abs_diff_rating, turns, white_higher_rated)"
   ]
  },
  {
   "cell_type": "code",
   "execution_count": 67,
   "metadata": {
    "collapsed": true
   },
   "outputs": [],
   "source": [
    "white_higher_rated = 0"
   ]
  },
  {
   "cell_type": "code",
   "execution_count": 68,
   "metadata": {},
   "outputs": [
    {
     "data": {
      "text/plain": [
       "0.0"
      ]
     },
     "execution_count": 68,
     "metadata": {},
     "output_type": "execute_result"
    }
   ],
   "source": [
    "cu.probability_with_lg( lg,  abs_diff_rating, turns, white_higher_rated)"
   ]
  },
  {
   "cell_type": "markdown",
   "metadata": {},
   "source": [
    "However, changing who is white at a lower difference in rating shows a 4% decrease in the chance of winning. "
   ]
  },
  {
   "cell_type": "markdown",
   "metadata": {},
   "source": [
    "### Tree based methods"
   ]
  },
  {
   "cell_type": "markdown",
   "metadata": {},
   "source": [
    "Since a bag of trees and a random forest aggregate trees, visualizing these models doesn't result in anything particularly gratifying. Instead, we can try to visualize a single decision tree taken from these models. "
   ]
  },
  {
   "cell_type": "markdown",
   "metadata": {},
   "source": [
    "#### Tree from a bag "
   ]
  },
  {
   "cell_type": "code",
   "execution_count": 157,
   "metadata": {},
   "outputs": [
    {
     "data": {
      "text/plain": [
       "BaggingClassifier(base_estimator=DecisionTreeClassifier(ccp_alpha=0.0,\n",
       "                                                        class_weight=None,\n",
       "                                                        criterion='gini',\n",
       "                                                        max_depth=None,\n",
       "                                                        max_features=None,\n",
       "                                                        max_leaf_nodes=None,\n",
       "                                                        min_impurity_decrease=0.0,\n",
       "                                                        min_impurity_split=None,\n",
       "                                                        min_samples_leaf=1,\n",
       "                                                        min_samples_split=2,\n",
       "                                                        min_weight_fraction_leaf=0.0,\n",
       "                                                        presort='deprecated',\n",
       "                                                        random_state=None,\n",
       "                                                        splitter='best'),\n",
       "                  bootstrap=True, bootstrap_features=False, max_features=1.0,\n",
       "                  max_samples=1.0, n_estimators=100, n_jobs=None,\n",
       "                  oob_score=False, random_state=1, verbose=0, warm_start=False)"
      ]
     },
     "execution_count": 157,
     "metadata": {},
     "output_type": "execute_result"
    }
   ],
   "source": [
    "from sklearn.ensemble import BaggingClassifier\n",
    "from sklearn.tree import DecisionTreeClassifier\n",
    "from sklearn.tree import plot_tree\n",
    "tree = DecisionTreeClassifier()\n",
    "bag = BaggingClassifier( base_estimator = tree, n_estimators = NUMBER_ESTIMATORS, random_state = RANDOM_STATE )\n",
    "bag.fit( X_train, y_train )"
   ]
  },
  {
   "cell_type": "code",
   "execution_count": 160,
   "metadata": {
    "collapsed": true
   },
   "outputs": [],
   "source": [
    "bag_sample_tree = bag.estimators_[0]"
   ]
  },
  {
   "cell_type": "code",
   "execution_count": null,
   "metadata": {},
   "outputs": [
    {
     "data": {
      "text/plain": [
       "[Text(180.09652074437102, 215.7673846153846, 'X[0] <= 0.888\\ngini = 0.47\\nsamples = 10176\\nvalue = [6054, 9978]'),\n",
       " Text(80.81741711439349, 212.42215384615383, 'X[1] <= 1.0\\ngini = 0.5\\nsamples = 4907\\nvalue = [3768, 3942]'),\n",
       " Text(80.67395601245295, 209.07692307692307, 'X[1] <= 0.823\\ngini = 0.499\\nsamples = 4810\\nvalue = [3617, 3942]'),\n",
       " Text(22.04999097387672, 205.7316923076923, 'X[1] <= 0.477\\ngini = 0.49\\nsamples = 2438\\nvalue = [1656, 2203]'),\n",
       " Text(3.1830431993060344, 202.38646153846153, 'X[0] <= 0.883\\ngini = 0.496\\nsamples = 118\\nvalue = [98, 82]'),\n",
       " Text(1.5063415703758136, 199.04123076923076, 'X[2] <= 0.008\\ngini = 0.437\\nsamples = 42\\nvalue = [44, 21]'),\n",
       " Text(1.1476888155244294, 195.696, 'X[1] <= 0.476\\ngini = 0.375\\nsamples = 33\\nvalue = [39, 13]'),\n",
       " Text(1.0042277135838757, 192.35076923076923, 'X[0] <= 0.88\\ngini = 0.411\\nsamples = 28\\nvalue = [32, 13]'),\n",
       " Text(0.7173055097027683, 189.00553846153846, 'X[0] <= 0.88\\ngini = 0.408\\nsamples = 5\\nvalue = [2, 5]'),\n",
       " Text(0.5738444077622147, 185.6603076923077, 'X[2] <= 0.002\\ngini = 0.444\\nsamples = 2\\nvalue = [2, 1]'),\n",
       " Text(0.430383305821661, 182.31507692307693, 'gini = 0.0\\nsamples = 1\\nvalue = [0, 1]'),\n",
       " Text(0.7173055097027683, 182.31507692307693, 'gini = 0.0\\nsamples = 1\\nvalue = [2, 0]'),\n",
       " Text(0.860766611643322, 185.6603076923077, 'gini = 0.0\\nsamples = 3\\nvalue = [0, 4]'),\n",
       " Text(1.291149917464983, 189.00553846153846, 'X[2] <= 0.007\\ngini = 0.332\\nsamples = 23\\nvalue = [30, 8]'),\n",
       " Text(1.1476888155244294, 185.6603076923077, 'X[2] <= 0.006\\ngini = 0.278\\nsamples = 22\\nvalue = [30, 6]'),\n",
       " Text(1.0042277135838757, 182.31507692307693, 'X[2] <= 0.005\\ngini = 0.32\\nsamples = 19\\nvalue = [24, 6]'),\n",
       " Text(0.860766611643322, 178.96984615384616, 'X[0] <= 0.882\\ngini = 0.245\\nsamples = 17\\nvalue = [24, 4]'),\n",
       " Text(0.7173055097027683, 175.62461538461537, 'X[0] <= 0.882\\ngini = 0.332\\nsamples = 11\\nvalue = [15, 4]'),\n",
       " Text(0.5738444077622147, 172.27938461538463, 'X[0] <= 0.881\\ngini = 0.208\\nsamples = 9\\nvalue = [15, 2]'),\n",
       " Text(0.430383305821661, 168.93415384615383, 'X[0] <= 0.881\\ngini = 0.375\\nsamples = 5\\nvalue = [6, 2]'),\n",
       " Text(0.28692220388110734, 165.58892307692307, 'X[1] <= 0.473\\ngini = 0.245\\nsamples = 4\\nvalue = [6, 1]'),\n",
       " Text(0.14346110194055367, 162.2436923076923, 'gini = 0.0\\nsamples = 1\\nvalue = [3, 0]'),\n",
       " Text(0.430383305821661, 162.2436923076923, 'X[1] <= 0.474\\ngini = 0.375\\nsamples = 3\\nvalue = [3, 1]'),\n",
       " Text(0.28692220388110734, 158.89846153846153, 'gini = 0.0\\nsamples = 1\\nvalue = [0, 1]'),\n",
       " Text(0.5738444077622147, 158.89846153846153, 'gini = 0.0\\nsamples = 2\\nvalue = [3, 0]'),\n",
       " Text(0.5738444077622147, 165.58892307692307, 'gini = 0.0\\nsamples = 1\\nvalue = [0, 1]'),\n",
       " Text(0.7173055097027683, 168.93415384615383, 'gini = 0.0\\nsamples = 4\\nvalue = [9, 0]'),\n",
       " Text(0.860766611643322, 172.27938461538463, 'gini = 0.0\\nsamples = 2\\nvalue = [0, 2]'),\n",
       " Text(1.0042277135838757, 175.62461538461537, 'gini = 0.0\\nsamples = 6\\nvalue = [9, 0]'),\n",
       " Text(1.1476888155244294, 178.96984615384616, 'gini = 0.0\\nsamples = 2\\nvalue = [0, 2]'),\n",
       " Text(1.291149917464983, 182.31507692307693, 'gini = 0.0\\nsamples = 3\\nvalue = [6, 0]'),\n",
       " Text(1.4346110194055366, 185.6603076923077, 'gini = 0.0\\nsamples = 1\\nvalue = [0, 2]'),\n",
       " Text(1.291149917464983, 192.35076923076923, 'gini = 0.0\\nsamples = 5\\nvalue = [7, 0]'),\n",
       " Text(1.8649943252271977, 195.696, 'X[0] <= 0.88\\ngini = 0.473\\nsamples = 9\\nvalue = [5, 8]'),\n",
       " Text(1.721533223286644, 192.35076923076923, 'gini = 0.0\\nsamples = 1\\nvalue = [2, 0]'),\n",
       " Text(2.0084554271677515, 192.35076923076923, 'X[0] <= 0.882\\ngini = 0.397\\nsamples = 8\\nvalue = [3, 8]'),\n",
       " Text(1.8649943252271977, 189.00553846153846, 'X[0] <= 0.88\\ngini = 0.198\\nsamples = 6\\nvalue = [1, 8]'),\n",
       " Text(1.721533223286644, 185.6603076923077, 'X[1] <= 0.475\\ngini = 0.5\\nsamples = 2\\nvalue = [1, 1]'),\n",
       " Text(1.5780721213460904, 182.31507692307693, 'gini = 0.0\\nsamples = 1\\nvalue = [1, 0]'),\n",
       " Text(1.8649943252271977, 182.31507692307693, 'gini = 0.0\\nsamples = 1\\nvalue = [0, 1]'),\n",
       " Text(2.0084554271677515, 185.6603076923077, 'gini = 0.0\\nsamples = 4\\nvalue = [0, 7]'),\n",
       " Text(2.151916529108305, 189.00553846153846, 'gini = 0.0\\nsamples = 2\\nvalue = [2, 0]'),\n",
       " Text(4.859744828236256, 199.04123076923076, 'X[1] <= 0.467\\ngini = 0.498\\nsamples = 76\\nvalue = [54, 61]'),\n",
       " Text(3.550662273028703, 195.696, 'X[1] <= 0.462\\ngini = 0.489\\nsamples = 55\\nvalue = [50, 37]'),\n",
       " Text(2.582299834929966, 192.35076923076923, 'X[0] <= 0.887\\ngini = 0.363\\nsamples = 15\\nvalue = [16, 5]'),\n",
       " Text(2.4388387329894123, 189.00553846153846, 'gini = 0.0\\nsamples = 4\\nvalue = [6, 0]'),\n",
       " Text(2.7257609368705196, 189.00553846153846, 'X[0] <= 0.887\\ngini = 0.444\\nsamples = 11\\nvalue = [10, 5]'),\n",
       " Text(2.582299834929966, 185.6603076923077, 'gini = 0.0\\nsamples = 1\\nvalue = [0, 1]'),\n",
       " Text(2.869222038811073, 185.6603076923077, 'X[1] <= 0.461\\ngini = 0.408\\nsamples = 10\\nvalue = [10, 4]'),\n",
       " Text(2.7257609368705196, 182.31507692307693, 'X[1] <= 0.46\\ngini = 0.444\\nsamples = 9\\nvalue = [8, 4]'),\n",
       " Text(2.4388387329894123, 178.96984615384616, 'X[1] <= 0.46\\ngini = 0.32\\nsamples = 4\\nvalue = [4, 1]'),\n",
       " Text(2.2953776310488587, 175.62461538461537, 'gini = 0.5\\nsamples = 2\\nvalue = [1, 1]'),\n",
       " Text(2.582299834929966, 175.62461538461537, 'gini = 0.0\\nsamples = 2\\nvalue = [3, 0]'),\n",
       " Text(3.0126831407516272, 178.96984615384616, 'X[1] <= 0.461\\ngini = 0.49\\nsamples = 5\\nvalue = [4, 3]'),\n",
       " Text(2.869222038811073, 175.62461538461537, 'gini = 0.0\\nsamples = 1\\nvalue = [0, 1]'),\n",
       " Text(3.156144242692181, 175.62461538461537, 'X[0] <= 0.888\\ngini = 0.444\\nsamples = 4\\nvalue = [4, 2]'),\n",
       " Text(3.0126831407516272, 172.27938461538463, 'gini = 0.375\\nsamples = 2\\nvalue = [3, 1]'),\n",
       " Text(3.2996053446327345, 172.27938461538463, 'gini = 0.5\\nsamples = 2\\nvalue = [1, 1]'),\n",
       " Text(3.0126831407516272, 182.31507692307693, 'gini = 0.0\\nsamples = 1\\nvalue = [2, 0]'),\n",
       " Text(4.51902471112744, 192.35076923076923, 'X[1] <= 0.463\\ngini = 0.5\\nsamples = 40\\nvalue = [34, 32]'),\n",
       " Text(4.375563609186887, 189.00553846153846, 'gini = 0.0\\nsamples = 4\\nvalue = [0, 7]'),\n",
       " Text(4.6624858130679945, 189.00553846153846, 'X[2] <= 0.007\\ngini = 0.488\\nsamples = 36\\nvalue = [34, 25]'),\n",
       " Text(4.30383305821661, 185.6603076923077, 'X[1] <= 0.464\\ngini = 0.358\\nsamples = 18\\nvalue = [23, 7]'),\n",
       " Text(4.016910854335503, 182.31507692307693, 'X[1] <= 0.463\\ngini = 0.494\\nsamples = 5\\nvalue = [4, 5]'),\n",
       " Text(3.873449752394949, 178.96984615384616, 'X[1] <= 0.463\\ngini = 0.444\\nsamples = 3\\nvalue = [4, 2]'),\n",
       " Text(3.7299886504543953, 175.62461538461537, 'X[1] <= 0.463\\ngini = 0.444\\nsamples = 2\\nvalue = [1, 2]'),\n",
       " Text(3.5865275485138417, 172.27938461538463, 'gini = 0.0\\nsamples = 1\\nvalue = [1, 0]'),\n",
       " Text(3.873449752394949, 172.27938461538463, 'gini = 0.0\\nsamples = 1\\nvalue = [0, 2]'),\n",
       " Text(4.016910854335503, 175.62461538461537, 'gini = 0.0\\nsamples = 1\\nvalue = [3, 0]'),\n",
       " Text(4.160371956276056, 178.96984615384616, 'gini = 0.0\\nsamples = 2\\nvalue = [0, 3]'),\n",
       " Text(4.5907552620977174, 182.31507692307693, 'X[0] <= 0.884\\ngini = 0.172\\nsamples = 13\\nvalue = [19, 2]'),\n",
       " Text(4.447294160157163, 178.96984615384616, 'gini = 0.444\\nsamples = 3\\nvalue = [4, 2]'),\n",
       " Text(4.7342163640382715, 178.96984615384616, 'gini = 0.0\\nsamples = 10\\nvalue = [15, 0]'),\n",
       " Text(5.021138567919379, 185.6603076923077, 'X[2] <= 0.01\\ngini = 0.471\\nsamples = 18\\nvalue = [11, 18]'),\n",
       " Text(4.877677465978825, 182.31507692307693, 'gini = 0.0\\nsamples = 5\\nvalue = [0, 8]'),\n",
       " Text(5.164599669859932, 182.31507692307693, 'X[2] <= 0.012\\ngini = 0.499\\nsamples = 13\\nvalue = [11, 10]'),\n",
       " Text(5.021138567919379, 178.96984615384616, 'gini = 0.0\\nsamples = 3\\nvalue = [4, 0]'),\n",
       " Text(5.308060771800486, 178.96984615384616, 'X[1] <= 0.465\\ngini = 0.484\\nsamples = 10\\nvalue = [7, 10]'),\n",
       " Text(5.164599669859932, 175.62461538461537, 'gini = 0.0\\nsamples = 1\\nvalue = [2, 0]'),\n",
       " Text(5.451521873741039, 175.62461538461537, 'X[0] <= 0.885\\ngini = 0.444\\nsamples = 9\\nvalue = [5, 10]'),\n",
       " Text(5.308060771800486, 172.27938461538463, 'X[1] <= 0.467\\ngini = 0.494\\nsamples = 5\\nvalue = [5, 4]'),\n",
       " Text(5.164599669859932, 168.93415384615383, 'gini = 0.5\\nsamples = 3\\nvalue = [3, 3]'),\n",
       " Text(5.451521873741039, 168.93415384615383, 'gini = 0.444\\nsamples = 2\\nvalue = [2, 1]'),\n",
       " Text(5.594982975681593, 172.27938461538463, 'gini = 0.0\\nsamples = 4\\nvalue = [0, 6]'),\n",
       " Text(6.168827383443808, 195.696, 'X[2] <= 0.002\\ngini = 0.245\\nsamples = 21\\nvalue = [4, 24]'),\n",
       " Text(6.0253662815032545, 192.35076923076923, 'X[0] <= 0.884\\ngini = 0.391\\nsamples = 12\\nvalue = [4, 11]'),\n",
       " Text(5.738444077622146, 189.00553846153846, 'X[0] <= 0.883\\ngini = 0.278\\nsamples = 9\\nvalue = [2, 10]'),\n",
       " Text(5.594982975681593, 185.6603076923077, 'gini = 0.0\\nsamples = 1\\nvalue = [1, 0]'),\n",
       " Text(5.8819051795627, 185.6603076923077, 'X[1] <= 0.469\\ngini = 0.165\\nsamples = 8\\nvalue = [1, 10]'),\n",
       " Text(5.738444077622146, 182.31507692307693, 'X[0] <= 0.883\\ngini = 0.32\\nsamples = 3\\nvalue = [1, 4]'),\n",
       " Text(5.594982975681593, 178.96984615384616, 'gini = 0.0\\nsamples = 1\\nvalue = [1, 0]'),\n",
       " Text(5.8819051795627, 178.96984615384616, 'gini = 0.0\\nsamples = 2\\nvalue = [0, 4]'),\n",
       " Text(6.0253662815032545, 182.31507692307693, 'gini = 0.0\\nsamples = 5\\nvalue = [0, 6]'),\n",
       " Text(6.312288485384362, 189.00553846153846, 'X[0] <= 0.884\\ngini = 0.444\\nsamples = 3\\nvalue = [2, 1]'),\n",
       " Text(6.168827383443808, 185.6603076923077, 'gini = 0.0\\nsamples = 2\\nvalue = [2, 0]'),\n",
       " Text(6.455749587324915, 185.6603076923077, 'gini = 0.0\\nsamples = 1\\nvalue = [0, 1]'),\n",
       " Text(6.312288485384362, 192.35076923076923, 'gini = 0.0\\nsamples = 9\\nvalue = [0, 13]'),\n",
       " Text(40.91693874844741, 202.38646153846153, 'X[1] <= 0.484\\ngini = 0.488\\nsamples = 2320\\nvalue = [1558, 2121]'),\n",
       " Text(7.818630055760175, 199.04123076923076, 'X[2] <= 0.007\\ngini = 0.292\\nsamples = 53\\nvalue = [14, 65]'),\n",
       " Text(7.459977300908791, 195.696, 'X[2] <= 0.005\\ngini = 0.215\\nsamples = 38\\nvalue = [7, 50]'),\n",
       " Text(7.3165161989682375, 192.35076923076923, 'X[2] <= 0.005\\ngini = 0.268\\nsamples = 29\\nvalue = [7, 37]'),\n",
       " Text(7.173055097027683, 189.00553846153846, 'X[0] <= 0.878\\ngini = 0.24\\nsamples = 28\\nvalue = [6, 37]'),\n",
       " Text(6.742671791206022, 185.6603076923077, 'X[1] <= 0.481\\ngini = 0.165\\nsamples = 21\\nvalue = [3, 30]'),\n",
       " Text(6.599210689265469, 182.31507692307693, 'gini = 0.0\\nsamples = 11\\nvalue = [0, 20]'),\n",
       " Text(6.886132893146576, 182.31507692307693, 'X[1] <= 0.481\\ngini = 0.355\\nsamples = 10\\nvalue = [3, 10]'),\n",
       " Text(6.742671791206022, 178.96984615384616, 'gini = 0.0\\nsamples = 1\\nvalue = [1, 0]'),\n",
       " Text(7.02959399508713, 178.96984615384616, 'X[1] <= 0.482\\ngini = 0.278\\nsamples = 9\\nvalue = [2, 10]'),\n",
       " Text(6.886132893146576, 175.62461538461537, 'X[0] <= 0.876\\ngini = 0.408\\nsamples = 5\\nvalue = [2, 5]'),\n",
       " Text(6.742671791206022, 172.27938461538463, 'gini = 0.0\\nsamples = 1\\nvalue = [1, 0]'),\n",
       " Text(7.02959399508713, 172.27938461538463, 'X[0] <= 0.876\\ngini = 0.278\\nsamples = 4\\nvalue = [1, 5]'),\n",
       " Text(6.886132893146576, 168.93415384615383, 'gini = 0.0\\nsamples = 2\\nvalue = [0, 3]'),\n",
       " Text(7.173055097027683, 168.93415384615383, 'X[0] <= 0.876\\ngini = 0.444\\nsamples = 2\\nvalue = [1, 2]'),\n",
       " Text(7.02959399508713, 165.58892307692307, 'gini = 0.0\\nsamples = 1\\nvalue = [1, 0]'),\n",
       " Text(7.3165161989682375, 165.58892307692307, 'gini = 0.0\\nsamples = 1\\nvalue = [0, 2]'),\n",
       " Text(7.173055097027683, 175.62461538461537, 'gini = 0.0\\nsamples = 4\\nvalue = [0, 5]'),\n",
       " Text(7.603438402849345, 185.6603076923077, 'X[1] <= 0.478\\ngini = 0.42\\nsamples = 7\\nvalue = [3, 7]'),\n",
       " Text(7.459977300908791, 182.31507692307693, 'X[2] <= 0.004\\ngini = 0.219\\nsamples = 5\\nvalue = [1, 7]'),\n",
       " Text(7.3165161989682375, 178.96984615384616, 'gini = 0.0\\nsamples = 4\\nvalue = [0, 7]'),\n",
       " Text(7.603438402849345, 178.96984615384616, 'gini = 0.0\\nsamples = 1\\nvalue = [1, 0]'),\n",
       " Text(7.746899504789898, 182.31507692307693, 'gini = 0.0\\nsamples = 2\\nvalue = [2, 0]'),\n",
       " Text(7.459977300908791, 189.00553846153846, 'gini = 0.0\\nsamples = 1\\nvalue = [1, 0]'),\n",
       " Text(7.603438402849345, 192.35076923076923, 'gini = 0.0\\nsamples = 9\\nvalue = [0, 13]'),\n",
       " Text(8.17728281061156, 195.696, 'X[2] <= 0.008\\ngini = 0.434\\nsamples = 15\\nvalue = [7, 15]'),\n",
       " Text(8.033821708671006, 192.35076923076923, 'gini = 0.0\\nsamples = 2\\nvalue = [4, 0]'),\n",
       " Text(8.320743912552112, 192.35076923076923, 'X[1] <= 0.481\\ngini = 0.278\\nsamples = 13\\nvalue = [3, 15]'),\n",
       " Text(8.033821708671006, 189.00553846153846, 'X[0] <= 0.878\\ngini = 0.142\\nsamples = 9\\nvalue = [1, 12]'),\n",
       " Text(7.890360606730452, 185.6603076923077, 'gini = 0.0\\nsamples = 6\\nvalue = [0, 9]'),\n",
       " Text(8.17728281061156, 185.6603076923077, 'X[2] <= 0.013\\ngini = 0.375\\nsamples = 3\\nvalue = [1, 3]'),\n",
       " Text(8.033821708671006, 182.31507692307693, 'gini = 0.0\\nsamples = 1\\nvalue = [1, 0]'),\n",
       " Text(8.320743912552112, 182.31507692307693, 'gini = 0.0\\nsamples = 2\\nvalue = [0, 3]'),\n",
       " Text(8.60766611643322, 189.00553846153846, 'X[0] <= 0.875\\ngini = 0.48\\nsamples = 4\\nvalue = [2, 3]'),\n",
       " Text(8.464205014492666, 185.6603076923077, 'gini = 0.0\\nsamples = 2\\nvalue = [0, 3]'),\n",
       " Text(8.751127218373774, 185.6603076923077, 'gini = 0.0\\nsamples = 2\\nvalue = [2, 0]'),\n",
       " Text(74.01524744113463, 199.04123076923076, 'X[1] <= 0.823\\ngini = 0.49\\nsamples = 2267\\nvalue = [1544, 2056]'),\n",
       " Text(73.87178633919409, 195.696, 'X[2] <= 0.048\\ngini = 0.49\\nsamples = 2261\\nvalue = [1544, 2043]'),\n",
       " Text(50.74593512883131, 192.35076923076923, 'X[0] <= 0.682\\ngini = 0.49\\nsamples = 2243\\nvalue = [1526, 2035]'),\n",
       " Text(17.355411263846023, 189.00553846153846, 'X[2] <= 0.027\\ngini = 0.498\\nsamples = 558\\nvalue = [401, 457]'),\n",
       " Text(12.04937973462212, 185.6603076923077, 'X[0] <= 0.569\\ngini = 0.499\\nsamples = 546\\nvalue = [398, 440]'),\n",
       " Text(11.905918632681567, 182.31507692307693, 'gini = 0.0\\nsamples = 2\\nvalue = [5, 0]'),\n",
       " Text(12.192840836562674, 182.31507692307693, 'X[0] <= 0.572\\ngini = 0.498\\nsamples = 544\\nvalue = [393, 440]'),\n",
       " Text(8.464205014492666, 178.96984615384616, 'X[1] <= 0.822\\ngini = 0.34\\nsamples = 16\\nvalue = [5, 18]'),\n",
       " Text(8.17728281061156, 175.62461538461537, 'X[1] <= 0.822\\ngini = 0.255\\nsamples = 13\\nvalue = [3, 17]'),\n",
       " Text(8.033821708671006, 172.27938461538463, 'X[0] <= 0.57\\ngini = 0.32\\nsamples = 10\\nvalue = [3, 12]'),\n",
       " Text(7.746899504789898, 168.93415384615383, 'X[2] <= 0.004\\ngini = 0.444\\nsamples = 3\\nvalue = [2, 1]'),\n",
       " Text(7.603438402849345, 165.58892307692307, 'gini = 0.0\\nsamples = 1\\nvalue = [1, 0]'),\n",
       " Text(7.890360606730452, 165.58892307692307, 'X[2] <= 0.01\\ngini = 0.5\\nsamples = 2\\nvalue = [1, 1]'),\n",
       " Text(7.746899504789898, 162.2436923076923, 'gini = 0.0\\nsamples = 1\\nvalue = [0, 1]'),\n",
       " Text(8.033821708671006, 162.2436923076923, 'gini = 0.0\\nsamples = 1\\nvalue = [1, 0]'),\n",
       " Text(8.320743912552112, 168.93415384615383, 'X[1] <= 0.821\\ngini = 0.153\\nsamples = 7\\nvalue = [1, 11]'),\n",
       " Text(8.17728281061156, 165.58892307692307, 'gini = 0.0\\nsamples = 2\\nvalue = [0, 4]'),\n",
       " Text(8.464205014492666, 165.58892307692307, 'X[0] <= 0.571\\ngini = 0.219\\nsamples = 5\\nvalue = [1, 7]'),\n",
       " Text(8.320743912552112, 162.2436923076923, 'gini = 0.0\\nsamples = 3\\nvalue = [0, 4]'),\n",
       " Text(8.60766611643322, 162.2436923076923, 'gini = 0.375\\nsamples = 2\\nvalue = [1, 3]'),\n",
       " Text(8.320743912552112, 172.27938461538463, 'gini = 0.0\\nsamples = 3\\nvalue = [0, 5]'),\n",
       " Text(8.751127218373774, 175.62461538461537, 'X[1] <= 0.822\\ngini = 0.444\\nsamples = 3\\nvalue = [2, 1]'),\n",
       " Text(8.60766611643322, 172.27938461538463, 'gini = 0.0\\nsamples = 1\\nvalue = [1, 0]'),\n",
       " Text(8.894588320314327, 172.27938461538463, 'gini = 0.5\\nsamples = 2\\nvalue = [1, 1]'),\n",
       " Text(15.921476658632681, 178.96984615384616, 'X[0] <= 0.581\\ngini = 0.499\\nsamples = 528\\nvalue = [388, 422]'),\n",
       " Text(9.324971626135989, 175.62461538461537, 'X[0] <= 0.58\\ngini = 0.44\\nsamples = 31\\nvalue = [31, 15]'),\n",
       " Text(9.181510524195435, 172.27938461538463, 'X[1] <= 0.815\\ngini = 0.486\\nsamples = 25\\nvalue = [21, 15]'),\n",
       " Text(9.03804942225488, 168.93415384615383, 'gini = 0.0\\nsamples = 2\\nvalue = [0, 3]'),\n",
       " Text(9.324971626135989, 168.93415384615383, 'X[2] <= 0.016\\ngini = 0.463\\nsamples = 23\\nvalue = [21, 12]'),\n",
       " Text(9.181510524195435, 165.58892307692307, 'X[2] <= 0.011\\ngini = 0.437\\nsamples = 22\\nvalue = [21, 10]'),\n",
       " Text(9.03804942225488, 162.2436923076923, 'X[2] <= 0.008\\ngini = 0.486\\nsamples = 17\\nvalue = [14, 10]'),\n",
       " Text(8.894588320314327, 158.89846153846153, 'X[1] <= 0.816\\ngini = 0.444\\nsamples = 14\\nvalue = [14, 7]'),\n",
       " Text(8.60766611643322, 155.55323076923077, 'X[2] <= 0.003\\ngini = 0.444\\nsamples = 2\\nvalue = [1, 2]'),\n",
       " Text(8.464205014492666, 152.208, 'gini = 0.0\\nsamples = 1\\nvalue = [0, 2]'),\n",
       " Text(8.751127218373774, 152.208, 'gini = 0.0\\nsamples = 1\\nvalue = [1, 0]'),\n",
       " Text(9.181510524195435, 155.55323076923077, 'X[0] <= 0.577\\ngini = 0.401\\nsamples = 12\\nvalue = [13, 5]'),\n",
       " Text(9.03804942225488, 152.208, 'X[0] <= 0.575\\ngini = 0.459\\nsamples = 9\\nvalue = [9, 5]'),\n",
       " Text(8.894588320314327, 148.86276923076923, 'X[0] <= 0.574\\ngini = 0.375\\nsamples = 7\\nvalue = [9, 3]'),\n",
       " Text(8.751127218373774, 145.51753846153846, 'X[1] <= 0.82\\ngini = 0.49\\nsamples = 4\\nvalue = [4, 3]'),\n",
       " Text(8.60766611643322, 142.1723076923077, 'X[0] <= 0.573\\ngini = 0.48\\nsamples = 3\\nvalue = [2, 3]'),\n",
       " Text(8.464205014492666, 138.8270769230769, 'gini = 0.0\\nsamples = 1\\nvalue = [0, 1]'),\n",
       " Text(8.751127218373774, 138.8270769230769, 'gini = 0.5\\nsamples = 2\\nvalue = [2, 2]'),\n",
       " Text(8.894588320314327, 142.1723076923077, 'gini = 0.0\\nsamples = 1\\nvalue = [2, 0]'),\n",
       " Text(9.03804942225488, 145.51753846153846, 'gini = 0.0\\nsamples = 3\\nvalue = [5, 0]'),\n",
       " Text(9.181510524195435, 148.86276923076923, 'gini = 0.0\\nsamples = 2\\nvalue = [0, 2]'),\n",
       " Text(9.324971626135989, 152.208, 'gini = 0.0\\nsamples = 3\\nvalue = [4, 0]'),\n",
       " Text(9.181510524195435, 158.89846153846153, 'gini = 0.0\\nsamples = 3\\nvalue = [0, 3]'),\n",
       " Text(9.324971626135989, 162.2436923076923, 'gini = 0.0\\nsamples = 5\\nvalue = [7, 0]'),\n",
       " Text(9.468432728076543, 165.58892307692307, 'gini = 0.0\\nsamples = 1\\nvalue = [0, 2]'),\n",
       " Text(9.468432728076543, 172.27938461538463, 'gini = 0.0\\nsamples = 6\\nvalue = [10, 0]'),\n",
       " Text(22.517981691129375, 175.62461538461537, 'X[1] <= 0.81\\ngini = 0.498\\nsamples = 497\\nvalue = [357, 407]'),\n",
       " Text(16.307877718662876, 172.27938461538463, 'X[1] <= 0.81\\ngini = 0.499\\nsamples = 475\\nvalue = [352, 379]'),\n",
       " Text(16.16441661672232, 168.93415384615383, 'X[0] <= 0.589\\ngini = 0.499\\nsamples = 470\\nvalue = [346, 379]'),\n",
       " Text(10.616121543600972, 165.58892307692307, 'X[2] <= 0.018\\ngini = 0.363\\nsamples = 12\\nvalue = [5, 16]'),\n",
       " Text(10.472660441660418, 162.2436923076923, 'X[1] <= 0.809\\ngini = 0.266\\nsamples = 11\\nvalue = [3, 16]'),\n",
       " Text(10.18573823777931, 158.89846153846153, 'X[0] <= 0.588\\ngini = 0.375\\nsamples = 6\\nvalue = [2, 6]'),\n",
       " Text(10.042277135838757, 155.55323076923077, 'gini = 0.0\\nsamples = 1\\nvalue = [1, 0]'),\n",
       " Text(10.329199339719864, 155.55323076923077, 'X[1] <= 0.809\\ngini = 0.245\\nsamples = 5\\nvalue = [1, 6]'),\n",
       " Text(10.18573823777931, 152.208, 'gini = 0.0\\nsamples = 3\\nvalue = [0, 4]'),\n",
       " Text(10.472660441660418, 152.208, 'gini = 0.444\\nsamples = 2\\nvalue = [1, 2]'),\n",
       " Text(10.759582645541526, 158.89846153846153, 'X[1] <= 0.81\\ngini = 0.165\\nsamples = 5\\nvalue = [1, 10]'),\n",
       " Text(10.616121543600972, 155.55323076923077, 'gini = 0.0\\nsamples = 3\\nvalue = [0, 6]'),\n",
       " Text(10.903043747482078, 155.55323076923077, 'gini = 0.32\\nsamples = 2\\nvalue = [1, 4]'),\n",
       " Text(10.759582645541526, 162.2436923076923, 'gini = 0.0\\nsamples = 1\\nvalue = [2, 0]'),\n",
       " Text(21.71271168984367, 165.58892307692307, 'X[1] <= 0.791\\ngini = 0.5\\nsamples = 458\\nvalue = [341, 363]'),\n",
       " Text(17.597941870952038, 162.2436923076923, 'X[1] <= 0.783\\ngini = 0.497\\nsamples = 347\\nvalue = [244, 288]'),\n",
       " Text(14.03537120567241, 158.89846153846153, 'X[1] <= 0.783\\ngini = 0.499\\nsamples = 304\\nvalue = [225, 240]'),\n",
       " Text(13.891910103731856, 155.55323076923077, 'X[1] <= 0.753\\ngini = 0.499\\nsamples = 301\\nvalue = [220, 240]'),\n",
       " Text(10.759582645541526, 152.208, 'X[1] <= 0.746\\ngini = 0.497\\nsamples = 126\\nvalue = [104, 89]'),\n",
       " Text(9.468432728076543, 148.86276923076923, 'X[0] <= 0.668\\ngini = 0.498\\nsamples = 79\\nvalue = [58, 66]'),\n",
       " Text(9.324971626135989, 145.51753846153846, 'gini = 0.0\\nsamples = 7\\nvalue = [0, 13]'),\n",
       " Text(9.611893830017095, 145.51753846153846, 'X[1] <= 0.744\\ngini = 0.499\\nsamples = 72\\nvalue = [58, 53]'),\n",
       " Text(9.468432728076543, 142.1723076923077, 'X[1] <= 0.743\\ngini = 0.5\\nsamples = 69\\nvalue = [53, 53]'),\n",
       " Text(9.03804942225488, 138.8270769230769, 'X[0] <= 0.67\\ngini = 0.497\\nsamples = 62\\nvalue = [52, 44]'),\n",
       " Text(8.894588320314327, 135.48184615384616, 'gini = 0.0\\nsamples = 7\\nvalue = [10, 0]'),\n",
       " Text(9.181510524195435, 135.48184615384616, 'X[1] <= 0.732\\ngini = 0.5\\nsamples = 55\\nvalue = [42, 44]'),\n",
       " Text(9.03804942225488, 132.13661538461537, 'gini = 0.0\\nsamples = 2\\nvalue = [3, 0]'),\n",
       " Text(9.324971626135989, 132.13661538461537, 'X[2] <= 0.024\\ngini = 0.498\\nsamples = 53\\nvalue = [39, 44]'),\n",
       " Text(9.181510524195435, 128.79138461538463, 'X[0] <= 0.671\\ngini = 0.5\\nsamples = 52\\nvalue = [39, 41]'),\n",
       " Text(9.03804942225488, 125.44615384615385, 'gini = 0.0\\nsamples = 3\\nvalue = [4, 0]'),\n",
       " Text(9.324971626135989, 125.44615384615385, 'X[1] <= 0.74\\ngini = 0.497\\nsamples = 49\\nvalue = [35, 41]'),\n",
       " Text(9.181510524195435, 122.10092307692308, 'X[0] <= 0.674\\ngini = 0.5\\nsamples = 45\\nvalue = [35, 35]'),\n",
       " Text(8.571800840948082, 118.7556923076923, 'X[2] <= 0.004\\ngini = 0.219\\nsamples = 7\\nvalue = [7, 1]'),\n",
       " Text(8.428339739007528, 115.41046153846153, 'X[0] <= 0.673\\ngini = 0.444\\nsamples = 3\\nvalue = [2, 1]'),\n",
       " Text(8.284878637066974, 112.06523076923077, 'gini = 0.0\\nsamples = 1\\nvalue = [1, 0]'),\n",
       " Text(8.571800840948082, 112.06523076923077, 'X[1] <= 0.739\\ngini = 0.5\\nsamples = 2\\nvalue = [1, 1]'),\n",
       " Text(8.428339739007528, 108.72, 'gini = 0.0\\nsamples = 1\\nvalue = [1, 0]'),\n",
       " Text(8.715261942888635, 108.72, 'gini = 0.0\\nsamples = 1\\nvalue = [0, 1]'),\n",
       " Text(8.715261942888635, 115.41046153846153, 'gini = 0.0\\nsamples = 4\\nvalue = [5, 0]'),\n",
       " Text(9.791220207442787, 118.7556923076923, 'X[1] <= 0.737\\ngini = 0.495\\nsamples = 38\\nvalue = [28, 34]'),\n",
       " Text(9.002184146769743, 115.41046153846153, 'X[0] <= 0.676\\ngini = 0.499\\nsamples = 25\\nvalue = [22, 20]'),\n",
       " Text(8.858723044829189, 112.06523076923077, 'gini = 0.0\\nsamples = 4\\nvalue = [6, 0]'),\n",
       " Text(9.145645248710297, 112.06523076923077, 'X[2] <= 0.006\\ngini = 0.494\\nsamples = 21\\nvalue = [16, 20]'),\n",
       " Text(9.002184146769743, 108.72, 'X[0] <= 0.679\\ngini = 0.49\\nsamples = 16\\nvalue = [16, 12]'),\n",
       " Text(8.571800840948082, 105.37476923076923, 'X[0] <= 0.677\\ngini = 0.484\\nsamples = 9\\nvalue = [7, 10]'),\n",
       " Text(8.428339739007528, 102.02953846153846, 'gini = 0.0\\nsamples = 3\\nvalue = [0, 3]'),\n",
       " Text(8.715261942888635, 102.02953846153846, 'X[0] <= 0.678\\ngini = 0.5\\nsamples = 6\\nvalue = [7, 7]'),\n",
       " Text(8.571800840948082, 98.68430769230768, 'gini = 0.0\\nsamples = 2\\nvalue = [3, 0]'),\n",
       " Text(8.858723044829189, 98.68430769230768, 'X[1] <= 0.735\\ngini = 0.463\\nsamples = 4\\nvalue = [4, 7]'),\n",
       " Text(8.715261942888635, 95.33907692307692, 'gini = 0.0\\nsamples = 1\\nvalue = [0, 3]'),\n",
       " Text(9.002184146769743, 95.33907692307692, 'X[1] <= 0.735\\ngini = 0.5\\nsamples = 3\\nvalue = [4, 4]'),\n",
       " Text(8.858723044829189, 91.99384615384615, 'gini = 0.444\\nsamples = 2\\nvalue = [4, 2]'),\n",
       " Text(9.145645248710297, 91.99384615384615, 'gini = 0.0\\nsamples = 1\\nvalue = [0, 2]'),\n",
       " Text(9.432567452591403, 105.37476923076923, 'X[2] <= 0.003\\ngini = 0.298\\nsamples = 7\\nvalue = [9, 2]'),\n",
       " Text(9.28910635065085, 102.02953846153846, 'X[1] <= 0.732\\ngini = 0.18\\nsamples = 6\\nvalue = [9, 1]'),\n",
       " Text(9.145645248710297, 98.68430769230768, 'gini = 0.0\\nsamples = 1\\nvalue = [0, 1]'),\n",
       " Text(9.432567452591403, 98.68430769230768, 'gini = 0.0\\nsamples = 5\\nvalue = [9, 0]'),\n",
       " Text(9.576028554531957, 102.02953846153846, 'gini = 0.0\\nsamples = 1\\nvalue = [0, 1]'),\n",
       " Text(9.28910635065085, 108.72, 'gini = 0.0\\nsamples = 5\\nvalue = [0, 8]'),\n",
       " Text(10.580256268115834, 115.41046153846153, 'X[0] <= 0.676\\ngini = 0.42\\nsamples = 13\\nvalue = [6, 14]'),\n",
       " Text(10.43679516617528, 112.06523076923077, 'X[0] <= 0.675\\ngini = 0.48\\nsamples = 11\\nvalue = [6, 9]'),\n",
       " Text(10.293334064234726, 108.72, 'X[2] <= 0.007\\ngini = 0.426\\nsamples = 10\\nvalue = [4, 9]'),\n",
       " Text(10.006411860353618, 105.37476923076923, 'X[1] <= 0.738\\ngini = 0.32\\nsamples = 8\\nvalue = [2, 8]'),\n",
       " Text(9.862950758413065, 102.02953846153846, 'X[0] <= 0.675\\ngini = 0.48\\nsamples = 4\\nvalue = [2, 3]'),\n",
       " Text(9.719489656472511, 98.68430769230768, 'gini = 0.0\\nsamples = 1\\nvalue = [1, 0]'),\n",
       " Text(10.006411860353618, 98.68430769230768, 'X[2] <= 0.002\\ngini = 0.375\\nsamples = 3\\nvalue = [1, 3]'),\n",
       " Text(9.862950758413065, 95.33907692307692, 'gini = 0.444\\nsamples = 2\\nvalue = [1, 2]'),\n",
       " Text(10.149872962294172, 95.33907692307692, 'gini = 0.0\\nsamples = 1\\nvalue = [0, 1]'),\n",
       " Text(10.149872962294172, 102.02953846153846, 'gini = 0.0\\nsamples = 4\\nvalue = [0, 5]'),\n",
       " Text(10.580256268115834, 105.37476923076923, 'X[0] <= 0.675\\ngini = 0.444\\nsamples = 2\\nvalue = [2, 1]'),\n",
       " Text(10.43679516617528, 102.02953846153846, 'gini = 0.0\\nsamples = 1\\nvalue = [2, 0]'),\n",
       " Text(10.723717370056386, 102.02953846153846, 'gini = 0.0\\nsamples = 1\\nvalue = [0, 1]'),\n",
       " Text(10.580256268115834, 108.72, 'gini = 0.0\\nsamples = 1\\nvalue = [2, 0]'),\n",
       " Text(10.723717370056386, 112.06523076923077, 'gini = 0.0\\nsamples = 2\\nvalue = [0, 5]'),\n",
       " Text(9.468432728076543, 122.10092307692308, 'gini = 0.0\\nsamples = 4\\nvalue = [0, 6]'),\n",
       " Text(9.468432728076543, 128.79138461538463, 'gini = 0.0\\nsamples = 1\\nvalue = [0, 3]'),\n",
       " Text(9.898816033898203, 138.8270769230769, 'X[2] <= 0.004\\ngini = 0.18\\nsamples = 7\\nvalue = [1, 9]'),\n",
       " Text(9.75535493195765, 135.48184615384616, 'X[0] <= 0.669\\ngini = 0.32\\nsamples = 5\\nvalue = [1, 4]'),\n",
       " Text(9.611893830017095, 132.13661538461537, 'gini = 0.0\\nsamples = 1\\nvalue = [1, 0]'),\n",
       " Text(9.898816033898203, 132.13661538461537, 'gini = 0.0\\nsamples = 4\\nvalue = [0, 4]'),\n",
       " Text(10.042277135838757, 135.48184615384616, 'gini = 0.0\\nsamples = 2\\nvalue = [0, 5]'),\n",
       " Text(9.75535493195765, 142.1723076923077, 'gini = 0.0\\nsamples = 3\\nvalue = [5, 0]'),\n",
       " Text(12.050732563006509, 148.86276923076923, 'X[2] <= 0.009\\ngini = 0.444\\nsamples = 47\\nvalue = [46, 23]'),\n",
       " Text(11.7638103591254, 145.51753846153846, 'X[0] <= 0.665\\ngini = 0.499\\nsamples = 30\\nvalue = [22, 20]'),\n",
       " Text(11.620349257184847, 142.1723076923077, 'X[2] <= 0.009\\ngini = 0.499\\nsamples = 27\\nvalue = [18, 20]'),\n",
       " Text(11.476888155244293, 138.8270769230769, 'X[2] <= 0.007\\ngini = 0.5\\nsamples = 26\\nvalue = [18, 18]'),\n",
       " Text(11.33342705330374, 135.48184615384616, 'X[2] <= 0.002\\ngini = 0.496\\nsamples = 24\\nvalue = [15, 18]'),\n",
       " Text(11.189965951363186, 132.13661538461537, 'X[0] <= 0.662\\ngini = 0.499\\nsamples = 21\\nvalue = [15, 14]'),\n",
       " Text(10.723717370056386, 128.79138461538463, 'X[1] <= 0.751\\ngini = 0.455\\nsamples = 15\\nvalue = [13, 7]'),\n",
       " Text(10.365064615205002, 125.44615384615385, 'X[1] <= 0.75\\ngini = 0.298\\nsamples = 7\\nvalue = [9, 2]'),\n",
       " Text(10.22160351326445, 122.10092307692308, 'X[1] <= 0.75\\ngini = 0.5\\nsamples = 3\\nvalue = [2, 2]'),\n",
       " Text(10.078142411323896, 118.7556923076923, 'gini = 0.0\\nsamples = 2\\nvalue = [2, 0]'),\n",
       " Text(10.365064615205002, 118.7556923076923, 'gini = 0.0\\nsamples = 1\\nvalue = [0, 2]'),\n",
       " Text(10.508525717145556, 122.10092307692308, 'gini = 0.0\\nsamples = 4\\nvalue = [7, 0]'),\n",
       " Text(11.08237012490777, 125.44615384615385, 'X[0] <= 0.66\\ngini = 0.494\\nsamples = 8\\nvalue = [4, 5]'),\n",
       " Text(10.795447921026664, 122.10092307692308, 'X[1] <= 0.752\\ngini = 0.375\\nsamples = 4\\nvalue = [3, 1]'),\n",
       " Text(10.65198681908611, 118.7556923076923, 'gini = 0.0\\nsamples = 3\\nvalue = [3, 0]'),\n",
       " Text(10.938909022967218, 118.7556923076923, 'gini = 0.0\\nsamples = 1\\nvalue = [0, 1]'),\n",
       " Text(11.369292328788879, 122.10092307692308, 'X[0] <= 0.66\\ngini = 0.32\\nsamples = 4\\nvalue = [1, 4]'),\n",
       " Text(11.225831226848324, 118.7556923076923, 'gini = 0.0\\nsamples = 2\\nvalue = [0, 3]'),\n",
       " Text(11.512753430729433, 118.7556923076923, 'X[1] <= 0.751\\ngini = 0.5\\nsamples = 2\\nvalue = [1, 1]'),\n",
       " Text(11.369292328788879, 115.41046153846153, 'gini = 0.0\\nsamples = 1\\nvalue = [0, 1]'),\n",
       " Text(11.656214532669985, 115.41046153846153, 'gini = 0.0\\nsamples = 1\\nvalue = [1, 0]'),\n",
       " Text(11.656214532669985, 128.79138461538463, 'X[0] <= 0.663\\ngini = 0.346\\nsamples = 6\\nvalue = [2, 7]'),\n",
       " Text(11.512753430729433, 125.44615384615385, 'gini = 0.0\\nsamples = 2\\nvalue = [0, 4]'),\n",
       " Text(11.799675634610539, 125.44615384615385, 'X[1] <= 0.748\\ngini = 0.48\\nsamples = 4\\nvalue = [2, 3]'),\n",
       " Text(11.656214532669985, 122.10092307692308, 'gini = 0.5\\nsamples = 2\\nvalue = [1, 1]'),\n",
       " Text(11.943136736551093, 122.10092307692308, 'gini = 0.444\\nsamples = 2\\nvalue = [1, 2]'),\n",
       " Text(11.476888155244293, 132.13661538461537, 'gini = 0.0\\nsamples = 3\\nvalue = [0, 4]'),\n",
       " Text(11.620349257184847, 135.48184615384616, 'gini = 0.0\\nsamples = 2\\nvalue = [3, 0]'),\n",
       " Text(11.7638103591254, 138.8270769230769, 'gini = 0.0\\nsamples = 1\\nvalue = [0, 2]'),\n",
       " Text(11.907271461065955, 142.1723076923077, 'gini = 0.0\\nsamples = 3\\nvalue = [4, 0]'),\n",
       " Text(12.337654766887615, 145.51753846153846, 'X[2] <= 0.022\\ngini = 0.198\\nsamples = 17\\nvalue = [24, 3]'),\n",
       " Text(12.194193664947061, 142.1723076923077, 'X[1] <= 0.747\\ngini = 0.147\\nsamples = 15\\nvalue = [23, 2]'),\n",
       " Text(12.050732563006509, 138.8270769230769, 'X[2] <= 0.013\\ngini = 0.408\\nsamples = 5\\nvalue = [5, 2]'),\n",
       " Text(11.907271461065955, 135.48184615384616, 'gini = 0.0\\nsamples = 2\\nvalue = [4, 0]'),\n",
       " Text(12.194193664947061, 135.48184615384616, 'X[0] <= 0.665\\ngini = 0.444\\nsamples = 3\\nvalue = [1, 2]'),\n",
       " Text(12.050732563006509, 132.13661538461537, 'gini = 0.0\\nsamples = 2\\nvalue = [0, 2]'),\n",
       " Text(12.337654766887615, 132.13661538461537, 'gini = 0.0\\nsamples = 1\\nvalue = [1, 0]'),\n",
       " Text(12.337654766887615, 138.8270769230769, 'gini = 0.0\\nsamples = 10\\nvalue = [18, 0]'),\n",
       " Text(12.48111586882817, 142.1723076923077, 'gini = 0.5\\nsamples = 2\\nvalue = [1, 1]'),\n",
       " Text(17.024237561922188, 152.208, 'X[2] <= 0.01\\ngini = 0.491\\nsamples = 175\\nvalue = [116, 151]'),\n",
       " Text(15.524060335770383, 148.86276923076923, 'X[2] <= 0.009\\ngini = 0.5\\nsamples = 124\\nvalue = [93, 94]'),\n",
       " Text(14.729420325802783, 145.51753846153846, 'X[2] <= 0.008\\ngini = 0.497\\nsamples = 114\\nvalue = [77, 89]'),\n",
       " Text(14.287829121392017, 142.1723076923077, 'X[2] <= 0.007\\ngini = 0.5\\nsamples = 107\\nvalue = [75, 77]'),\n",
       " Text(13.835030018392144, 138.8270769230769, 'X[2] <= 0.002\\ngini = 0.493\\nsamples = 93\\nvalue = [58, 73]'),\n",
       " Text(13.35981511821406, 135.48184615384616, 'X[1] <= 0.78\\ngini = 0.5\\nsamples = 80\\nvalue = [56, 57]'),\n",
       " Text(12.839768623679554, 132.13661538461537, 'X[0] <= 0.632\\ngini = 0.498\\nsamples = 73\\nvalue = [49, 56]'),\n",
       " Text(12.230058940432201, 128.79138461538463, 'X[1] <= 0.775\\ngini = 0.32\\nsamples = 14\\nvalue = [4, 16]'),\n",
       " Text(12.086597838491647, 125.44615384615385, 'gini = 0.0\\nsamples = 3\\nvalue = [0, 4]'),\n",
       " Text(12.373520042372753, 125.44615384615385, 'X[1] <= 0.776\\ngini = 0.375\\nsamples = 11\\nvalue = [4, 12]'),\n",
       " Text(12.230058940432201, 122.10092307692308, 'gini = 0.0\\nsamples = 1\\nvalue = [1, 0]'),\n",
       " Text(12.516981144313307, 122.10092307692308, 'X[0] <= 0.627\\ngini = 0.32\\nsamples = 10\\nvalue = [3, 12]'),\n",
       " Text(12.373520042372753, 118.7556923076923, 'gini = 0.0\\nsamples = 3\\nvalue = [0, 4]'),\n",
       " Text(12.660442246253861, 118.7556923076923, 'X[1] <= 0.779\\ngini = 0.397\\nsamples = 7\\nvalue = [3, 8]'),\n",
       " Text(12.516981144313307, 115.41046153846153, 'X[0] <= 0.628\\ngini = 0.32\\nsamples = 6\\nvalue = [2, 8]'),\n",
       " Text(12.373520042372753, 112.06523076923077, 'gini = 0.0\\nsamples = 2\\nvalue = [0, 4]'),\n",
       " Text(12.660442246253861, 112.06523076923077, 'X[0] <= 0.628\\ngini = 0.444\\nsamples = 4\\nvalue = [2, 4]'),\n",
       " Text(12.516981144313307, 108.72, 'gini = 0.0\\nsamples = 1\\nvalue = [2, 0]'),\n",
       " Text(12.803903348194416, 108.72, 'gini = 0.0\\nsamples = 3\\nvalue = [0, 4]'),\n",
       " Text(12.803903348194416, 115.41046153846153, 'gini = 0.0\\nsamples = 1\\nvalue = [1, 0]'),\n",
       " Text(13.449478306926906, 128.79138461538463, 'X[0] <= 0.642\\ngini = 0.498\\nsamples = 59\\nvalue = [45, 40]'),\n",
       " Text(12.94736445013497, 125.44615384615385, 'X[1] <= 0.768\\ngini = 0.426\\nsamples = 21\\nvalue = [18, 8]'),\n",
       " Text(12.803903348194416, 122.10092307692308, 'gini = 0.0\\nsamples = 2\\nvalue = [3, 0]'),\n",
       " Text(13.090825552075522, 122.10092307692308, 'X[1] <= 0.769\\ngini = 0.454\\nsamples = 19\\nvalue = [15, 8]'),\n",
       " Text(12.94736445013497, 118.7556923076923, 'gini = 0.0\\nsamples = 2\\nvalue = [0, 2]'),\n",
       " Text(13.234286654016076, 118.7556923076923, 'X[1] <= 0.77\\ngini = 0.408\\nsamples = 17\\nvalue = [15, 6]'),\n",
       " Text(13.090825552075522, 115.41046153846153, 'gini = 0.0\\nsamples = 6\\nvalue = [6, 0]'),\n",
       " Text(13.37774775595663, 115.41046153846153, 'X[0] <= 0.638\\ngini = 0.48\\nsamples = 11\\nvalue = [9, 6]'),\n",
       " Text(13.234286654016076, 112.06523076923077, 'X[0] <= 0.636\\ngini = 0.426\\nsamples = 9\\nvalue = [9, 4]'),\n",
       " Text(13.090825552075522, 108.72, 'X[1] <= 0.773\\ngini = 0.48\\nsamples = 7\\nvalue = [6, 4]'),\n",
       " Text(12.94736445013497, 105.37476923076923, 'gini = 0.444\\nsamples = 2\\nvalue = [1, 2]'),\n",
       " Text(13.234286654016076, 105.37476923076923, 'X[1] <= 0.774\\ngini = 0.408\\nsamples = 5\\nvalue = [5, 2]'),\n",
       " Text(13.090825552075522, 102.02953846153846, 'gini = 0.0\\nsamples = 1\\nvalue = [2, 0]'),\n",
       " Text(13.37774775595663, 102.02953846153846, 'X[0] <= 0.632\\ngini = 0.48\\nsamples = 4\\nvalue = [3, 2]'),\n",
       " Text(13.234286654016076, 98.68430769230768, 'gini = 0.0\\nsamples = 1\\nvalue = [1, 0]'),\n",
       " Text(13.521208857897184, 98.68430769230768, 'X[0] <= 0.633\\ngini = 0.5\\nsamples = 3\\nvalue = [2, 2]'),\n",
       " Text(13.37774775595663, 95.33907692307692, 'gini = 0.0\\nsamples = 1\\nvalue = [0, 1]'),\n",
       " Text(13.664669959837736, 95.33907692307692, 'gini = 0.444\\nsamples = 2\\nvalue = [2, 1]'),\n",
       " Text(13.37774775595663, 108.72, 'gini = 0.0\\nsamples = 2\\nvalue = [3, 0]'),\n",
       " Text(13.521208857897184, 112.06523076923077, 'gini = 0.0\\nsamples = 2\\nvalue = [0, 2]'),\n",
       " Text(13.951592163718844, 125.44615384615385, 'X[0] <= 0.643\\ngini = 0.496\\nsamples = 38\\nvalue = [27, 32]'),\n",
       " Text(13.664669959837736, 122.10092307692308, 'X[1] <= 0.766\\ngini = 0.245\\nsamples = 6\\nvalue = [1, 6]'),\n",
       " Text(13.521208857897184, 118.7556923076923, 'gini = 0.0\\nsamples = 3\\nvalue = [0, 4]'),\n",
       " Text(13.80813106177829, 118.7556923076923, 'X[1] <= 0.767\\ngini = 0.444\\nsamples = 3\\nvalue = [1, 2]'),\n",
       " Text(13.664669959837736, 115.41046153846153, 'gini = 0.0\\nsamples = 1\\nvalue = [1, 0]'),\n",
       " Text(13.951592163718844, 115.41046153846153, 'gini = 0.0\\nsamples = 2\\nvalue = [0, 2]'),\n",
       " Text(14.238514367599953, 122.10092307692308, 'X[0] <= 0.644\\ngini = 0.5\\nsamples = 32\\nvalue = [26, 26]'),\n",
       " Text(14.095053265659399, 118.7556923076923, 'gini = 0.0\\nsamples = 1\\nvalue = [3, 0]'),\n",
       " Text(14.381975469540505, 118.7556923076923, 'X[0] <= 0.644\\ngini = 0.498\\nsamples = 31\\nvalue = [23, 26]'),\n",
       " Text(14.238514367599953, 115.41046153846153, 'gini = 0.0\\nsamples = 2\\nvalue = [0, 4]'),\n",
       " Text(14.525436571481059, 115.41046153846153, 'X[0] <= 0.65\\ngini = 0.5\\nsamples = 29\\nvalue = [23, 22]'),\n",
       " Text(14.02332271468912, 112.06523076923077, 'X[1] <= 0.764\\ngini = 0.298\\nsamples = 7\\nvalue = [9, 2]'),\n",
       " Text(13.879861612748568, 108.72, 'gini = 0.0\\nsamples = 3\\nvalue = [6, 0]'),\n",
       " Text(14.166783816629675, 108.72, 'X[0] <= 0.645\\ngini = 0.48\\nsamples = 4\\nvalue = [3, 2]'),\n",
       " Text(14.02332271468912, 105.37476923076923, 'gini = 0.0\\nsamples = 3\\nvalue = [3, 0]'),\n",
       " Text(14.310244918570229, 105.37476923076923, 'gini = 0.0\\nsamples = 1\\nvalue = [0, 2]'),\n",
       " Text(15.027550428272997, 112.06523076923077, 'X[1] <= 0.758\\ngini = 0.484\\nsamples = 22\\nvalue = [14, 20]'),\n",
       " Text(14.74062822439189, 108.72, 'X[1] <= 0.757\\ngini = 0.497\\nsamples = 17\\nvalue = [13, 15]'),\n",
       " Text(14.597167122451335, 105.37476923076923, 'X[1] <= 0.753\\ngini = 0.48\\nsamples = 15\\nvalue = [10, 15]'),\n",
       " Text(14.453706020510783, 102.02953846153846, 'gini = 0.0\\nsamples = 2\\nvalue = [0, 2]'),\n",
       " Text(14.74062822439189, 102.02953846153846, 'X[1] <= 0.756\\ngini = 0.491\\nsamples = 13\\nvalue = [10, 13]'),\n",
       " Text(14.597167122451335, 98.68430769230768, 'X[0] <= 0.656\\ngini = 0.499\\nsamples = 11\\nvalue = [10, 11]'),\n",
       " Text(14.310244918570229, 95.33907692307692, 'X[1] <= 0.755\\ngini = 0.444\\nsamples = 3\\nvalue = [4, 2]'),\n",
       " Text(14.166783816629675, 91.99384615384615, 'gini = 0.0\\nsamples = 1\\nvalue = [2, 0]'),\n",
       " Text(14.453706020510783, 91.99384615384615, 'gini = 0.5\\nsamples = 2\\nvalue = [2, 2]'),\n",
       " Text(14.884089326332443, 95.33907692307692, 'X[1] <= 0.753\\ngini = 0.48\\nsamples = 8\\nvalue = [6, 9]'),\n",
       " Text(14.74062822439189, 91.99384615384615, 'gini = 0.0\\nsamples = 1\\nvalue = [1, 0]'),\n",
       " Text(15.027550428272997, 91.99384615384615, 'X[1] <= 0.754\\ngini = 0.459\\nsamples = 7\\nvalue = [5, 9]'),\n",
       " Text(14.884089326332443, 88.64861538461537, 'gini = 0.0\\nsamples = 1\\nvalue = [0, 2]'),\n",
       " Text(15.171011530213551, 88.64861538461537, 'X[0] <= 0.657\\ngini = 0.486\\nsamples = 6\\nvalue = [5, 7]'),\n",
       " Text(15.027550428272997, 85.3033846153846, 'X[0] <= 0.656\\ngini = 0.375\\nsamples = 4\\nvalue = [2, 6]'),\n",
       " Text(14.884089326332443, 81.95815384615383, 'gini = 0.0\\nsamples = 1\\nvalue = [0, 2]'),\n",
       " Text(15.171011530213551, 81.95815384615383, 'gini = 0.444\\nsamples = 3\\nvalue = [2, 4]'),\n",
       " Text(15.314472632154104, 85.3033846153846, 'gini = 0.375\\nsamples = 2\\nvalue = [3, 1]'),\n",
       " Text(14.884089326332443, 98.68430769230768, 'gini = 0.0\\nsamples = 2\\nvalue = [0, 2]'),\n",
       " Text(14.884089326332443, 105.37476923076923, 'gini = 0.0\\nsamples = 2\\nvalue = [3, 0]'),\n",
       " Text(15.314472632154104, 108.72, 'X[1] <= 0.76\\ngini = 0.278\\nsamples = 5\\nvalue = [1, 5]'),\n",
       " Text(15.171011530213551, 105.37476923076923, 'gini = 0.0\\nsamples = 3\\nvalue = [0, 4]'),\n",
       " Text(15.457933734094658, 105.37476923076923, 'X[1] <= 0.76\\ngini = 0.5\\nsamples = 2\\nvalue = [1, 1]'),\n",
       " Text(15.314472632154104, 102.02953846153846, 'gini = 0.0\\nsamples = 1\\nvalue = [1, 0]'),\n",
       " Text(15.601394836035212, 102.02953846153846, 'gini = 0.0\\nsamples = 1\\nvalue = [0, 1]'),\n",
       " Text(13.879861612748568, 132.13661538461537, 'X[1] <= 0.783\\ngini = 0.219\\nsamples = 7\\nvalue = [7, 1]'),\n",
       " Text(13.736400510808014, 128.79138461538463, 'gini = 0.0\\nsamples = 6\\nvalue = [7, 0]'),\n",
       " Text(14.02332271468912, 128.79138461538463, 'gini = 0.0\\nsamples = 1\\nvalue = [0, 1]'),\n",
       " Text(14.310244918570229, 135.48184615384616, 'X[0] <= 0.646\\ngini = 0.198\\nsamples = 13\\nvalue = [2, 16]'),\n",
       " Text(14.166783816629675, 132.13661538461537, 'gini = 0.0\\nsamples = 11\\nvalue = [0, 16]'),\n",
       " Text(14.453706020510783, 132.13661538461537, 'gini = 0.0\\nsamples = 2\\nvalue = [2, 0]'),\n",
       " Text(14.74062822439189, 138.8270769230769, 'X[2] <= 0.008\\ngini = 0.308\\nsamples = 14\\nvalue = [17, 4]'),\n",
       " Text(14.597167122451335, 135.48184615384616, 'gini = 0.0\\nsamples = 8\\nvalue = [13, 0]'),\n",
       " Text(14.884089326332443, 135.48184615384616, 'X[2] <= 0.008\\ngini = 0.5\\nsamples = 6\\nvalue = [4, 4]'),\n",
       " Text(14.74062822439189, 132.13661538461537, 'gini = 0.0\\nsamples = 3\\nvalue = [0, 4]'),\n",
       " Text(15.027550428272997, 132.13661538461537, 'gini = 0.0\\nsamples = 3\\nvalue = [4, 0]'),\n",
       " Text(15.171011530213551, 142.1723076923077, 'X[0] <= 0.642\\ngini = 0.245\\nsamples = 7\\nvalue = [2, 12]'),\n",
       " Text(15.027550428272997, 138.8270769230769, 'gini = 0.0\\nsamples = 1\\nvalue = [1, 0]'),\n",
       " Text(15.314472632154104, 138.8270769230769, 'X[1] <= 0.759\\ngini = 0.142\\nsamples = 6\\nvalue = [1, 12]'),\n",
       " Text(15.171011530213551, 135.48184615384616, 'gini = 0.0\\nsamples = 4\\nvalue = [0, 10]'),\n",
       " Text(15.457933734094658, 135.48184615384616, 'X[2] <= 0.009\\ngini = 0.444\\nsamples = 2\\nvalue = [1, 2]'),\n",
       " Text(15.314472632154104, 132.13661538461537, 'gini = 0.0\\nsamples = 1\\nvalue = [0, 2]'),\n",
       " Text(15.601394836035212, 132.13661538461537, 'gini = 0.0\\nsamples = 1\\nvalue = [1, 0]'),\n",
       " Text(16.31870034573798, 145.51753846153846, 'X[2] <= 0.01\\ngini = 0.363\\nsamples = 10\\nvalue = [16, 5]'),\n",
       " Text(16.031778141856872, 142.1723076923077, 'X[2] <= 0.01\\ngini = 0.142\\nsamples = 7\\nvalue = [12, 1]'),\n",
       " Text(15.88831703991632, 138.8270769230769, 'X[0] <= 0.65\\ngini = 0.375\\nsamples = 2\\nvalue = [3, 1]'),\n",
       " Text(15.744855937975766, 135.48184615384616, 'gini = 0.0\\nsamples = 1\\nvalue = [0, 1]'),\n",
       " Text(16.031778141856872, 135.48184615384616, 'gini = 0.0\\nsamples = 1\\nvalue = [3, 0]'),\n",
       " Text(16.175239243797428, 138.8270769230769, 'gini = 0.0\\nsamples = 5\\nvalue = [9, 0]'),\n",
       " Text(16.60562254961909, 142.1723076923077, 'X[2] <= 0.01\\ngini = 0.5\\nsamples = 3\\nvalue = [4, 4]'),\n",
       " Text(16.462161447678533, 138.8270769230769, 'gini = 0.0\\nsamples = 1\\nvalue = [0, 4]'),\n",
       " Text(16.74908365155964, 138.8270769230769, 'gini = 0.0\\nsamples = 2\\nvalue = [4, 0]'),\n",
       " Text(18.524414788073994, 148.86276923076923, 'X[0] <= 0.642\\ngini = 0.41\\nsamples = 51\\nvalue = [23, 57]'),\n",
       " Text(17.789176640628654, 145.51753846153846, 'X[2] <= 0.017\\ngini = 0.48\\nsamples = 28\\nvalue = [18, 27]'),\n",
       " Text(17.1794669573813, 142.1723076923077, 'X[2] <= 0.011\\ngini = 0.5\\nsamples = 21\\nvalue = [17, 16]'),\n",
       " Text(17.03600585544075, 138.8270769230769, 'gini = 0.0\\nsamples = 3\\nvalue = [0, 8]'),\n",
       " Text(17.322928059321857, 138.8270769230769, 'X[1] <= 0.781\\ngini = 0.435\\nsamples = 18\\nvalue = [17, 8]'),\n",
       " Text(16.820814202529917, 135.48184615384616, 'X[1] <= 0.77\\ngini = 0.375\\nsamples = 15\\nvalue = [15, 5]'),\n",
       " Text(16.533891998648812, 132.13661538461537, 'X[2] <= 0.013\\ngini = 0.5\\nsamples = 3\\nvalue = [2, 2]'),\n",
       " Text(16.390430896708256, 128.79138461538463, 'gini = 0.0\\nsamples = 1\\nvalue = [0, 2]'),\n",
       " Text(16.677353100589364, 128.79138461538463, 'gini = 0.0\\nsamples = 2\\nvalue = [2, 0]'),\n",
       " Text(17.107736406411025, 132.13661538461537, 'X[1] <= 0.773\\ngini = 0.305\\nsamples = 12\\nvalue = [13, 3]'),\n",
       " Text(16.964275304470473, 128.79138461538463, 'gini = 0.0\\nsamples = 3\\nvalue = [6, 0]'),\n",
       " Text(17.251197508351577, 128.79138461538463, 'X[0] <= 0.627\\ngini = 0.42\\nsamples = 9\\nvalue = [7, 3]'),\n",
       " Text(17.107736406411025, 125.44615384615385, 'gini = 0.0\\nsamples = 3\\nvalue = [4, 0]'),\n",
       " Text(17.394658610292133, 125.44615384615385, 'X[0] <= 0.63\\ngini = 0.5\\nsamples = 6\\nvalue = [3, 3]'),\n",
       " Text(17.251197508351577, 122.10092307692308, 'gini = 0.0\\nsamples = 2\\nvalue = [0, 2]'),\n",
       " Text(17.538119712232685, 122.10092307692308, 'X[0] <= 0.633\\ngini = 0.375\\nsamples = 4\\nvalue = [3, 1]'),\n",
       " Text(17.394658610292133, 118.7556923076923, 'gini = 0.0\\nsamples = 3\\nvalue = [3, 0]'),\n",
       " Text(17.68158081417324, 118.7556923076923, 'gini = 0.0\\nsamples = 1\\nvalue = [0, 1]'),\n",
       " Text(17.825041916113793, 135.48184615384616, 'X[0] <= 0.623\\ngini = 0.48\\nsamples = 3\\nvalue = [2, 3]'),\n",
       " Text(17.68158081417324, 132.13661538461537, 'X[0] <= 0.623\\ngini = 0.444\\nsamples = 2\\nvalue = [2, 1]'),\n",
       " Text(17.538119712232685, 128.79138461538463, 'gini = 0.0\\nsamples = 1\\nvalue = [0, 1]'),\n",
       " Text(17.825041916113793, 128.79138461538463, 'gini = 0.0\\nsamples = 1\\nvalue = [2, 0]'),\n",
       " Text(17.968503018054346, 132.13661538461537, 'gini = 0.0\\nsamples = 1\\nvalue = [0, 2]'),\n",
       " Text(18.39888632387601, 142.1723076923077, 'X[2] <= 0.02\\ngini = 0.153\\nsamples = 7\\nvalue = [1, 11]'),\n",
       " Text(18.255425221935454, 138.8270769230769, 'X[2] <= 0.019\\ngini = 0.375\\nsamples = 3\\nvalue = [1, 3]'),\n",
       " Text(18.1119641199949, 135.48184615384616, 'gini = 0.0\\nsamples = 2\\nvalue = [0, 3]'),\n",
       " Text(18.39888632387601, 135.48184615384616, 'gini = 0.0\\nsamples = 1\\nvalue = [1, 0]'),\n",
       " Text(18.542347425816562, 138.8270769230769, 'gini = 0.0\\nsamples = 4\\nvalue = [0, 8]'),\n",
       " Text(19.25965293551933, 145.51753846153846, 'X[2] <= 0.011\\ngini = 0.245\\nsamples = 23\\nvalue = [5, 30]'),\n",
       " Text(18.972730731638222, 142.1723076923077, 'X[2] <= 0.011\\ngini = 0.5\\nsamples = 4\\nvalue = [3, 3]'),\n",
       " Text(18.82926962969767, 138.8270769230769, 'gini = 0.0\\nsamples = 2\\nvalue = [0, 3]'),\n",
       " Text(19.116191833578778, 138.8270769230769, 'gini = 0.0\\nsamples = 2\\nvalue = [3, 0]'),\n",
       " Text(19.54657513940044, 142.1723076923077, 'X[2] <= 0.016\\ngini = 0.128\\nsamples = 19\\nvalue = [2, 27]'),\n",
       " Text(19.403114037459883, 138.8270769230769, 'gini = 0.0\\nsamples = 12\\nvalue = [0, 22]'),\n",
       " Text(19.69003624134099, 138.8270769230769, 'X[2] <= 0.017\\ngini = 0.408\\nsamples = 7\\nvalue = [2, 5]'),\n",
       " Text(19.54657513940044, 135.48184615384616, 'gini = 0.0\\nsamples = 1\\nvalue = [1, 0]'),\n",
       " Text(19.833497343281547, 135.48184615384616, 'X[0] <= 0.647\\ngini = 0.278\\nsamples = 6\\nvalue = [1, 5]'),\n",
       " Text(19.69003624134099, 132.13661538461537, 'gini = 0.0\\nsamples = 3\\nvalue = [0, 3]'),\n",
       " Text(19.9769584452221, 132.13661538461537, 'X[1] <= 0.76\\ngini = 0.444\\nsamples = 3\\nvalue = [1, 2]'),\n",
       " Text(19.833497343281547, 128.79138461538463, 'gini = 0.0\\nsamples = 2\\nvalue = [0, 2]'),\n",
       " Text(20.12041954716265, 128.79138461538463, 'gini = 0.0\\nsamples = 1\\nvalue = [1, 0]'),\n",
       " Text(14.178832307612964, 155.55323076923077, 'gini = 0.0\\nsamples = 3\\nvalue = [5, 0]'),\n",
       " Text(21.160512536231668, 158.89846153846153, 'X[2] <= 0.01\\ngini = 0.406\\nsamples = 43\\nvalue = [19, 48]'),\n",
       " Text(21.017051434291112, 155.55323076923077, 'X[2] <= 0.006\\ngini = 0.468\\nsamples = 34\\nvalue = [19, 32]'),\n",
       " Text(20.87359033235056, 152.208, 'X[1] <= 0.786\\ngini = 0.411\\nsamples = 29\\nvalue = [13, 32]'),\n",
       " Text(20.263880649103207, 148.86276923076923, 'X[1] <= 0.784\\ngini = 0.231\\nsamples = 9\\nvalue = [2, 13]'),\n",
       " Text(19.9769584452221, 145.51753846153846, 'X[1] <= 0.784\\ngini = 0.5\\nsamples = 2\\nvalue = [1, 1]'),\n",
       " Text(19.833497343281547, 142.1723076923077, 'gini = 0.0\\nsamples = 1\\nvalue = [0, 1]'),\n",
       " Text(20.12041954716265, 142.1723076923077, 'gini = 0.0\\nsamples = 1\\nvalue = [1, 0]'),\n",
       " Text(20.55080285298431, 145.51753846153846, 'X[0] <= 0.62\\ngini = 0.142\\nsamples = 7\\nvalue = [1, 12]'),\n",
       " Text(20.40734175104376, 142.1723076923077, 'X[1] <= 0.784\\ngini = 0.278\\nsamples = 5\\nvalue = [1, 5]'),\n",
       " Text(20.263880649103207, 138.8270769230769, 'gini = 0.0\\nsamples = 1\\nvalue = [1, 0]'),\n",
       " Text(20.55080285298431, 138.8270769230769, 'gini = 0.0\\nsamples = 4\\nvalue = [0, 5]'),\n",
       " Text(20.694263954924867, 142.1723076923077, 'gini = 0.0\\nsamples = 2\\nvalue = [0, 7]'),\n",
       " Text(21.483300015597912, 148.86276923076923, 'X[1] <= 0.788\\ngini = 0.464\\nsamples = 20\\nvalue = [11, 19]'),\n",
       " Text(21.124647260746528, 145.51753846153846, 'X[1] <= 0.787\\ngini = 0.219\\nsamples = 5\\nvalue = [7, 1]'),\n",
       " Text(20.981186158805976, 142.1723076923077, 'X[1] <= 0.787\\ngini = 0.375\\nsamples = 3\\nvalue = [3, 1]'),\n",
       " Text(20.83772505686542, 138.8270769230769, 'gini = 0.0\\nsamples = 2\\nvalue = [3, 0]'),\n",
       " Text(21.124647260746528, 138.8270769230769, 'gini = 0.0\\nsamples = 1\\nvalue = [0, 1]'),\n",
       " Text(21.26810836268708, 142.1723076923077, 'gini = 0.0\\nsamples = 2\\nvalue = [4, 0]'),\n",
       " Text(21.841952770449296, 145.51753846153846, 'X[1] <= 0.789\\ngini = 0.298\\nsamples = 15\\nvalue = [4, 18]'),\n",
       " Text(21.55503056656819, 142.1723076923077, 'X[0] <= 0.616\\ngini = 0.142\\nsamples = 8\\nvalue = [1, 12]'),\n",
       " Text(21.411569464627636, 138.8270769230769, 'gini = 0.0\\nsamples = 4\\nvalue = [0, 6]'),\n",
       " Text(21.698491668508744, 138.8270769230769, 'X[1] <= 0.788\\ngini = 0.245\\nsamples = 4\\nvalue = [1, 6]'),\n",
       " Text(21.55503056656819, 135.48184615384616, 'gini = 0.0\\nsamples = 3\\nvalue = [0, 6]'),\n",
       " Text(21.841952770449296, 135.48184615384616, 'gini = 0.0\\nsamples = 1\\nvalue = [1, 0]'),\n",
       " Text(22.128874974330405, 142.1723076923077, 'X[0] <= 0.613\\ngini = 0.444\\nsamples = 7\\nvalue = [3, 6]'),\n",
       " Text(21.98541387238985, 138.8270769230769, 'gini = 0.0\\nsamples = 3\\nvalue = [0, 4]'),\n",
       " Text(22.272336076270957, 138.8270769230769, 'X[1] <= 0.79\\ngini = 0.48\\nsamples = 4\\nvalue = [3, 2]'),\n",
       " Text(22.128874974330405, 135.48184615384616, 'gini = 0.5\\nsamples = 3\\nvalue = [2, 2]'),\n",
       " Text(22.415797178211513, 135.48184615384616, 'gini = 0.0\\nsamples = 1\\nvalue = [1, 0]'),\n",
       " Text(21.160512536231668, 152.208, 'gini = 0.0\\nsamples = 5\\nvalue = [6, 0]'),\n",
       " Text(21.30397363817222, 155.55323076923077, 'gini = 0.0\\nsamples = 9\\nvalue = [0, 16]'),\n",
       " Text(25.827481508735303, 162.2436923076923, 'X[2] <= 0.011\\ngini = 0.492\\nsamples = 111\\nvalue = [97, 75]'),\n",
       " Text(24.863602230072207, 158.89846153846153, 'X[2] <= 0.006\\ngini = 0.5\\nsamples = 87\\nvalue = [66, 66]'),\n",
       " Text(24.155263039240726, 155.55323076923077, 'X[0] <= 0.59\\ngini = 0.491\\nsamples = 65\\nvalue = [56, 43]'),\n",
       " Text(24.01180193730017, 152.208, 'gini = 0.0\\nsamples = 4\\nvalue = [7, 0]'),\n",
       " Text(24.298724141181278, 152.208, 'X[0] <= 0.592\\ngini = 0.498\\nsamples = 61\\nvalue = [49, 43]'),\n",
       " Text(24.155263039240726, 148.86276923076923, 'gini = 0.0\\nsamples = 5\\nvalue = [0, 5]'),\n",
       " Text(24.44218524312183, 148.86276923076923, 'X[0] <= 0.61\\ngini = 0.492\\nsamples = 56\\nvalue = [49, 38]'),\n",
       " Text(23.886273473102186, 145.51753846153846, 'X[0] <= 0.604\\ngini = 0.499\\nsamples = 49\\nvalue = [39, 36]'),\n",
       " Text(23.204833238884557, 142.1723076923077, 'X[0] <= 0.597\\ngini = 0.444\\nsamples = 26\\nvalue = [26, 13]'),\n",
       " Text(22.846180484033173, 138.8270769230769, 'X[1] <= 0.806\\ngini = 0.48\\nsamples = 10\\nvalue = [6, 9]'),\n",
       " Text(22.702719382092617, 135.48184615384616, 'X[2] <= 0.003\\ngini = 0.375\\nsamples = 9\\nvalue = [3, 9]'),\n",
       " Text(22.559258280152065, 132.13661538461537, 'X[0] <= 0.596\\ngini = 0.298\\nsamples = 8\\nvalue = [2, 9]'),\n",
       " Text(22.415797178211513, 128.79138461538463, 'X[1] <= 0.804\\ngini = 0.48\\nsamples = 5\\nvalue = [2, 3]'),\n",
       " Text(22.272336076270957, 125.44615384615385, 'gini = 0.0\\nsamples = 2\\nvalue = [2, 0]'),\n",
       " Text(22.559258280152065, 125.44615384615385, 'gini = 0.0\\nsamples = 3\\nvalue = [0, 3]'),\n",
       " Text(22.702719382092617, 128.79138461538463, 'gini = 0.0\\nsamples = 3\\nvalue = [0, 6]'),\n",
       " Text(22.846180484033173, 132.13661538461537, 'gini = 0.0\\nsamples = 1\\nvalue = [1, 0]'),\n",
       " Text(22.989641585973725, 135.48184615384616, 'gini = 0.0\\nsamples = 1\\nvalue = [3, 0]'),\n",
       " Text(23.56348599373594, 138.8270769230769, 'X[1] <= 0.8\\ngini = 0.278\\nsamples = 16\\nvalue = [20, 4]'),\n",
       " Text(23.276563789854833, 135.48184615384616, 'X[0] <= 0.602\\ngini = 0.133\\nsamples = 8\\nvalue = [13, 1]'),\n",
       " Text(23.133102687914278, 132.13661538461537, 'X[1] <= 0.798\\ngini = 0.245\\nsamples = 4\\nvalue = [6, 1]'),\n",
       " Text(22.989641585973725, 128.79138461538463, 'gini = 0.0\\nsamples = 1\\nvalue = [0, 1]'),\n",
       " Text(23.276563789854833, 128.79138461538463, 'gini = 0.0\\nsamples = 3\\nvalue = [6, 0]'),\n",
       " Text(23.420024891795386, 132.13661538461537, 'gini = 0.0\\nsamples = 4\\nvalue = [7, 0]'),\n",
       " Text(23.850408197617046, 135.48184615384616, 'X[1] <= 0.802\\ngini = 0.42\\nsamples = 8\\nvalue = [7, 3]'),\n",
       " Text(23.706947095676494, 132.13661538461537, 'X[1] <= 0.802\\ngini = 0.5\\nsamples = 5\\nvalue = [3, 3]'),\n",
       " Text(23.56348599373594, 128.79138461538463, 'X[1] <= 0.801\\ngini = 0.48\\nsamples = 4\\nvalue = [3, 2]'),\n",
       " Text(23.420024891795386, 125.44615384615385, 'gini = 0.5\\nsamples = 3\\nvalue = [2, 2]'),\n",
       " Text(23.706947095676494, 125.44615384615385, 'gini = 0.0\\nsamples = 1\\nvalue = [1, 0]'),\n",
       " Text(23.850408197617046, 128.79138461538463, 'gini = 0.0\\nsamples = 1\\nvalue = [0, 1]'),\n",
       " Text(23.993869299557602, 132.13661538461537, 'gini = 0.0\\nsamples = 3\\nvalue = [4, 0]'),\n",
       " Text(24.567713707319815, 142.1723076923077, 'X[1] <= 0.793\\ngini = 0.461\\nsamples = 23\\nvalue = [13, 23]'),\n",
       " Text(24.424252605379262, 138.8270769230769, 'gini = 0.0\\nsamples = 2\\nvalue = [0, 4]'),\n",
       " Text(24.71117480926037, 138.8270769230769, 'X[0] <= 0.607\\ngini = 0.482\\nsamples = 21\\nvalue = [13, 19]'),\n",
       " Text(24.424252605379262, 135.48184615384616, 'X[0] <= 0.605\\ngini = 0.401\\nsamples = 10\\nvalue = [5, 13]'),\n",
       " Text(24.28079150343871, 132.13661538461537, 'X[0] <= 0.605\\ngini = 0.473\\nsamples = 7\\nvalue = [5, 8]'),\n",
       " Text(24.137330401498154, 128.79138461538463, 'gini = 0.408\\nsamples = 3\\nvalue = [2, 5]'),\n",
       " Text(24.424252605379262, 128.79138461538463, 'X[0] <= 0.605\\ngini = 0.5\\nsamples = 4\\nvalue = [3, 3]'),\n",
       " Text(24.28079150343871, 125.44615384615385, 'gini = 0.0\\nsamples = 1\\nvalue = [1, 0]'),\n",
       " Text(24.567713707319815, 125.44615384615385, 'gini = 0.48\\nsamples = 3\\nvalue = [2, 3]'),\n",
       " Text(24.567713707319815, 132.13661538461537, 'gini = 0.0\\nsamples = 3\\nvalue = [0, 5]'),\n",
       " Text(24.99809701314148, 135.48184615384616, 'X[1] <= 0.794\\ngini = 0.49\\nsamples = 11\\nvalue = [8, 6]'),\n",
       " Text(24.854635911200923, 132.13661538461537, 'X[0] <= 0.608\\ngini = 0.444\\nsamples = 7\\nvalue = [3, 6]'),\n",
       " Text(24.71117480926037, 128.79138461538463, 'gini = 0.0\\nsamples = 2\\nvalue = [0, 4]'),\n",
       " Text(24.99809701314148, 128.79138461538463, 'X[1] <= 0.793\\ngini = 0.48\\nsamples = 5\\nvalue = [3, 2]'),\n",
       " Text(24.854635911200923, 125.44615384615385, 'X[1] <= 0.793\\ngini = 0.444\\nsamples = 3\\nvalue = [1, 2]'),\n",
       " Text(24.71117480926037, 122.10092307692308, 'gini = 0.0\\nsamples = 1\\nvalue = [1, 0]'),\n",
       " Text(24.99809701314148, 122.10092307692308, 'gini = 0.0\\nsamples = 2\\nvalue = [0, 2]'),\n",
       " Text(25.14155811508203, 125.44615384615385, 'gini = 0.0\\nsamples = 2\\nvalue = [2, 0]'),\n",
       " Text(25.14155811508203, 132.13661538461537, 'gini = 0.0\\nsamples = 4\\nvalue = [5, 0]'),\n",
       " Text(24.99809701314148, 145.51753846153846, 'X[0] <= 0.611\\ngini = 0.278\\nsamples = 7\\nvalue = [10, 2]'),\n",
       " Text(24.854635911200923, 142.1723076923077, 'gini = 0.0\\nsamples = 3\\nvalue = [6, 0]'),\n",
       " Text(25.14155811508203, 142.1723076923077, 'X[0] <= 0.611\\ngini = 0.444\\nsamples = 4\\nvalue = [4, 2]'),\n",
       " Text(24.99809701314148, 138.8270769230769, 'gini = 0.0\\nsamples = 1\\nvalue = [0, 2]'),\n",
       " Text(25.285019217022583, 138.8270769230769, 'gini = 0.0\\nsamples = 3\\nvalue = [4, 0]'),\n",
       " Text(25.57194142090369, 155.55323076923077, 'X[2] <= 0.009\\ngini = 0.422\\nsamples = 22\\nvalue = [10, 23]'),\n",
       " Text(25.42848031896314, 152.208, 'gini = 0.0\\nsamples = 6\\nvalue = [0, 11]'),\n",
       " Text(25.715402522844247, 152.208, 'X[2] <= 0.009\\ngini = 0.496\\nsamples = 16\\nvalue = [10, 12]'),\n",
       " Text(25.57194142090369, 148.86276923076923, 'gini = 0.0\\nsamples = 2\\nvalue = [4, 0]'),\n",
       " Text(25.8588636247848, 148.86276923076923, 'X[2] <= 0.01\\ngini = 0.444\\nsamples = 14\\nvalue = [6, 12]'),\n",
       " Text(25.57194142090369, 145.51753846153846, 'X[1] <= 0.791\\ngini = 0.298\\nsamples = 8\\nvalue = [2, 9]'),\n",
       " Text(25.42848031896314, 142.1723076923077, 'gini = 0.0\\nsamples = 1\\nvalue = [1, 0]'),\n",
       " Text(25.715402522844247, 142.1723076923077, 'X[1] <= 0.801\\ngini = 0.18\\nsamples = 7\\nvalue = [1, 9]'),\n",
       " Text(25.57194142090369, 138.8270769230769, 'gini = 0.0\\nsamples = 5\\nvalue = [0, 6]'),\n",
       " Text(25.8588636247848, 138.8270769230769, 'gini = 0.375\\nsamples = 2\\nvalue = [1, 3]'),\n",
       " Text(26.145785828665908, 145.51753846153846, 'X[0] <= 0.593\\ngini = 0.49\\nsamples = 6\\nvalue = [4, 3]'),\n",
       " Text(26.00232472672535, 142.1723076923077, 'gini = 0.0\\nsamples = 3\\nvalue = [0, 3]'),\n",
       " Text(26.28924693060646, 142.1723076923077, 'gini = 0.0\\nsamples = 3\\nvalue = [4, 0]'),\n",
       " Text(26.791360787398396, 158.89846153846153, 'X[2] <= 0.016\\ngini = 0.349\\nsamples = 24\\nvalue = [31, 9]'),\n",
       " Text(26.432708032547012, 155.55323076923077, 'X[0] <= 0.595\\ngini = 0.077\\nsamples = 14\\nvalue = [24, 1]'),\n",
       " Text(26.28924693060646, 152.208, 'X[1] <= 0.805\\ngini = 0.278\\nsamples = 4\\nvalue = [5, 1]'),\n",
       " Text(26.145785828665908, 148.86276923076923, 'gini = 0.0\\nsamples = 1\\nvalue = [0, 1]'),\n",
       " Text(26.432708032547012, 148.86276923076923, 'gini = 0.0\\nsamples = 3\\nvalue = [5, 0]'),\n",
       " Text(26.576169134487568, 152.208, 'gini = 0.0\\nsamples = 10\\nvalue = [19, 0]'),\n",
       " Text(27.15001354224978, 155.55323076923077, 'X[1] <= 0.802\\ngini = 0.498\\nsamples = 10\\nvalue = [7, 8]'),\n",
       " Text(26.863091338368676, 152.208, 'X[1] <= 0.797\\ngini = 0.245\\nsamples = 5\\nvalue = [1, 6]'),\n",
       " Text(26.71963023642812, 148.86276923076923, 'gini = 0.0\\nsamples = 1\\nvalue = [1, 0]'),\n",
       " Text(27.00655244030923, 148.86276923076923, 'gini = 0.0\\nsamples = 4\\nvalue = [0, 6]'),\n",
       " Text(27.43693574613089, 152.208, 'X[0] <= 0.592\\ngini = 0.375\\nsamples = 5\\nvalue = [6, 2]'),\n",
       " Text(27.293474644190336, 148.86276923076923, 'gini = 0.0\\nsamples = 1\\nvalue = [0, 2]'),\n",
       " Text(27.580396848071445, 148.86276923076923, 'gini = 0.0\\nsamples = 4\\nvalue = [6, 0]'),\n",
       " Text(16.45133882060343, 168.93415384615383, 'gini = 0.0\\nsamples = 5\\nvalue = [6, 0]'),\n",
       " Text(28.728085663595873, 172.27938461538463, 'X[1] <= 0.811\\ngini = 0.257\\nsamples = 22\\nvalue = [5, 28]'),\n",
       " Text(28.584624561655318, 168.93415384615383, 'gini = 0.0\\nsamples = 7\\nvalue = [0, 10]'),\n",
       " Text(28.871546765536426, 168.93415384615383, 'X[0] <= 0.585\\ngini = 0.34\\nsamples = 15\\nvalue = [5, 18]'),\n",
       " Text(28.728085663595873, 165.58892307692307, 'X[2] <= 0.007\\ngini = 0.298\\nsamples = 14\\nvalue = [4, 18]'),\n",
       " Text(28.584624561655318, 162.2436923076923, 'X[2] <= 0.003\\ngini = 0.391\\nsamples = 10\\nvalue = [4, 11]'),\n",
       " Text(28.441163459714765, 158.89846153846153, 'X[1] <= 0.813\\ngini = 0.337\\nsamples = 9\\nvalue = [3, 11]'),\n",
       " Text(28.154241255833657, 155.55323076923077, 'X[1] <= 0.812\\ngini = 0.198\\nsamples = 5\\nvalue = [1, 8]'),\n",
       " Text(28.010780153893105, 152.208, 'X[1] <= 0.812\\ngini = 0.375\\nsamples = 3\\nvalue = [1, 3]'),\n",
       " Text(27.86731905195255, 148.86276923076923, 'gini = 0.0\\nsamples = 2\\nvalue = [0, 3]'),\n",
       " Text(28.154241255833657, 148.86276923076923, 'gini = 0.0\\nsamples = 1\\nvalue = [1, 0]'),\n",
       " Text(28.297702357774213, 152.208, 'gini = 0.0\\nsamples = 2\\nvalue = [0, 5]'),\n",
       " Text(28.728085663595873, 155.55323076923077, 'X[1] <= 0.813\\ngini = 0.48\\nsamples = 4\\nvalue = [2, 3]'),\n",
       " Text(28.584624561655318, 152.208, 'gini = 0.0\\nsamples = 1\\nvalue = [1, 0]'),\n",
       " Text(28.871546765536426, 152.208, 'gini = 0.375\\nsamples = 3\\nvalue = [1, 3]'),\n",
       " Text(28.728085663595873, 158.89846153846153, 'gini = 0.0\\nsamples = 1\\nvalue = [1, 0]'),\n",
       " Text(28.871546765536426, 162.2436923076923, 'gini = 0.0\\nsamples = 4\\nvalue = [0, 7]'),\n",
       " Text(29.01500786747698, 165.58892307692307, 'gini = 0.0\\nsamples = 1\\nvalue = [1, 0]'),\n",
       " Text(22.661442793069927, 185.6603076923077, 'X[2] <= 0.034\\ngini = 0.255\\nsamples = 12\\nvalue = [3, 17]'),\n",
       " Text(22.517981691129375, 182.31507692307693, 'gini = 0.0\\nsamples = 4\\nvalue = [0, 7]'),\n",
       " Text(22.80490389501048, 182.31507692307693, 'X[2] <= 0.038\\ngini = 0.355\\nsamples = 8\\nvalue = [3, 10]'),\n",
       " Text(22.661442793069927, 178.96984615384616, 'gini = 0.0\\nsamples = 1\\nvalue = [1, 0]'),\n",
       " Text(22.948364996951035, 178.96984615384616, 'X[2] <= 0.039\\ngini = 0.278\\nsamples = 7\\nvalue = [2, 10]'),\n",
       " Text(22.80490389501048, 175.62461538461537, 'gini = 0.444\\nsamples = 2\\nvalue = [2, 4]'),\n",
       " Text(23.091826098891588, 175.62461538461537, 'gini = 0.0\\nsamples = 5\\nvalue = [0, 6]'),\n",
       " Text(84.1364589938166, 189.00553846153846, 'X[2] <= 0.015\\ngini = 0.486\\nsamples = 1685\\nvalue = [1125, 1578]'),\n",
       " Text(73.84861395413503, 185.6603076923077, 'X[2] <= 0.006\\ngini = 0.483\\nsamples = 1550\\nvalue = [1013, 1468]'),\n",
       " Text(63.844196311674914, 182.31507692307693, 'X[2] <= 0.006\\ngini = 0.492\\nsamples = 952\\nvalue = [668, 860]'),\n",
       " Text(60.74585593033897, 178.96984615384616, 'X[2] <= 0.005\\ngini = 0.491\\nsamples = 923\\nvalue = [640, 844]'),\n",
       " Text(56.05551673804289, 175.62461538461537, 'X[1] <= 0.663\\ngini = 0.492\\nsamples = 912\\nvalue = [637, 825]'),\n",
       " Text(51.67804428362754, 172.27938461538463, 'X[1] <= 0.634\\ngini = 0.496\\nsamples = 696\\nvalue = [504, 602]'),\n",
       " Text(48.23116014659735, 168.93415384615383, 'X[1] <= 0.63\\ngini = 0.491\\nsamples = 597\\nvalue = [410, 533]'),\n",
       " Text(43.489308401645246, 165.58892307692307, 'X[0] <= 0.853\\ngini = 0.493\\nsamples = 585\\nvalue = [407, 517]'),\n",
       " Text(35.888531874710814, 162.2436923076923, 'X[1] <= 0.629\\ngini = 0.487\\nsamples = 419\\nvalue = [276, 381]'),\n",
       " Text(33.66908775660315, 158.89846153846153, 'X[1] <= 0.527\\ngini = 0.486\\nsamples = 416\\nvalue = [271, 380]'),\n",
       " Text(29.66058282620947, 155.55323076923077, 'X[0] <= 0.852\\ngini = 0.366\\nsamples = 21\\nvalue = [7, 22]'),\n",
       " Text(29.158468969417534, 152.208, 'X[2] <= 0.002\\ngini = 0.245\\nsamples = 9\\nvalue = [2, 12]'),\n",
       " Text(29.01500786747698, 148.86276923076923, 'X[1] <= 0.526\\ngini = 0.142\\nsamples = 8\\nvalue = [1, 12]'),\n",
       " Text(28.871546765536426, 145.51753846153846, 'gini = 0.0\\nsamples = 5\\nvalue = [0, 9]'),\n",
       " Text(29.158468969417534, 145.51753846153846, 'X[1] <= 0.526\\ngini = 0.375\\nsamples = 3\\nvalue = [1, 3]'),\n",
       " Text(29.01500786747698, 142.1723076923077, 'gini = 0.0\\nsamples = 1\\nvalue = [1, 0]'),\n",
       " Text(29.301930071358086, 142.1723076923077, 'gini = 0.0\\nsamples = 2\\nvalue = [0, 3]'),\n",
       " Text(29.301930071358086, 148.86276923076923, 'gini = 0.0\\nsamples = 1\\nvalue = [1, 0]'),\n",
       " Text(30.16269668300141, 152.208, 'X[1] <= 0.523\\ngini = 0.444\\nsamples = 12\\nvalue = [5, 10]'),\n",
       " Text(29.875774479120302, 148.86276923076923, 'X[1] <= 0.523\\ngini = 0.245\\nsamples = 6\\nvalue = [1, 6]'),\n",
       " Text(29.732313377179747, 145.51753846153846, 'X[1] <= 0.522\\ngini = 0.444\\nsamples = 3\\nvalue = [1, 2]'),\n",
       " Text(29.588852275239194, 142.1723076923077, 'gini = 0.0\\nsamples = 2\\nvalue = [0, 2]'),\n",
       " Text(29.875774479120302, 142.1723076923077, 'gini = 0.0\\nsamples = 1\\nvalue = [1, 0]'),\n",
       " Text(30.019235581060855, 145.51753846153846, 'gini = 0.0\\nsamples = 3\\nvalue = [0, 4]'),\n",
       " Text(30.449618886882515, 148.86276923076923, 'X[0] <= 0.852\\ngini = 0.5\\nsamples = 6\\nvalue = [4, 4]'),\n",
       " Text(30.306157784941963, 145.51753846153846, 'X[1] <= 0.524\\ngini = 0.444\\nsamples = 5\\nvalue = [2, 4]'),\n",
       " Text(30.16269668300141, 142.1723076923077, 'X[1] <= 0.523\\ngini = 0.32\\nsamples = 4\\nvalue = [1, 4]'),\n",
       " Text(30.019235581060855, 138.8270769230769, 'gini = 0.0\\nsamples = 2\\nvalue = [0, 2]'),\n",
       " Text(30.306157784941963, 138.8270769230769, 'gini = 0.444\\nsamples = 2\\nvalue = [1, 2]'),\n",
       " Text(30.449618886882515, 142.1723076923077, 'gini = 0.0\\nsamples = 1\\nvalue = [1, 0]'),\n",
       " Text(30.59307998882307, 145.51753846153846, 'gini = 0.0\\nsamples = 1\\nvalue = [2, 0]'),\n",
       " Text(37.67759268699682, 155.55323076923077, 'X[1] <= 0.527\\ngini = 0.489\\nsamples = 395\\nvalue = [264, 358]'),\n",
       " Text(37.534131585056265, 152.208, 'gini = 0.0\\nsamples = 3\\nvalue = [4, 0]'),\n",
       " Text(37.82105378893737, 152.208, 'X[1] <= 0.528\\ngini = 0.487\\nsamples = 392\\nvalue = [260, 358]'),\n",
       " Text(37.67759268699682, 148.86276923076923, 'gini = 0.0\\nsamples = 4\\nvalue = [0, 7]'),\n",
       " Text(37.96451489087793, 148.86276923076923, 'X[0] <= 0.788\\ngini = 0.489\\nsamples = 388\\nvalue = [260, 351]'),\n",
       " Text(31.202789672070423, 145.51753846153846, 'X[1] <= 0.62\\ngini = 0.438\\nsamples = 44\\nvalue = [24, 50]'),\n",
       " Text(30.736541090763623, 142.1723076923077, 'X[1] <= 0.617\\ngini = 0.128\\nsamples = 14\\nvalue = [2, 27]'),\n",
       " Text(30.59307998882307, 138.8270769230769, 'X[1] <= 0.617\\ngini = 0.444\\nsamples = 4\\nvalue = [2, 4]'),\n",
       " Text(30.449618886882515, 135.48184615384616, 'gini = 0.0\\nsamples = 3\\nvalue = [0, 4]'),\n",
       " Text(30.736541090763623, 135.48184615384616, 'gini = 0.0\\nsamples = 1\\nvalue = [2, 0]'),\n",
       " Text(30.88000219270418, 138.8270769230769, 'gini = 0.0\\nsamples = 10\\nvalue = [0, 23]'),\n",
       " Text(31.669038253377224, 142.1723076923077, 'X[1] <= 0.627\\ngini = 0.5\\nsamples = 30\\nvalue = [22, 23]'),\n",
       " Text(31.166924396585284, 138.8270769230769, 'X[1] <= 0.625\\ngini = 0.475\\nsamples = 18\\nvalue = [19, 12]'),\n",
       " Text(31.02346329464473, 135.48184615384616, 'X[1] <= 0.621\\ngini = 0.499\\nsamples = 13\\nvalue = [11, 12]'),\n",
       " Text(30.736541090763623, 132.13661538461537, 'X[0] <= 0.784\\ngini = 0.245\\nsamples = 4\\nvalue = [6, 1]'),\n",
       " Text(30.59307998882307, 128.79138461538463, 'gini = 0.0\\nsamples = 2\\nvalue = [5, 0]'),\n",
       " Text(30.88000219270418, 128.79138461538463, 'gini = 0.5\\nsamples = 2\\nvalue = [1, 1]'),\n",
       " Text(31.31038549852584, 132.13661538461537, 'X[0] <= 0.782\\ngini = 0.43\\nsamples = 9\\nvalue = [5, 11]'),\n",
       " Text(31.166924396585284, 128.79138461538463, 'gini = 0.0\\nsamples = 3\\nvalue = [0, 4]'),\n",
       " Text(31.45384660046639, 128.79138461538463, 'X[0] <= 0.783\\ngini = 0.486\\nsamples = 6\\nvalue = [5, 7]'),\n",
       " Text(31.31038549852584, 125.44615384615385, 'X[1] <= 0.622\\ngini = 0.469\\nsamples = 5\\nvalue = [5, 3]'),\n",
       " Text(31.166924396585284, 122.10092307692308, 'gini = 0.0\\nsamples = 2\\nvalue = [3, 0]'),\n",
       " Text(31.45384660046639, 122.10092307692308, 'X[0] <= 0.782\\ngini = 0.48\\nsamples = 3\\nvalue = [2, 3]'),\n",
       " Text(31.31038549852584, 118.7556923076923, 'gini = 0.0\\nsamples = 2\\nvalue = [2, 0]'),\n",
       " Text(31.597307702406948, 118.7556923076923, 'gini = 0.0\\nsamples = 1\\nvalue = [0, 3]'),\n",
       " Text(31.597307702406948, 125.44615384615385, 'gini = 0.0\\nsamples = 1\\nvalue = [0, 4]'),\n",
       " Text(31.31038549852584, 135.48184615384616, 'gini = 0.0\\nsamples = 5\\nvalue = [8, 0]'),\n",
       " Text(32.17115211016916, 138.8270769230769, 'X[0] <= 0.778\\ngini = 0.337\\nsamples = 12\\nvalue = [3, 11]'),\n",
       " Text(32.02769100822861, 135.48184615384616, 'gini = 0.0\\nsamples = 2\\nvalue = [0, 3]'),\n",
       " Text(32.31461321210971, 135.48184615384616, 'X[1] <= 0.628\\ngini = 0.397\\nsamples = 10\\nvalue = [3, 8]'),\n",
       " Text(31.884229906288052, 132.13661538461537, 'X[0] <= 0.779\\ngini = 0.245\\nsamples = 6\\nvalue = [1, 6]'),\n",
       " Text(31.7407688043475, 128.79138461538463, 'gini = 0.0\\nsamples = 3\\nvalue = [0, 4]'),\n",
       " Text(32.02769100822861, 128.79138461538463, 'X[1] <= 0.627\\ngini = 0.444\\nsamples = 3\\nvalue = [1, 2]'),\n",
       " Text(31.884229906288052, 125.44615384615385, 'gini = 0.0\\nsamples = 2\\nvalue = [0, 2]'),\n",
       " Text(32.17115211016916, 125.44615384615385, 'gini = 0.0\\nsamples = 1\\nvalue = [1, 0]'),\n",
       " Text(32.744996517931376, 132.13661538461537, 'X[0] <= 0.778\\ngini = 0.5\\nsamples = 4\\nvalue = [2, 2]'),\n",
       " Text(32.601535415990824, 128.79138461538463, 'X[1] <= 0.628\\ngini = 0.444\\nsamples = 3\\nvalue = [1, 2]'),\n",
       " Text(32.458074314050265, 125.44615384615385, 'gini = 0.0\\nsamples = 1\\nvalue = [0, 1]'),\n",
       " Text(32.744996517931376, 125.44615384615385, 'gini = 0.5\\nsamples = 2\\nvalue = [1, 1]'),\n",
       " Text(32.88845761987193, 128.79138461538463, 'gini = 0.0\\nsamples = 1\\nvalue = [1, 0]'),\n",
       " Text(44.72624010968543, 145.51753846153846, 'X[0] <= 0.788\\ngini = 0.493\\nsamples = 344\\nvalue = [236, 301]'),\n",
       " Text(44.582779007744875, 142.1723076923077, 'gini = 0.0\\nsamples = 4\\nvalue = [8, 0]'),\n",
       " Text(44.86970121162598, 142.1723076923077, 'X[2] <= 0.005\\ngini = 0.49\\nsamples = 340\\nvalue = [228, 301]'),\n",
       " Text(42.57656516029494, 138.8270769230769, 'X[2] <= 0.004\\ngini = 0.494\\nsamples = 317\\nvalue = [220, 273]'),\n",
       " Text(38.85105966927619, 135.48184615384616, 'X[0] <= 0.811\\ngini = 0.491\\nsamples = 304\\nvalue = [204, 268]'),\n",
       " Text(34.14374226185177, 132.13661538461537, 'X[1] <= 0.598\\ngini = 0.457\\nsamples = 95\\nvalue = [53, 97]'),\n",
       " Text(33.17537982375303, 128.79138461538463, 'X[0] <= 0.802\\ngini = 0.346\\nsamples = 45\\nvalue = [16, 56]'),\n",
       " Text(33.03191872181248, 125.44615384615385, 'gini = 0.0\\nsamples = 9\\nvalue = [0, 15]'),\n",
       " Text(33.31884092569359, 125.44615384615385, 'X[1] <= 0.595\\ngini = 0.404\\nsamples = 36\\nvalue = [16, 41]'),\n",
       " Text(32.744996517931376, 122.10092307692308, 'X[0] <= 0.805\\ngini = 0.298\\nsamples = 28\\nvalue = [8, 36]'),\n",
       " Text(32.601535415990824, 118.7556923076923, 'gini = 0.0\\nsamples = 6\\nvalue = [0, 10]'),\n",
       " Text(32.88845761987193, 118.7556923076923, 'X[0] <= 0.806\\ngini = 0.36\\nsamples = 22\\nvalue = [8, 26]'),\n",
       " Text(32.744996517931376, 115.41046153846153, 'gini = 0.0\\nsamples = 1\\nvalue = [1, 0]'),\n",
       " Text(33.03191872181248, 115.41046153846153, 'X[0] <= 0.807\\ngini = 0.334\\nsamples = 21\\nvalue = [7, 26]'),\n",
       " Text(32.744996517931376, 112.06523076923077, 'X[1] <= 0.592\\ngini = 0.469\\nsamples = 6\\nvalue = [3, 5]'),\n",
       " Text(32.601535415990824, 108.72, 'X[0] <= 0.807\\ngini = 0.375\\nsamples = 3\\nvalue = [3, 1]'),\n",
       " Text(32.458074314050265, 105.37476923076923, 'gini = 0.0\\nsamples = 1\\nvalue = [2, 0]'),\n",
       " Text(32.744996517931376, 105.37476923076923, 'X[1] <= 0.591\\ngini = 0.5\\nsamples = 2\\nvalue = [1, 1]'),\n",
       " Text(32.601535415990824, 102.02953846153846, 'gini = 0.0\\nsamples = 1\\nvalue = [1, 0]'),\n",
       " Text(32.88845761987193, 102.02953846153846, 'gini = 0.0\\nsamples = 1\\nvalue = [0, 1]'),\n",
       " Text(32.88845761987193, 108.72, 'gini = 0.0\\nsamples = 3\\nvalue = [0, 4]'),\n",
       " Text(33.31884092569359, 112.06523076923077, 'X[0] <= 0.809\\ngini = 0.269\\nsamples = 15\\nvalue = [4, 21]'),\n",
       " Text(33.17537982375303, 108.72, 'gini = 0.0\\nsamples = 6\\nvalue = [0, 11]'),\n",
       " Text(33.462302027634145, 108.72, 'X[1] <= 0.587\\ngini = 0.408\\nsamples = 9\\nvalue = [4, 10]'),\n",
       " Text(33.31884092569359, 105.37476923076923, 'X[0] <= 0.81\\ngini = 0.355\\nsamples = 8\\nvalue = [3, 10]'),\n",
       " Text(33.17537982375303, 102.02953846153846, 'gini = 0.0\\nsamples = 3\\nvalue = [0, 4]'),\n",
       " Text(33.462302027634145, 102.02953846153846, 'X[1] <= 0.585\\ngini = 0.444\\nsamples = 5\\nvalue = [3, 6]'),\n",
       " Text(33.31884092569359, 98.68430769230768, 'gini = 0.0\\nsamples = 2\\nvalue = [0, 3]'),\n",
       " Text(33.6057631295747, 98.68430769230768, 'X[0] <= 0.811\\ngini = 0.5\\nsamples = 3\\nvalue = [3, 3]'),\n",
       " Text(33.462302027634145, 95.33907692307692, 'gini = 0.0\\nsamples = 1\\nvalue = [1, 0]'),\n",
       " Text(33.74922423151525, 95.33907692307692, 'gini = 0.48\\nsamples = 2\\nvalue = [2, 3]'),\n",
       " Text(33.6057631295747, 105.37476923076923, 'gini = 0.0\\nsamples = 1\\nvalue = [1, 0]'),\n",
       " Text(33.8926853334558, 122.10092307692308, 'X[1] <= 0.596\\ngini = 0.473\\nsamples = 8\\nvalue = [8, 5]'),\n",
       " Text(33.6057631295747, 118.7556923076923, 'X[0] <= 0.803\\ngini = 0.278\\nsamples = 4\\nvalue = [5, 1]'),\n",
       " Text(33.462302027634145, 115.41046153846153, 'gini = 0.0\\nsamples = 2\\nvalue = [3, 0]'),\n",
       " Text(33.74922423151525, 115.41046153846153, 'X[0] <= 0.803\\ngini = 0.444\\nsamples = 2\\nvalue = [2, 1]'),\n",
       " Text(33.6057631295747, 112.06523076923077, 'gini = 0.0\\nsamples = 1\\nvalue = [0, 1]'),\n",
       " Text(33.8926853334558, 112.06523076923077, 'gini = 0.0\\nsamples = 1\\nvalue = [2, 0]'),\n",
       " Text(34.17960753733691, 118.7556923076923, 'X[0] <= 0.803\\ngini = 0.49\\nsamples = 4\\nvalue = [3, 4]'),\n",
       " Text(34.03614643539636, 115.41046153846153, 'gini = 0.375\\nsamples = 2\\nvalue = [3, 1]'),\n",
       " Text(34.323068639277466, 115.41046153846153, 'gini = 0.0\\nsamples = 2\\nvalue = [0, 3]'),\n",
       " Text(35.112104699950514, 128.79138461538463, 'X[0] <= 0.788\\ngini = 0.499\\nsamples = 50\\nvalue = [37, 41]'),\n",
       " Text(34.968643598009955, 125.44615384615385, 'gini = 0.0\\nsamples = 3\\nvalue = [0, 4]'),\n",
       " Text(35.255565801891066, 125.44615384615385, 'X[1] <= 0.614\\ngini = 0.5\\nsamples = 47\\nvalue = [37, 37]'),\n",
       " Text(35.112104699950514, 122.10092307692308, 'X[0] <= 0.79\\ngini = 0.499\\nsamples = 44\\nvalue = [34, 37]'),\n",
       " Text(34.75345194509913, 118.7556923076923, 'X[0] <= 0.79\\ngini = 0.278\\nsamples = 4\\nvalue = [1, 5]'),\n",
       " Text(34.60999084315857, 115.41046153846153, 'gini = 0.5\\nsamples = 2\\nvalue = [1, 1]'),\n",
       " Text(34.89691304703968, 115.41046153846153, 'gini = 0.0\\nsamples = 2\\nvalue = [0, 4]'),\n",
       " Text(35.4707574548019, 118.7556923076923, 'X[1] <= 0.611\\ngini = 0.5\\nsamples = 40\\nvalue = [33, 32]'),\n",
       " Text(35.18383525092079, 115.41046153846153, 'X[1] <= 0.611\\ngini = 0.498\\nsamples = 34\\nvalue = [27, 31]'),\n",
       " Text(35.040374148980234, 112.06523076923077, 'X[0] <= 0.798\\ngini = 0.499\\nsamples = 32\\nvalue = [27, 25]'),\n",
       " Text(34.68172139412885, 108.72, 'X[0] <= 0.793\\ngini = 0.444\\nsamples = 16\\nvalue = [16, 8]'),\n",
       " Text(34.394799190247745, 105.37476923076923, 'X[1] <= 0.61\\ngini = 0.469\\nsamples = 5\\nvalue = [3, 5]'),\n",
       " Text(34.251338088307186, 102.02953846153846, 'gini = 0.0\\nsamples = 3\\nvalue = [0, 5]'),\n",
       " Text(34.5382602921883, 102.02953846153846, 'gini = 0.0\\nsamples = 2\\nvalue = [3, 0]'),\n",
       " Text(34.968643598009955, 105.37476923076923, 'X[0] <= 0.795\\ngini = 0.305\\nsamples = 11\\nvalue = [13, 3]'),\n",
       " Text(34.8251824960694, 102.02953846153846, 'gini = 0.0\\nsamples = 4\\nvalue = [5, 0]'),\n",
       " Text(35.112104699950514, 102.02953846153846, 'X[0] <= 0.796\\ngini = 0.397\\nsamples = 7\\nvalue = [8, 3]'),\n",
       " Text(34.968643598009955, 98.68430769230768, 'X[0] <= 0.796\\ngini = 0.5\\nsamples = 4\\nvalue = [3, 3]'),\n",
       " Text(34.8251824960694, 95.33907692307692, 'X[1] <= 0.606\\ngini = 0.375\\nsamples = 3\\nvalue = [3, 1]'),\n",
       " Text(34.68172139412885, 91.99384615384615, 'gini = 0.0\\nsamples = 2\\nvalue = [3, 0]'),\n",
       " Text(34.968643598009955, 91.99384615384615, 'gini = 0.0\\nsamples = 1\\nvalue = [0, 1]'),\n",
       " Text(35.112104699950514, 95.33907692307692, 'gini = 0.0\\nsamples = 1\\nvalue = [0, 2]'),\n",
       " Text(35.255565801891066, 98.68430769230768, 'gini = 0.0\\nsamples = 3\\nvalue = [5, 0]'),\n",
       " Text(35.39902690383162, 108.72, 'X[0] <= 0.798\\ngini = 0.477\\nsamples = 16\\nvalue = [11, 17]'),\n",
       " Text(35.255565801891066, 105.37476923076923, 'gini = 0.0\\nsamples = 3\\nvalue = [0, 6]'),\n",
       " Text(35.54248800577217, 105.37476923076923, 'X[0] <= 0.799\\ngini = 0.5\\nsamples = 13\\nvalue = [11, 11]'),\n",
       " Text(35.39902690383162, 102.02953846153846, 'gini = 0.0\\nsamples = 1\\nvalue = [1, 0]'),\n",
       " Text(35.68594910771272, 102.02953846153846, 'X[0] <= 0.801\\ngini = 0.499\\nsamples = 12\\nvalue = [10, 11]'),\n",
       " Text(35.54248800577217, 98.68430769230768, 'X[1] <= 0.6\\ngini = 0.495\\nsamples = 11\\nvalue = [9, 11]'),\n",
       " Text(35.39902690383162, 95.33907692307692, 'gini = 0.0\\nsamples = 1\\nvalue = [0, 1]'),\n",
       " Text(35.68594910771272, 95.33907692307692, 'gini = 0.499\\nsamples = 10\\nvalue = [9, 10]'),\n",
       " Text(35.82941020965328, 98.68430769230768, 'gini = 0.0\\nsamples = 1\\nvalue = [1, 0]'),\n",
       " Text(35.32729635286134, 112.06523076923077, 'gini = 0.0\\nsamples = 2\\nvalue = [0, 6]'),\n",
       " Text(35.757679658683, 115.41046153846153, 'X[0] <= 0.79\\ngini = 0.245\\nsamples = 6\\nvalue = [6, 1]'),\n",
       " Text(35.61421855674245, 112.06523076923077, 'gini = 0.0\\nsamples = 3\\nvalue = [3, 0]'),\n",
       " Text(35.901140760623555, 112.06523076923077, 'X[1] <= 0.612\\ngini = 0.375\\nsamples = 3\\nvalue = [3, 1]'),\n",
       " Text(35.757679658683, 108.72, 'gini = 0.0\\nsamples = 2\\nvalue = [3, 0]'),\n",
       " Text(36.04460186256411, 108.72, 'gini = 0.0\\nsamples = 1\\nvalue = [0, 1]'),\n",
       " Text(35.39902690383162, 122.10092307692308, 'gini = 0.0\\nsamples = 3\\nvalue = [3, 0]'),\n",
       " Text(43.55837707670061, 132.13661538461537, 'X[1] <= 0.584\\ngini = 0.498\\nsamples = 209\\nvalue = [151, 171]'),\n",
       " Text(43.414915974760056, 128.79138461538463, 'X[2] <= 0.002\\ngini = 0.497\\nsamples = 207\\nvalue = [146, 171]'),\n",
       " Text(41.24506680790918, 125.44615384615385, 'X[1] <= 0.564\\ngini = 0.498\\nsamples = 202\\nvalue = [145, 163]'),\n",
       " Text(38.411710044583245, 122.10092307692308, 'X[0] <= 0.829\\ngini = 0.486\\nsamples = 119\\nvalue = [72, 101]'),\n",
       " Text(37.87373091230617, 118.7556923076923, 'X[0] <= 0.827\\ngini = 0.153\\nsamples = 10\\nvalue = [1, 11]'),\n",
       " Text(37.73026981036561, 115.41046153846153, 'X[0] <= 0.826\\ngini = 0.375\\nsamples = 4\\nvalue = [1, 3]'),\n",
       " Text(37.58680870842506, 112.06523076923077, 'gini = 0.0\\nsamples = 3\\nvalue = [0, 3]'),\n",
       " Text(37.87373091230617, 112.06523076923077, 'gini = 0.0\\nsamples = 1\\nvalue = [1, 0]'),\n",
       " Text(38.017192014246724, 115.41046153846153, 'gini = 0.0\\nsamples = 6\\nvalue = [0, 8]'),\n",
       " Text(38.949689176860325, 118.7556923076923, 'X[0] <= 0.829\\ngini = 0.493\\nsamples = 109\\nvalue = [71, 90]'),\n",
       " Text(38.806228074919765, 115.41046153846153, 'gini = 0.0\\nsamples = 2\\nvalue = [2, 0]'),\n",
       " Text(39.09315027880088, 115.41046153846153, 'X[0] <= 0.841\\ngini = 0.491\\nsamples = 107\\nvalue = [69, 90]'),\n",
       " Text(38.16065311618728, 112.06523076923077, 'X[0] <= 0.839\\ngini = 0.473\\nsamples = 59\\nvalue = [36, 58]'),\n",
       " Text(37.33575178002909, 108.72, 'X[0] <= 0.834\\ngini = 0.489\\nsamples = 51\\nvalue = [35, 47]'),\n",
       " Text(36.618446270326324, 105.37476923076923, 'X[1] <= 0.555\\ngini = 0.454\\nsamples = 29\\nvalue = [16, 30]'),\n",
       " Text(36.25979351547494, 102.02953846153846, 'X[1] <= 0.554\\ngini = 0.375\\nsamples = 21\\nvalue = [8, 24]'),\n",
       " Text(36.11633241353439, 98.68430769230768, 'X[0] <= 0.833\\ngini = 0.473\\nsamples = 9\\nvalue = [5, 8]'),\n",
       " Text(35.972871311593835, 95.33907692307692, 'gini = 0.0\\nsamples = 4\\nvalue = [4, 0]'),\n",
       " Text(36.25979351547494, 95.33907692307692, 'X[0] <= 0.834\\ngini = 0.198\\nsamples = 5\\nvalue = [1, 8]'),\n",
       " Text(36.11633241353439, 91.99384615384615, 'gini = 0.0\\nsamples = 3\\nvalue = [0, 5]'),\n",
       " Text(36.40325461741549, 91.99384615384615, 'X[1] <= 0.552\\ngini = 0.375\\nsamples = 2\\nvalue = [1, 3]'),\n",
       " Text(36.25979351547494, 88.64861538461537, 'gini = 0.0\\nsamples = 1\\nvalue = [0, 3]'),\n",
       " Text(36.54671571935605, 88.64861538461537, 'gini = 0.0\\nsamples = 1\\nvalue = [1, 0]'),\n",
       " Text(36.40325461741549, 98.68430769230768, 'gini = 0.266\\nsamples = 12\\nvalue = [3, 16]'),\n",
       " Text(36.97709902517771, 102.02953846153846, 'X[1] <= 0.557\\ngini = 0.49\\nsamples = 8\\nvalue = [8, 6]'),\n",
       " Text(36.6901768212966, 98.68430769230768, 'X[0] <= 0.83\\ngini = 0.278\\nsamples = 4\\nvalue = [5, 1]'),\n",
       " Text(36.54671571935605, 95.33907692307692, 'gini = 0.444\\nsamples = 2\\nvalue = [2, 1]'),\n",
       " Text(36.833637923237156, 95.33907692307692, 'gini = 0.0\\nsamples = 2\\nvalue = [3, 0]'),\n",
       " Text(37.26402122905881, 98.68430769230768, 'X[0] <= 0.829\\ngini = 0.469\\nsamples = 4\\nvalue = [3, 5]'),\n",
       " Text(37.12056012711826, 95.33907692307692, 'gini = 0.48\\nsamples = 2\\nvalue = [3, 2]'),\n",
       " Text(37.40748233099937, 95.33907692307692, 'gini = 0.0\\nsamples = 2\\nvalue = [0, 3]'),\n",
       " Text(38.05305728973186, 105.37476923076923, 'X[0] <= 0.836\\ngini = 0.498\\nsamples = 22\\nvalue = [19, 17]'),\n",
       " Text(37.694404534880476, 102.02953846153846, 'X[0] <= 0.834\\ngini = 0.375\\nsamples = 6\\nvalue = [9, 3]'),\n",
       " Text(37.550943432939924, 98.68430769230768, 'gini = 0.5\\nsamples = 2\\nvalue = [2, 2]'),\n",
       " Text(37.83786563682103, 98.68430769230768, 'X[0] <= 0.836\\ngini = 0.219\\nsamples = 4\\nvalue = [7, 1]'),\n",
       " Text(37.694404534880476, 95.33907692307692, 'X[1] <= 0.55\\ngini = 0.32\\nsamples = 3\\nvalue = [4, 1]'),\n",
       " Text(37.550943432939924, 91.99384615384615, 'gini = 0.444\\nsamples = 2\\nvalue = [2, 1]'),\n",
       " Text(37.83786563682103, 91.99384615384615, 'gini = 0.0\\nsamples = 1\\nvalue = [2, 0]'),\n",
       " Text(37.98132673876158, 95.33907692307692, 'gini = 0.0\\nsamples = 1\\nvalue = [3, 0]'),\n",
       " Text(38.411710044583245, 102.02953846153846, 'X[0] <= 0.836\\ngini = 0.486\\nsamples = 16\\nvalue = [10, 14]'),\n",
       " Text(38.26824894264269, 98.68430769230768, 'gini = 0.0\\nsamples = 1\\nvalue = [0, 2]'),\n",
       " Text(38.5551711465238, 98.68430769230768, 'X[1] <= 0.547\\ngini = 0.496\\nsamples = 15\\nvalue = [10, 12]'),\n",
       " Text(38.26824894264269, 95.33907692307692, 'X[1] <= 0.545\\ngini = 0.444\\nsamples = 7\\nvalue = [4, 8]'),\n",
       " Text(38.12478784070214, 91.99384615384615, 'gini = 0.0\\nsamples = 1\\nvalue = [1, 0]'),\n",
       " Text(38.411710044583245, 91.99384615384615, 'X[0] <= 0.837\\ngini = 0.397\\nsamples = 6\\nvalue = [3, 8]'),\n",
       " Text(38.26824894264269, 88.64861538461537, 'gini = 0.0\\nsamples = 1\\nvalue = [0, 3]'),\n",
       " Text(38.5551711465238, 88.64861538461537, 'X[1] <= 0.546\\ngini = 0.469\\nsamples = 5\\nvalue = [3, 5]'),\n",
       " Text(38.411710044583245, 85.3033846153846, 'X[1] <= 0.546\\ngini = 0.278\\nsamples = 4\\nvalue = [1, 5]'),\n",
       " Text(38.26824894264269, 81.95815384615383, 'X[0] <= 0.838\\ngini = 0.444\\nsamples = 2\\nvalue = [1, 2]'),\n",
       " Text(38.12478784070214, 78.61292307692307, 'gini = 0.0\\nsamples = 1\\nvalue = [1, 0]'),\n",
       " Text(38.411710044583245, 78.61292307692307, 'gini = 0.0\\nsamples = 1\\nvalue = [0, 2]'),\n",
       " Text(38.5551711465238, 81.95815384615383, 'gini = 0.0\\nsamples = 2\\nvalue = [0, 3]'),\n",
       " Text(38.69863224846435, 85.3033846153846, 'gini = 0.0\\nsamples = 1\\nvalue = [2, 0]'),\n",
       " Text(38.84209335040491, 95.33907692307692, 'X[1] <= 0.548\\ngini = 0.48\\nsamples = 8\\nvalue = [6, 4]'),\n",
       " Text(38.69863224846435, 91.99384615384615, 'gini = 0.0\\nsamples = 3\\nvalue = [4, 0]'),\n",
       " Text(38.98555445234546, 91.99384615384615, 'X[0] <= 0.837\\ngini = 0.444\\nsamples = 5\\nvalue = [2, 4]'),\n",
       " Text(38.84209335040491, 88.64861538461537, 'gini = 0.444\\nsamples = 3\\nvalue = [2, 1]'),\n",
       " Text(39.12901555428601, 88.64861538461537, 'gini = 0.0\\nsamples = 2\\nvalue = [0, 3]'),\n",
       " Text(38.98555445234546, 108.72, 'X[1] <= 0.543\\ngini = 0.153\\nsamples = 8\\nvalue = [1, 11]'),\n",
       " Text(38.84209335040491, 105.37476923076923, 'X[1] <= 0.543\\ngini = 0.375\\nsamples = 3\\nvalue = [1, 3]'),\n",
       " Text(38.69863224846435, 102.02953846153846, 'gini = 0.0\\nsamples = 2\\nvalue = [0, 3]'),\n",
       " Text(38.98555445234546, 102.02953846153846, 'gini = 0.0\\nsamples = 1\\nvalue = [1, 0]'),\n",
       " Text(39.12901555428601, 105.37476923076923, 'gini = 0.0\\nsamples = 5\\nvalue = [0, 8]'),\n",
       " Text(40.02564744141447, 112.06523076923077, 'X[0] <= 0.841\\ngini = 0.5\\nsamples = 48\\nvalue = [33, 32]'),\n",
       " Text(39.55939886010768, 108.72, 'X[1] <= 0.541\\ngini = 0.219\\nsamples = 4\\nvalue = [7, 1]'),\n",
       " Text(39.41593775816712, 105.37476923076923, 'gini = 0.0\\nsamples = 1\\nvalue = [2, 0]'),\n",
       " Text(39.70285996204823, 105.37476923076923, 'X[0] <= 0.841\\ngini = 0.278\\nsamples = 3\\nvalue = [5, 1]'),\n",
       " Text(39.55939886010768, 102.02953846153846, 'gini = 0.0\\nsamples = 1\\nvalue = [2, 0]'),\n",
       " Text(39.84632106398878, 102.02953846153846, 'gini = 0.375\\nsamples = 2\\nvalue = [3, 1]'),\n",
       " Text(40.49189602272127, 108.72, 'X[0] <= 0.842\\ngini = 0.496\\nsamples = 44\\nvalue = [26, 31]'),\n",
       " Text(40.34843492078072, 105.37476923076923, 'gini = 0.0\\nsamples = 2\\nvalue = [0, 4]'),\n",
       " Text(40.63535712466183, 105.37476923076923, 'X[1] <= 0.538\\ngini = 0.5\\nsamples = 42\\nvalue = [26, 27]'),\n",
       " Text(40.13324326786989, 102.02953846153846, 'X[0] <= 0.845\\ngini = 0.48\\nsamples = 33\\nvalue = [16, 24]'),\n",
       " Text(39.84632106398878, 98.68430769230768, 'X[1] <= 0.537\\ngini = 0.32\\nsamples = 9\\nvalue = [2, 8]'),\n",
       " Text(39.70285996204823, 95.33907692307692, 'X[1] <= 0.536\\ngini = 0.408\\nsamples = 7\\nvalue = [2, 5]'),\n",
       " Text(39.55939886010768, 91.99384615384615, 'gini = 0.0\\nsamples = 2\\nvalue = [0, 2]'),\n",
       " Text(39.84632106398878, 91.99384615384615, 'gini = 0.48\\nsamples = 5\\nvalue = [2, 3]'),\n",
       " Text(39.989782165929334, 95.33907692307692, 'gini = 0.0\\nsamples = 2\\nvalue = [0, 3]'),\n",
       " Text(40.420165471751, 98.68430769230768, 'X[0] <= 0.849\\ngini = 0.498\\nsamples = 24\\nvalue = [14, 16]'),\n",
       " Text(40.276704369810446, 95.33907692307692, 'X[1] <= 0.528\\ngini = 0.495\\nsamples = 23\\nvalue = [13, 16]'),\n",
       " Text(40.13324326786989, 91.99384615384615, 'gini = 0.0\\nsamples = 1\\nvalue = [0, 2]'),\n",
       " Text(40.420165471751, 91.99384615384615, 'X[0] <= 0.847\\ngini = 0.499\\nsamples = 22\\nvalue = [13, 14]'),\n",
       " Text(40.061512716899614, 88.64861538461537, 'X[1] <= 0.533\\ngini = 0.469\\nsamples = 7\\nvalue = [3, 5]'),\n",
       " Text(39.91805161495906, 85.3033846153846, 'gini = 0.0\\nsamples = 2\\nvalue = [0, 3]'),\n",
       " Text(40.204973818840166, 85.3033846153846, 'X[0] <= 0.846\\ngini = 0.48\\nsamples = 5\\nvalue = [3, 2]'),\n",
       " Text(40.061512716899614, 81.95815384615383, 'X[0] <= 0.845\\ngini = 0.5\\nsamples = 4\\nvalue = [2, 2]'),\n",
       " Text(39.91805161495906, 78.61292307692307, 'X[1] <= 0.535\\ngini = 0.444\\nsamples = 3\\nvalue = [2, 1]'),\n",
       " Text(39.7745905130185, 75.2676923076923, 'gini = 0.0\\nsamples = 1\\nvalue = [1, 0]'),\n",
       " Text(40.061512716899614, 75.2676923076923, 'gini = 0.5\\nsamples = 2\\nvalue = [1, 1]'),\n",
       " Text(40.204973818840166, 78.61292307692307, 'gini = 0.0\\nsamples = 1\\nvalue = [0, 1]'),\n",
       " Text(40.34843492078072, 81.95815384615383, 'gini = 0.0\\nsamples = 1\\nvalue = [1, 0]'),\n",
       " Text(40.77881822660238, 88.64861538461537, 'X[0] <= 0.847\\ngini = 0.499\\nsamples = 15\\nvalue = [10, 9]'),\n",
       " Text(40.63535712466183, 85.3033846153846, 'gini = 0.0\\nsamples = 1\\nvalue = [2, 0]'),\n",
       " Text(40.922279328542935, 85.3033846153846, 'X[1] <= 0.531\\ngini = 0.498\\nsamples = 14\\nvalue = [8, 9]'),\n",
       " Text(40.77881822660238, 81.95815384615383, 'X[1] <= 0.531\\ngini = 0.498\\nsamples = 12\\nvalue = [8, 7]'),\n",
       " Text(40.49189602272127, 78.61292307692307, 'X[1] <= 0.528\\ngini = 0.469\\nsamples = 6\\nvalue = [3, 5]'),\n",
       " Text(40.34843492078072, 75.2676923076923, 'X[0] <= 0.849\\ngini = 0.48\\nsamples = 3\\nvalue = [3, 2]'),\n",
       " Text(40.204973818840166, 71.92246153846153, 'gini = 0.0\\nsamples = 1\\nvalue = [1, 0]'),\n",
       " Text(40.49189602272127, 71.92246153846153, 'gini = 0.5\\nsamples = 2\\nvalue = [2, 2]'),\n",
       " Text(40.63535712466183, 75.2676923076923, 'gini = 0.0\\nsamples = 3\\nvalue = [0, 3]'),\n",
       " Text(41.06574043048349, 78.61292307692307, 'X[1] <= 0.531\\ngini = 0.408\\nsamples = 6\\nvalue = [5, 2]'),\n",
       " Text(40.922279328542935, 75.2676923076923, 'gini = 0.0\\nsamples = 2\\nvalue = [3, 0]'),\n",
       " Text(41.20920153242404, 75.2676923076923, 'X[1] <= 0.531\\ngini = 0.5\\nsamples = 4\\nvalue = [2, 2]'),\n",
       " Text(41.06574043048349, 71.92246153846153, 'gini = 0.0\\nsamples = 1\\nvalue = [0, 1]'),\n",
       " Text(41.3526626343646, 71.92246153846153, 'X[1] <= 0.531\\ngini = 0.444\\nsamples = 3\\nvalue = [2, 1]'),\n",
       " Text(41.20920153242404, 68.57723076923077, 'gini = 0.5\\nsamples = 2\\nvalue = [1, 1]'),\n",
       " Text(41.49612373630515, 68.57723076923077, 'gini = 0.0\\nsamples = 1\\nvalue = [1, 0]'),\n",
       " Text(41.06574043048349, 81.95815384615383, 'gini = 0.0\\nsamples = 2\\nvalue = [0, 2]'),\n",
       " Text(40.56362657369155, 95.33907692307692, 'gini = 0.0\\nsamples = 1\\nvalue = [1, 0]'),\n",
       " Text(41.13747098145377, 102.02953846153846, 'X[0] <= 0.842\\ngini = 0.355\\nsamples = 9\\nvalue = [10, 3]'),\n",
       " Text(40.994009879513214, 98.68430769230768, 'X[0] <= 0.842\\ngini = 0.49\\nsamples = 5\\nvalue = [4, 3]'),\n",
       " Text(40.850548777572655, 95.33907692307692, 'gini = 0.0\\nsamples = 2\\nvalue = [3, 0]'),\n",
       " Text(41.13747098145377, 95.33907692307692, 'X[0] <= 0.842\\ngini = 0.375\\nsamples = 3\\nvalue = [1, 3]'),\n",
       " Text(40.994009879513214, 91.99384615384615, 'gini = 0.0\\nsamples = 1\\nvalue = [0, 2]'),\n",
       " Text(41.28093208339432, 91.99384615384615, 'X[0] <= 0.842\\ngini = 0.5\\nsamples = 2\\nvalue = [1, 1]'),\n",
       " Text(41.13747098145377, 88.64861538461537, 'gini = 0.0\\nsamples = 1\\nvalue = [1, 0]'),\n",
       " Text(41.42439318533487, 88.64861538461537, 'gini = 0.0\\nsamples = 1\\nvalue = [0, 1]'),\n",
       " Text(41.28093208339432, 98.68430769230768, 'gini = 0.0\\nsamples = 4\\nvalue = [6, 0]'),\n",
       " Text(44.07842357123511, 122.10092307692308, 'X[1] <= 0.571\\ngini = 0.497\\nsamples = 83\\nvalue = [73, 62]'),\n",
       " Text(43.14592640862151, 118.7556923076923, 'X[1] <= 0.569\\ngini = 0.464\\nsamples = 32\\nvalue = [38, 22]'),\n",
       " Text(42.42862089891875, 115.41046153846153, 'X[1] <= 0.567\\ngini = 0.499\\nsamples = 15\\nvalue = [14, 13]'),\n",
       " Text(42.14169869503764, 112.06523076923077, 'X[0] <= 0.826\\ngini = 0.432\\nsamples = 9\\nvalue = [13, 6]'),\n",
       " Text(41.99823759309709, 108.72, 'X[1] <= 0.565\\ngini = 0.469\\nsamples = 8\\nvalue = [10, 6]'),\n",
       " Text(41.854776491156535, 105.37476923076923, 'gini = 0.0\\nsamples = 1\\nvalue = [0, 2]'),\n",
       " Text(42.14169869503764, 105.37476923076923, 'X[1] <= 0.566\\ngini = 0.408\\nsamples = 7\\nvalue = [10, 4]'),\n",
       " Text(41.99823759309709, 102.02953846153846, 'X[0] <= 0.824\\ngini = 0.32\\nsamples = 5\\nvalue = [8, 2]'),\n",
       " Text(41.854776491156535, 98.68430769230768, 'gini = 0.0\\nsamples = 1\\nvalue = [3, 0]'),\n",
       " Text(42.14169869503764, 98.68430769230768, 'X[1] <= 0.566\\ngini = 0.408\\nsamples = 4\\nvalue = [5, 2]'),\n",
       " Text(41.99823759309709, 95.33907692307692, 'X[1] <= 0.566\\ngini = 0.278\\nsamples = 3\\nvalue = [5, 1]'),\n",
       " Text(41.854776491156535, 91.99384615384615, 'X[0] <= 0.825\\ngini = 0.444\\nsamples = 2\\nvalue = [2, 1]'),\n",
       " Text(41.71131538921598, 88.64861538461537, 'gini = 0.0\\nsamples = 1\\nvalue = [0, 1]'),\n",
       " Text(41.99823759309709, 88.64861538461537, 'gini = 0.0\\nsamples = 1\\nvalue = [2, 0]'),\n",
       " Text(42.14169869503764, 91.99384615384615, 'gini = 0.0\\nsamples = 1\\nvalue = [3, 0]'),\n",
       " Text(42.28515979697819, 95.33907692307692, 'gini = 0.0\\nsamples = 1\\nvalue = [0, 1]'),\n",
       " Text(42.28515979697819, 102.02953846153846, 'gini = 0.5\\nsamples = 2\\nvalue = [2, 2]'),\n",
       " Text(42.28515979697819, 108.72, 'gini = 0.0\\nsamples = 1\\nvalue = [3, 0]'),\n",
       " Text(42.715543102799856, 112.06523076923077, 'X[0] <= 0.823\\ngini = 0.219\\nsamples = 6\\nvalue = [1, 7]'),\n",
       " Text(42.572082000859304, 108.72, 'gini = 0.0\\nsamples = 4\\nvalue = [0, 5]'),\n",
       " Text(42.85900420474041, 108.72, 'X[0] <= 0.824\\ngini = 0.444\\nsamples = 2\\nvalue = [1, 2]'),\n",
       " Text(42.715543102799856, 105.37476923076923, 'gini = 0.0\\nsamples = 1\\nvalue = [1, 0]'),\n",
       " Text(43.00246530668096, 105.37476923076923, 'gini = 0.0\\nsamples = 1\\nvalue = [0, 2]'),\n",
       " Text(43.86323191832428, 115.41046153846153, 'X[0] <= 0.822\\ngini = 0.397\\nsamples = 17\\nvalue = [24, 9]'),\n",
       " Text(43.71977081638373, 112.06523076923077, 'X[0] <= 0.822\\ngini = 0.428\\nsamples = 15\\nvalue = [20, 9]'),\n",
       " Text(43.432848612502625, 108.72, 'X[0] <= 0.821\\ngini = 0.346\\nsamples = 8\\nvalue = [14, 4]'),\n",
       " Text(43.28938751056207, 105.37476923076923, 'X[1] <= 0.571\\ngini = 0.463\\nsamples = 6\\nvalue = [7, 4]'),\n",
       " Text(43.14592640862151, 102.02953846153846, 'gini = 0.0\\nsamples = 1\\nvalue = [0, 2]'),\n",
       " Text(43.432848612502625, 102.02953846153846, 'X[1] <= 0.571\\ngini = 0.346\\nsamples = 5\\nvalue = [7, 2]'),\n",
       " Text(43.28938751056207, 98.68430769230768, 'gini = 0.0\\nsamples = 2\\nvalue = [3, 0]'),\n",
       " Text(43.57630971444318, 98.68430769230768, 'gini = 0.444\\nsamples = 3\\nvalue = [4, 2]'),\n",
       " Text(43.57630971444318, 105.37476923076923, 'gini = 0.0\\nsamples = 2\\nvalue = [7, 0]'),\n",
       " Text(44.00669302026484, 108.72, 'X[1] <= 0.569\\ngini = 0.496\\nsamples = 7\\nvalue = [6, 5]'),\n",
       " Text(43.86323191832428, 105.37476923076923, 'gini = 0.375\\nsamples = 5\\nvalue = [6, 2]'),\n",
       " Text(44.15015412220539, 105.37476923076923, 'gini = 0.0\\nsamples = 2\\nvalue = [0, 3]'),\n",
       " Text(44.00669302026484, 112.06523076923077, 'gini = 0.0\\nsamples = 2\\nvalue = [4, 0]'),\n",
       " Text(45.010920733848714, 118.7556923076923, 'X[0] <= 0.82\\ngini = 0.498\\nsamples = 51\\nvalue = [35, 40]'),\n",
       " Text(44.86745963190816, 115.41046153846153, 'X[0] <= 0.819\\ngini = 0.5\\nsamples = 47\\nvalue = [35, 34]'),\n",
       " Text(44.72399852996761, 112.06523076923077, 'X[0] <= 0.818\\ngini = 0.499\\nsamples = 45\\nvalue = [31, 34]'),\n",
       " Text(44.58053742802705, 108.72, 'X[0] <= 0.818\\ngini = 0.499\\nsamples = 40\\nvalue = [31, 28]'),\n",
       " Text(44.4370763260865, 105.37476923076923, 'X[1] <= 0.576\\ngini = 0.498\\nsamples = 37\\nvalue = [25, 28]'),\n",
       " Text(44.293615224145945, 102.02953846153846, 'gini = 0.0\\nsamples = 2\\nvalue = [0, 4]'),\n",
       " Text(44.58053742802705, 102.02953846153846, 'X[1] <= 0.583\\ngini = 0.5\\nsamples = 35\\nvalue = [25, 24]'),\n",
       " Text(44.4370763260865, 98.68430769230768, 'X[1] <= 0.582\\ngini = 0.496\\nsamples = 34\\nvalue = [25, 21]'),\n",
       " Text(44.15015412220539, 95.33907692307692, 'X[0] <= 0.817\\ngini = 0.5\\nsamples = 30\\nvalue = [20, 20]'),\n",
       " Text(44.00669302026484, 91.99384615384615, 'X[0] <= 0.817\\ngini = 0.499\\nsamples = 28\\nvalue = [18, 20]'),\n",
       " Text(43.86323191832428, 88.64861538461537, 'X[0] <= 0.817\\ngini = 0.5\\nsamples = 26\\nvalue = [18, 17]'),\n",
       " Text(43.71977081638373, 85.3033846153846, 'X[0] <= 0.815\\ngini = 0.495\\nsamples = 23\\nvalue = [14, 17]'),\n",
       " Text(43.432848612502625, 81.95815384615383, 'X[0] <= 0.814\\ngini = 0.492\\nsamples = 11\\nvalue = [9, 7]'),\n",
       " Text(43.28938751056207, 78.61292307692307, 'X[1] <= 0.581\\ngini = 0.463\\nsamples = 7\\nvalue = [4, 7]'),\n",
       " Text(43.14592640862151, 75.2676923076923, 'gini = 0.48\\nsamples = 6\\nvalue = [4, 6]'),\n",
       " Text(43.432848612502625, 75.2676923076923, 'gini = 0.0\\nsamples = 1\\nvalue = [0, 1]'),\n",
       " Text(43.57630971444318, 78.61292307692307, 'gini = 0.0\\nsamples = 4\\nvalue = [5, 0]'),\n",
       " Text(44.00669302026484, 81.95815384615383, 'X[0] <= 0.815\\ngini = 0.444\\nsamples = 12\\nvalue = [5, 10]'),\n",
       " Text(43.86323191832428, 78.61292307692307, 'gini = 0.0\\nsamples = 3\\nvalue = [0, 5]'),\n",
       " Text(44.15015412220539, 78.61292307692307, 'X[0] <= 0.816\\ngini = 0.5\\nsamples = 9\\nvalue = [5, 5]'),\n",
       " Text(44.00669302026484, 75.2676923076923, 'gini = 0.0\\nsamples = 2\\nvalue = [3, 0]'),\n",
       " Text(44.293615224145945, 75.2676923076923, 'X[0] <= 0.816\\ngini = 0.408\\nsamples = 7\\nvalue = [2, 5]'),\n",
       " Text(44.15015412220539, 71.92246153846153, 'gini = 0.0\\nsamples = 3\\nvalue = [0, 3]'),\n",
       " Text(44.4370763260865, 71.92246153846153, 'X[1] <= 0.577\\ngini = 0.5\\nsamples = 4\\nvalue = [2, 2]'),\n",
       " Text(44.293615224145945, 68.57723076923077, 'gini = 0.0\\nsamples = 1\\nvalue = [0, 1]'),\n",
       " Text(44.58053742802705, 68.57723076923077, 'X[0] <= 0.816\\ngini = 0.444\\nsamples = 3\\nvalue = [2, 1]'),\n",
       " Text(44.4370763260865, 65.232, 'gini = 0.0\\nsamples = 1\\nvalue = [1, 0]'),\n",
       " Text(44.72399852996761, 65.232, 'X[1] <= 0.577\\ngini = 0.5\\nsamples = 2\\nvalue = [1, 1]'),\n",
       " Text(44.58053742802705, 61.88676923076923, 'gini = 0.0\\nsamples = 1\\nvalue = [1, 0]'),\n",
       " Text(44.86745963190816, 61.88676923076923, 'gini = 0.0\\nsamples = 1\\nvalue = [0, 1]'),\n",
       " Text(44.00669302026484, 85.3033846153846, 'gini = 0.0\\nsamples = 3\\nvalue = [4, 0]'),\n",
       " Text(44.15015412220539, 88.64861538461537, 'gini = 0.0\\nsamples = 2\\nvalue = [0, 3]'),\n",
       " Text(44.293615224145945, 91.99384615384615, 'gini = 0.0\\nsamples = 2\\nvalue = [2, 0]'),\n",
       " Text(44.72399852996761, 95.33907692307692, 'X[1] <= 0.583\\ngini = 0.278\\nsamples = 4\\nvalue = [5, 1]'),\n",
       " Text(44.58053742802705, 91.99384615384615, 'gini = 0.0\\nsamples = 2\\nvalue = [3, 0]'),\n",
       " Text(44.86745963190816, 91.99384615384615, 'X[1] <= 0.583\\ngini = 0.444\\nsamples = 2\\nvalue = [2, 1]'),\n",
       " Text(44.72399852996761, 88.64861538461537, 'gini = 0.0\\nsamples = 1\\nvalue = [0, 1]'),\n",
       " Text(45.010920733848714, 88.64861538461537, 'gini = 0.0\\nsamples = 1\\nvalue = [2, 0]'),\n",
       " Text(44.72399852996761, 98.68430769230768, 'gini = 0.0\\nsamples = 1\\nvalue = [0, 3]'),\n",
       " Text(44.72399852996761, 105.37476923076923, 'gini = 0.0\\nsamples = 3\\nvalue = [6, 0]'),\n",
       " Text(44.86745963190816, 108.72, 'gini = 0.0\\nsamples = 5\\nvalue = [0, 6]'),\n",
       " Text(45.010920733848714, 112.06523076923077, 'gini = 0.0\\nsamples = 2\\nvalue = [4, 0]'),\n",
       " Text(45.154381835789266, 115.41046153846153, 'gini = 0.0\\nsamples = 4\\nvalue = [0, 6]'),\n",
       " Text(45.58476514161093, 125.44615384615385, 'X[1] <= 0.565\\ngini = 0.198\\nsamples = 5\\nvalue = [1, 8]'),\n",
       " Text(45.44130403967038, 122.10092307692308, 'X[1] <= 0.548\\ngini = 0.444\\nsamples = 2\\nvalue = [1, 2]'),\n",
       " Text(45.29784293772982, 118.7556923076923, 'gini = 0.0\\nsamples = 1\\nvalue = [0, 2]'),\n",
       " Text(45.58476514161093, 118.7556923076923, 'gini = 0.0\\nsamples = 1\\nvalue = [1, 0]'),\n",
       " Text(45.72822624355148, 122.10092307692308, 'gini = 0.0\\nsamples = 3\\nvalue = [0, 6]'),\n",
       " Text(43.70183817864116, 128.79138461538463, 'gini = 0.0\\nsamples = 2\\nvalue = [5, 0]'),\n",
       " Text(46.3020706513137, 135.48184615384616, 'X[1] <= 0.542\\ngini = 0.363\\nsamples = 13\\nvalue = [16, 5]'),\n",
       " Text(46.158609549373146, 132.13661538461537, 'X[2] <= 0.005\\ngini = 0.5\\nsamples = 6\\nvalue = [5, 5]'),\n",
       " Text(46.01514844743259, 128.79138461538463, 'X[2] <= 0.004\\ngini = 0.278\\nsamples = 4\\nvalue = [1, 5]'),\n",
       " Text(45.871687345492035, 125.44615384615385, 'gini = 0.0\\nsamples = 1\\nvalue = [1, 0]'),\n",
       " Text(46.158609549373146, 125.44615384615385, 'gini = 0.0\\nsamples = 3\\nvalue = [0, 5]'),\n",
       " Text(46.3020706513137, 128.79138461538463, 'gini = 0.0\\nsamples = 2\\nvalue = [4, 0]'),\n",
       " Text(46.44553175325425, 132.13661538461537, 'gini = 0.0\\nsamples = 7\\nvalue = [11, 0]'),\n",
       " Text(47.16283726295702, 138.8270769230769, 'X[2] <= 0.005\\ngini = 0.346\\nsamples = 23\\nvalue = [8, 28]'),\n",
       " Text(46.875915059075915, 135.48184615384616, 'X[1] <= 0.535\\ngini = 0.271\\nsamples = 18\\nvalue = [5, 26]'),\n",
       " Text(46.732453957135355, 132.13661538461537, 'gini = 0.0\\nsamples = 1\\nvalue = [1, 0]'),\n",
       " Text(47.01937616101647, 132.13661538461537, 'X[0] <= 0.793\\ngini = 0.231\\nsamples = 17\\nvalue = [4, 26]'),\n",
       " Text(46.875915059075915, 128.79138461538463, 'gini = 0.0\\nsamples = 1\\nvalue = [1, 0]'),\n",
       " Text(47.16283726295702, 128.79138461538463, 'X[1] <= 0.554\\ngini = 0.185\\nsamples = 16\\nvalue = [3, 26]'),\n",
       " Text(47.01937616101647, 125.44615384615385, 'gini = 0.0\\nsamples = 5\\nvalue = [0, 11]'),\n",
       " Text(47.30629836489757, 125.44615384615385, 'X[1] <= 0.559\\ngini = 0.278\\nsamples = 11\\nvalue = [3, 15]'),\n",
       " Text(47.16283726295702, 122.10092307692308, 'gini = 0.0\\nsamples = 1\\nvalue = [1, 0]'),\n",
       " Text(47.449759466838124, 122.10092307692308, 'X[2] <= 0.005\\ngini = 0.208\\nsamples = 10\\nvalue = [2, 15]'),\n",
       " Text(47.30629836489757, 118.7556923076923, 'X[1] <= 0.575\\ngini = 0.444\\nsamples = 4\\nvalue = [2, 4]'),\n",
       " Text(47.16283726295702, 115.41046153846153, 'gini = 0.0\\nsamples = 2\\nvalue = [2, 0]'),\n",
       " Text(47.449759466838124, 115.41046153846153, 'gini = 0.0\\nsamples = 2\\nvalue = [0, 4]'),\n",
       " Text(47.59322056877868, 118.7556923076923, 'gini = 0.0\\nsamples = 6\\nvalue = [0, 11]'),\n",
       " Text(47.449759466838124, 135.48184615384616, 'X[0] <= 0.828\\ngini = 0.48\\nsamples = 5\\nvalue = [3, 2]'),\n",
       " Text(47.30629836489757, 132.13661538461537, 'gini = 0.0\\nsamples = 3\\nvalue = [3, 0]'),\n",
       " Text(47.59322056877868, 132.13661538461537, 'gini = 0.0\\nsamples = 2\\nvalue = [0, 2]'),\n",
       " Text(38.10797599281848, 158.89846153846153, 'X[0] <= 0.777\\ngini = 0.278\\nsamples = 3\\nvalue = [5, 1]'),\n",
       " Text(37.96451489087793, 155.55323076923077, 'gini = 0.0\\nsamples = 1\\nvalue = [3, 0]'),\n",
       " Text(38.251437094759034, 155.55323076923077, 'X[1] <= 0.63\\ngini = 0.444\\nsamples = 2\\nvalue = [2, 1]'),\n",
       " Text(38.10797599281848, 152.208, 'gini = 0.0\\nsamples = 1\\nvalue = [2, 0]'),\n",
       " Text(38.394898196699586, 152.208, 'gini = 0.0\\nsamples = 1\\nvalue = [0, 1]'),\n",
       " Text(51.09008492857968, 162.2436923076923, 'X[1] <= 0.496\\ngini = 0.5\\nsamples = 166\\nvalue = [131, 136]'),\n",
       " Text(49.92446347531268, 158.89846153846153, 'X[0] <= 0.872\\ngini = 0.45\\nsamples = 55\\nvalue = [29, 56]'),\n",
       " Text(48.95610103721394, 155.55323076923077, 'X[2] <= 0.004\\ngini = 0.331\\nsamples = 30\\nvalue = [9, 34]'),\n",
       " Text(48.597448282362556, 152.208, 'X[0] <= 0.87\\ngini = 0.295\\nsamples = 27\\nvalue = [7, 32]'),\n",
       " Text(48.31052607848145, 148.86276923076923, 'X[0] <= 0.869\\ngini = 0.211\\nsamples = 16\\nvalue = [3, 22]'),\n",
       " Text(48.16706497654089, 145.51753846153846, 'X[1] <= 0.496\\ngini = 0.397\\nsamples = 8\\nvalue = [3, 8]'),\n",
       " Text(48.02360387460034, 142.1723076923077, 'X[1] <= 0.495\\ngini = 0.48\\nsamples = 4\\nvalue = [3, 2]'),\n",
       " Text(47.88014277265979, 138.8270769230769, 'X[0] <= 0.869\\ngini = 0.444\\nsamples = 3\\nvalue = [1, 2]'),\n",
       " Text(47.736681670719236, 135.48184615384616, 'gini = 0.0\\nsamples = 1\\nvalue = [0, 1]'),\n",
       " Text(48.02360387460034, 135.48184615384616, 'gini = 0.5\\nsamples = 2\\nvalue = [1, 1]'),\n",
       " Text(48.16706497654089, 138.8270769230769, 'gini = 0.0\\nsamples = 1\\nvalue = [2, 0]'),\n",
       " Text(48.31052607848145, 142.1723076923077, 'gini = 0.0\\nsamples = 4\\nvalue = [0, 6]'),\n",
       " Text(48.453987180422004, 145.51753846153846, 'gini = 0.0\\nsamples = 8\\nvalue = [0, 14]'),\n",
       " Text(48.88437048624366, 148.86276923076923, 'X[0] <= 0.87\\ngini = 0.408\\nsamples = 11\\nvalue = [4, 10]'),\n",
       " Text(48.74090938430311, 145.51753846153846, 'gini = 0.0\\nsamples = 1\\nvalue = [1, 0]'),\n",
       " Text(49.02783158818421, 145.51753846153846, 'X[1] <= 0.49\\ngini = 0.355\\nsamples = 10\\nvalue = [3, 10]'),\n",
       " Text(48.88437048624366, 142.1723076923077, 'gini = 0.0\\nsamples = 1\\nvalue = [0, 2]'),\n",
       " Text(49.17129269012477, 142.1723076923077, 'X[0] <= 0.871\\ngini = 0.397\\nsamples = 9\\nvalue = [3, 8]'),\n",
       " Text(49.02783158818421, 138.8270769230769, 'gini = 0.0\\nsamples = 2\\nvalue = [0, 2]'),\n",
       " Text(49.314753792065325, 138.8270769230769, 'X[1] <= 0.49\\ngini = 0.444\\nsamples = 7\\nvalue = [3, 6]'),\n",
       " Text(49.17129269012477, 135.48184615384616, 'gini = 0.5\\nsamples = 2\\nvalue = [1, 1]'),\n",
       " Text(49.45821489400588, 135.48184615384616, 'X[1] <= 0.491\\ngini = 0.408\\nsamples = 5\\nvalue = [2, 5]'),\n",
       " Text(49.314753792065325, 132.13661538461537, 'gini = 0.0\\nsamples = 1\\nvalue = [0, 2]'),\n",
       " Text(49.60167599594643, 132.13661538461537, 'X[0] <= 0.871\\ngini = 0.48\\nsamples = 4\\nvalue = [2, 3]'),\n",
       " Text(49.45821489400588, 128.79138461538463, 'X[1] <= 0.492\\ngini = 0.375\\nsamples = 3\\nvalue = [1, 3]'),\n",
       " Text(49.314753792065325, 125.44615384615385, 'gini = 0.0\\nsamples = 1\\nvalue = [0, 2]'),\n",
       " ...]"
      ]
     },
     "execution_count": 167,
     "metadata": {},
     "output_type": "execute_result"
    }
   ],
   "source": [
    "import sklearn.tree as t\n",
    "t.plot_tree( bag_sample_tree )"
   ]
  },
  {
   "cell_type": "code",
   "execution_count": 165,
   "metadata": {},
   "outputs": [
    {
     "data": {
      "text/plain": [
       "DecisionTreeClassifier(ccp_alpha=0.0, class_weight=None, criterion='gini',\n",
       "                       max_depth=None, max_features=None, max_leaf_nodes=None,\n",
       "                       min_impurity_decrease=0.0, min_impurity_split=None,\n",
       "                       min_samples_leaf=1, min_samples_split=2,\n",
       "                       min_weight_fraction_leaf=0.0, presort='deprecated',\n",
       "                       random_state=None, splitter='best')"
      ]
     },
     "execution_count": 165,
     "metadata": {},
     "output_type": "execute_result"
    }
   ],
   "source": [
    "tree"
   ]
  },
  {
   "cell_type": "markdown",
   "metadata": {},
   "source": [
    "## Looking back fondly"
   ]
  },
  {
   "cell_type": "markdown",
   "metadata": {},
   "source": [
    "This wraps up our analysis. Although the models do well when predicting wins, further work will need to be done if we want them to win at predicting losses and draws. "
   ]
  },
  {
   "cell_type": "markdown",
   "metadata": {},
   "source": [
    "## Now what"
   ]
  },
  {
   "cell_type": "markdown",
   "metadata": {},
   "source": [
    "A recent one person survey said that 100% of me was thankful for your taking the time to peruse this document. "
   ]
  },
  {
   "cell_type": "markdown",
   "metadata": {},
   "source": [
    "You may be wondering what do now. I suggest watching dance videos on youtube. But say you wanted to see the next episode of this chess analysis, I would probably attempt to better the predictive models by: "
   ]
  },
  {
   "cell_type": "markdown",
   "metadata": {},
   "source": [
    "- Using more predictors (like the kinds of openings used). It's possible that other predictors could give more determining info about wins. "
   ]
  },
  {
   "cell_type": "markdown",
   "metadata": {},
   "source": [
    "- Getting my hands on more observations. This data set carried almost 20 000 records. What if tried this with 200 000 or 1 000 000 000 records. That would be cool.   "
   ]
  },
  {
   "cell_type": "markdown",
   "metadata": {},
   "source": [
    "- Trying new models. There's a whole zoo of models out there, and we only visited the logistic regression and trees. Perhaps an additive GLM. Or a neural network. "
   ]
  },
  {
   "cell_type": "markdown",
   "metadata": {},
   "source": [
    "- It's possible that the models do poorly with losses and draws because not many losses and draws are present in the data. Perhaps bootstrapping loss and draw data would help the models. (I'm just freestyling here). "
   ]
  },
  {
   "cell_type": "markdown",
   "metadata": {},
   "source": [
    "## Cheers"
   ]
  },
  {
   "cell_type": "markdown",
   "metadata": {},
   "source": [
    "I'm currently my own agent so if you liked this drop me a line and let me know whassup. Wishing you a splendid day."
   ]
  }
 ],
 "metadata": {
  "kernelspec": {
   "display_name": "Python 3",
   "language": "python",
   "name": "python3"
  },
  "language_info": {
   "codemirror_mode": {
    "name": "ipython",
    "version": 3
   },
   "file_extension": ".py",
   "mimetype": "text/x-python",
   "name": "python",
   "nbconvert_exporter": "python",
   "pygments_lexer": "ipython3",
   "version": "3.6.1"
  }
 },
 "nbformat": 4,
 "nbformat_minor": 1
}
