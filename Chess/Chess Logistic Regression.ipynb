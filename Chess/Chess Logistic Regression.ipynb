{
 "cells": [
  {
   "cell_type": "markdown",
   "metadata": {},
   "source": [
    "## Simple logistic regression\n",
    "\n",
    "Here, we will fit a few logistic regression models to predict the probability of a higher rating player winning. \n",
    "Order of business: \n",
    "\n",
    "1) Perform k-fold cross validation (k = 5) for a simple logistic regression. Predictor will be absolute value of difference (abs_diff_rating) \n",
    "in rating, and response will be whether the higher rating won (higher_rating_won). \n",
    "\n",
    "2) Get familiar with the multiple logistic regression code before mass producing in a python file. "
   ]
  },
  {
   "cell_type": "code",
   "execution_count": 7,
   "metadata": {
    "collapsed": true
   },
   "outputs": [],
   "source": [
    "import pandas as pd\n",
    "import numpy as np\n",
    "from sklearn import preprocessing\n",
    "from sklearn.linear_model import LogisticRegression \n",
    "from sklearn.model_selection import cross_val_score"
   ]
  },
  {
   "cell_type": "code",
   "execution_count": 8,
   "metadata": {
    "collapsed": true
   },
   "outputs": [],
   "source": [
    "games = pd.read_csv('games_new_vars.csv')"
   ]
  },
  {
   "cell_type": "code",
   "execution_count": 9,
   "metadata": {},
   "outputs": [
    {
     "data": {
      "text/plain": [
       "0.6275795649700114"
      ]
     },
     "execution_count": 9,
     "metadata": {},
     "output_type": "execute_result"
    }
   ],
   "source": [
    "predictor = games[['abs_diff_rating']]\n",
    "response = games['higher_rating_won']\n",
    "lg = LogisticRegression()\n",
    "score = cross_val_score(lg, predictor, response, cv = 5).sum() / 5\n",
    "score"
   ]
  },
  {
   "cell_type": "markdown",
   "metadata": {},
   "source": [
    "But I want more! I'm going to try and add two more variables into our logistic regression here. \n",
    "\n",
    "1) White is known to have an advantage over black by getting to move first. So, I intend to code a white_higher_rated\n",
    "(white higher rating) binary variable. 1 if White had the higher rating 0 otherwise. This may help show how being white or black affects having a higher rating over the other player. \n",
    "\n",
    "2) Number of turns. I hypothesize that longer turned games usually result in more venly matched games, despite the rating. Perhaps by knowing the number of turns made, I can say something about the probability of the higher rated player winning. \n"
   ]
  },
  {
   "cell_type": "code",
   "execution_count": 10,
   "metadata": {
    "collapsed": true
   },
   "outputs": [],
   "source": [
    "games['white_higher_rated'] = 0\n",
    "games.loc[games.higher_rating == 'white', 'white_higher_rated'] = 1"
   ]
  },
  {
   "cell_type": "code",
   "execution_count": 11,
   "metadata": {},
   "outputs": [
    {
     "data": {
      "text/plain": [
       "0.6353077143538222"
      ]
     },
     "execution_count": 11,
     "metadata": {},
     "output_type": "execute_result"
    }
   ],
   "source": [
    "lg_mult = LogisticRegression()\n",
    "predictors = games[['abs_diff_rating', 'higher_rating_coded', 'turns', 'white_higher_rated']]\n",
    "response = games['higher_rating_won']\n",
    "score = cross_val_score(lg_mult, predictors, response, cv = 5).sum() / 5\n",
    "score"
   ]
  },
  {
   "cell_type": "markdown",
   "metadata": {},
   "source": [
    "We get a one percentage point increase by adding in more variables. "
   ]
  },
  {
   "cell_type": "markdown",
   "metadata": {
    "collapsed": true
   },
   "source": [
    "A few days later, I remembered we should probably try normalizing our variables before fitting them into the model. Why? Because turns and differences in rating are working in different scales (for example, most turns are around 60, while most differences in rating may be in the hundreds). "
   ]
  },
  {
   "cell_type": "code",
   "execution_count": 29,
   "metadata": {},
   "outputs": [
    {
     "data": {
      "text/plain": [
       "0.6158141382384883"
      ]
     },
     "execution_count": 29,
     "metadata": {},
     "output_type": "execute_result"
    }
   ],
   "source": [
    "lg_mult = LogisticRegression()\n",
    "predictors = preprocessing.normalize([games.abs_diff_rating.values, \n",
    "                         games.turns.values, \n",
    "                         games.higher_rating_coded, \n",
    "                         games.white_higher_rated]).reshape(20058, 4)\n",
    "response = games['higher_rating_won']\n",
    "score = cross_val_score(lg_mult, predictors, response, cv = 5).sum() / 5\n",
    "score"
   ]
  },
  {
   "cell_type": "markdown",
   "metadata": {},
   "source": [
    "After normalizing, I get a two percent decrease in the score. "
   ]
  },
  {
   "cell_type": "code",
   "execution_count": null,
   "metadata": {
    "collapsed": true
   },
   "outputs": [],
   "source": []
  }
 ],
 "metadata": {
  "kernelspec": {
   "display_name": "Python 3",
   "language": "python",
   "name": "python3"
  },
  "language_info": {
   "codemirror_mode": {
    "name": "ipython",
    "version": 3
   },
   "file_extension": ".py",
   "mimetype": "text/x-python",
   "name": "python",
   "nbconvert_exporter": "python",
   "pygments_lexer": "ipython3",
   "version": "3.6.1"
  }
 },
 "nbformat": 4,
 "nbformat_minor": 2
}
