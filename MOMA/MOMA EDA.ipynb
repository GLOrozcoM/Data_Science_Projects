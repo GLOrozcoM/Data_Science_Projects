{
 "cells": [
  {
   "cell_type": "markdown",
   "metadata": {},
   "source": [
    "## Introduction \n",
    "\n",
    "In this notebook, we will perform an EDA on the MOMA dataset. You can find the dataset on Kaggle here: https://www.kaggle.com/momanyc/museum-collection. There are two datasets, one for artists and another for artworks. Combined, there are about 145000 records. "
   ]
  },
  {
   "cell_type": "code",
   "execution_count": 1,
   "metadata": {
    "collapsed": true
   },
   "outputs": [],
   "source": [
    "import pandas as pd\n",
    "import numpy as np\n",
    "import seaborn as sns\n",
    "import matplotlib as plt"
   ]
  },
  {
   "cell_type": "code",
   "execution_count": 2,
   "metadata": {
    "collapsed": true
   },
   "outputs": [],
   "source": [
    "artists = pd.read_csv('artists.csv')"
   ]
  },
  {
   "cell_type": "code",
   "execution_count": 3,
   "metadata": {
    "collapsed": true
   },
   "outputs": [],
   "source": [
    "artworks = pd.read_csv('artworks.csv')"
   ]
  },
  {
   "cell_type": "markdown",
   "metadata": {},
   "source": [
    "## Checking the cleanliness of the set\n",
    "\n",
    "According to the website, an incomplete record is given by 'not curator approved'. We will replace these strings with numpy NA's to make processing easier. "
   ]
  },
  {
   "cell_type": "code",
   "execution_count": 4,
   "metadata": {},
   "outputs": [
    {
     "name": "stdout",
     "output_type": "stream",
     "text": [
      "<class 'pandas.core.frame.DataFrame'>\n",
      "RangeIndex: 15091 entries, 0 to 15090\n",
      "Data columns (total 6 columns):\n",
      " #   Column       Non-Null Count  Dtype  \n",
      "---  ------       --------------  -----  \n",
      " 0   Artist ID    15091 non-null  int64  \n",
      " 1   Name         15091 non-null  object \n",
      " 2   Nationality  12603 non-null  object \n",
      " 3   Gender       12019 non-null  object \n",
      " 4   Birth Year   11237 non-null  float64\n",
      " 5   Death Year   4579 non-null   float64\n",
      "dtypes: float64(2), int64(1), object(3)\n",
      "memory usage: 707.5+ KB\n"
     ]
    }
   ],
   "source": [
    "artists.info()"
   ]
  },
  {
   "cell_type": "markdown",
   "metadata": {},
   "source": [
    "Even without starting to look into the string 'not curator approved', we can see that Death Year has a large number of unknowns. Specifically, we find the following."
   ]
  },
  {
   "cell_type": "code",
   "execution_count": 9,
   "metadata": {},
   "outputs": [
    {
     "data": {
      "text/plain": [
       "10512"
      ]
     },
     "execution_count": 9,
     "metadata": {},
     "output_type": "execute_result"
    }
   ],
   "source": [
    "artists['Death Year'].isna().sum()"
   ]
  },
  {
   "cell_type": "code",
   "execution_count": 10,
   "metadata": {},
   "outputs": [
    {
     "name": "stdout",
     "output_type": "stream",
     "text": [
      "<class 'pandas.core.frame.DataFrame'>\n",
      "RangeIndex: 130262 entries, 0 to 130261\n",
      "Data columns (total 21 columns):\n",
      " #   Column              Non-Null Count   Dtype  \n",
      "---  ------              --------------   -----  \n",
      " 0   Artwork ID          130262 non-null  int64  \n",
      " 1   Title               130210 non-null  object \n",
      " 2   Artist ID           128802 non-null  object \n",
      " 3   Name                128802 non-null  object \n",
      " 4   Date                127950 non-null  object \n",
      " 5   Medium              118343 non-null  object \n",
      " 6   Dimensions          118799 non-null  object \n",
      " 7   Acquisition Date    124799 non-null  object \n",
      " 8   Credit              127192 non-null  object \n",
      " 9   Catalogue           130262 non-null  object \n",
      " 10  Department          130262 non-null  object \n",
      " 11  Classification      130262 non-null  object \n",
      " 12  Object Number       130262 non-null  object \n",
      " 13  Diameter (cm)       1399 non-null    float64\n",
      " 14  Circumference (cm)  10 non-null      float64\n",
      " 15  Height (cm)         111893 non-null  float64\n",
      " 16  Length (cm)         736 non-null     float64\n",
      " 17  Width (cm)          111003 non-null  float64\n",
      " 18  Depth (cm)          11443 non-null   float64\n",
      " 19  Weight (kg)         298 non-null     float64\n",
      " 20  Duration (s)        3084 non-null    float64\n",
      "dtypes: float64(8), int64(1), object(12)\n",
      "memory usage: 20.9+ MB\n"
     ]
    }
   ],
   "source": [
    "artworks.info()"
   ]
  },
  {
   "cell_type": "markdown",
   "metadata": {},
   "source": [
    "Simply scanning through the variables, we see that Circumference, Length, Weight have a ton of NA's. "
   ]
  },
  {
   "cell_type": "code",
   "execution_count": null,
   "metadata": {
    "collapsed": true
   },
   "outputs": [],
   "source": []
  }
 ],
 "metadata": {
  "kernelspec": {
   "display_name": "Python 3",
   "language": "python",
   "name": "python3"
  },
  "language_info": {
   "codemirror_mode": {
    "name": "ipython",
    "version": 3
   },
   "file_extension": ".py",
   "mimetype": "text/x-python",
   "name": "python",
   "nbconvert_exporter": "python",
   "pygments_lexer": "ipython3",
   "version": "3.6.1"
  }
 },
 "nbformat": 4,
 "nbformat_minor": 2
}
