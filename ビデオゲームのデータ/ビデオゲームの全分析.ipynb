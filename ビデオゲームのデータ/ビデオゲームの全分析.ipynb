{
 "cells": [
  {
   "cell_type": "markdown",
   "metadata": {},
   "source": [
    "# ビデオゲームの初めての分析"
   ]
  },
  {
   "cell_type": "markdown",
   "metadata": {},
   "source": [
    "このファイルでビデオゲームの商売データセットを初めての分析を行う。元のデータはこのサイトで？？見ることができる。このファイルの目標はpandasとpythonの機能を使って、簡単な分析をすることだった。"
   ]
  },
  {
   "cell_type": "code",
   "execution_count": 1,
   "metadata": {
    "collapsed": true
   },
   "outputs": [],
   "source": [
    "# 必要なパッケージを読みこむ\n",
    "import numpy as np \n",
    "import pandas as pd\n",
    "from pandas import Series, DataFrame\n",
    "import seaborn as sns\n",
    "import matplotlib.pyplot as plt"
   ]
  },
  {
   "cell_type": "markdown",
   "metadata": {},
   "source": [
    "## 欠損値の前処理"
   ]
  },
  {
   "cell_type": "markdown",
   "metadata": {},
   "source": [
    "データに欠損値があるかどうか調べてみる。"
   ]
  },
  {
   "cell_type": "code",
   "execution_count": 2,
   "metadata": {
    "collapsed": true
   },
   "outputs": [],
   "source": [
    "# データを読みこむ\n",
    "games = pd.read_csv('Video_Games_Sales_as_at_22_Dec_2016.csv')"
   ]
  },
  {
   "cell_type": "code",
   "execution_count": 3,
   "metadata": {},
   "outputs": [
    {
     "data": {
      "text/plain": [
       "Name                  2\n",
       "Platform              0\n",
       "Year_of_Release     269\n",
       "Genre                 2\n",
       "Publisher            54\n",
       "NA_Sales              0\n",
       "EU_Sales              0\n",
       "JP_Sales              0\n",
       "Other_Sales           0\n",
       "Global_Sales          0\n",
       "Critic_Score       8582\n",
       "Critic_Count       8582\n",
       "User_Score         9129\n",
       "User_Count         9129\n",
       "Developer          6623\n",
       "Rating             6769\n",
       "dtype: int64"
      ]
     },
     "execution_count": 3,
     "metadata": {},
     "output_type": "execute_result"
    }
   ],
   "source": [
    "# 各変数の欠損値の和を見る\n",
    "games.isnull().sum()"
   ]
  },
  {
   "cell_type": "markdown",
   "metadata": {},
   "source": [
    "欠損値はいっぱいある。ご覧の通り、 Critic_Score, Critic_Count,　User_score,　User_Count,　Developer,　Rating　には欠損値がそんなにあるので、これらの変数を相関関係や他の分析のために使えないかもしれない。\n",
    "\n",
    "欠損値は面白い質問に導く。例えば、どうしてNameには2だけの欠損値がある？そして、どうしてRatingにはそんなに欠損値がある？全てのゲームにはRatingが付けられているんじゃない？これを知る方法はデータのサイトを見るしかない。"
   ]
  },
  {
   "cell_type": "markdown",
   "metadata": {},
   "source": [
    "ですが、どうやって欠損値を処理するのはもっと大切な質問だ。僕の意見では、商売のデータには欠損値がないので、分析は進める。そして、もし欠損値がある変数を使ったら、それらの変数の欠損値を埋められる。"
   ]
  },
  {
   "cell_type": "markdown",
   "metadata": {
    "collapsed": true
   },
   "source": [
    "もし、掃除されたデータを使いたかったら、欠損値がないデータセットを作ろう。"
   ]
  },
  {
   "cell_type": "code",
   "execution_count": 4,
   "metadata": {
    "collapsed": true
   },
   "outputs": [],
   "source": [
    "# 欠損値なしのdfを作る\n",
    "games_c = games.dropna()"
   ]
  },
  {
   "cell_type": "code",
   "execution_count": 5,
   "metadata": {
    "collapsed": true
   },
   "outputs": [],
   "source": [
    "# 掃除されたdfを書き出す\n",
    "games_c.to_csv('Video_Game_Sales_Clean.csv')"
   ]
  },
  {
   "cell_type": "markdown",
   "metadata": {},
   "source": [
    "欠損値なしのVideo_Games_Sales_Clean.csvを使うことができる。"
   ]
  },
  {
   "cell_type": "markdown",
   "metadata": {},
   "source": [
    "## 色々な発見"
   ]
  },
  {
   "cell_type": "markdown",
   "metadata": {},
   "source": [
    "### 最大商売ゲーム"
   ]
  },
  {
   "cell_type": "markdown",
   "metadata": {},
   "source": [
    "ここで、最大商売を受けたゲームを探してみる。"
   ]
  },
  {
   "cell_type": "code",
   "execution_count": 6,
   "metadata": {},
   "outputs": [
    {
     "data": {
      "text/plain": [
       "['Wii Sports', 41.359999999999999, 2006.0]"
      ]
     },
     "execution_count": 6,
     "metadata": {},
     "output_type": "execute_result"
    }
   ],
   "source": [
    "# NAのゲーム\n",
    "[games.iloc[games.NA_Sales.idxmax()].Name, \n",
    " games.iloc[games.NA_Sales.idxmax()].NA_Sales, \n",
    " games.iloc[games.NA_Sales.idxmax()].Year_of_Release]"
   ]
  },
  {
   "cell_type": "code",
   "execution_count": 7,
   "metadata": {},
   "outputs": [
    {
     "data": {
      "text/plain": [
       "['Pokemon Red/Pokemon Blue', 10.220000000000001, 1996.0]"
      ]
     },
     "execution_count": 7,
     "metadata": {},
     "output_type": "execute_result"
    }
   ],
   "source": [
    "# 日本のゲーム\n",
    "[games.iloc[games.JP_Sales.idxmax()].Name, \n",
    " games.iloc[games.JP_Sales.idxmax()].JP_Sales,\n",
    " games.iloc[games.JP_Sales.idxmax()].Year_of_Release]"
   ]
  },
  {
   "cell_type": "code",
   "execution_count": 8,
   "metadata": {},
   "outputs": [
    {
     "data": {
      "text/plain": [
       "['Grand Theft Auto: San Andreas', 10.57, 2004.0]"
      ]
     },
     "execution_count": 8,
     "metadata": {},
     "output_type": "execute_result"
    }
   ],
   "source": [
    " # その他のゲーム\n",
    "[games.iloc[games.Other_Sales.idxmax()].Name, \n",
    " games.iloc[games.Other_Sales.idxmax()].Other_Sales,\n",
    "games.iloc[games.Other_Sales.idxmax()].Year_of_Release]"
   ]
  },
  {
   "cell_type": "code",
   "execution_count": 9,
   "metadata": {},
   "outputs": [
    {
     "data": {
      "text/plain": [
       "['Wii Sports', 82.530000000000001, 2006.0]"
      ]
     },
     "execution_count": 9,
     "metadata": {},
     "output_type": "execute_result"
    }
   ],
   "source": [
    "# 全商売のゲーム\n",
    "[games.iloc[games.Global_Sales.idxmax()].Name, \n",
    " games.iloc[games.Global_Sales.idxmax()].Global_Sales,\n",
    "games.iloc[games.Global_Sales.idxmax()].Year_of_Release]"
   ]
  },
  {
   "cell_type": "markdown",
   "metadata": {},
   "source": [
    "ご覧の通り、Wii Sports（約８２万ユニット）は商売の戦場で勝った。そして、NAにもWii Sportsは最大商売を受けた（約４１万ユニット）。だが、日本ではPokemon Red/Pokemon Blue（約１０万ユニット）が最大商売を持った。その他の最大商売はGrand Theft Auto: San Andreas（約１０万ドール）だった。\n",
    "\n",
    "下の棒グラフで最大商売をよく見ることができる。"
   ]
  },
  {
   "cell_type": "code",
   "execution_count": 50,
   "metadata": {},
   "outputs": [
    {
     "data": {
      "image/png": "[encoded data removed]",
      "text/plain": [
       "<Figure size 432x288 with 1 Axes>"
      ]
     },
     "metadata": {},
     "output_type": "display_data"
    }
   ],
   "source": [
    "# 棒グラフのためのデータ\n",
    "y_sales = [games.iloc[games.NA_Sales.idxmax()].NA_Sales,\n",
    "          games.iloc[games.JP_Sales.idxmax()].JP_Sales,\n",
    "          games.iloc[games.Other_Sales.idxmax()].Other_Sales,\n",
    "          games.iloc[games.Global_Sales.idxmax()].Global_Sales]\n",
    "\n",
    "x_name_year = ['NA: ' + games.iloc[games.NA_Sales.idxmax()].Name,\n",
    "              'JP: ' +  games.iloc[games.JP_Sales.idxmax()].Name,\n",
    "              'Other: ' + games.iloc[games.Other_Sales.idxmax()].Name,\n",
    "              'Global: ' + games.iloc[games.Global_Sales.idxmax()].Name]\n",
    "\n",
    "# 最大商売の棒グラフ\n",
    "sales_b = sns.barplot(x=x_name_year, \n",
    "            y=y_sales,\n",
    "           palette=\"muted\")\n",
    "sales_b.set_xticklabels(sales_b.get_xticklabels(), rotation=45, ha=\"right\")\n",
    "sns.despine(left = True)\n",
    "plt.show()"
   ]
  },
  {
   "cell_type": "markdown",
   "metadata": {},
   "source": [
    "ご覧の通り、Wii Sportsは一番商売されたゲームだ。どうしてWii Sportsそんなに成功したのかね？　この記事によると、？？"
   ]
  },
  {
   "cell_type": "markdown",
   "metadata": {},
   "source": [
    "### 出版社の最大商売"
   ]
  },
  {
   "cell_type": "markdown",
   "metadata": {},
   "source": [
    "次に全世界の最大商売を受けた出版社を調べる。"
   ]
  },
  {
   "cell_type": "code",
   "execution_count": 10,
   "metadata": {
    "collapsed": true
   },
   "outputs": [],
   "source": [
    "# 出版社のグループにデータを分類する・まとめる\n",
    "pub_group = games.Global_Sales.groupby(games.Publisher)"
   ]
  },
  {
   "cell_type": "code",
   "execution_count": 18,
   "metadata": {
    "collapsed": true
   },
   "outputs": [],
   "source": [
    "# 順番にする\n",
    "pub_sum_s = pub_group.sum().sort_values(ascending = False)"
   ]
  },
  {
   "cell_type": "code",
   "execution_count": 20,
   "metadata": {},
   "outputs": [
    {
     "data": {
      "text/plain": [
       "Publisher\n",
       "Nintendo                        1788.81\n",
       "Electronic Arts                 1116.96\n",
       "Activision                       731.16\n",
       "Sony Computer Entertainment      606.48\n",
       "Ubisoft                          471.61\n",
       "Take-Two Interactive             403.82\n",
       "THQ                              338.44\n",
       "Konami Digital Entertainment     282.39\n",
       "Sega                             270.35\n",
       "Namco Bandai Games               254.62\n",
       "Name: Global_Sales, dtype: float64"
      ]
     },
     "execution_count": 20,
     "metadata": {},
     "output_type": "execute_result"
    }
   ],
   "source": [
    "# 第一の十出版社\n",
    "pub_sum_s.head(10)"
   ]
  },
  {
   "cell_type": "code",
   "execution_count": 21,
   "metadata": {},
   "outputs": [
    {
     "data": {
      "image/png": "[encoded data removed]",
      "text/plain": [
       "<Figure size 432x288 with 1 Axes>"
      ]
     },
     "metadata": {},
     "output_type": "display_data"
    }
   ],
   "source": [
    "# 棒グラフでデータを目撃する\n",
    "sns.barplot(x = pub_sum_s.head(10).values,\n",
    "            y=pub_sum_s.head(10).index, \n",
    "            palette=\"muted\")\n",
    "sns.despine(left = True)\n",
    "plt.xlabel('Global Sales')\n",
    "plt.show()"
   ]
  },
  {
   "cell_type": "markdown",
   "metadata": {},
   "source": [
    "ご覧の通り、任天堂は何の出版社よりも商売を受けた。"
   ]
  },
  {
   "cell_type": "markdown",
   "metadata": {},
   "source": [
    "### Ratingのデータ"
   ]
  },
  {
   "cell_type": "markdown",
   "metadata": {},
   "source": [
    "よく商売を受けたRatingを調べる。"
   ]
  },
  {
   "cell_type": "code",
   "execution_count": 22,
   "metadata": {
    "collapsed": true
   },
   "outputs": [],
   "source": [
    "# データをRatingのグループにまとめる\n",
    "rat_group = games.Global_Sales.groupby(games.Rating)"
   ]
  },
  {
   "cell_type": "code",
   "execution_count": 24,
   "metadata": {
    "collapsed": true
   },
   "outputs": [],
   "source": [
    "# 順番にする\n",
    "rat_sum_s = rat_group.sum().sort_values(ascending = False)"
   ]
  },
  {
   "cell_type": "code",
   "execution_count": 25,
   "metadata": {},
   "outputs": [
    {
     "data": {
      "text/plain": [
       "Rating\n",
       "E       2436.90\n",
       "T       1494.40\n",
       "M       1473.84\n",
       "E10+     655.81\n",
       "K-A        4.33\n",
       "Name: Global_Sales, dtype: float64"
      ]
     },
     "execution_count": 25,
     "metadata": {},
     "output_type": "execute_result"
    }
   ],
   "source": [
    "# 第一の5のRating\n",
    "rat_sum_s.head(5)"
   ]
  },
  {
   "cell_type": "code",
   "execution_count": 26,
   "metadata": {},
   "outputs": [
    {
     "data": {
      "image/png": "[encoded data removed]",
      "text/plain": [
       "<Figure size 432x288 with 1 Axes>"
      ]
     },
     "metadata": {},
     "output_type": "display_data"
    }
   ],
   "source": [
    "# 棒グラフで可視化しよう\n",
    "sns.barplot(x = rat_sum_s.head(5).values,\n",
    "            y=rat_sum_s.head(5).index, \n",
    "            palette=\"muted\")\n",
    "sns.despine(left = True)\n",
    "plt.xlabel('Global Sales')\n",
    "plt.show()"
   ]
  },
  {
   "cell_type": "markdown",
   "metadata": {},
   "source": [
    "Eは一番売られたRatingだ。"
   ]
  },
  {
   "cell_type": "markdown",
   "metadata": {},
   "source": [
    "### プラットフォームと出版年"
   ]
  },
  {
   "cell_type": "markdown",
   "metadata": {},
   "source": [
    "プラットフォームの商売がどうやって出版年と変わっていくのかを調べる。"
   ]
  },
  {
   "cell_type": "code",
   "execution_count": 27,
   "metadata": {},
   "outputs": [
    {
     "data": {
      "text/plain": [
       "31"
      ]
     },
     "execution_count": 27,
     "metadata": {},
     "output_type": "execute_result"
    }
   ],
   "source": [
    "# プラットフォームはいくらある\n",
    "len(games.Platform.unique())"
   ]
  },
  {
   "cell_type": "code",
   "execution_count": 28,
   "metadata": {
    "collapsed": true
   },
   "outputs": [],
   "source": [
    "# プラットフォームを商売のグループに分ける\n",
    "plat_g = games.Global_Sales.groupby(games.Platform)"
   ]
  },
  {
   "cell_type": "code",
   "execution_count": 31,
   "metadata": {
    "collapsed": true
   },
   "outputs": [],
   "source": [
    "# 順番にする\n",
    "plat_s = plat_g.sum().sort_values(ascending = False)"
   ]
  },
  {
   "cell_type": "code",
   "execution_count": 32,
   "metadata": {},
   "outputs": [
    {
     "data": {
      "text/plain": [
       "Platform\n",
       "PS2     1255.64\n",
       "X360     971.63\n",
       "PS3      939.43\n",
       "Wii      908.13\n",
       "DS       807.10\n",
       "Name: Global_Sales, dtype: float64"
      ]
     },
     "execution_count": 32,
     "metadata": {},
     "output_type": "execute_result"
    }
   ],
   "source": [
    "# どれのプラットフォームが最大商売を受けた\n",
    "plat_s.head()"
   ]
  },
  {
   "cell_type": "code",
   "execution_count": 33,
   "metadata": {
    "collapsed": true
   },
   "outputs": [],
   "source": [
    "# 一番いいプラットフォームを保存する\n",
    "b_plats = plat_s.head().index"
   ]
  },
  {
   "cell_type": "code",
   "execution_count": 34,
   "metadata": {
    "collapsed": true
   },
   "outputs": [],
   "source": [
    "# DFを印刷する\n",
    "top_plats_df = games.copy()"
   ]
  },
  {
   "cell_type": "code",
   "execution_count": 35,
   "metadata": {
    "collapsed": true
   },
   "outputs": [],
   "source": [
    "# 一番いいプラットフォームだけを持つDF\n",
    "g_plats = games.Platform.values\n",
    "for i in list(range(len(games))):\n",
    "    if g_plats[i] not in b_plats:\n",
    "        top_plats_df.drop(i , inplace = True)"
   ]
  },
  {
   "cell_type": "code",
   "execution_count": 36,
   "metadata": {
    "collapsed": true
   },
   "outputs": [],
   "source": [
    "# 一番いいプラットフォームだけを持つDFのプラットフォームを確認する\n",
    "o_set = set(top_plats_df.Platform.unique())\n",
    "n_set = set(b_plats)"
   ]
  },
  {
   "cell_type": "code",
   "execution_count": 42,
   "metadata": {},
   "outputs": [
    {
     "data": {
      "text/plain": [
       "True"
      ]
     },
     "execution_count": 42,
     "metadata": {},
     "output_type": "execute_result"
    }
   ],
   "source": [
    "# 異なる元素がないと確認しよう\n",
    "len(o_set.intersection(n_set)) == len(o_set)"
   ]
  },
  {
   "cell_type": "markdown",
   "metadata": {},
   "source": [
    "集合は同じなので、確認できた。\n",
    "\n",
    "次に折れ線グラフでプラットフォームの世界商売を見よう。"
   ]
  },
  {
   "cell_type": "code",
   "execution_count": 47,
   "metadata": {},
   "outputs": [
    {
     "data": {
      "image/png": "[encoded data removed]",
      "text/plain": [
       "<Figure size 432x288 with 1 Axes>"
      ]
     },
     "metadata": {},
     "output_type": "display_data"
    }
   ],
   "source": [
    "# プラットフォームの全世界商売を比較するための折れ線グラフ\n",
    "sns.set()\n",
    "sns.set_style(\"whitegrid\")\n",
    "sns.lineplot(x=\"Year_of_Release\", \n",
    "             y=\"Global_Sales\", \n",
    "             hue=\"Platform\", \n",
    "             data=top_plats_df,\n",
    "            ci = False).set(ylim = (0,4) , xlim =  (2000, 2020))\n",
    "plt.show()"
   ]
  },
  {
   "cell_type": "markdown",
   "metadata": {},
   "source": [
    "面白いこと、Wiiの商売はすごく大きかったが、出発の時から商売が減っていった。X360は平均的に商売を受け取った。"
   ]
  },
  {
   "cell_type": "markdown",
   "metadata": {},
   "source": [
    "### 商売と批判の関係"
   ]
  },
  {
   "cell_type": "markdown",
   "metadata": {},
   "source": [
    "ここで、商売と批判の変数の間に相関係があるかどうかを調べる。"
   ]
  },
  {
   "cell_type": "code",
   "execution_count": 48,
   "metadata": {},
   "outputs": [
    {
     "data": {
      "text/plain": [
       "0.23755572228274255"
      ]
     },
     "execution_count": 48,
     "metadata": {},
     "output_type": "execute_result"
    }
   ],
   "source": [
    "# 全商売と批判スコアの相関関係数\n",
    "games_c.Global_Sales.corr(games_c.Critic_Score)"
   ]
  },
  {
   "cell_type": "code",
   "execution_count": 49,
   "metadata": {},
   "outputs": [
    {
     "data": {
      "text/plain": [
       "0.088348526346967243"
      ]
     },
     "execution_count": 49,
     "metadata": {},
     "output_type": "execute_result"
    }
   ],
   "source": [
    "#全商売とユーザースコアの相関関係数\n",
    "games_c.Global_Sales.corr(games_c.User_Score)"
   ]
  },
  {
   "cell_type": "markdown",
   "metadata": {},
   "source": [
    "普通は相関係数が０．4より小さかったら、相関係が弱いという。なので、ここには相関係が弱いしか言えない。\n",
    "\n",
    "Global_Salesとの間には相関係が弱いけど、JP_SalesとNA_Salesとの間の相関係も調べた。"
   ]
  },
  {
   "cell_type": "code",
   "execution_count": 52,
   "metadata": {},
   "outputs": [
    {
     "data": {
      "text/plain": [
       "0.14731394007125062"
      ]
     },
     "execution_count": 52,
     "metadata": {},
     "output_type": "execute_result"
    }
   ],
   "source": [
    "# 日本商売と批判スコアの相関関係数\n",
    "games_c.JP_Sales.corr(games_c.Critic_Score)"
   ]
  },
  {
   "cell_type": "code",
   "execution_count": 53,
   "metadata": {},
   "outputs": [
    {
     "data": {
      "text/plain": [
       "0.12752142443653175"
      ]
     },
     "execution_count": 53,
     "metadata": {},
     "output_type": "execute_result"
    }
   ],
   "source": [
    "#　日本商売とユーザースコアの相関関係数\n",
    "games_c.JP_Sales.corr(games_c.User_Score)"
   ]
  },
  {
   "cell_type": "code",
   "execution_count": 54,
   "metadata": {},
   "outputs": [
    {
     "data": {
      "text/plain": [
       "0.23358030894145293"
      ]
     },
     "execution_count": 54,
     "metadata": {},
     "output_type": "execute_result"
    }
   ],
   "source": [
    "#　NA商売と批判スコアの相関関係数\n",
    "games_c.NA_Sales.corr(games_c.Critic_Score)"
   ]
  },
  {
   "cell_type": "code",
   "execution_count": 55,
   "metadata": {
    "scrolled": true
   },
   "outputs": [
    {
     "data": {
      "text/plain": [
       "0.085796010919863275"
      ]
     },
     "execution_count": 55,
     "metadata": {},
     "output_type": "execute_result"
    }
   ],
   "source": [
    "#　NA商売とユーザースコアの相関関係数\n",
    "games_c.NA_Sales.corr(games_c.User_Score)"
   ]
  },
  {
   "cell_type": "markdown",
   "metadata": {},
   "source": [
    "ご覧の通り、これらの変数の間にも相関関係が弱いしか言えない。"
   ]
  },
  {
   "cell_type": "markdown",
   "metadata": {},
   "source": [
    "### 線形回帰"
   ]
  },
  {
   "cell_type": "markdown",
   "metadata": {},
   "source": [
    "次に、全世界商売を目的数として、Critic_ScoreとUser_Scoreを説明数として、線形回帰のモデルを作る。"
   ]
  },
  {
   "cell_type": "code",
   "execution_count": null,
   "metadata": {
    "collapsed": true
   },
   "outputs": [],
   "source": []
  }
 ],
 "metadata": {
  "kernelspec": {
   "display_name": "Python 3",
   "language": "python",
   "name": "python3"
  },
  "language_info": {
   "codemirror_mode": {
    "name": "ipython",
    "version": 3
   },
   "file_extension": ".py",
   "mimetype": "text/x-python",
   "name": "python",
   "nbconvert_exporter": "python",
   "pygments_lexer": "ipython3",
   "version": "3.6.1"
  }
 },
 "nbformat": 4,
 "nbformat_minor": 2
}
